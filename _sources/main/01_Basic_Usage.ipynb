{
 "cells": [
  {
   "attachments": {},
   "cell_type": "markdown",
   "metadata": {},
   "source": [
    "# 01 - Basic Usage of Qurry\n",
    "\n",
    "In Qurry, we use the instance of `Qurry` to store quantum circuits, experiments, build experiment, and excute them on local simulator or pending to the real quantum machine on `IBM`. In this chapter (or we say this jupyter file), we will introduce how to use Qurry to build a simple quantum circuit and measure their Renyi Entropy on local simulator.\n"
   ]
  },
  {
   "cell_type": "markdown",
   "metadata": {},
   "source": [
    "If you are using Colab, you can run the following command in terminal to install Qurry.\n",
    "\n",
    "```bash\n",
    "pip install qurrium\n",
    "```\n"
   ]
  },
  {
   "cell_type": "code",
   "execution_count": 1,
   "metadata": {},
   "outputs": [
    {
     "name": "stdout",
     "output_type": "stream",
     "text": [
      "| Current Version: 0.10.1.dev2\n"
     ]
    }
   ],
   "source": [
    "from IPython.display import display\n",
    "from qurry import __version__\n",
    "\n",
    "print(f\"| Current Version: {__version__}\")"
   ]
  },
  {
   "attachments": {},
   "cell_type": "markdown",
   "metadata": {},
   "source": [
    "## 1.1 Setup Environment and Creat experiment executor\n"
   ]
  },
  {
   "cell_type": "code",
   "execution_count": 2,
   "metadata": {},
   "outputs": [],
   "source": [
    "from qurry import EntropyMeasure\n",
    "from qiskit import QuantumCircuit"
   ]
  },
  {
   "cell_type": "markdown",
   "metadata": {},
   "source": [
    "- Import simulator\n"
   ]
  },
  {
   "cell_type": "code",
   "execution_count": 3,
   "metadata": {},
   "outputs": [],
   "source": [
    "from qiskit.providers.basic_provider import BasicProvider\n",
    "\n",
    "basic_provider = BasicProvider()\n",
    "backend_sim = basic_provider.get_backend(\"basic_simulator\")"
   ]
  },
  {
   "attachments": {},
   "cell_type": "markdown",
   "metadata": {},
   "source": [
    "- Next, we will initialize our `EntropyMeasure` instance. There are two methods implemented based on two theories. The defaul method is `randomized` based on Randomized Measure. The other method is `hadamard` based on Hadamard Test. \n",
    "\n",
    "- In the following tutorial, we will use `randomized` as our measurement method.\n"
   ]
  },
  {
   "cell_type": "code",
   "execution_count": 4,
   "metadata": {},
   "outputs": [
    {
     "name": "stdout",
     "output_type": "stream",
     "text": [
      "| The first method is which is `Hadamard Test`\".\n",
      "| The default method is which is `Randomized Measure` we will use.\n"
     ]
    }
   ],
   "source": [
    "experiment_hadamard = EntropyMeasure(method=\"hadamard\")\n",
    "print('| The first method is which is `Hadamard Test`\".')\n",
    "experiment_randomized = EntropyMeasure()\n",
    "print(\"| The default method is which is `Randomized Measure` we will use.\")"
   ]
  },
  {
   "attachments": {},
   "cell_type": "markdown",
   "metadata": {},
   "source": [
    "---\n",
    "\n",
    "## 1.2 Load quantum circuits\n",
    "\n",
    "- In `Qurry`, there are built-in quantum circuits that construct certain wave functions, or equivalently, quantum states. They can be imported from `qurry.recipe`.\n",
    "- The user can define customized circuits following Qiskit workflow.\n",
    "\n"
   ]
  },
  {
   "cell_type": "code",
   "execution_count": 5,
   "metadata": {},
   "outputs": [],
   "source": [
    "from qurry.recipe import TrivialParamagnet, GHZ"
   ]
  },
  {
   "cell_type": "code",
   "execution_count": 6,
   "metadata": {},
   "outputs": [
    {
     "name": "stdout",
     "output_type": "stream",
     "text": [
      "| trivial paramagnet in 8 qubits:\n",
      "     ┌───┐\n",
      "q_0: ┤ H ├\n",
      "     ├───┤\n",
      "q_1: ┤ H ├\n",
      "     ├───┤\n",
      "q_2: ┤ H ├\n",
      "     ├───┤\n",
      "q_3: ┤ H ├\n",
      "     ├───┤\n",
      "q_4: ┤ H ├\n",
      "     ├───┤\n",
      "q_5: ┤ H ├\n",
      "     ├───┤\n",
      "q_6: ┤ H ├\n",
      "     ├───┤\n",
      "q_7: ┤ H ├\n",
      "     └───┘\n"
     ]
    }
   ],
   "source": [
    "sample01 = TrivialParamagnet(8)\n",
    "print(\"| trivial paramagnet in 8 qubits:\")\n",
    "print(sample01)"
   ]
  },
  {
   "cell_type": "code",
   "execution_count": 7,
   "metadata": {},
   "outputs": [
    {
     "name": "stdout",
     "output_type": "stream",
     "text": [
      "| GHZ in 8 qubits:\n",
      "     ┌───┐                                   \n",
      "q_0: ┤ H ├──■────────────────────────────────\n",
      "     └───┘┌─┴─┐                              \n",
      "q_1: ─────┤ X ├──■───────────────────────────\n",
      "          └───┘┌─┴─┐                         \n",
      "q_2: ──────────┤ X ├──■──────────────────────\n",
      "               └───┘┌─┴─┐                    \n",
      "q_3: ───────────────┤ X ├──■─────────────────\n",
      "                    └───┘┌─┴─┐               \n",
      "q_4: ────────────────────┤ X ├──■────────────\n",
      "                         └───┘┌─┴─┐          \n",
      "q_5: ─────────────────────────┤ X ├──■───────\n",
      "                              └───┘┌─┴─┐     \n",
      "q_6: ──────────────────────────────┤ X ├──■──\n",
      "                                   └───┘┌─┴─┐\n",
      "q_7: ───────────────────────────────────┤ X ├\n",
      "                                        └───┘\n"
     ]
    }
   ],
   "source": [
    "sample02 = GHZ(8)\n",
    "print(\"| GHZ in 8 qubits:\")\n",
    "print(sample02)"
   ]
  },
  {
   "cell_type": "code",
   "execution_count": 8,
   "metadata": {},
   "outputs": [
    {
     "name": "stdout",
     "output_type": "stream",
     "text": [
      "| Custom circuit:\n",
      "     ┌───┐\n",
      "q_0: ┤ X ├\n",
      "     └───┘\n",
      "q_1: ─────\n",
      "     ┌───┐\n",
      "q_2: ┤ X ├\n",
      "     └───┘\n",
      "q_3: ─────\n",
      "     ┌───┐\n",
      "q_4: ┤ X ├\n",
      "     └───┘\n",
      "q_5: ─────\n",
      "     ┌───┐\n",
      "q_6: ┤ X ├\n",
      "     └───┘\n",
      "q_7: ─────\n",
      "          \n"
     ]
    }
   ],
   "source": [
    "sample03 = QuantumCircuit(8)\n",
    "sample03.x(range(0, 8, 2))\n",
    "print(\"| Custom circuit:\")\n",
    "print(sample03)"
   ]
  },
  {
   "cell_type": "markdown",
   "metadata": {},
   "source": [
    "- After we prepare three quantum circuits, we append them to the `EntropyMeasure` object by the `.add()` method.\n",
    "- The attribute `.waves` of `Qurry` object is a customized `dict`. we can check the stored circuits by printing the dictionary."
   ]
  },
  {
   "cell_type": "code",
   "execution_count": 9,
   "metadata": {},
   "outputs": [
    {
     "name": "stdout",
     "output_type": "stream",
     "text": [
      "{'TrivialParamagnet': <qurry.recipe.simple.paramagnet.TrivialParamagnet object at 0x77ed4a2909e0>, 'GHZ': <qurry.recipe.simple.cat.GHZ object at 0x77ed49b6a1e0>, 2: <qiskit.circuit.quantumcircuit.QuantumCircuit object at 0x77ed8c3770e0>}\n"
     ]
    }
   ],
   "source": [
    "experiment_randomized.add(\n",
    "    wave=sample01,  # The circuit object\n",
    "    key=\"TrivialParamagnet\",  # The name of the circuit\n",
    "    replace=False,  # True for if you want to replace the circuit with the same name.\n",
    ")  # Default is False, so if you add the same name when False,\n",
    "# it will be added with serial number.\n",
    "experiment_randomized.add(sample02, \"GHZ\")\n",
    "experiment_randomized.add(sample03)\n",
    "print(experiment_randomized.waves)"
   ]
  },
  {
   "attachments": {},
   "cell_type": "markdown",
   "metadata": {},
   "source": [
    "If you do not give the name of circuit, it will be named by series number.\n",
    "\n",
    "Now, waves are loading, time to excute.\n"
   ]
  },
  {
   "attachments": {},
   "cell_type": "markdown",
   "metadata": {},
   "source": [
    "## 1.3 Excute Circuits\n"
   ]
  },
  {
   "cell_type": "markdown",
   "metadata": {},
   "source": [
    "- We can use `.measure()` method to excute the specific circuit in the `EntropyMeasure` object. The `.measure()` method  returns a hash id of this experiment and save a `Experiment` object in `EntropyMeasure`.\n",
    "- `EntropyMeasure.measure()` requires the following input parameters:\n",
    "  - wave: the name of circuit in `Qurry.waves` object\n",
    "  - times: the number of random measurements\n",
    "  - shots: the number of shots for each measurement. The default is 1024.\n"
   ]
  },
  {
   "cell_type": "code",
   "execution_count": 10,
   "metadata": {},
   "outputs": [
    {
     "data": {
      "text/plain": [
       "'a3a10311-22cb-4568-a5ed-86b4b9e78cd3'"
      ]
     },
     "execution_count": 10,
     "metadata": {},
     "output_type": "execute_result"
    }
   ],
   "source": [
    "exp1 = experiment_randomized.measure(\n",
    "    wave=\"TrivialParamagnet\", times=100, shots=1024, backend=backend_sim\n",
    ")\n",
    "exp1"
   ]
  },
  {
   "cell_type": "markdown",
   "metadata": {},
   "source": [
    "- You can specify the backend by add a parameter `backend` in `measure` method, if you do not specify, it will use simulator as the default backend. Moreover, qiskit has multiple simulators, they are `QasmSimulatorPy` from `qiskit`, `AerSimulator` from `qiskit-aer`, and `AerSimulator` from `qiskit-aer-gpu`. Qurry will check the availability of these simulators and use the first available one as the default backend in following order:\n",
    "  1. `AerSimulator` from `qiskit-aer-gpu`\n",
    "  2. `AerSimulator` from `qiskit-aer`\n",
    "  3. `QasmSimulatorPy` from `qiskit`\n"
   ]
  },
  {
   "cell_type": "code",
   "execution_count": 11,
   "metadata": {},
   "outputs": [
    {
     "data": {
      "text/plain": [
       "'8afa4488-54ed-4fc1-82e2-ab44ba556fd9'"
      ]
     },
     "execution_count": 11,
     "metadata": {},
     "output_type": "execute_result"
    }
   ],
   "source": [
    "exp2 = experiment_randomized.measure(\n",
    "    wave=\"TrivialParamagnet\",\n",
    "    times=100,\n",
    "    shots=1024,\n",
    ")\n",
    "exp2"
   ]
  },
  {
   "cell_type": "markdown",
   "metadata": {},
   "source": [
    "- And we can check the attribute `.exps` of `EntropyMeasure` object, it will return the hash id of all experiments.\n"
   ]
  },
  {
   "cell_type": "code",
   "execution_count": 12,
   "metadata": {},
   "outputs": [
    {
     "name": "stdout",
     "output_type": "stream",
     "text": [
      "{'a3a10311-22cb-4568-a5ed-86b4b9e78cd3': <EntropyMeasureRandomizedExperiment(exp_id=a3a10311-22cb-4568-a5ed-86b4b9e78cd3, EntropyMeasureRandomizedArguments(exp_name='experiment.N_U_100.qurrent_randomized', times=100, qubits_measured=[0, 1, 2, 3, 4, 5, 6, 7], registers_mapping={0: 0, 1: 1, 2: 2, 3: 3, 4: 4, 5: 5, 6: 6, 7: 7}, actual_num_qubits=8, unitary_located=[0, 1, 2, 3, 4, 5, 6, 7], random_unitary_seeds=None), Commonparams(exp_id='a3a10311-22cb-4568-a5ed-86b4b9e78cd3', target_keys=['TrivialParamagnet'], shots=1024, backend=<qiskit.providers.basic_provider.basic_simulator.BasicSimulator object at 0x77ed8c377da0>, run_args={}, transpile_args={}, tags=(), default_analysis=[], save_location=PosixPath('.'), filename='', files={}, serial=None, summoner_id=None, summoner_name=None, datetimes=DatetimeDict({'build': '2024-12-10 18:47:06', 'run.001': '2024-12-10 18:47:06'})), unused_args_num=0, analysis_num=0)>, '8afa4488-54ed-4fc1-82e2-ab44ba556fd9': <EntropyMeasureRandomizedExperiment(exp_id=8afa4488-54ed-4fc1-82e2-ab44ba556fd9, EntropyMeasureRandomizedArguments(exp_name='experiment.N_U_100.qurrent_randomized', times=100, qubits_measured=[0, 1, 2, 3, 4, 5, 6, 7], registers_mapping={0: 0, 1: 1, 2: 2, 3: 3, 4: 4, 5: 5, 6: 6, 7: 7}, actual_num_qubits=8, unitary_located=[0, 1, 2, 3, 4, 5, 6, 7], random_unitary_seeds=None), Commonparams(exp_id='8afa4488-54ed-4fc1-82e2-ab44ba556fd9', target_keys=['TrivialParamagnet'], shots=1024, backend=<AerSimulator('aer_simulator')>, run_args={}, transpile_args={}, tags=(), default_analysis=[], save_location=PosixPath('.'), filename='', files={}, serial=None, summoner_id=None, summoner_name=None, datetimes=DatetimeDict({'build': '2024-12-10 18:47:08', 'run.001': '2024-12-10 18:47:08'})), unused_args_num=0, analysis_num=0)>}\n"
     ]
    }
   ],
   "source": [
    "print(experiment_randomized.exps)"
   ]
  },
  {
   "cell_type": "markdown",
   "metadata": {},
   "source": [
    "- The following is the other informatiom you can access.\n"
   ]
  },
  {
   "cell_type": "code",
   "execution_count": 13,
   "metadata": {},
   "outputs": [
    {
     "data": {
      "text/plain": [
       "WaveContainer({\n",
       "  'TrivialParamagnet': <qurry.recipe.simple.paramagnet.TrivialParamagnet object at 0x77ed4a2909e0>,\n",
       "  'GHZ': <qurry.recipe.simple.cat.GHZ object at 0x77ed49b6a1e0>,\n",
       "  2: <qiskit.circuit.quantumcircuit.QuantumCircuit object at 0x77ed8c3770e0>})"
      ]
     },
     "execution_count": 13,
     "metadata": {},
     "output_type": "execute_result"
    }
   ],
   "source": [
    "experiment_randomized.waves"
   ]
  },
  {
   "cell_type": "code",
   "execution_count": 14,
   "metadata": {},
   "outputs": [
    {
     "data": {
      "text/plain": [
       "<EntropyMeasureRandomizedExperiment(exp_id=a3a10311-22cb-4568-a5ed-86b4b9e78cd3, \n",
       "  EntropyMeasureRandomizedArguments(exp_name='experiment.N_U_100.qurrent_randomized', times=100, qubits_measured=[0, 1, 2, 3, 4, 5, 6, 7], registers_mapping={0: 0, 1: 1, 2: 2, 3: 3, 4: 4, 5: 5, 6: 6, 7: 7}, actual_num_qubits=8, unitary_located=[0, 1, 2, 3, 4, 5, 6, 7], random_unitary_seeds=None),\n",
       "  Commonparams(exp_id='a3a10311-22cb-4568-a5ed-86b4b9e78cd3', target_keys=['TrivialParamagnet'], shots=1024, backend=<qiskit.providers.basic_provider.basic_simulator.BasicSimulator object at 0x77ed8c377da0>, run_args={}, transpile_args={}, tags=(), default_analysis=[], save_location=PosixPath('.'), filename='', files={}, serial=None, summoner_id=None, summoner_name=None, datetimes=DatetimeDict({'build': '2024-12-10 18:47:06', 'run.001': '2024-12-10 18:47:06'})),\n",
       "  unused_args_num=0,\n",
       "  analysis_num=0))>"
      ]
     },
     "execution_count": 14,
     "metadata": {},
     "output_type": "execute_result"
    }
   ],
   "source": [
    "experiment_randomized.exps[exp1]"
   ]
  },
  {
   "cell_type": "code",
   "execution_count": 15,
   "metadata": {},
   "outputs": [
    {
     "name": "stdout",
     "output_type": "stream",
     "text": [
      " # EntropyMeasureRandomizedExperiment with exp_id=a3a10311-22cb-4568-a5ed-86b4b9e78cd3\n",
      " - arguments\n",
      "   - exp_name --------------------- experiment.N_U_100.qurrent_randomized\n",
      "   - times ------------------------ 100\n",
      "   - qubits_measured -------------- [0, 1, 2, 3, 4, 5, 6, 7]\n",
      "   - registers_mapping ------------ {0: 0, 1: 1, 2: 2, 3: 3, 4: 4, 5: 5, 6: 6, 7: 7}\n",
      "   - actual_num_qubits ------------ 8\n",
      "   - unitary_located -------------- [0, 1, 2, 3, 4, 5, 6, 7]\n",
      "   - random_unitary_seeds --------- None\n",
      " - commonparams\n",
      "   - exp_id ----------------------- a3a10311-22cb-4568-a5ed-86b4b9e78cd3   # This is ID is generated by Qurry which is different from 'job_id' for pending.\n",
      "   - target_keys ------------------ ['TrivialParamagnet']\n",
      "   - shots ------------------------ 1024\n",
      "   - backend ---------------------- <qiskit.providers.basic_provider.basic_simulator.BasicSimulator object at 0x77ed8c377da0>\n",
      "   - run_args --------------------- {}\n",
      "   - transpile_args --------------- {}\n",
      "   - tags ------------------------- ()\n",
      "   - default_analysis ------------- []\n",
      "   - save_location ---------------- .\n",
      "   - filename --------------------- \n",
      "   - files ------------------------ {}\n",
      "   - serial ----------------------- None\n",
      "   - summoner_id ------------------ None\n",
      "   - summoner_name ---------------- None\n",
      "   - datetimes -------------------- {'build': '2024-12-10 18:47:06', 'run.001': '2024-12-10 18:47:06'}\n",
      " - outfields -------------------- 0 ........  # Number of unused arguments.\n",
      " - beforewards\n",
      "   - target ----------------------- 1 ........  # Number of target\n",
      "   - target_qasm ------------------ 1 ........  # Number of target_qasm\n",
      "   - circuit ---------------------- 100 ......  # Number of circuit\n",
      "   - circuit_qasm ----------------- 100 ......  # Number of circuit_qasm\n",
      "   - fig_original ----------------- 0 ........  # Number of fig_original\n",
      "   - job_id ----------------------- 86914036-0571-4295-bb1b-a05a91c6a2c4\n",
      "   - exp_name --------------------- experiment.N_U_100.qurrent_randomized\n",
      "   - side_product ----------------- 2 ........  # Number of side_product\n",
      " - afterwards\n",
      "   - result ----------------------- 1 ........  # Number of result\n",
      "   - counts ----------------------- 100 ......  # Number of counts\n",
      " - reports ---------------------- 0 ........  # Number of analysis.\n",
      "\n"
     ]
    }
   ],
   "source": [
    "print(experiment_randomized.exps[exp1].statesheet())"
   ]
  },
  {
   "attachments": {},
   "cell_type": "markdown",
   "metadata": {},
   "source": [
    "- Then, there is a experiment completed, and we can calculate the Renyi Entropy by `analyze`.\n"
   ]
  },
  {
   "attachments": {},
   "cell_type": "markdown",
   "metadata": {},
   "source": [
    "---\n",
    "\n",
    "## 1.4 Post-Processing\n",
    "\n",
    "- To obtain the Renyi Entropy of the whole system and the subsystems. We use `exps[].analyze()` method to calculate and store a `Analysis` object in `Experiment`.\n",
    "- The `analyze` method requires the following input parameters:\n",
    "  - degree: The size or selected qubits of the subsystem. Please refer to the following chart for the selection.\n"
   ]
  },
  {
   "cell_type": "markdown",
   "metadata": {},
   "source": [
    "### Qubit Selction Hint\n",
    "\n",
    "For example, consider a system with 12 qubits indexed as `[0, 1, ... 11]`.\n",
    "\n",
    "Entering an index and running `.analyze` will select the bitstring corresponding to the chosen qubit."
   ]
  },
  {
   "cell_type": "code",
   "execution_count": 16,
   "metadata": {},
   "outputs": [
    {
     "data": {
      "application/vnd.jupyter.widget-view+json": {
       "model_id": "82a9451f02c345dbb7231c1ca4644e83",
       "version_major": 2,
       "version_minor": 0
      },
      "text/plain": [
       "|  - 00:00 < ?"
      ]
     },
     "metadata": {},
     "output_type": "display_data"
    },
    {
     "data": {
      "application/vnd.jupyter.widget-view+json": {
       "model_id": "435f12a5534b418ba7d2640432c6a4d5",
       "version_major": 2,
       "version_minor": 0
      },
      "text/plain": [
       "|  - 00:00 < ?"
      ]
     },
     "metadata": {},
     "output_type": "display_data"
    }
   ],
   "source": [
    "exp1_report1 = experiment_randomized.exps[exp1].analyze(selected_qubits=[3, 4])\n",
    "# The subsystem of qubits 3 and 4 is selected for the analysis.\n",
    "exp1_report2 = experiment_randomized.exps[exp1].analyze(selected_qubits=[0])\n",
    "# The subsystem of qubit 0 is selected for the analysis."
   ]
  },
  {
   "cell_type": "markdown",
   "metadata": {},
   "source": [
    "- The `analyze` will return the result of this analysis.\n"
   ]
  },
  {
   "cell_type": "code",
   "execution_count": 17,
   "metadata": {},
   "outputs": [
    {
     "data": {
      "text/plain": [
       "({'purity': np.float64(0.9987123489379883),\n",
       "  'entropy': np.float64(0.0018588848560976375),\n",
       "  'puritySD': np.float64(0.4431059443310547),\n",
       "  'entropySD': np.float64(0.6400909622822005),\n",
       "  'num_classical_registers': 8,\n",
       "  'classical_registers': [0],\n",
       "  'classical_registers_actually': [0],\n",
       "  'all_system_source': \"AnalysisHeader(serial=0, datetime='2024-12-10 18:47:09', summoner=None, log={})\",\n",
       "  'purityAllSys': np.float64(1.1991012763977051),\n",
       "  'entropyAllSys': np.float64(-0.2619535142869742),\n",
       "  'puritySDAllSys': np.float64(1.8081965056331681),\n",
       "  'entropySDAllSys': np.float64(2.1755261069078426),\n",
       "  'num_classical_registers_all_sys': 8,\n",
       "  'classical_registers_all_sys': None,\n",
       "  'classical_registers_actually_all_sys': [0, 1, 2, 3, 4, 5, 6, 7],\n",
       "  'errorRate': np.float64(-0.09539128429840622),\n",
       "  'mitigatedPurity': np.float64(0.915634472076233),\n",
       "  'mitigatedEntropy': np.float64(0.1271563159635713),\n",
       "  'counts_num': 100,\n",
       "  'taking_time': 0.000847842,\n",
       "  'taking_time_all_sys': 0.03056876,\n",
       "  'counts_used': None,\n",
       "  'input': {'num_qubits': 8,\n",
       "   'selected_qubits': [0],\n",
       "   'registers_mapping': {0: 0, 1: 1, 2: 2, 3: 3, 4: 4, 5: 5, 6: 6, 7: 7},\n",
       "   'shots': 1024,\n",
       "   'unitary_located': [0, 1, 2, 3, 4, 5, 6, 7]},\n",
       "  'header': {'serial': 1,\n",
       "   'datetime': '2024-12-10 18:47:09',\n",
       "   'summoner': None,\n",
       "   'log': {}}},\n",
       " {'purityCells': {40: 0.5642929077148438,\n",
       "   79: 1.433929443359375,\n",
       "   14: 1.6433162689208984,\n",
       "   97: 0.639251708984375,\n",
       "   31: 1.9941463470458984,\n",
       "   28: 0.9140529632568359,\n",
       "   55: 0.5837764739990234,\n",
       "   63: 0.8462753295898438,\n",
       "   95: 0.7243270874023438,\n",
       "   2: 0.59375,\n",
       "   57: 1.397308349609375,\n",
       "   35: 1.0605831146240234,\n",
       "   78: 0.8434658050537109,\n",
       "   66: 1.628021240234375,\n",
       "   90: 1.192962646484375,\n",
       "   93: 0.5048122406005859,\n",
       "   8: 1.3046627044677734,\n",
       "   21: 0.8691635131835938,\n",
       "   51: 0.6595821380615234,\n",
       "   81: 1.5238399505615234,\n",
       "   34: 0.5066146850585938,\n",
       "   20: 1.0896053314208984,\n",
       "   22: 1.8963851928710938,\n",
       "   69: 1.4063949584960938,\n",
       "   29: 0.738128662109375,\n",
       "   32: 1.2130184173583984,\n",
       "   64: 0.74755859375,\n",
       "   17: 1.4063949584960938,\n",
       "   36: 0.5256862640380859,\n",
       "   52: 0.7311763763427734,\n",
       "   70: 0.7820053100585938,\n",
       "   67: 1.3089599609375,\n",
       "   85: 0.5473842620849609,\n",
       "   25: 1.4950008392333984,\n",
       "   30: 0.910980224609375,\n",
       "   83: 0.7948513031005859,\n",
       "   98: 0.7922592163085938,\n",
       "   43: 1.4571895599365234,\n",
       "   45: 0.507415771484375,\n",
       "   16: 0.61865234375,\n",
       "   5: 1.3349838256835938,\n",
       "   86: 0.5179443359375,\n",
       "   76: 0.6895370483398438,\n",
       "   48: 0.6895370483398438,\n",
       "   12: 1.397308349609375,\n",
       "   68: 1.1850204467773438,\n",
       "   49: 1.9534912109375,\n",
       "   3: 0.8079833984375,\n",
       "   11: 1.4201107025146484,\n",
       "   50: 0.504486083984375,\n",
       "   44: 0.9140529632568359,\n",
       "   73: 0.5002803802490234,\n",
       "   89: 0.5160732269287109,\n",
       "   9: 0.5018539428710938,\n",
       "   7: 0.8988037109375,\n",
       "   71: 1.504568099975586,\n",
       "   94: 1.924795150756836,\n",
       "   74: 0.500823974609375,\n",
       "   0: 1.5238399505615234,\n",
       "   47: 1.365865707397461,\n",
       "   53: 0.5054988861083984,\n",
       "   82: 0.5070095062255859,\n",
       "   39: 1.7801876068115234,\n",
       "   96: 1.6587142944335938,\n",
       "   80: 0.587982177734375,\n",
       "   38: 1.633108139038086,\n",
       "   26: 1.208984375,\n",
       "   33: 0.5692367553710938,\n",
       "   56: 0.738128662109375,\n",
       "   42: 0.5384750366210938,\n",
       "   27: 0.5249252319335938,\n",
       "   1: 0.5304927825927734,\n",
       "   54: 1.365865707397461,\n",
       "   15: 1.5580062866210938,\n",
       "   6: 0.5105800628662109,\n",
       "   10: 1.27490234375,\n",
       "   37: 1.2049617767333984,\n",
       "   41: 1.5777816772460938,\n",
       "   4: 0.8519287109375,\n",
       "   24: 1.4478511810302734,\n",
       "   23: 1.1810665130615234,\n",
       "   19: 0.6937255859375,\n",
       "   58: 1.622945785522461,\n",
       "   46: 0.5313339233398438,\n",
       "   13: 0.5494899749755859,\n",
       "   59: 0.5121078491210938,\n",
       "   62: 1.34375,\n",
       "   72: 0.5212917327880859,\n",
       "   77: 0.7451839447021484,\n",
       "   61: 0.7220668792724609,\n",
       "   84: 0.5256862640380859,\n",
       "   87: 0.818695068359375,\n",
       "   91: 0.9018306732177734,\n",
       "   92: 0.5865688323974609,\n",
       "   65: 0.7547512054443359,\n",
       "   88: 1.8626708984375,\n",
       "   60: 0.961517333984375,\n",
       "   75: 1.7747802734375,\n",
       "   99: 0.5304927825927734,\n",
       "   18: 1.1081161499023438},\n",
       "  'purityCellsAllSys': {9: 0.5015869140625,\n",
       "   55: 1.8210563659667969,\n",
       "   8: 0.45592498779296875,\n",
       "   30: 0.4346504211425781,\n",
       "   44: 0.2949066162109375,\n",
       "   48: 0.48480987548828125,\n",
       "   64: 1.1688461303710938,\n",
       "   83: 1.0022830963134766,\n",
       "   14: 1.9827728271484375,\n",
       "   74: 0.2658557891845703,\n",
       "   56: 0.25869178771972656,\n",
       "   80: 0.4380378723144531,\n",
       "   88: 0.5158405303955078,\n",
       "   89: 0.4319438934326172,\n",
       "   4: 1.3132133483886719,\n",
       "   54: 1.0835933685302734,\n",
       "   36: 0.9837493896484375,\n",
       "   96: 0.3741168975830078,\n",
       "   50: 0.6471157073974609,\n",
       "   46: 0.4304218292236328,\n",
       "   57: 1.1557483673095703,\n",
       "   41: 11.897796630859375,\n",
       "   34: 1.3467674255371094,\n",
       "   93: 0.6749362945556641,\n",
       "   69: 0.47066497802734375,\n",
       "   70: 1.5453739166259766,\n",
       "   97: 1.7998390197753906,\n",
       "   35: 3.2424468994140625,\n",
       "   39: 1.6913604736328125,\n",
       "   63: 0.4530353546142578,\n",
       "   66: 0.6228199005126953,\n",
       "   18: 0.3466682434082031,\n",
       "   85: 1.0640811920166016,\n",
       "   24: 0.8782749176025391,\n",
       "   62: 0.7085361480712891,\n",
       "   79: 0.4570751190185547,\n",
       "   28: 1.4733848571777344,\n",
       "   58: 2.089282989501953,\n",
       "   76: 0.5401420593261719,\n",
       "   67: 0.45238304138183594,\n",
       "   73: 0.3982810974121094,\n",
       "   25: 1.5118484497070312,\n",
       "   52: 0.220062255859375,\n",
       "   72: 0.7843303680419922,\n",
       "   23: 0.6792335510253906,\n",
       "   53: 0.5717792510986328,\n",
       "   1: 0.31281089782714844,\n",
       "   2: 0.30553245544433594,\n",
       "   45: 0.9720592498779297,\n",
       "   16: 0.6489582061767578,\n",
       "   75: 0.5529251098632812,\n",
       "   31: 0.3030261993408203,\n",
       "   98: 0.40665245056152344,\n",
       "   94: 7.182842254638672,\n",
       "   99: 0.7224349975585938,\n",
       "   17: 1.195791244506836,\n",
       "   77: 0.5078811645507812,\n",
       "   20: 0.43328285217285156,\n",
       "   47: 0.7893314361572266,\n",
       "   61: 0.7287693023681641,\n",
       "   95: 0.3158092498779297,\n",
       "   40: 0.23296546936035156,\n",
       "   60: 0.754364013671875,\n",
       "   43: 0.35345458984375,\n",
       "   32: 1.6320457458496094,\n",
       "   0: 1.6565589904785156,\n",
       "   51: 0.9141979217529297,\n",
       "   27: 0.37776756286621094,\n",
       "   11: 2.475566864013672,\n",
       "   5: 3.3891143798828125,\n",
       "   65: 0.2814826965332031,\n",
       "   10: 0.32830047607421875,\n",
       "   29: 1.7620964050292969,\n",
       "   12: 1.0688247680664062,\n",
       "   26: 0.6914100646972656,\n",
       "   6: 0.7026081085205078,\n",
       "   37: 11.737762451171875,\n",
       "   38: 0.40242958068847656,\n",
       "   59: 0.42724037170410156,\n",
       "   81: 2.4322738647460938,\n",
       "   87: 0.5375442504882812,\n",
       "   91: 1.7009963989257812,\n",
       "   3: 0.2790679931640625,\n",
       "   21: 2.0022850036621094,\n",
       "   13: 0.46693992614746094,\n",
       "   19: 0.5928363800048828,\n",
       "   22: 1.0964622497558594,\n",
       "   7: 0.4310569763183594,\n",
       "   42: 1.6267929077148438,\n",
       "   68: 0.49636268615722656,\n",
       "   71: 0.5072116851806641,\n",
       "   84: 0.4036827087402344,\n",
       "   86: 1.9796886444091797,\n",
       "   49: 0.7637882232666016,\n",
       "   15: 4.9591064453125,\n",
       "   78: 0.6581478118896484,\n",
       "   33: 0.29428863525390625,\n",
       "   90: 0.2992725372314453,\n",
       "   92: 1.4756851196289062,\n",
       "   82: 0.3747692108154297}})"
      ]
     },
     "execution_count": 17,
     "metadata": {},
     "output_type": "execute_result"
    }
   ],
   "source": [
    "exp1_report2.export()"
   ]
  },
  {
   "cell_type": "code",
   "execution_count": 18,
   "metadata": {},
   "outputs": [
    {
     "name": "stdout",
     "output_type": "stream",
     "text": [
      "EntropyMeasureRandomizedAnalysis with serial=0, AnalysisInput(num_qubits=8, selected_qubits=[3, 4], registers_mapping={0: 0, 1: 1, 2: 2, 3: 3, 4: 4, 5: 5, 6: 6, 7: 7}, shots=1024, unitary_located=[0, 1, 2, 3, 4, 5, 6, 7]), AnalysisContent(purity=1.0170664024353027, entropy=-0.02441387323355597, and others), 0 unused arguments\n",
      "AnalysisHeader(serial=0, datetime='2024-12-10 18:47:09', summoner=None, log={})\n"
     ]
    }
   ],
   "source": [
    "print(exp1_report1)\n",
    "print(exp1_report1.header)"
   ]
  },
  {
   "cell_type": "markdown",
   "metadata": {},
   "source": [
    "- It can also be found in the attribute `.reports` of `Experiment` object.\n"
   ]
  },
  {
   "cell_type": "code",
   "execution_count": 19,
   "metadata": {},
   "outputs": [
    {
     "name": "stdout",
     "output_type": "stream",
     "text": [
      "AnalysisContainer(length=2, {0{...}, 1{...}})\n",
      "EntropyMeasureRandomizedAnalysis with serial=0, AnalysisInput(num_qubits=8, selected_qubits=[3, 4], registers_mapping={0: 0, 1: 1, 2: 2, 3: 3, 4: 4, 5: 5, 6: 6, 7: 7}, shots=1024, unitary_located=[0, 1, 2, 3, 4, 5, 6, 7]), AnalysisContent(purity=1.0170664024353027, entropy=-0.02441387323355597, and others), 0 unused arguments\n",
      "AnalysisHeader(serial=0, datetime='2024-12-10 18:47:09', summoner=None, log={})\n"
     ]
    }
   ],
   "source": [
    "print(experiment_randomized.exps[exp1].reports)\n",
    "print(experiment_randomized.exps[exp1].reports[0])\n",
    "print(experiment_randomized.exps[exp1].reports[0].header)"
   ]
  },
  {
   "cell_type": "markdown",
   "metadata": {},
   "source": [
    "- We can use `.export()` to get the result of this analysis.\n"
   ]
  },
  {
   "cell_type": "code",
   "execution_count": 20,
   "metadata": {},
   "outputs": [],
   "source": [
    "main, side_prodct = experiment_randomized.exps[exp1].reports[0].export()"
   ]
  },
  {
   "attachments": {},
   "cell_type": "markdown",
   "metadata": {},
   "source": [
    "- And there is it\n"
   ]
  },
  {
   "cell_type": "code",
   "execution_count": 21,
   "metadata": {},
   "outputs": [
    {
     "data": {
      "text/plain": [
       "{'purity': np.float64(1.0170664024353027),\n",
       " 'entropy': np.float64(-0.02441387323355597),\n",
       " 'puritySD': np.float64(0.7149922703351819),\n",
       " 'entropySD': np.float64(1.01420693891432),\n",
       " 'num_classical_registers': 8,\n",
       " 'classical_registers': [3, 4],\n",
       " 'classical_registers_actually': [3, 4],\n",
       " 'all_system_source': 'independent',\n",
       " 'purityAllSys': np.float64(1.1991012763977051),\n",
       " 'entropyAllSys': np.float64(-0.2619535142869742),\n",
       " 'puritySDAllSys': np.float64(1.8081965056331681),\n",
       " 'entropySDAllSys': np.float64(2.1755261069078426),\n",
       " 'num_classical_registers_all_sys': 8,\n",
       " 'classical_registers_all_sys': None,\n",
       " 'classical_registers_actually_all_sys': [0, 1, 2, 3, 4, 5, 6, 7],\n",
       " 'errorRate': np.float64(-0.09539128429840622),\n",
       " 'mitigatedPurity': np.float64(0.8892848300278511),\n",
       " 'mitigatedEntropy': np.float64(0.1692825194159182),\n",
       " 'counts_num': 100,\n",
       " 'taking_time': 0.001836907,\n",
       " 'taking_time_all_sys': 0.03056876,\n",
       " 'counts_used': None,\n",
       " 'input': {'num_qubits': 8,\n",
       "  'selected_qubits': [3, 4],\n",
       "  'registers_mapping': {0: 0, 1: 1, 2: 2, 3: 3, 4: 4, 5: 5, 6: 6, 7: 7},\n",
       "  'shots': 1024,\n",
       "  'unitary_located': [0, 1, 2, 3, 4, 5, 6, 7]},\n",
       " 'header': {'serial': 0,\n",
       "  'datetime': '2024-12-10 18:47:09',\n",
       "  'summoner': None,\n",
       "  'log': {}}}"
      ]
     },
     "execution_count": 21,
     "metadata": {},
     "output_type": "execute_result"
    }
   ],
   "source": [
    "main"
   ]
  },
  {
   "attachments": {},
   "cell_type": "markdown",
   "metadata": {},
   "source": [
    "- Also, `sideProdct` will record the data of each circuit, and you can use it to do more analysis.\n"
   ]
  },
  {
   "cell_type": "code",
   "execution_count": 22,
   "metadata": {},
   "outputs": [
    {
     "data": {
      "text/plain": [
       "{'purityCells': {72: 1.01885986328125,\n",
       "  64: 0.47210121154785156,\n",
       "  29: 0.5712013244628906,\n",
       "  88: 0.7247982025146484,\n",
       "  43: 0.33567047119140625,\n",
       "  48: 0.7885761260986328,\n",
       "  2: 0.6254806518554688,\n",
       "  7: 0.2975730895996094,\n",
       "  63: 1.0704784393310547,\n",
       "  35: 2.2328662872314453,\n",
       "  68: 0.5042533874511719,\n",
       "  74: 0.3648185729980469,\n",
       "  14: 2.6865673065185547,\n",
       "  51: 1.7734661102294922,\n",
       "  21: 0.43605804443359375,\n",
       "  5: 0.9750347137451172,\n",
       "  66: 0.6367073059082031,\n",
       "  23: 0.3985443115234375,\n",
       "  82: 2.5035934448242188,\n",
       "  11: 1.4542160034179688,\n",
       "  1: 0.780731201171875,\n",
       "  58: 1.1535968780517578,\n",
       "  37: 3.1112632751464844,\n",
       "  55: 2.5993518829345703,\n",
       "  69: 0.6573581695556641,\n",
       "  60: 0.835113525390625,\n",
       "  36: 0.7298221588134766,\n",
       "  17: 0.386505126953125,\n",
       "  70: 0.5398387908935547,\n",
       "  40: 0.6218757629394531,\n",
       "  91: 0.9060096740722656,\n",
       "  81: 1.0071353912353516,\n",
       "  76: 1.9485435485839844,\n",
       "  93: 1.19097900390625,\n",
       "  61: 0.6706390380859375,\n",
       "  24: 0.90240478515625,\n",
       "  77: 0.8952980041503906,\n",
       "  89: 0.9688892364501953,\n",
       "  99: 0.7516517639160156,\n",
       "  67: 0.9931735992431641,\n",
       "  13: 2.702983856201172,\n",
       "  50: 2.1515159606933594,\n",
       "  52: 0.29815673828125,\n",
       "  46: 0.5084247589111328,\n",
       "  54: 0.8112754821777344,\n",
       "  12: 1.0045433044433594,\n",
       "  9: 0.8726043701171875,\n",
       "  15: 0.8160476684570312,\n",
       "  79: 0.32974815368652344,\n",
       "  30: 0.4343528747558594,\n",
       "  59: 0.41852569580078125,\n",
       "  75: 0.7816925048828125,\n",
       "  47: 0.2722358703613281,\n",
       "  44: 0.6489124298095703,\n",
       "  84: 0.6044578552246094,\n",
       "  34: 3.060199737548828,\n",
       "  78: 1.0569114685058594,\n",
       "  87: 0.5623321533203125,\n",
       "  25: 0.5657081604003906,\n",
       "  83: 0.7220916748046875,\n",
       "  95: 0.8460197448730469,\n",
       "  97: 0.9878520965576172,\n",
       "  19: 0.2616100311279297,\n",
       "  90: 0.3992881774902344,\n",
       "  98: 0.349517822265625,\n",
       "  92: 1.1594505310058594,\n",
       "  4: 0.6542625427246094,\n",
       "  27: 0.9265575408935547,\n",
       "  96: 0.38936614990234375,\n",
       "  53: 0.9366569519042969,\n",
       "  20: 1.4421653747558594,\n",
       "  16: 2.269023895263672,\n",
       "  22: 1.92303466796875,\n",
       "  0: 1.1150245666503906,\n",
       "  42: 1.4400711059570312,\n",
       "  26: 0.5087738037109375,\n",
       "  56: 0.26073455810546875,\n",
       "  86: 2.9126625061035156,\n",
       "  45: 2.200611114501953,\n",
       "  57: 1.3295097351074219,\n",
       "  18: 0.3021221160888672,\n",
       "  62: 0.26645660400390625,\n",
       "  65: 0.4944572448730469,\n",
       "  39: 0.791168212890625,\n",
       "  71: 1.2992515563964844,\n",
       "  85: 1.1178054809570312,\n",
       "  94: 1.4708499908447266,\n",
       "  28: 0.9182262420654297,\n",
       "  10: 0.8161506652832031,\n",
       "  31: 0.3749237060546875,\n",
       "  33: 0.7814064025878906,\n",
       "  38: 0.5502586364746094,\n",
       "  49: 0.3627586364746094,\n",
       "  6: 1.0212173461914062,\n",
       "  8: 0.4282245635986328,\n",
       "  41: 2.9864139556884766,\n",
       "  73: 0.4029731750488281,\n",
       "  80: 1.080709457397461,\n",
       "  32: 1.8940582275390625,\n",
       "  3: 1.8912487030029297},\n",
       " 'purityCellsAllSys': {9: 0.5015869140625,\n",
       "  55: 1.8210563659667969,\n",
       "  8: 0.45592498779296875,\n",
       "  30: 0.4346504211425781,\n",
       "  44: 0.2949066162109375,\n",
       "  48: 0.48480987548828125,\n",
       "  64: 1.1688461303710938,\n",
       "  83: 1.0022830963134766,\n",
       "  14: 1.9827728271484375,\n",
       "  74: 0.2658557891845703,\n",
       "  56: 0.25869178771972656,\n",
       "  80: 0.4380378723144531,\n",
       "  88: 0.5158405303955078,\n",
       "  89: 0.4319438934326172,\n",
       "  4: 1.3132133483886719,\n",
       "  54: 1.0835933685302734,\n",
       "  36: 0.9837493896484375,\n",
       "  96: 0.3741168975830078,\n",
       "  50: 0.6471157073974609,\n",
       "  46: 0.4304218292236328,\n",
       "  57: 1.1557483673095703,\n",
       "  41: 11.897796630859375,\n",
       "  34: 1.3467674255371094,\n",
       "  93: 0.6749362945556641,\n",
       "  69: 0.47066497802734375,\n",
       "  70: 1.5453739166259766,\n",
       "  97: 1.7998390197753906,\n",
       "  35: 3.2424468994140625,\n",
       "  39: 1.6913604736328125,\n",
       "  63: 0.4530353546142578,\n",
       "  66: 0.6228199005126953,\n",
       "  18: 0.3466682434082031,\n",
       "  85: 1.0640811920166016,\n",
       "  24: 0.8782749176025391,\n",
       "  62: 0.7085361480712891,\n",
       "  79: 0.4570751190185547,\n",
       "  28: 1.4733848571777344,\n",
       "  58: 2.089282989501953,\n",
       "  76: 0.5401420593261719,\n",
       "  67: 0.45238304138183594,\n",
       "  73: 0.3982810974121094,\n",
       "  25: 1.5118484497070312,\n",
       "  52: 0.220062255859375,\n",
       "  72: 0.7843303680419922,\n",
       "  23: 0.6792335510253906,\n",
       "  53: 0.5717792510986328,\n",
       "  1: 0.31281089782714844,\n",
       "  2: 0.30553245544433594,\n",
       "  45: 0.9720592498779297,\n",
       "  16: 0.6489582061767578,\n",
       "  75: 0.5529251098632812,\n",
       "  31: 0.3030261993408203,\n",
       "  98: 0.40665245056152344,\n",
       "  94: 7.182842254638672,\n",
       "  99: 0.7224349975585938,\n",
       "  17: 1.195791244506836,\n",
       "  77: 0.5078811645507812,\n",
       "  20: 0.43328285217285156,\n",
       "  47: 0.7893314361572266,\n",
       "  61: 0.7287693023681641,\n",
       "  95: 0.3158092498779297,\n",
       "  40: 0.23296546936035156,\n",
       "  60: 0.754364013671875,\n",
       "  43: 0.35345458984375,\n",
       "  32: 1.6320457458496094,\n",
       "  0: 1.6565589904785156,\n",
       "  51: 0.9141979217529297,\n",
       "  27: 0.37776756286621094,\n",
       "  11: 2.475566864013672,\n",
       "  5: 3.3891143798828125,\n",
       "  65: 0.2814826965332031,\n",
       "  10: 0.32830047607421875,\n",
       "  29: 1.7620964050292969,\n",
       "  12: 1.0688247680664062,\n",
       "  26: 0.6914100646972656,\n",
       "  6: 0.7026081085205078,\n",
       "  37: 11.737762451171875,\n",
       "  38: 0.40242958068847656,\n",
       "  59: 0.42724037170410156,\n",
       "  81: 2.4322738647460938,\n",
       "  87: 0.5375442504882812,\n",
       "  91: 1.7009963989257812,\n",
       "  3: 0.2790679931640625,\n",
       "  21: 2.0022850036621094,\n",
       "  13: 0.46693992614746094,\n",
       "  19: 0.5928363800048828,\n",
       "  22: 1.0964622497558594,\n",
       "  7: 0.4310569763183594,\n",
       "  42: 1.6267929077148438,\n",
       "  68: 0.49636268615722656,\n",
       "  71: 0.5072116851806641,\n",
       "  84: 0.4036827087402344,\n",
       "  86: 1.9796886444091797,\n",
       "  49: 0.7637882232666016,\n",
       "  15: 4.9591064453125,\n",
       "  78: 0.6581478118896484,\n",
       "  33: 0.29428863525390625,\n",
       "  90: 0.2992725372314453,\n",
       "  92: 1.4756851196289062,\n",
       "  82: 0.3747692108154297}}"
      ]
     },
     "execution_count": 22,
     "metadata": {},
     "output_type": "execute_result"
    }
   ],
   "source": [
    "side_prodct"
   ]
  },
  {
   "cell_type": "code",
   "execution_count": 23,
   "metadata": {},
   "outputs": [
    {
     "data": {
      "text/plain": [
       " # EntropyMeasureRandomizedAnalysis with serial=0\n",
       " - header\n",
       "   - serial -------------------------------------- 0\n",
       "   - datetime ------------------------------------ 2024-12-10 18:47:09\n",
       "   - summoner ------------------------------------ None\n",
       "   - log ----------------------------------------- {}\n",
       " - input\n",
       "   - num_qubits ---------------------------------- 8\n",
       "   - selected_qubits ----------------------------- [3, 4]\n",
       "   - registers_mapping --------------------------- {0: 0, 1: 1, 2: 2, 3: 3, 4: 4, 5: 5, 6: 6, 7: 7}\n",
       "   - shots --------------------------------------- 1024\n",
       "   - unitary_located ----------------------------- [0, 1, 2, 3, 4, 5, 6, 7]\n",
       " - outfields ----------------------------------- 0 ........  # Number of unused arguments.\n",
       " - content\n",
       "   - purity -------------------------------------- 1.0170664024353027\n",
       "   - entropy ------------------------------------- -0.02441387323355597\n",
       "   - puritySD ------------------------------------ 0.7149922703351819\n",
       "   - entropySD ----------------------------------- 1.01420693891432\n",
       "   - purityCells --------------------------------- {72: 1.01885986328125, 64: 0.47210121154785156, 29: 0.5712013244628906, 88: 0.7247982025146484, 43: 0.33567047119140625, 48: 0.7885761260986328, 2: 0.6254806518554688, 7: 0.2975730895996094, 63: 1.0704784393310547, 35: 2.2328662872314453, 68: 0.5042533874511719, 74: 0.3648185729980469, 14: 2.6865673065185547, 51: 1.7734661102294922, 21: 0.43605804443359375, 5: 0.9750347137451172, 66: 0.6367073059082031, 23: 0.3985443115234375, 82: 2.5035934448242188, 11: 1.4542160034179688, 1: 0.780731201171875, 58: 1.1535968780517578, 37: 3.1112632751464844, 55: 2.5993518829345703, 69: 0.6573581695556641, 60: 0.835113525390625, 36: 0.7298221588134766, 17: 0.386505126953125, 70: 0.5398387908935547, 40: 0.6218757629394531, 91: 0.9060096740722656, 81: 1.0071353912353516, 76: 1.9485435485839844, 93: 1.19097900390625, 61: 0.6706390380859375, 24: 0.90240478515625, 77: 0.8952980041503906, 89: 0.9688892364501953, 99: 0.7516517639160156, 67: 0.9931735992431641, 13: 2.702983856201172, 50: 2.1515159606933594, 52: 0.29815673828125, 46: 0.5084247589111328, 54: 0.8112754821777344, 12: 1.0045433044433594, 9: 0.8726043701171875, 15: 0.8160476684570312, 79: 0.32974815368652344, 30: 0.4343528747558594, 59: 0.41852569580078125, 75: 0.7816925048828125, 47: 0.2722358703613281, 44: 0.6489124298095703, 84: 0.6044578552246094, 34: 3.060199737548828, 78: 1.0569114685058594, 87: 0.5623321533203125, 25: 0.5657081604003906, 83: 0.7220916748046875, 95: 0.8460197448730469, 97: 0.9878520965576172, 19: 0.2616100311279297, 90: 0.3992881774902344, 98: 0.349517822265625, 92: 1.1594505310058594, 4: 0.6542625427246094, 27: 0.9265575408935547, 96: 0.38936614990234375, 53: 0.9366569519042969, 20: 1.4421653747558594, 16: 2.269023895263672, 22: 1.92303466796875, 0: 1.1150245666503906, 42: 1.4400711059570312, 26: 0.5087738037109375, 56: 0.26073455810546875, 86: 2.9126625061035156, 45: 2.200611114501953, 57: 1.3295097351074219, 18: 0.3021221160888672, 62: 0.26645660400390625, 65: 0.4944572448730469, 39: 0.791168212890625, 7...\n",
       "   - num_classical_registers --------------------- 8\n",
       "   - classical_registers ------------------------- [3, 4]\n",
       "   - classical_registers_actually ---------------- [3, 4]\n",
       "   - all_system_source --------------------------- independent\n",
       "   - purityAllSys -------------------------------- 1.1991012763977051\n",
       "   - entropyAllSys ------------------------------- -0.2619535142869742\n",
       "   - puritySDAllSys ------------------------------ 1.8081965056331681\n",
       "   - entropySDAllSys ----------------------------- 2.1755261069078426\n",
       "   - purityCellsAllSys --------------------------- {9: 0.5015869140625, 55: 1.8210563659667969, 8: 0.45592498779296875, 30: 0.4346504211425781, 44: 0.2949066162109375, 48: 0.48480987548828125, 64: 1.1688461303710938, 83: 1.0022830963134766, 14: 1.9827728271484375, 74: 0.2658557891845703, 56: 0.25869178771972656, 80: 0.4380378723144531, 88: 0.5158405303955078, 89: 0.4319438934326172, 4: 1.3132133483886719, 54: 1.0835933685302734, 36: 0.9837493896484375, 96: 0.3741168975830078, 50: 0.6471157073974609, 46: 0.4304218292236328, 57: 1.1557483673095703, 41: 11.897796630859375, 34: 1.3467674255371094, 93: 0.6749362945556641, 69: 0.47066497802734375, 70: 1.5453739166259766, 97: 1.7998390197753906, 35: 3.2424468994140625, 39: 1.6913604736328125, 63: 0.4530353546142578, 66: 0.6228199005126953, 18: 0.3466682434082031, 85: 1.0640811920166016, 24: 0.8782749176025391, 62: 0.7085361480712891, 79: 0.4570751190185547, 28: 1.4733848571777344, 58: 2.089282989501953, 76: 0.5401420593261719, 67: 0.45238304138183594, 73: 0.3982810974121094, 25: 1.5118484497070312, 52: 0.220062255859375, 72: 0.7843303680419922, 23: 0.6792335510253906, 53: 0.5717792510986328, 1: 0.31281089782714844, 2: 0.30553245544433594, 45: 0.9720592498779297, 16: 0.6489582061767578, 75: 0.5529251098632812, 31: 0.3030261993408203, 98: 0.40665245056152344, 94: 7.182842254638672, 99: 0.7224349975585938, 17: 1.195791244506836, 77: 0.5078811645507812, 20: 0.43328285217285156, 47: 0.7893314361572266, 61: 0.7287693023681641, 95: 0.3158092498779297, 40: 0.23296546936035156, 60: 0.754364013671875, 43: 0.35345458984375, 32: 1.6320457458496094, 0: 1.6565589904785156, 51: 0.9141979217529297, 27: 0.37776756286621094, 11: 2.475566864013672, 5: 3.3891143798828125, 65: 0.2814826965332031, 10: 0.32830047607421875, 29: 1.7620964050292969, 12: 1.0688247680664062, 26: 0.6914100646972656, 6: 0.7026081085205078, 37: 11.737762451171875, 38: 0.40242958068847656, 59: 0.42724037170410156, 81: 2.4322738647460938, 87: 0.5375442504882812, 91: 1.7009963989257812, 3: 0.2790679931640625, 21: 2.0022850...\n",
       "   - num_classical_registers_all_sys ------------- 8\n",
       "   - classical_registers_all_sys ----------------- None\n",
       "   - classical_registers_actually_all_sys -------- [0, 1, 2, 3, 4, 5, 6, 7]\n",
       "   - errorRate ----------------------------------- -0.09539128429840622\n",
       "   - mitigatedPurity ----------------------------- 0.8892848300278511\n",
       "   - mitigatedEntropy ---------------------------- 0.1692825194159182\n",
       "   - counts_num ---------------------------------- 100\n",
       "   - taking_time --------------------------------- 0.001836907\n",
       "   - taking_time_all_sys ------------------------- 0.03056876\n",
       "   - counts_used --------------------------------- None\n",
       "by <QurryAnalysisSheet>"
      ]
     },
     "execution_count": 23,
     "metadata": {},
     "output_type": "execute_result"
    }
   ],
   "source": [
    "experiment_randomized.exps[exp1].reports[0].statesheet()"
   ]
  },
  {
   "cell_type": "markdown",
   "metadata": {},
   "source": [
    "---\n",
    "\n",
    "## 1.5 Export Current Result\n",
    "\n",
    "Also, Qurry provides a method to export all results as multiple files in a folder.\n",
    "Just use the method `write` of each `Experiment` instance."
   ]
  },
  {
   "cell_type": "code",
   "execution_count": 24,
   "metadata": {},
   "outputs": [
    {
     "data": {
      "text/plain": [
       "('a3a10311-22cb-4568-a5ed-86b4b9e78cd3',\n",
       " {'folder': 'experiment.N_U_100.qurrent_randomized.003',\n",
       "  'qurryinfo': 'experiment.N_U_100.qurrent_randomized.003/qurryinfo.json',\n",
       "  'args': 'experiment.N_U_100.qurrent_randomized.003/args/experiment.N_U_100.qurrent_randomized.003.id=a3a10311-22cb-4568-a5ed-86b4b9e78cd3.args.json',\n",
       "  'advent': 'experiment.N_U_100.qurrent_randomized.003/advent/experiment.N_U_100.qurrent_randomized.003.id=a3a10311-22cb-4568-a5ed-86b4b9e78cd3.advent.json',\n",
       "  'legacy': 'experiment.N_U_100.qurrent_randomized.003/legacy/experiment.N_U_100.qurrent_randomized.003.id=a3a10311-22cb-4568-a5ed-86b4b9e78cd3.legacy.json',\n",
       "  'tales.unitaryOP': 'experiment.N_U_100.qurrent_randomized.003/tales/experiment.N_U_100.qurrent_randomized.003.id=a3a10311-22cb-4568-a5ed-86b4b9e78cd3.unitaryOP.json',\n",
       "  'tales.randomized': 'experiment.N_U_100.qurrent_randomized.003/tales/experiment.N_U_100.qurrent_randomized.003.id=a3a10311-22cb-4568-a5ed-86b4b9e78cd3.randomized.json',\n",
       "  'reports': 'experiment.N_U_100.qurrent_randomized.003/reports/experiment.N_U_100.qurrent_randomized.003.id=a3a10311-22cb-4568-a5ed-86b4b9e78cd3.reports.json',\n",
       "  'reports.tales.purityCells': 'experiment.N_U_100.qurrent_randomized.003/tales/experiment.N_U_100.qurrent_randomized.003.id=a3a10311-22cb-4568-a5ed-86b4b9e78cd3.purityCells.reports.json',\n",
       "  'reports.tales.purityCellsAllSys': 'experiment.N_U_100.qurrent_randomized.003/tales/experiment.N_U_100.qurrent_randomized.003.id=a3a10311-22cb-4568-a5ed-86b4b9e78cd3.purityCellsAllSys.reports.json'})"
      ]
     },
     "execution_count": 24,
     "metadata": {},
     "output_type": "execute_result"
    }
   ],
   "source": [
    "experiment_randomized.exps[exp1].write()"
   ]
  },
  {
   "cell_type": "markdown",
   "metadata": {},
   "source": [
    "---\n",
    "\n",
    "## Post-Process Availablities and Version Info\n",
    "\n",
    "We currently do not support Qsikit 1.0 for we are working on it, and we will support it in the future.\n"
   ]
  },
  {
   "cell_type": "code",
   "execution_count": 25,
   "metadata": {},
   "outputs": [
    {
     "name": "stdout",
     "output_type": "stream",
     "text": [
      " | Qurry version: 0.10.1.dev2\n",
      "--------------------------------------------------------\n",
      " ### Qurry Post-Processing\n",
      "   - Backend Availability ................... Python Cython Rust  \n",
      " - randomized_measure\n",
      "   - entangled_entropy.entropy_core_2 ....... Yes    Depr.  Yes   \n",
      "   - entangle_entropy.purity_cell_2 ......... Yes    Depr.  Yes   \n",
      "   - entangled_entropy_v1.entropy_core ...... Yes    Depr.  Yes   \n",
      "   - entangle_entropy_v1.purity_cell ........ Yes    Depr.  Yes   \n",
      "   - wavefunction_overlap.echo_core_2 ....... Yes    Depr.  Yes   \n",
      "   - wavefunction_overlap.echo_cell_2 ....... Yes    Depr.  Yes   \n",
      "   - wavefunction_overlap_v1.echo_core ...... Yes    Depr.  Yes   \n",
      "   - wavefunction_overlap_v1.echo_cell ...... Yes    Depr.  Yes   \n",
      " - hadamard_test\n",
      "   - purity_echo_core ....................... Yes    No     Yes   \n",
      " - magnet_square\n",
      "   - magnsq_core ............................ Yes    No     No    \n",
      " - utils\n",
      "   - randomized ............................. Yes    Depr.  Yes   \n",
      "   - construct .............................. Yes    No     Yes   \n",
      "   - dummy .................................. Yes    No     Yes   \n",
      "   - test ................................... Yes    No     Yes   \n",
      "--------------------------------------------------------\n",
      "   + Yes ...... Working normally.\n",
      "   + Error .... Exception occurred.\n",
      "   + No ....... Not supported.\n",
      "   + Depr. .... Deprecated.\n",
      "--------------------------------------------------------\n",
      "\n"
     ]
    }
   ],
   "source": [
    "from qurry.process import AVAIBILITY_STATESHEET\n",
    "\n",
    "print(AVAIBILITY_STATESHEET)"
   ]
  },
  {
   "cell_type": "code",
   "execution_count": 26,
   "metadata": {},
   "outputs": [
    {
     "name": "stdout",
     "output_type": "stream",
     "text": [
      " | Qurry version: 0.10.1.dev2\n",
      "--------------------------------------------\n",
      " ### Qiskit version\n",
      " - main\n",
      "   - qiskit-aer .............. 0.15.1\n",
      "   - qiskit-ibm-runtime ...... 0.34.0\n",
      " - deprecated\n",
      " - into-community\n",
      "--------------------------------------------\n",
      "\n"
     ]
    }
   ],
   "source": [
    "from qurry.tools.qiskit_version import QISKIT_VERSION_STATESHEET\n",
    "\n",
    "print(QISKIT_VERSION_STATESHEET)"
   ]
  }
 ],
 "metadata": {
  "kernelspec": {
   "display_name": "quantumsphere12",
   "language": "python",
   "name": "python3"
  },
  "language_info": {
   "codemirror_mode": {
    "name": "ipython",
    "version": 3
   },
   "file_extension": ".py",
   "mimetype": "text/x-python",
   "name": "python",
   "nbconvert_exporter": "python",
   "pygments_lexer": "ipython3",
   "version": "3.12.7"
  }
 },
 "nbformat": 4,
 "nbformat_minor": 4
}
