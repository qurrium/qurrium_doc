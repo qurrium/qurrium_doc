{
 "cells": [
  {
   "cell_type": "markdown",
   "id": "166f3b67",
   "metadata": {},
   "source": [
    "# 1.4 EntropyMeasure - Classical Shadow\n",
    "## Basic Usage\n"
   ]
  },
  {
   "cell_type": "markdown",
   "id": "86beb579",
   "metadata": {},
   "source": [
    "### a. Import the instances"
   ]
  },
  {
   "cell_type": "code",
   "execution_count": 1,
   "id": "0fc71722",
   "metadata": {},
   "outputs": [
    {
     "name": "stderr",
     "output_type": "stream",
     "text": [
      "/home/nccu/Documents/.homejupyter/qurryplayground/qurrium_docs/lib/python3.12/site-packages/tqdm/auto.py:21: TqdmWarning: IProgress not found. Please update jupyter and ipywidgets. See https://ipywidgets.readthedocs.io/en/stable/user_install.html\n",
      "  from .autonotebook import tqdm as notebook_tqdm\n"
     ]
    }
   ],
   "source": [
    "from qurry import ShadowUnveil\n",
    "\n",
    "experiment_shadow = ShadowUnveil()"
   ]
  },
  {
   "cell_type": "markdown",
   "id": "d48d1d69",
   "metadata": {},
   "source": [
    "### b. Preparing quantum circuit"
   ]
  },
  {
   "cell_type": "code",
   "execution_count": 2,
   "id": "2e597e81",
   "metadata": {},
   "outputs": [],
   "source": [
    "from qiskit import QuantumCircuit\n",
    "from qurry.recipe import TrivialParamagnet, GHZ\n"
   ]
  },
  {
   "cell_type": "code",
   "execution_count": 3,
   "id": "9584bc4f",
   "metadata": {},
   "outputs": [
    {
     "name": "stdout",
     "output_type": "stream",
     "text": [
      "| trivial paramagnet in 8 qubits:\n",
      "     ┌───┐\n",
      "q_0: ┤ H ├\n",
      "     ├───┤\n",
      "q_1: ┤ H ├\n",
      "     ├───┤\n",
      "q_2: ┤ H ├\n",
      "     ├───┤\n",
      "q_3: ┤ H ├\n",
      "     ├───┤\n",
      "q_4: ┤ H ├\n",
      "     ├───┤\n",
      "q_5: ┤ H ├\n",
      "     ├───┤\n",
      "q_6: ┤ H ├\n",
      "     ├───┤\n",
      "q_7: ┤ H ├\n",
      "     └───┘\n"
     ]
    }
   ],
   "source": [
    "sample01 = TrivialParamagnet(8)\n",
    "print(\"| trivial paramagnet in 8 qubits:\")\n",
    "print(sample01)"
   ]
  },
  {
   "cell_type": "code",
   "execution_count": 4,
   "id": "ddd66f20",
   "metadata": {},
   "outputs": [
    {
     "name": "stdout",
     "output_type": "stream",
     "text": [
      "| GHZ in 8 qubits:\n",
      "     ┌───┐                                   \n",
      "q_0: ┤ H ├──■────────────────────────────────\n",
      "     └───┘┌─┴─┐                              \n",
      "q_1: ─────┤ X ├──■───────────────────────────\n",
      "          └───┘┌─┴─┐                         \n",
      "q_2: ──────────┤ X ├──■──────────────────────\n",
      "               └───┘┌─┴─┐                    \n",
      "q_3: ───────────────┤ X ├──■─────────────────\n",
      "                    └───┘┌─┴─┐               \n",
      "q_4: ────────────────────┤ X ├──■────────────\n",
      "                         └───┘┌─┴─┐          \n",
      "q_5: ─────────────────────────┤ X ├──■───────\n",
      "                              └───┘┌─┴─┐     \n",
      "q_6: ──────────────────────────────┤ X ├──■──\n",
      "                                   └───┘┌─┴─┐\n",
      "q_7: ───────────────────────────────────┤ X ├\n",
      "                                        └───┘\n"
     ]
    }
   ],
   "source": [
    "sample02 = GHZ(8)\n",
    "print(\"| GHZ in 8 qubits:\")\n",
    "print(sample02)"
   ]
  },
  {
   "cell_type": "code",
   "execution_count": 5,
   "id": "bf3a0988",
   "metadata": {},
   "outputs": [
    {
     "name": "stdout",
     "output_type": "stream",
     "text": [
      "| Custom circuit:\n",
      "     ┌───┐\n",
      "q_0: ┤ X ├\n",
      "     └───┘\n",
      "q_1: ─────\n",
      "     ┌───┐\n",
      "q_2: ┤ X ├\n",
      "     └───┘\n",
      "q_3: ─────\n",
      "     ┌───┐\n",
      "q_4: ┤ X ├\n",
      "     └───┘\n",
      "q_5: ─────\n",
      "     ┌───┐\n",
      "q_6: ┤ X ├\n",
      "     └───┘\n",
      "q_7: ─────\n",
      "          \n"
     ]
    }
   ],
   "source": [
    "sample03 = QuantumCircuit(8)\n",
    "sample03.x(range(0, 8, 2))\n",
    "print(\"| Custom circuit:\")\n",
    "print(sample03)"
   ]
  },
  {
   "cell_type": "markdown",
   "id": "25fc5d4c",
   "metadata": {},
   "source": [
    "### c. Execute the circuit"
   ]
  },
  {
   "cell_type": "markdown",
   "id": "6937e4ba",
   "metadata": {},
   "source": [
    "#### i. Directly input the circuit\n",
    "\n",
    "After executing, it will return a uuid of experiment. You can use this uuid to get the result of the experiment.\n"
   ]
  },
  {
   "cell_type": "code",
   "execution_count": 6,
   "id": "3135a9f2",
   "metadata": {},
   "outputs": [
    {
     "data": {
      "text/plain": [
       "'82c775a4-3f1b-4d65-9015-e158a80ec47d'"
      ]
     },
     "execution_count": 6,
     "metadata": {},
     "output_type": "execute_result"
    }
   ],
   "source": [
    "exp1 = experiment_shadow.measure(sample01, times=100, shots=4096)\n",
    "exp1"
   ]
  },
  {
   "cell_type": "markdown",
   "id": "4052ff26",
   "metadata": {},
   "source": [
    "Each experiment result will be stored in a container `.exps`."
   ]
  },
  {
   "cell_type": "code",
   "execution_count": 7,
   "id": "a01a6c9f",
   "metadata": {},
   "outputs": [
    {
     "data": {
      "text/plain": [
       "<ShadowUnveilExperiment(exp_id=82c775a4-3f1b-4d65-9015-e158a80ec47d, \n",
       "  ShadowUnveilArguments(exp_name='experiment.N_U_100.qurshady_entropy', times=100, qubits_measured=[0, 1, 2, 3, 4, 5, 6, 7], registers_mapping={0: 0, 1: 1, 2: 2, 3: 3, 4: 4, 5: 5, 6: 6, 7: 7}, actual_num_qubits=8, unitary_located=[0, 1, 2, 3, 4, 5, 6, 7], random_unitary_seeds=None),\n",
       "  Commonparams(exp_id='82c775a4-3f1b-4d65-9015-e158a80ec47d', target_keys=[0], shots=4096, backend=<BasicSimulator('basic_simulator')>, run_args={}, transpile_args={}, tags=(), default_analysis=[], save_location=PosixPath('.'), filename='', files={}, serial=None, summoner_id=None, summoner_name=None, datetimes=DatetimeDict({'build': '2025-05-22 14:38:43', 'run.001': '2025-05-22 14:38:43'})),\n",
       "  unused_args_num=0,\n",
       "  analysis_num=0))>"
      ]
     },
     "execution_count": 7,
     "metadata": {},
     "output_type": "execute_result"
    }
   ],
   "source": [
    "experiment_shadow.exps[exp1]"
   ]
  },
  {
   "cell_type": "code",
   "execution_count": 8,
   "id": "98b17ffb",
   "metadata": {},
   "outputs": [
    {
     "data": {
      "text/plain": [
       "<ShadowUnveilAnalysis(\n",
       "  serial=0,\n",
       "  AnalysisInput(num_qubits=8, selected_qubits=[0, 1, 2, 3], registers_mapping={0: 0, 1: 1, 2: 2, 3: 3, 4: 4, 5: 5, 6: 6, 7: 7}, bitstring_mapping={0: 0, 1: 1, 2: 2, 3: 3, 4: 4, 5: 5, 6: 6, 7: 7}, shots=4096, unitary_located=[0, 1, 2, 3, 4, 5, 6, 7]),\n",
       "  AnalysisContent(purity=0.7037589864297347, entropy=0.5068466555348661, and others)),\n",
       "  unused_args_num=1\n",
       "  )>"
      ]
     },
     "execution_count": 8,
     "metadata": {},
     "output_type": "execute_result"
    }
   ],
   "source": [
    "report01 = experiment_shadow.exps[exp1].analyze(\n",
    "    selected_qubits=[0, 1, 2, 3],\n",
    ")\n",
    "report01"
   ]
  },
  {
   "cell_type": "markdown",
   "id": "adbac124",
   "metadata": {},
   "source": [
    "The analysis result will be content following the structure of the experiment result. The analysis fields in the dictionary `main01`.\n",
    "\n",
    "```python\n",
    "expect_rho: np.ndarray[tuple[int, int], np.dtype[np.complex128]]\n",
    "\"\"\"The expectation value of Rho.\n",
    "Which is the esitmation of the density matrix on selected qubits, \n",
    "in other words, on selected susbsystem.\n",
    "\n",
    "It will be a 2D array with shape (2^n, 2^n), \n",
    "where n is the number of selected qubits.\n",
    "\"\"\"\n",
    "purity: float\n",
    "\"\"\"The purity calculated by classical shadow.\"\"\"\n",
    "entropy: float\n",
    "\"\"\"The entropy calculated by classical shadow.\"\"\"\n",
    "\n",
    "rho_m_dict: dict[int, np.ndarray[tuple[int, int], np.dtype[np.complex128]]]\n",
    "\"\"\"The dictionary of Rho M.\"\"\"\n",
    "classical_registers_actually: list[int]\n",
    "\"\"\"The list of the index of classical register respecting selected qubits.\"\"\"\n",
    "taking_time: float\n",
    "\"\"\"The time taken for the calculation.\"\"\"\n",
    "```"
   ]
  },
  {
   "cell_type": "code",
   "execution_count": 9,
   "id": "04e837c4",
   "metadata": {},
   "outputs": [
    {
     "name": "stdout",
     "output_type": "stream",
     "text": [
      "| purity: 0.7037589864297347\n",
      "| entropy: 0.5068466555348661\n",
      "| classical_registers_actually: [3, 2, 1, 0]\n",
      "| taking_time: 0.031913042068481445\n",
      "| input: {'num_qubits': 8, 'selected_qubits': [0, 1, 2, 3], 'registers_mapping': {0: 0, 1: 1, 2: 2, 3: 3, 4: 4, 5: 5, 6: 6, 7: 7}, 'bitstring_mapping': {0: 0, 1: 1, 2: 2, 3: 3, 4: 4, 5: 5, 6: 6, 7: 7}, 'shots': 4096, 'unitary_located': [0, 1, 2, 3, 4, 5, 6, 7]}\n",
      "| header: {'serial': 0, 'datetime': '2025-05-22 14:38:44', 'summoner': None, 'log': {}}\n",
      "| expect_rho:\n",
      "[[ 0.06056824+0.00000000e+00j  0.0528891 -7.68127441e-04j\n",
      "   0.07032806+6.50939941e-04j  0.04946045-5.05371094e-04j\n",
      "   0.07010834+2.14874268e-03j  0.03564789-1.38153076e-03j\n",
      "   0.07783539+2.38677979e-03j  0.03576874+1.22772217e-03j\n",
      "   0.049758  +7.63549805e-04j  0.04707642-9.58557129e-04j\n",
      "   0.06683807+9.33837891e-05j  0.04968567+1.52435303e-03j\n",
      "   0.05200928+6.39953613e-04j  0.00093933+3.37829590e-04j\n",
      "   0.08266937-4.44946289e-04j  0.00200226+7.91015625e-04j]\n",
      " [ 0.0528891 +7.68127441e-04j  0.06312622+0.00000000e+00j\n",
      "   0.05276184+1.18103027e-03j  0.06783417-2.20550537e-03j\n",
      "   0.03272552-5.19104004e-04j  0.06977325-8.56018066e-04j\n",
      "   0.03402191-1.21124268e-03j  0.07854401-1.53533936e-03j\n",
      "   0.0431543 +1.55181885e-03j  0.04844513-3.79028320e-04j\n",
      "   0.05149841+1.16180420e-03j  0.06878265-5.49316406e-06j\n",
      "  -0.00082397-2.88391113e-04j  0.04966919-1.56829834e-03j\n",
      "  -0.00185394+3.95507813e-04j  0.08573456-2.96630859e-04j]\n",
      " [ 0.07032806-6.50939941e-04j  0.05276184-1.18103027e-03j\n",
      "   0.06477966+0.00000000e+00j  0.05474579+4.34875488e-04j\n",
      "   0.07796722-2.16979980e-04j  0.03459869+1.39251709e-03j\n",
      "   0.06755951-1.13616943e-03j  0.03414825+2.50762939e-03j\n",
      "   0.0671402 -8.84399414e-04j  0.04866394-1.56555176e-04j\n",
      "   0.0470993 -2.13684082e-03j  0.04302246+2.41973877e-03j\n",
      "   0.08700348-2.07641602e-03j -0.00126068+3.01574707e-03j\n",
      "   0.05031189-1.68365479e-03j -0.00212585+2.88391113e-04j]\n",
      " [ 0.04946045+5.05371094e-04j  0.06783417+2.20550537e-03j\n",
      "   0.05474579-4.34875488e-04j  0.06046021+0.00000000e+00j\n",
      "   0.03021515-1.60675049e-03j  0.07778595+4.75158691e-04j\n",
      "   0.03369781+8.23974609e-06j  0.07009186+2.38494873e-03j\n",
      "   0.05186096+3.04870605e-04j  0.06664581-4.22973633e-04j\n",
      "   0.04720825-1.46392822e-03j  0.05020294+1.30187988e-03j\n",
      "   0.00111237+8.40454102e-04j  0.08265289+7.41577148e-04j\n",
      "   0.00135132-2.38952637e-04j  0.0505426 +1.05194092e-03j]\n",
      " [ 0.07010834-2.14874268e-03j  0.03272552+5.19104004e-04j\n",
      "   0.07796722+2.16979980e-04j  0.03021515+1.60675049e-03j\n",
      "   0.06267212+0.00000000e+00j  0.05426788+1.69281006e-03j\n",
      "   0.06716949-5.85021973e-04j  0.05168518+6.97631836e-04j\n",
      "   0.04871338+1.27166748e-03j  0.00148315+7.16857910e-04j\n",
      "   0.08260345+8.23974609e-04j  0.00190338+2.47192383e-03j\n",
      "   0.04701691+1.81274414e-04j  0.04633484+1.08489990e-03j\n",
      "   0.06881561-1.04370117e-04j  0.05294861-1.56555176e-04j]\n",
      " [ 0.03564789+1.38153076e-03j  0.06977325+8.56018066e-04j\n",
      "   0.03459869-1.39251709e-03j  0.07778595-4.75158691e-04j\n",
      "   0.05426788-1.69281006e-03j  0.06208801+0.00000000e+00j\n",
      "   0.05063599-2.69165039e-03j  0.07212433+1.63421631e-03j\n",
      "  -0.00159851+5.85021973e-04j  0.05237183-6.06994629e-04j\n",
      "  -0.0020517 +3.95507813e-04j  0.08823944+9.72290039e-04j\n",
      "   0.04343445-1.15081787e-03j  0.04923065-4.33959961e-04j\n",
      "   0.04902649-4.17755127e-03j  0.06749725-2.03247070e-04j]\n",
      " [ 0.07783539-2.38677979e-03j  0.03402191+1.21124268e-03j\n",
      "   0.06755951+1.13616943e-03j  0.03369781-8.23974609e-06j\n",
      "   0.06716949+5.85021973e-04j  0.05063599+2.69165039e-03j\n",
      "   0.06119263+0.00000000e+00j  0.05678375+6.87561035e-04j\n",
      "   0.08126862-1.69738770e-03j -0.00106293+3.46069336e-04j\n",
      "   0.05103699-2.20550537e-03j -0.00069214+7.66296387e-04j\n",
      "   0.06723907+5.98754883e-04j  0.05192688+1.91986084e-03j\n",
      "   0.05104889+1.23596191e-03j  0.04406067-2.82897949e-04j]\n",
      " [ 0.03576874-1.22772217e-03j  0.07854401+1.53533936e-03j\n",
      "   0.03414825-2.50762939e-03j  0.07009186-2.38494873e-03j\n",
      "   0.05168518-6.97631836e-04j  0.07212433-1.63421631e-03j\n",
      "   0.05678375-6.87561035e-04j  0.06645325+0.00000000e+00j\n",
      "   0.00121124-1.48315430e-04j  0.08482819+1.12060547e-03j\n",
      "   0.00146667+5.35583496e-04j  0.05034485+2.24395752e-03j\n",
      "   0.04938904+1.29364014e-03j  0.06704132+1.06018066e-03j\n",
      "   0.04570862+5.79528809e-04j  0.04719818+2.58178711e-04j]\n",
      " [ 0.049758  -7.63549805e-04j  0.0431543 -1.55181885e-03j\n",
      "   0.0671402 +8.84399414e-04j  0.05186096-3.04870605e-04j\n",
      "   0.04871338-1.27166748e-03j -0.00159851-5.85021973e-04j\n",
      "   0.08126862+1.69738770e-03j  0.00121124+1.48315430e-04j\n",
      "   0.06634705+0.00000000e+00j  0.0555423 -4.00085449e-04j\n",
      "   0.06835602+9.20104980e-04j  0.05213013-1.13159180e-03j\n",
      "   0.06826263-2.86102295e-03j  0.03205536+3.32336426e-04j\n",
      "   0.0775882 +4.25720215e-04j  0.03255524-3.04870605e-04j]\n",
      " [ 0.04707642+9.58557129e-04j  0.04844513+3.79028320e-04j\n",
      "   0.04866394+1.56555176e-04j  0.06664581+4.22973633e-04j\n",
      "   0.00148315-7.16857910e-04j  0.05237183+6.06994629e-04j\n",
      "  -0.00106293-3.46069336e-04j  0.08482819-1.12060547e-03j\n",
      "   0.0555423 +4.00085449e-04j  0.06164307+0.00000000e+00j\n",
      "   0.04963074-3.84521484e-05j  0.07360748+8.23974609e-06j\n",
      "   0.03440643-1.07940674e-03j  0.06875153+4.95300293e-04j\n",
      "   0.03614777+2.39776611e-03j  0.08116425+6.56433105e-04j]\n",
      " [ 0.06683807-9.33837891e-05j  0.05149841-1.16180420e-03j\n",
      "   0.0470993 +2.13684082e-03j  0.04720825+1.46392822e-03j\n",
      "   0.08260345-8.23974609e-04j -0.0020517 -3.95507813e-04j\n",
      "   0.05103699+2.20550537e-03j  0.00146667-5.35583496e-04j\n",
      "   0.06835602-9.20104980e-04j  0.04963074+3.84521484e-05j\n",
      "   0.05916565+0.00000000e+00j  0.05420197+5.06286621e-04j\n",
      "   0.07821442-1.32110596e-03j  0.03267059-4.11987305e-05j\n",
      "   0.07032806+2.02789307e-03j  0.03421417-2.50213623e-03j]\n",
      " [ 0.04968567-1.52435303e-03j  0.06878265+5.49316406e-06j\n",
      "   0.04302246-2.41973877e-03j  0.05020294-1.30187988e-03j\n",
      "   0.00190338-2.47192383e-03j  0.08823944-9.72290039e-04j\n",
      "  -0.00069214-7.66296387e-04j  0.05034485-2.24395752e-03j\n",
      "   0.05213013+1.13159180e-03j  0.07360748-8.23974609e-06j\n",
      "   0.05420197-5.06286621e-04j  0.06525024+0.00000000e+00j\n",
      "   0.03402191+2.10113525e-03j  0.08090057+1.74407959e-03j\n",
      "   0.03310455+1.42547607e-03j  0.07012482-1.33941650e-03j]\n",
      " [ 0.05200928-6.39953613e-04j -0.00082397+2.88391113e-04j\n",
      "   0.08700348+2.07641602e-03j  0.00111237-8.40454102e-04j\n",
      "   0.04701691-1.81274414e-04j  0.04343445+1.15081787e-03j\n",
      "   0.06723907-5.98754883e-04j  0.04938904-1.29364014e-03j\n",
      "   0.06826263+2.86102295e-03j  0.03440643+1.07940674e-03j\n",
      "   0.07821442+1.32110596e-03j  0.03402191-2.10113525e-03j\n",
      "   0.05961792+0.00000000e+00j  0.05402069-2.13317871e-04j\n",
      "   0.06846039-2.16979980e-04j  0.04763123-8.18481445e-04j]\n",
      " [ 0.00093933-3.37829590e-04j  0.04966919+1.56829834e-03j\n",
      "  -0.00126068-3.01574707e-03j  0.08265289-7.41577148e-04j\n",
      "   0.04633484-1.08489990e-03j  0.04923065+4.33959961e-04j\n",
      "   0.05192688-1.91986084e-03j  0.06704132-1.06018066e-03j\n",
      "   0.03205536-3.32336426e-04j  0.06875153-4.95300293e-04j\n",
      "   0.03267059+4.11987305e-05j  0.08090057-1.74407959e-03j\n",
      "   0.05402069+2.13317871e-04j  0.06245056+0.00000000e+00j\n",
      "   0.05106445+3.40576172e-04j  0.06712006-4.03747559e-04j]\n",
      " [ 0.08266937+4.44946289e-04j -0.00185394-3.95507813e-04j\n",
      "   0.05031189+1.68365479e-03j  0.00135132+2.38952637e-04j\n",
      "   0.06881561+1.04370117e-04j  0.04902649+4.17755127e-03j\n",
      "   0.05104889-1.23596191e-03j  0.04570862-5.79528809e-04j\n",
      "   0.0775882 -4.25720215e-04j  0.03614777-2.39776611e-03j\n",
      "   0.07032806-2.02789307e-03j  0.03310455-1.42547607e-03j\n",
      "   0.06846039+2.16979980e-04j  0.05106445-3.40576172e-04j\n",
      "   0.0643457 +0.00000000e+00j  0.05254852-1.71295166e-03j]\n",
      " [ 0.00200226-7.91015625e-04j  0.08573456+2.96630859e-04j\n",
      "  -0.00212585-2.88391113e-04j  0.0505426 -1.05194092e-03j\n",
      "   0.05294861+1.56555176e-04j  0.06749725+2.03247070e-04j\n",
      "   0.04406067+2.82897949e-04j  0.04719818-2.58178711e-04j\n",
      "   0.03255524+3.04870605e-04j  0.08116425-6.56433105e-04j\n",
      "   0.03421417+2.50213623e-03j  0.07012482+1.33941650e-03j\n",
      "   0.04763123+8.18481445e-04j  0.06712006+4.03747559e-04j\n",
      "   0.05254852+1.71295166e-03j  0.05983948+0.00000000e+00j]]\n"
     ]
    }
   ],
   "source": [
    "main01, side_product01 = report01.export(jsonable=False)\n",
    "# you need to set jsonable=False to get the raw data\n",
    "# Otherwise, the data will be converted to JSON format,\n",
    "# which 'expect_rho' will be a string instead of a numpy array\n",
    "\n",
    "for k, v in main01.items():\n",
    "    if k == \"expect_rho\":\n",
    "        continue\n",
    "    print(f\"| {k}: {v}\")\n",
    "print(\"| expect_rho:\")\n",
    "print(main01[\"expect_rho\"])"
   ]
  },
  {
   "cell_type": "markdown",
   "id": "80f78a90",
   "metadata": {},
   "source": [
    "#### ii. Add the circuits to container `.waves`, then call them later.\n",
    "\n",
    "Since we have executed an experiment, the circuit we input in `exp1` is stored in the container `.waves` with serial number `0`."
   ]
  },
  {
   "cell_type": "code",
   "execution_count": 10,
   "id": "e7e4b5fd",
   "metadata": {},
   "outputs": [
    {
     "data": {
      "text/plain": [
       "WaveContainer({\n",
       "  0: <qurry.recipe.simple.paramagnet.TrivialParamagnet object at 0x7ce7b675fd40>})"
      ]
     },
     "execution_count": 10,
     "metadata": {},
     "output_type": "execute_result"
    }
   ],
   "source": [
    "experiment_shadow.waves"
   ]
  },
  {
   "cell_type": "markdown",
   "id": "c5dc7dc7",
   "metadata": {},
   "source": [
    "But we can also add the circuit to the container `.waves` with a custom name.\n",
    "The name should be unique, otherwise it will be overwritten.\n",
    "The method `add` will return the actual name of the circuit in the container."
   ]
  },
  {
   "cell_type": "code",
   "execution_count": 11,
   "id": "50325122",
   "metadata": {},
   "outputs": [
    {
     "name": "stdout",
     "output_type": "stream",
     "text": [
      "ghz_8\n",
      "     ┌───┐                                   \n",
      "q_0: ┤ H ├──■────────────────────────────────\n",
      "     └───┘┌─┴─┐                              \n",
      "q_1: ─────┤ X ├──■───────────────────────────\n",
      "          └───┘┌─┴─┐                         \n",
      "q_2: ──────────┤ X ├──■──────────────────────\n",
      "               └───┘┌─┴─┐                    \n",
      "q_3: ───────────────┤ X ├──■─────────────────\n",
      "                    └───┘┌─┴─┐               \n",
      "q_4: ────────────────────┤ X ├──■────────────\n",
      "                         └───┘┌─┴─┐          \n",
      "q_5: ─────────────────────────┤ X ├──■───────\n",
      "                              └───┘┌─┴─┐     \n",
      "q_6: ──────────────────────────────┤ X ├──■──\n",
      "                                   └───┘┌─┴─┐\n",
      "q_7: ───────────────────────────────────┤ X ├\n",
      "                                        └───┘\n"
     ]
    }
   ],
   "source": [
    "print(experiment_shadow.add(sample02, \"ghz_8\"))\n",
    "print(experiment_shadow.waves['ghz_8'])"
   ]
  },
  {
   "cell_type": "markdown",
   "id": "d426d0bf",
   "metadata": {},
   "source": [
    "If there is a circuit with the same name, it will be replaced by the new one."
   ]
  },
  {
   "cell_type": "code",
   "execution_count": 12,
   "id": "62f0b726",
   "metadata": {},
   "outputs": [
    {
     "name": "stdout",
     "output_type": "stream",
     "text": [
      "ghz_8\n",
      "     ┌───┐\n",
      "q_0: ┤ X ├\n",
      "     └───┘\n",
      "q_1: ─────\n",
      "     ┌───┐\n",
      "q_2: ┤ X ├\n",
      "     └───┘\n",
      "q_3: ─────\n",
      "     ┌───┐\n",
      "q_4: ┤ X ├\n",
      "     └───┘\n",
      "q_5: ─────\n",
      "     ┌───┐\n",
      "q_6: ┤ X ├\n",
      "     └───┘\n",
      "q_7: ─────\n",
      "          \n"
     ]
    }
   ],
   "source": [
    "print(experiment_shadow.add(sample03, \"ghz_8\"))\n",
    "print(experiment_shadow.waves['ghz_8'])"
   ]
  },
  {
   "cell_type": "markdown",
   "id": "7b79fe25",
   "metadata": {},
   "source": [
    "Otherwise, you will need to use `replace=\"duplicate\"` to prevent it from being replaced."
   ]
  },
  {
   "cell_type": "code",
   "execution_count": 13,
   "id": "a1d8b6ae",
   "metadata": {},
   "outputs": [
    {
     "name": "stdout",
     "output_type": "stream",
     "text": [
      "ghz_8.2\n",
      "     ┌───┐                                   \n",
      "q_0: ┤ H ├──■────────────────────────────────\n",
      "     └───┘┌─┴─┐                              \n",
      "q_1: ─────┤ X ├──■───────────────────────────\n",
      "          └───┘┌─┴─┐                         \n",
      "q_2: ──────────┤ X ├──■──────────────────────\n",
      "               └───┘┌─┴─┐                    \n",
      "q_3: ───────────────┤ X ├──■─────────────────\n",
      "                    └───┘┌─┴─┐               \n",
      "q_4: ────────────────────┤ X ├──■────────────\n",
      "                         └───┘┌─┴─┐          \n",
      "q_5: ─────────────────────────┤ X ├──■───────\n",
      "                              └───┘┌─┴─┐     \n",
      "q_6: ──────────────────────────────┤ X ├──■──\n",
      "                                   └───┘┌─┴─┐\n",
      "q_7: ───────────────────────────────────┤ X ├\n",
      "                                        └───┘\n"
     ]
    }
   ],
   "source": [
    "duplicated_case01 = experiment_shadow.add(sample02, \"ghz_8\", replace=\"duplicate\")\n",
    "print(duplicated_case01)\n",
    "print(experiment_shadow.waves[duplicated_case01])\n"
   ]
  },
  {
   "cell_type": "markdown",
   "id": "f38b4679",
   "metadata": {},
   "source": [
    "Now we have prepared the circuit and stored it in the container `.waves`."
   ]
  },
  {
   "cell_type": "code",
   "execution_count": 14,
   "id": "2a6e1e85",
   "metadata": {},
   "outputs": [
    {
     "data": {
      "text/plain": [
       "WaveContainer({\n",
       "  0: <qurry.recipe.simple.paramagnet.TrivialParamagnet object at 0x7ce7b675fd40>,\n",
       "  'ghz_8': <qiskit.circuit.quantumcircuit.QuantumCircuit object at 0x7ce7e1400f50>,\n",
       "  'ghz_8.2': <qurry.recipe.simple.cat.GHZ object at 0x7ce7b459d520>})"
      ]
     },
     "execution_count": 14,
     "metadata": {},
     "output_type": "execute_result"
    }
   ],
   "source": [
    "experiment_shadow.waves"
   ]
  },
  {
   "cell_type": "markdown",
   "id": "66a312be",
   "metadata": {},
   "source": [
    "Finally, we can execute the circuit and get the result."
   ]
  },
  {
   "cell_type": "code",
   "execution_count": 15,
   "id": "2d32257f",
   "metadata": {},
   "outputs": [
    {
     "data": {
      "text/plain": [
       "'70ce08b8-696d-4ce2-bc24-796213f51bf2'"
      ]
     },
     "execution_count": 15,
     "metadata": {},
     "output_type": "execute_result"
    }
   ],
   "source": [
    "exp2 = experiment_shadow.measure('ghz_8.2', times=100, shots=4096)\n",
    "exp2"
   ]
  },
  {
   "cell_type": "code",
   "execution_count": 16,
   "id": "3490266c",
   "metadata": {},
   "outputs": [
    {
     "data": {
      "text/plain": [
       "<ShadowUnveilExperiment(exp_id=70ce08b8-696d-4ce2-bc24-796213f51bf2, \n",
       "  ShadowUnveilArguments(exp_name='experiment.N_U_100.qurshady_entropy', times=100, qubits_measured=[0, 1, 2, 3, 4, 5, 6, 7], registers_mapping={0: 0, 1: 1, 2: 2, 3: 3, 4: 4, 5: 5, 6: 6, 7: 7}, actual_num_qubits=8, unitary_located=[0, 1, 2, 3, 4, 5, 6, 7], random_unitary_seeds=None),\n",
       "  Commonparams(exp_id='70ce08b8-696d-4ce2-bc24-796213f51bf2', target_keys=['ghz_8.2'], shots=4096, backend=<BasicSimulator('basic_simulator')>, run_args={}, transpile_args={}, tags=(), default_analysis=[], save_location=PosixPath('.'), filename='', files={}, serial=None, summoner_id=None, summoner_name=None, datetimes=DatetimeDict({'build': '2025-05-22 14:38:55', 'run.001': '2025-05-22 14:38:55'})),\n",
       "  unused_args_num=0,\n",
       "  analysis_num=0))>"
      ]
     },
     "execution_count": 16,
     "metadata": {},
     "output_type": "execute_result"
    }
   ],
   "source": [
    "experiment_shadow.exps[exp2]"
   ]
  },
  {
   "cell_type": "code",
   "execution_count": 17,
   "id": "3eec833e",
   "metadata": {},
   "outputs": [
    {
     "data": {
      "text/plain": [
       "<ShadowUnveilAnalysis(\n",
       "  serial=0,\n",
       "  AnalysisInput(num_qubits=8, selected_qubits=[0, 1, 2, 3], registers_mapping={0: 0, 1: 1, 2: 2, 3: 3, 4: 4, 5: 5, 6: 6, 7: 7}, bitstring_mapping={0: 0, 1: 1, 2: 2, 3: 3, 4: 4, 5: 5, 6: 6, 7: 7}, shots=4096, unitary_located=[0, 1, 2, 3, 4, 5, 6, 7]),\n",
       "  AnalysisContent(purity=0.6760857793688774, entropy=0.5647217927304102, and others)),\n",
       "  unused_args_num=1\n",
       "  )>"
      ]
     },
     "execution_count": 17,
     "metadata": {},
     "output_type": "execute_result"
    }
   ],
   "source": [
    "report02 = experiment_shadow.exps[exp2].analyze(\n",
    "    selected_qubits=[0, 1, 2, 3],\n",
    ")\n",
    "report02"
   ]
  },
  {
   "cell_type": "code",
   "execution_count": 18,
   "id": "8af56cc4",
   "metadata": {},
   "outputs": [
    {
     "name": "stdout",
     "output_type": "stream",
     "text": [
      "| purity: 0.6760857793688774\n",
      "| entropy: 0.5647217927304102\n",
      "| classical_registers_actually: [3, 2, 1, 0]\n",
      "| taking_time: 0.05100250244140625\n",
      "| input: {'num_qubits': 8, 'selected_qubits': [0, 1, 2, 3], 'registers_mapping': {0: 0, 1: 1, 2: 2, 3: 3, 4: 4, 5: 5, 6: 6, 7: 7}, 'bitstring_mapping': {0: 0, 1: 1, 2: 2, 3: 3, 4: 4, 5: 5, 6: 6, 7: 7}, 'shots': 4096, 'unitary_located': [0, 1, 2, 3, 4, 5, 6, 7]}\n",
      "| header: {'serial': 0, 'datetime': '2025-05-22 14:38:56', 'summoner': None, 'log': {}}\n",
      "| expect_rho:\n",
      "[[ 5.86128540e-01+0.00000000e+00j  8.60595703e-05+2.76489258e-04j\n",
      "  -2.03979492e-03-2.28607178e-03j  7.38830566e-04-6.04248047e-04j\n",
      "  -2.86376953e-03+1.44195557e-03j -1.18652344e-03-8.04748535e-04j\n",
      "  -1.38427734e-03-5.16357422e-04j  8.48693848e-04+1.54083252e-03j\n",
      "  -7.72705078e-04+6.28051758e-04j -3.58978271e-03+1.71661377e-03j\n",
      "  -1.21398926e-03-8.23974609e-06j -1.82922363e-03+4.34234619e-03j\n",
      "  -1.32110596e-03-8.56933594e-04j -1.21948242e-03-4.53186035e-04j\n",
      "   5.02624512e-04-1.50787354e-03j -1.50787354e-03-4.12811279e-03j]\n",
      " [ 8.60595703e-05-2.76489258e-04j -1.68786011e-01+0.00000000e+00j\n",
      "  -2.00225830e-03+2.21374512e-03j  2.08557129e-03+1.80633545e-03j\n",
      "   8.34960937e-04+8.23974609e-06j  1.29455566e-03-4.25720215e-04j\n",
      "   6.67419434e-04+1.73034668e-04j  1.64794922e-04+1.47766113e-03j\n",
      "  -4.80651855e-04-1.12335205e-03j  5.56640625e-04-1.41540527e-03j\n",
      "  -1.53259277e-03-1.83746338e-03j  3.35083008e-04-1.98577881e-03j\n",
      "   2.22473145e-03+3.96331787e-03j  2.69989014e-03+1.15356445e-04j\n",
      "   3.21350098e-04-6.30340576e-03j -2.56256104e-03+9.14611816e-04j]\n",
      " [-2.03979492e-03+2.28607178e-03j -2.00225830e-03-2.21374512e-03j\n",
      "  -7.83282471e-02+0.00000000e+00j -2.10571289e-04-1.17919922e-03j\n",
      "  -6.48193359e-04-3.29589844e-05j -9.80529785e-04-1.75506592e-03j\n",
      "   1.87133789e-03-6.31713867e-05j  3.95507812e-04+5.30090332e-04j\n",
      "   5.03173828e-03-1.43096924e-03j -1.59851074e-03-5.52062988e-04j\n",
      "   1.99584961e-04-4.70581055e-04j  1.04095459e-03-9.69543457e-04j\n",
      "  -3.41949463e-03-1.75506592e-03j  2.47192383e-05+5.90789795e-03j\n",
      "   1.62872314e-03-1.64794922e-04j  2.38952637e-03+2.88391113e-04j]\n",
      " [ 7.38830566e-04+6.04248047e-04j  2.08557129e-03-1.80633545e-03j\n",
      "  -2.10571289e-04+1.17919922e-03j  6.77789307e-02+0.00000000e+00j\n",
      "  -5.68542480e-04-3.54309082e-04j  9.00878906e-04+7.08618164e-04j\n",
      "   5.05371094e-04-1.02996826e-03j  6.90307617e-04-7.11364746e-04j\n",
      "  -8.40454102e-04-2.54608154e-03j -2.97729492e-03+8.43200684e-04j\n",
      "   6.89392090e-04+9.69543457e-04j -3.16772461e-04+5.51147461e-04j\n",
      "   1.16180420e-03-1.90338135e-03j  2.21649170e-03+6.67419434e-04j\n",
      "  -2.76855469e-03-3.60076904e-03j -2.35931396e-03+6.09741211e-04j]\n",
      " [-2.86376953e-03-1.44195557e-03j  8.34960937e-04-8.23974609e-06j\n",
      "  -6.48193359e-04+3.29589844e-05j -5.68542480e-04+3.54309082e-04j\n",
      "  -1.01608276e-01+0.00000000e+00j -1.83105469e-06-2.34375000e-04j\n",
      "   1.44836426e-03+2.62756348e-04j  8.37707520e-04+9.77783203e-04j\n",
      "   1.12884521e-03+3.51562500e-04j -4.11987305e-04-7.99255371e-04j\n",
      "   2.61199951e-03-1.35955811e-03j  3.21350098e-04+1.50787354e-03j\n",
      "  -7.34252930e-04-1.19018555e-04j -8.54187012e-04-1.90887451e-03j\n",
      "   1.86767578e-03-8.15734863e-04j  6.92138672e-04-3.76556396e-03j]\n",
      " [-1.18652344e-03+8.04748535e-04j  1.29455566e-03+4.25720215e-04j\n",
      "  -9.80529785e-04+1.75506592e-03j  9.00878906e-04-7.08618164e-04j\n",
      "  -1.83105469e-06+2.34375000e-04j  9.17730713e-02+0.00000000e+00j\n",
      "   1.07116699e-04+7.14111328e-05j -3.16040039e-03+1.25701904e-03j\n",
      "   2.10937500e-03+2.10113525e-03j -1.93634033e-03+7.63549805e-04j\n",
      "  -1.50787354e-03+1.23596191e-04j -3.22174072e-03-1.80450439e-03j\n",
      "   3.47442627e-03+1.08489990e-03j  1.08947754e-03-9.42993164e-04j\n",
      "   6.92138672e-04+2.71087646e-03j  7.47070313e-04+1.95281982e-03j]\n",
      " [-1.38427734e-03+5.16357422e-04j  6.67419434e-04-1.73034668e-04j\n",
      "   1.87133789e-03+6.31713867e-05j  5.05371094e-04+1.02996826e-03j\n",
      "   1.44836426e-03-2.62756348e-04j  1.07116699e-04-7.14111328e-05j\n",
      "   1.12753296e-01+0.00000000e+00j  7.23266602e-04+1.93542480e-03j\n",
      "  -2.49664307e-03-9.47570801e-04j  1.16180420e-03+1.65618896e-03j\n",
      "  -3.70788574e-04-1.13159180e-03j  8.23974609e-04+5.87493896e-03j\n",
      "   9.94262695e-04+4.31213379e-04j  2.30712891e-03-2.43072510e-03j\n",
      "  -9.48486328e-04-1.15173340e-03j  4.36981201e-03+5.21850586e-05j]\n",
      " [ 8.48693848e-04-1.54083252e-03j  1.64794922e-04-1.47766113e-03j\n",
      "   3.95507812e-04-5.30090332e-04j  6.90307617e-04+7.11364746e-04j\n",
      "   8.37707520e-04-9.77783203e-04j -3.16040039e-03-1.25701904e-03j\n",
      "   7.23266602e-04-1.93542480e-03j -9.88708496e-03+0.00000000e+00j\n",
      "   2.47192383e-05-7.53936768e-03j  3.70788574e-04-1.39251709e-03j\n",
      "  -5.10864258e-04-1.23596191e-04j  6.17980957e-04-9.17358398e-04j\n",
      "   2.76855469e-03+4.27642822e-03j  7.96508789e-04-2.04071045e-03j\n",
      "  -3.85894775e-03-1.46942139e-03j -3.77197266e-04+2.27600098e-03j]\n",
      " [-7.72705078e-04-6.28051758e-04j -4.80651855e-04+1.12335205e-03j\n",
      "   5.03173828e-03+1.43096924e-03j -8.40454102e-04+2.54608154e-03j\n",
      "   1.12884521e-03-3.51562500e-04j  2.10937500e-03-2.10113525e-03j\n",
      "  -2.49664307e-03+9.47570801e-04j  2.47192383e-05+7.53936768e-03j\n",
      "  -1.13629150e-02+0.00000000e+00j -2.76489258e-04+1.40258789e-03j\n",
      "  -1.61132813e-04+3.39660645e-04j  2.77404785e-04+9.61303711e-04j\n",
      "   2.34375000e-04+6.86645508e-05j -9.88769531e-05-1.24969482e-03j\n",
      "   9.02056208e-19-1.20849609e-04j -4.11987305e-05+1.07116699e-04j]\n",
      " [-3.58978271e-03-1.71661377e-03j  5.56640625e-04+1.41540527e-03j\n",
      "  -1.59851074e-03+5.52062988e-04j -2.97729492e-03-8.43200684e-04j\n",
      "  -4.11987305e-04+7.99255371e-04j -1.93634033e-03-7.63549805e-04j\n",
      "   1.16180420e-03-1.65618896e-03j  3.70788574e-04+1.39251709e-03j\n",
      "  -2.76489258e-04-1.40258789e-03j  1.13496704e-01+0.00000000e+00j\n",
      "  -3.21350098e-04-2.41699219e-04j  2.72827148e-04-9.07287598e-04j\n",
      "   4.06494141e-04-4.36706543e-04j -3.20434570e-04+7.96508789e-05j\n",
      "  -2.22473145e-04+1.50787354e-03j -4.28466797e-04-7.96508789e-04j]\n",
      " [-1.21398926e-03+8.23974609e-06j -1.53259277e-03+1.83746338e-03j\n",
      "   1.99584961e-04+4.70581055e-04j  6.89392090e-04-9.69543457e-04j\n",
      "   2.61199951e-03+1.35955811e-03j -1.50787354e-03-1.23596191e-04j\n",
      "  -3.70788574e-04+1.13159180e-03j -5.10864258e-04+1.23596191e-04j\n",
      "  -1.61132813e-04-3.39660645e-04j -3.21350098e-04+2.41699219e-04j\n",
      "   8.94769287e-02+0.00000000e+00j -5.73120117e-04-5.31005859e-05j\n",
      "  -8.12988281e-04-1.68090820e-03j -3.87268066e-04-2.22473145e-04j\n",
      "   4.21142578e-04+4.42199707e-04j  1.48315430e-03+8.51440430e-05j]\n",
      " [-1.82922363e-03-4.34234619e-03j  3.35083008e-04+1.98577881e-03j\n",
      "   1.04095459e-03+9.69543457e-04j -3.16772461e-04-5.51147461e-04j\n",
      "   3.21350098e-04-1.50787354e-03j -3.22174072e-03+1.80450439e-03j\n",
      "   8.23974609e-04-5.87493896e-03j  6.17980957e-04+9.17358398e-04j\n",
      "   2.77404785e-04-9.61303711e-04j  2.72827148e-04+9.07287598e-04j\n",
      "  -5.73120117e-04+5.31005859e-05j -9.96417236e-02+0.00000000e+00j\n",
      "   2.47192383e-05-1.59027100e-03j -1.24145508e-03+1.73034668e-03j\n",
      "   7.69042969e-05-1.47491455e-03j -9.24682617e-04-1.09588623e-03j]\n",
      " [-1.32110596e-03+8.56933594e-04j  2.22473145e-03-3.96331787e-03j\n",
      "  -3.41949463e-03+1.75506592e-03j  1.16180420e-03+1.90338135e-03j\n",
      "  -7.34252930e-04+1.19018555e-04j  3.47442627e-03-1.08489990e-03j\n",
      "   9.94262695e-04-4.31213379e-04j  2.76855469e-03-4.27642822e-03j\n",
      "   2.34375000e-04-6.86645508e-05j  4.06494141e-04+4.36706543e-04j\n",
      "  -8.12988281e-04+1.68090820e-03j  2.47192383e-05+1.59027100e-03j\n",
      "   6.84710693e-02+0.00000000e+00j -3.64379883e-04-1.08581543e-03j\n",
      "   5.91430664e-04+5.15441895e-04j -2.16979980e-04+4.66918945e-04j]\n",
      " [-1.21948242e-03+4.53186035e-04j  2.69989014e-03-1.15356445e-04j\n",
      "   2.47192383e-05-5.90789795e-03j  2.21649170e-03-6.67419434e-04j\n",
      "  -8.54187012e-04+1.90887451e-03j  1.08947754e-03+9.42993164e-04j\n",
      "   2.30712891e-03+2.43072510e-03j  7.96508789e-04+2.04071045e-03j\n",
      "  -9.88769531e-05+1.24969482e-03j -3.20434570e-04-7.96508789e-05j\n",
      "  -3.87268066e-04+2.22473145e-04j -1.24145508e-03-1.73034668e-03j\n",
      "  -3.64379883e-04+1.08581543e-03j -7.79217529e-02+0.00000000e+00j\n",
      "   2.38128662e-03-3.07617188e-04j -7.87353516e-04-7.23266602e-05j]\n",
      " [ 5.02624512e-04+1.50787354e-03j  3.21350098e-04+6.30340576e-03j\n",
      "   1.62872314e-03+1.64794922e-04j -2.76855469e-03+3.60076904e-03j\n",
      "   1.86767578e-03+8.15734863e-04j  6.92138672e-04-2.71087646e-03j\n",
      "  -9.48486328e-04+1.15173340e-03j -3.85894775e-03+1.46942139e-03j\n",
      "   9.02056208e-19+1.20849609e-04j -2.22473145e-04-1.50787354e-03j\n",
      "   4.21142578e-04-4.42199707e-04j  7.69042969e-05+1.47491455e-03j\n",
      "   5.91430664e-04-5.15441895e-04j  2.38128662e-03+3.07617188e-04j\n",
      "  -1.67463989e-01+0.00000000e+00j  3.60717773e-04+1.08398437e-03j]\n",
      " [-1.50787354e-03+4.12811279e-03j -2.56256104e-03-9.14611816e-04j\n",
      "   2.38952637e-03-2.88391113e-04j -2.35931396e-03-6.09741211e-04j\n",
      "   6.92138672e-04+3.76556396e-03j  7.47070313e-04-1.95281982e-03j\n",
      "   4.36981201e-03-5.21850586e-05j -3.77197266e-04-2.27600098e-03j\n",
      "  -4.11987305e-05-1.07116699e-04j -4.28466797e-04+7.96508789e-04j\n",
      "   1.48315430e-03-8.51440430e-05j -9.24682617e-04+1.09588623e-03j\n",
      "  -2.16979980e-04-4.66918945e-04j -7.87353516e-04+7.23266602e-05j\n",
      "   3.60717773e-04-1.08398437e-03j  5.85121460e-01+0.00000000e+00j]]\n"
     ]
    }
   ],
   "source": [
    "main02, side_product02 = report02.export(jsonable=False)\n",
    "# you need to set jsonable=False to get the raw data\n",
    "# Otherwise, the data will be converted to JSON format,\n",
    "# which 'expect_rho' will be a string instead of a numpy array\n",
    "\n",
    "for k, v in main02.items():\n",
    "    if k == \"expect_rho\":\n",
    "        continue\n",
    "    print(f\"| {k}: {v}\")\n",
    "print(\"| expect_rho:\")\n",
    "print(main02[\"expect_rho\"])"
   ]
  },
  {
   "cell_type": "markdown",
   "id": "7da71740",
   "metadata": {},
   "source": [
    "### d. Export them after all"
   ]
  },
  {
   "cell_type": "code",
   "execution_count": 19,
   "id": "1c5b0ab5",
   "metadata": {},
   "outputs": [
    {
     "data": {
      "text/plain": [
       "{'folder': 'experiment.N_U_100.qurshady_entropy.001',\n",
       " 'qurryinfo': 'experiment.N_U_100.qurshady_entropy.001/qurryinfo.json',\n",
       " 'args': 'experiment.N_U_100.qurshady_entropy.001/args/experiment.N_U_100.qurshady_entropy.001.id=82c775a4-3f1b-4d65-9015-e158a80ec47d.args.json',\n",
       " 'advent': 'experiment.N_U_100.qurshady_entropy.001/advent/experiment.N_U_100.qurshady_entropy.001.id=82c775a4-3f1b-4d65-9015-e158a80ec47d.advent.json',\n",
       " 'legacy': 'experiment.N_U_100.qurshady_entropy.001/legacy/experiment.N_U_100.qurshady_entropy.001.id=82c775a4-3f1b-4d65-9015-e158a80ec47d.legacy.json',\n",
       " 'tales.random_unitary_ids': 'experiment.N_U_100.qurshady_entropy.001/tales/experiment.N_U_100.qurshady_entropy.001.id=82c775a4-3f1b-4d65-9015-e158a80ec47d.random_unitary_ids.json',\n",
       " 'reports': 'experiment.N_U_100.qurshady_entropy.001/reports/experiment.N_U_100.qurshady_entropy.001.id=82c775a4-3f1b-4d65-9015-e158a80ec47d.reports.json',\n",
       " 'reports.tales.rho_m_dict': 'experiment.N_U_100.qurshady_entropy.001/tales/experiment.N_U_100.qurshady_entropy.001.id=82c775a4-3f1b-4d65-9015-e158a80ec47d.rho_m_dict.reports.json'}"
      ]
     },
     "execution_count": 19,
     "metadata": {},
     "output_type": "execute_result"
    }
   ],
   "source": [
    "exp1_id, exp1_files_info = experiment_shadow.exps[exp1].write(\n",
    "    save_location=\".\",  # where to save files\n",
    ")\n",
    "exp1_files_info"
   ]
  },
  {
   "cell_type": "markdown",
   "id": "5ce8d9c7",
   "metadata": {},
   "source": [
    "---\n",
    "\n",
    "### Post-Process Availablities and Version Info"
   ]
  },
  {
   "cell_type": "code",
   "execution_count": 20,
   "id": "d4cca3b9",
   "metadata": {},
   "outputs": [
    {
     "data": {
      "text/plain": [
       " | Qurry version: 0.12.2.dev2\n",
       "---------------------------------------------------------------------------\n",
       " ### Qurry Post-Processing\n",
       "   - Backend Availability ................... Python Cython Rust   JAX   \n",
       " - randomized_measure\n",
       "   - entangled_entropy.entropy_core_2 ....... Yes    Depr.  Yes    No    \n",
       "   - entangle_entropy.purity_cell_2 ......... Yes    Depr.  Yes    No    \n",
       "   - entangled_entropy_v1.entropy_core ...... Yes    Depr.  Yes    No    \n",
       "   - entangle_entropy_v1.purity_cell ........ Yes    Depr.  Yes    No    \n",
       "   - wavefunction_overlap.echo_core_2 ....... Yes    Depr.  Yes    No    \n",
       "   - wavefunction_overlap.echo_cell_2 ....... Yes    Depr.  Yes    No    \n",
       "   - wavefunction_overlap_v1.echo_core ...... Yes    Depr.  Yes    No    \n",
       "   - wavefunction_overlap_v1.echo_cell ...... Yes    Depr.  Yes    No    \n",
       " - hadamard_test\n",
       "   - purity_echo_core ....................... Yes    No     Yes    No    \n",
       " - magnet_square\n",
       "   - magnsq_core ............................ Yes    No     No     No    \n",
       " - classical_shadow\n",
       "   - rho_m_core ............................. Yes    No     No     Error \n",
       " - utils\n",
       "   - randomized ............................. Yes    Depr.  Yes    No    \n",
       "   - counts_process ......................... Yes    No     Yes    No    \n",
       "   - bit_slice .............................. Yes    No     Yes    No    \n",
       "   - dummy .................................. Yes    No     Yes    No    \n",
       "   - test ................................... Yes    No     Yes    No    \n",
       "---------------------------------------------------------------------------\n",
       "   + Yes ...... Working normally.\n",
       "   + Error .... Exception occurred.\n",
       "   + No ....... Not supported.\n",
       "   + Depr. .... Deprecated.\n",
       "---------------------------------------------------------------------------\n",
       "by <Hoshi>"
      ]
     },
     "execution_count": 20,
     "metadata": {},
     "output_type": "execute_result"
    }
   ],
   "source": [
    "from qurry.process import AVAIBILITY_STATESHEET\n",
    "AVAIBILITY_STATESHEET"
   ]
  },
  {
   "cell_type": "code",
   "execution_count": null,
   "id": "898c1a96",
   "metadata": {},
   "outputs": [],
   "source": []
  }
 ],
 "metadata": {
  "kernelspec": {
   "display_name": "qurrium_docs",
   "language": "python",
   "name": "python3"
  },
  "language_info": {
   "codemirror_mode": {
    "name": "ipython",
    "version": 3
   },
   "file_extension": ".py",
   "mimetype": "text/x-python",
   "name": "python",
   "nbconvert_exporter": "python",
   "pygments_lexer": "ipython3",
   "version": "3.12.3"
  }
 },
 "nbformat": 4,
 "nbformat_minor": 5
}
