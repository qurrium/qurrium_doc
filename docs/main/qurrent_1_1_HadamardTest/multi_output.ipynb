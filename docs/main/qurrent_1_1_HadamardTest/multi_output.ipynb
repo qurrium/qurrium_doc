{
 "cells": [
  {
   "cell_type": "markdown",
   "id": "166f3b67",
   "metadata": {},
   "source": [
    "# 1.1 EntropyMeasure - Hadamard Test\n",
    "## Multiple Experiments\n",
    "\n",
    "Consider a scenario, you have multiple circuits that you want to run at once.\n",
    "\n",
    "Call `.measure()` one by one will be inefficient,\n",
    "no to mention that you also need to call `.anlyze()` for their post-processing.\n",
    "\n",
    "Here we provide a more efficient way solve this problem,\n",
    "where the true power of Qurrium as experiment manage toolkit.\n"
   ]
  },
  {
   "cell_type": "markdown",
   "id": "86beb579",
   "metadata": {},
   "source": [
    "### a. Import the instances\n"
   ]
  },
  {
   "cell_type": "code",
   "execution_count": 1,
   "id": "0fc71722",
   "metadata": {},
   "outputs": [
    {
     "name": "stderr",
     "output_type": "stream",
     "text": [
      "/home/nccu/Documents/.homejupyter/qurryplayground/qurrium_docs/lib/python3.12/site-packages/tqdm/auto.py:21: TqdmWarning: IProgress not found. Please update jupyter and ipywidgets. See https://ipywidgets.readthedocs.io/en/stable/user_install.html\n",
      "  from .autonotebook import tqdm as notebook_tqdm\n"
     ]
    }
   ],
   "source": [
    "from qurry import EntropyMeasure\n",
    "\n",
    "experiment_hadamard = EntropyMeasure(method=\"hadamard\")"
   ]
  },
  {
   "cell_type": "markdown",
   "id": "d48d1d69",
   "metadata": {},
   "source": [
    "### b. Preparing quantum circuit\n",
    "\n",
    "Prepare and add circuits to the `.wave` for later usage.\n"
   ]
  },
  {
   "cell_type": "code",
   "execution_count": 2,
   "id": "2e597e81",
   "metadata": {},
   "outputs": [
    {
     "data": {
      "text/plain": [
       "WaveContainer({\n",
       "  'trivial_paramagnet_2': <qurry.recipe.simple.paramagnet.TrivialParamagnet object at 0x78352994b4d0>,\n",
       "  'ghz_2': <qurry.recipe.simple.cat.GHZ object at 0x78352994a1b0>,\n",
       "  'neel_2': <qiskit.circuit.quantumcircuit.QuantumCircuit object at 0x783529760920>,\n",
       "  'trivial_paramagnet_4': <qurry.recipe.simple.paramagnet.TrivialParamagnet object at 0x7835297e3800>,\n",
       "  'ghz_4': <qurry.recipe.simple.cat.GHZ object at 0x783529923020>,\n",
       "  'neel_4': <qiskit.circuit.quantumcircuit.QuantumCircuit object at 0x78352994b8c0>,\n",
       "  'trivial_paramagnet_6': <qurry.recipe.simple.paramagnet.TrivialParamagnet object at 0x7835299d4d10>,\n",
       "  'ghz_6': <qurry.recipe.simple.cat.GHZ object at 0x783529948980>,\n",
       "  'neel_6': <qiskit.circuit.quantumcircuit.QuantumCircuit object at 0x7835275107d0>})"
      ]
     },
     "execution_count": 2,
     "metadata": {},
     "output_type": "execute_result"
    }
   ],
   "source": [
    "from qiskit import QuantumCircuit\n",
    "from qurry.recipe import TrivialParamagnet, GHZ\n",
    "\n",
    "\n",
    "def make_neel_circuit(n):\n",
    "    qc = QuantumCircuit(n)\n",
    "    for i in range(0, n, 2):\n",
    "        qc.x(i)\n",
    "    return qc\n",
    "\n",
    "\n",
    "for i in range(2, 8, 2):\n",
    "    experiment_hadamard.add(TrivialParamagnet(i), f\"trivial_paramagnet_{i}\")\n",
    "    experiment_hadamard.add(GHZ(i), f\"ghz_{i}\")\n",
    "    experiment_hadamard.add(make_neel_circuit(i), f\"neel_{i}\")\n",
    "\n",
    "experiment_hadamard.waves"
   ]
  },
  {
   "cell_type": "markdown",
   "id": "25fc5d4c",
   "metadata": {},
   "source": [
    "### c. Execute multiple experiments at once\n",
    "\n",
    "Let's demonstrate the true power of Qurrium.\n"
   ]
  },
  {
   "cell_type": "code",
   "execution_count": 3,
   "id": "1e63ed3e",
   "metadata": {},
   "outputs": [],
   "source": [
    "from qurry.qurrent.hadamard_test.arguments import EntropyMeasureHadamardMeasureArgs"
   ]
  },
  {
   "cell_type": "markdown",
   "id": "45d57823",
   "metadata": {},
   "source": [
    "Preparing a configuration list for multiple experiments with following parameters:\n",
    "\n",
    "```python\n",
    "class EntropyMeasureHadamardMeasureArgs(total=False):\n",
    "    \"\"\"Output arguments for :meth:`output`.\"\"\"\n",
    "    shots: int\n",
    "    \"\"\"Number of shots.\"\"\"\n",
    "    tags: Optional[tuple[str, ...]]\n",
    "    \"\"\"The tags to be used for the experiment.\"\"\"\n",
    "    wave: Optional[Union[QuantumCircuit, Hashable]]\n",
    "    \"\"\"The key or the circuit to execute.\"\"\"\n",
    "    degree: Optional[Union[int, tuple[int, int]]]\n",
    "    \"\"\"The degree range.\"\"\"\n",
    "```\n"
   ]
  },
  {
   "cell_type": "code",
   "execution_count": 4,
   "id": "9a6c6749",
   "metadata": {},
   "outputs": [
    {
     "name": "stdout",
     "output_type": "stream",
     "text": [
      "90\n"
     ]
    }
   ],
   "source": [
    "config_list: list[EntropyMeasureHadamardMeasureArgs] = [\n",
    "    {\n",
    "        \"shots\": 1024,\n",
    "        \"wave\": f\"{wave_names}_{i}\",\n",
    "        \"degree\": i // 2,\n",
    "        \"tags\": (wave_names, f\"size_{i}\", f\"system_range_{i//2}\"),\n",
    "    }\n",
    "    for _ in range(10)\n",
    "    for i in range(2, 8, 2)\n",
    "    for wave_names in [\"trivial_paramagnet\", \"ghz\", \"neel\"]\n",
    "]\n",
    "print(len(config_list))"
   ]
  },
  {
   "cell_type": "markdown",
   "id": "28ef8515",
   "metadata": {},
   "source": [
    "The `.multiOutput` will return an id of this `multimanager` instance,\n",
    "which can be used to get the results and post-process them.\n",
    "\n",
    "Each `multimanager` will export the experiments in a folder you can specify\n",
    "by setting `save_location` parameter with default location for current directory\n",
    "where Python executed.\n",
    "It will create a folder with the name of the `multimanager` instance,\n",
    "and inside it will create a folder for storing each experiment data.\n",
    "\n",
    "It will do firstly in the building process, but you can skip it by setting `skip_build_write=True` to save time.\n",
    "After all experiments are executed, it will export secondly,\n",
    "which can also be skipped by setting `skip_output_write=True` for no files output.\n"
   ]
  },
  {
   "cell_type": "code",
   "execution_count": 5,
   "id": "3135a9f2",
   "metadata": {},
   "outputs": [
    {
     "name": "stdout",
     "output_type": "stream",
     "text": [
      "| MultiManager building...\n",
      "| Write \"qurrent.hadamard_test.001\", at location \"qurrent.hadamard_test.001\"\n"
     ]
    },
    {
     "name": "stderr",
     "output_type": "stream",
     "text": [
      "| 90/90 100%|██████████| - Loading 90 experiments... - 00:03 < 00:00\n"
     ]
    },
    {
     "name": "stdout",
     "output_type": "stream",
     "text": [
      "| MultiOutput running...\n"
     ]
    },
    {
     "name": "stderr",
     "output_type": "stream",
     "text": [
      "| 90/90 100%|██████████| - Executing completed 'run.001', denoted date: 2025-05-22 14:37:39... - 00:00 < 00:00\n"
     ]
    },
    {
     "name": "stdout",
     "output_type": "stream",
     "text": [
      "| Export multimanager...\n"
     ]
    },
    {
     "name": "stderr",
     "output_type": "stream",
     "text": [
      "| 9/9 - Exporting done - 00:00 < 00:00                       \n"
     ]
    },
    {
     "name": "stdout",
     "output_type": "stream",
     "text": [
      "| No quantity to export.\n",
      "| Export multi.config.json for faa4a131-af5e-40ae-8cbf-354915d90cad\n"
     ]
    },
    {
     "name": "stderr",
     "output_type": "stream",
     "text": [
      "| 89/89 - Exporting experiments... - 00:03 < 00:00\n",
      "| 90/90 - Loading file infomation... - 00:00 < 00:00"
     ]
    },
    {
     "name": "stdout",
     "output_type": "stream",
     "text": [
      "| Exporting file taglist...\n",
      "| Exporting qurrent.hadamard_test.001/qurryinfo.json...\n",
      "| Exporting qurrent.hadamard_test.001/qurryinfo.json done.\n"
     ]
    },
    {
     "name": "stderr",
     "output_type": "stream",
     "text": [
      "\n"
     ]
    },
    {
     "data": {
      "text/plain": [
       "'faa4a131-af5e-40ae-8cbf-354915d90cad'"
      ]
     },
     "execution_count": 5,
     "metadata": {},
     "output_type": "execute_result"
    }
   ],
   "source": [
    "multi_exps1 = experiment_hadamard.multiOutput(\n",
    "    config_list,\n",
    "    summoner_name=\"qurrent.hadamard_test\",  # you can name it whatever you want\n",
    "    multiprocess_build=True,\n",
    "    # Using multiprocessing to build the experiments,\n",
    "    # it will be faster but take all the CPU\n",
    "    skip_build_write=True,\n",
    "    # Skip the writing of the experiment as files during the build,\n",
    "    save_location=\".\",\n",
    "    # Save the experiment as files in the current directory\n",
    "    multiprocess_write=True,\n",
    "    # Writing the experiment as files using multiprocessing,\n",
    ")\n",
    "multi_exps1"
   ]
  },
  {
   "cell_type": "markdown",
   "id": "a6882faa",
   "metadata": {},
   "source": [
    "You can check the result of `multiOutput` that we just executed by accessing the `.multimanagers`"
   ]
  },
  {
   "cell_type": "code",
   "execution_count": null,
   "id": "e9d163ff",
   "metadata": {},
   "outputs": [
    {
     "data": {
      "text/plain": [
       "MultiManagerContainer(num=1, {\n",
       "  \"35981502-1353-452d-b2f4-512c2f9f7f44\":\n",
       "    <MultiManager(name=\"qurrent.randomized_measure.007\", jobstype=\"local\", ..., exps_num=180)>,\n",
       "})"
      ]
     },
     "metadata": {},
     "output_type": "display_data"
    }
   ],
   "source": [
    "experiment_hadamard.multimanagers"
   ]
  },
  {
   "cell_type": "code",
   "execution_count": null,
   "id": "0b6e5d54",
   "metadata": {},
   "outputs": [
    {
     "data": {
      "text/plain": [
       "<MultiManager(id=\"35981502-1353-452d-b2f4-512c2f9f7f44\",\n",
       "  name=\"qurrent.randomized_measure.007\",\n",
       "  tags=(),\n",
       "  jobstype=\"local\",\n",
       "  pending_strategy=\"tags\",\n",
       "  last_events={\n",
       "    'output.001': '2025-05-22 15:37:34',},\n",
       "  exps_num=180)>"
      ]
     },
     "metadata": {},
     "output_type": "display_data"
    }
   ],
   "source": [
    "experiment_hadamard.multimanagers[multi_exps1]"
   ]
  },
  {
   "cell_type": "markdown",
   "id": "4052ff26",
   "metadata": {},
   "source": [
    "### d. Run post-processing at once\n"
   ]
  },
  {
   "cell_type": "code",
   "execution_count": 7,
   "id": "045b5b22",
   "metadata": {},
   "outputs": [
    {
     "name": "stderr",
     "output_type": "stream",
     "text": [
      "| 90/90 - Analysis: Calculating entangled entropy:  - 00:00 < 00:00"
     ]
    },
    {
     "name": "stdout",
     "output_type": "stream",
     "text": [
      "| \"report.001\" has been completed.\n"
     ]
    },
    {
     "name": "stderr",
     "output_type": "stream",
     "text": [
      "\n"
     ]
    },
    {
     "data": {
      "text/plain": [
       "'faa4a131-af5e-40ae-8cbf-354915d90cad'"
      ]
     },
     "execution_count": 7,
     "metadata": {},
     "output_type": "execute_result"
    }
   ],
   "source": [
    "experiment_hadamard.multiAnalysis(\n",
    "    summoner_id=multi_exps1,\n",
    "    skip_write=True,\n",
    "    multiprocess_write=False,\n",
    ")"
   ]
  },
  {
   "cell_type": "code",
   "execution_count": 8,
   "id": "483b0b35",
   "metadata": {},
   "outputs": [
    {
     "name": "stdout",
     "output_type": "stream",
     "text": [
      "| Available results:\n",
      "| - ('trivial_paramagnet', 'size_4', 'system_range_2') with length 10\n",
      "| - ('ghz', 'size_4', 'system_range_2') with length 10\n",
      "| - ('neel', 'size_4', 'system_range_2') with length 10\n",
      "| - ('trivial_paramagnet', 'size_2', 'system_range_1') with length 10\n",
      "| - ('ghz', 'size_2', 'system_range_1') with length 10\n",
      "| - ('neel', 'size_2', 'system_range_1') with length 10\n",
      "| - ('trivial_paramagnet', 'size_6', 'system_range_3') with length 10\n",
      "| - ('ghz', 'size_6', 'system_range_3') with length 10\n",
      "| - ('neel', 'size_6', 'system_range_3') with length 10\n"
     ]
    }
   ],
   "source": [
    "print(\"| Available results:\")\n",
    "for k, v in (\n",
    "    experiment_hadamard.multimanagers[multi_exps1]\n",
    "    .quantity_container[\"report.001\"]\n",
    "    .items()\n",
    "):\n",
    "    print(\"| -\", k, \"with length\", len(v))"
   ]
  },
  {
   "cell_type": "code",
   "execution_count": 9,
   "id": "c8b8b3c6",
   "metadata": {},
   "outputs": [
    {
     "data": {
      "text/plain": [
       "[]"
      ]
     },
     "execution_count": 9,
     "metadata": {},
     "output_type": "execute_result"
    }
   ],
   "source": [
    "experiment_hadamard.multimanagers[multi_exps1].quantity_container[\"report.001\"][\n",
    "    (\"trivial_paramagnet\", \"size_10\", \"system_range_5\")\n",
    "][:2]"
   ]
  },
  {
   "cell_type": "markdown",
   "id": "1963d333",
   "metadata": {},
   "source": [
    "### e. Run post-processing at once with specific analysis arguments\n",
    "\n",
    "At first, we need to get the each experiment's id in the `multimanager` instance.\n"
   ]
  },
  {
   "cell_type": "code",
   "execution_count": 10,
   "id": "b114c2d8",
   "metadata": {},
   "outputs": [
    {
     "name": "stdout",
     "output_type": "stream",
     "text": [
      "90\n"
     ]
    }
   ],
   "source": [
    "expkeys_of_multi_exps1 = list(\n",
    "    experiment_hadamard.multimanagers[multi_exps1].exps.keys()\n",
    ")\n",
    "print(len(expkeys_of_multi_exps1))"
   ]
  },
  {
   "cell_type": "markdown",
   "id": "f13dfbdd",
   "metadata": {},
   "source": [
    "1. If you want to run the post-processing for some specific experiments,\n",
    "   for example, the first 3 experiments we get for the `multimanager` instance.\n"
   ]
  },
  {
   "cell_type": "code",
   "execution_count": 11,
   "id": "38778cf7",
   "metadata": {},
   "outputs": [
    {
     "name": "stderr",
     "output_type": "stream",
     "text": [
      "| 90/90 - Analysis: Skipped 408bd454-e9c1-4f41-8d5c-fb5e65d5af2f in faa4a131-af5e-40ae-8cbf-354915d90cad. - 00:00 < 00:00"
     ]
    },
    {
     "name": "stdout",
     "output_type": "stream",
     "text": [
      "| \"first_3.002\" has been completed.\n"
     ]
    },
    {
     "name": "stderr",
     "output_type": "stream",
     "text": [
      "\n"
     ]
    },
    {
     "data": {
      "text/plain": [
       "'faa4a131-af5e-40ae-8cbf-354915d90cad'"
      ]
     },
     "execution_count": 11,
     "metadata": {},
     "output_type": "execute_result"
    }
   ],
   "source": [
    "experiment_hadamard.multiAnalysis(\n",
    "    summoner_id=multi_exps1,\n",
    "    analysis_name=\"first_3\",\n",
    "    skip_write=True,\n",
    "    multiprocess_write=False,\n",
    "    specific_analysis_args={k: idx < 3 for idx, k in enumerate(expkeys_of_multi_exps1)},\n",
    ")"
   ]
  },
  {
   "cell_type": "code",
   "execution_count": 12,
   "id": "ada4eb86",
   "metadata": {},
   "outputs": [
    {
     "name": "stdout",
     "output_type": "stream",
     "text": [
      "| Available results:\n",
      "| length: 3\n"
     ]
    }
   ],
   "source": [
    "print(\"| Available results:\")\n",
    "print(\n",
    "    \"| length:\",\n",
    "    sum(\n",
    "        len(v)\n",
    "        for v in experiment_hadamard.multimanagers[multi_exps1]\n",
    "        .quantity_container[\"first_3.002\"]\n",
    "        .values()\n",
    "    ),\n",
    ")"
   ]
  },
  {
   "cell_type": "markdown",
   "id": "4a1f8281",
   "metadata": {},
   "source": [
    "2. Or manually specify all the analysis arguments for each experiment.\n"
   ]
  },
  {
   "cell_type": "code",
   "execution_count": 13,
   "id": "6f483aff",
   "metadata": {},
   "outputs": [
    {
     "name": "stderr",
     "output_type": "stream",
     "text": [
      "| 90/90 - Analysis: Calculating entangled entropy:  - 00:00 < 00:00\n"
     ]
    },
    {
     "name": "stdout",
     "output_type": "stream",
     "text": [
      "| \"all_manual.003\" has been completed.\n",
      "| Export multimanager...\n"
     ]
    },
    {
     "name": "stderr",
     "output_type": "stream",
     "text": [
      "| 9/9 - Exporting done - 00:00 < 00:00                       \n",
      "| 3/3 - exported quantity complete - 00:00 < 00:00    "
     ]
    },
    {
     "name": "stdout",
     "output_type": "stream",
     "text": [
      "| Export multi.config.json for faa4a131-af5e-40ae-8cbf-354915d90cad\n"
     ]
    },
    {
     "name": "stderr",
     "output_type": "stream",
     "text": [
      "\n",
      "| 89/89 - Exporting experiments... - 00:03 < 00:00\n",
      "| 90/90 - Loading file infomation... - 00:00 < 00:00"
     ]
    },
    {
     "name": "stdout",
     "output_type": "stream",
     "text": [
      "| Exporting file taglist...\n",
      "| Exporting qurrent.hadamard_test.001/qurryinfo.json...\n",
      "| Exporting qurrent.hadamard_test.001/qurryinfo.json done.\n"
     ]
    },
    {
     "name": "stderr",
     "output_type": "stream",
     "text": [
      "\n"
     ]
    },
    {
     "data": {
      "text/plain": [
       "'faa4a131-af5e-40ae-8cbf-354915d90cad'"
      ]
     },
     "execution_count": 13,
     "metadata": {},
     "output_type": "execute_result"
    }
   ],
   "source": [
    "experiment_hadamard.multiAnalysis(\n",
    "    summoner_id=multi_exps1,\n",
    "    skip_write=False,\n",
    "    analysis_name=\"all_manual\",\n",
    "    multiprocess_write=True,\n",
    "    specific_analysis_args={k: {} for idx, k in enumerate(expkeys_of_multi_exps1)},\n",
    ")"
   ]
  },
  {
   "cell_type": "code",
   "execution_count": 14,
   "id": "9d2c5e8d",
   "metadata": {},
   "outputs": [
    {
     "name": "stdout",
     "output_type": "stream",
     "text": [
      "| Available results:\n",
      "| length: 90\n"
     ]
    }
   ],
   "source": [
    "print(\"| Available results:\")\n",
    "print(\n",
    "    \"| length:\",\n",
    "    sum(\n",
    "        len(v)\n",
    "        for v in experiment_hadamard.multimanagers[multi_exps1]\n",
    "        .quantity_container[\"all_manual.003\"]\n",
    "        .values()\n",
    "    ),\n",
    ")"
   ]
  },
  {
   "cell_type": "markdown",
   "id": "1f4ffe7a",
   "metadata": {},
   "source": [
    "### f. Read exported multimanager data\n"
   ]
  },
  {
   "cell_type": "code",
   "execution_count": 15,
   "id": "e873e02d",
   "metadata": {},
   "outputs": [
    {
     "name": "stdout",
     "output_type": "stream",
     "text": [
      "| Retrieve qurrent.hadamard_test.001...\n",
      "| at: qurrent.hadamard_test.001\n"
     ]
    },
    {
     "name": "stderr",
     "output_type": "stream",
     "text": [
      "| 90/90 100%|██████████| - Loading 90 experiments ... - 00:04 < 00:00\n"
     ]
    }
   ],
   "source": [
    "multi_exps1_reades = experiment_hadamard.multiRead(\n",
    "    save_location=\".\",\n",
    "    summoner_name=\"qurrent.hadamard_test.001\",\n",
    ")"
   ]
  },
  {
   "cell_type": "code",
   "execution_count": 16,
   "id": "e51b2202",
   "metadata": {},
   "outputs": [
    {
     "data": {
      "text/plain": [
       "['8c13455f-2a53-46dc-a8f4-f0f47b1861e9',\n",
       " '482ae931-3dfd-49eb-8191-2e790ac5e656',\n",
       " '1e4337e5-70b8-4893-9448-1cf3101ca3d0',\n",
       " '7cfc33e8-7cc8-400c-835d-9d11dbe2d5c5',\n",
       " 'aa6dc5e5-ac12-4f5a-b3d7-99f7cb6d2864',\n",
       " '4a23080e-e0dc-48ba-9bf0-057cf9364979',\n",
       " '65a8648d-f502-435d-a289-78bd2907b21d',\n",
       " '9872c317-de1b-49bf-9a7f-0a7284f5df9f',\n",
       " '35b92653-98aa-467c-8dd2-84eb3fd7035b',\n",
       " 'ac3ddca8-3559-4b2e-9614-46f890c65014',\n",
       " '31047189-a2aa-4437-badd-636f9fafbec5',\n",
       " '3ff4cfdd-54d6-4a04-94b2-71e851a3db4b',\n",
       " '2778a656-0c16-430c-b76b-0c2f39ea523a',\n",
       " 'd74ccedc-cec1-419e-8f1f-34d80914785a',\n",
       " '76d5c330-da16-4343-ad10-b48541d54e02',\n",
       " 'e0ef3f7a-5137-49a5-a77a-5e9f7bc71f05',\n",
       " '8840e866-5b9a-44db-b9ee-d08bad842a56',\n",
       " 'ae693b22-0308-4a42-8cc7-dad8096a955c',\n",
       " 'a24d3ce3-f922-4648-97c3-402632d30d56',\n",
       " '09eddd78-88a0-4ac2-9bca-98d29dd2a952',\n",
       " '81fb46b9-00ed-4583-ae31-9dea107c69cf',\n",
       " '087b41a3-0abc-478d-b20b-65bf12d30def',\n",
       " '2865ba53-ad00-458e-b414-cd592363ef4a',\n",
       " 'c8c4ab02-fb25-42ee-ac5b-d5730cc8f69e',\n",
       " 'ae785871-2ed1-4779-94a6-c1ecdb946901',\n",
       " 'dfaacf69-033e-49bc-aa63-0b5e25a23167',\n",
       " 'd469a393-0570-45a7-b816-f2bd07e71644',\n",
       " 'f8c80d37-c56d-4a30-a902-cd8dbb666635',\n",
       " '6cb47921-82c6-46cc-9273-93cd8e2d02b9',\n",
       " '722b9983-8fef-413a-b8c8-e6b527937da4',\n",
       " 'a95b31ef-fda0-4191-b7c6-351b2b6dcab5',\n",
       " 'b6209edd-b6ec-4c4d-ba5d-7928c6bd025e',\n",
       " '6c439422-3f8c-4c7c-a582-6ff7638c23b4',\n",
       " 'ce2f5795-8342-40d9-832c-b240a57e6f5c',\n",
       " 'f1a6c716-f901-4f5d-ab6a-74b075e2de86',\n",
       " 'fe608a9c-fa18-489a-a3f0-9e3de20cb3a1',\n",
       " '617529bd-aeb4-4cd9-b293-ee11a5915116',\n",
       " 'e73d619b-b5ff-4793-9e27-617597cb74db',\n",
       " '14474335-4021-4304-b4c7-6810fce6b35e',\n",
       " 'fe2cbd23-294f-4b29-b0d5-c067f383dc3a',\n",
       " '7d02ac60-ba60-417f-9946-fe31aac5b761',\n",
       " '0c2501ed-30d2-41d3-a909-75b6ceffb533',\n",
       " '3e4729c8-ca0f-4ed4-9407-047a06645c87',\n",
       " '3660581d-fbb5-4b5a-91fe-f01c1361eb54',\n",
       " '9bb6e157-2b81-49b2-9a7c-1429b710b16b',\n",
       " '4ca3683e-42ea-4cd6-b615-afa22d52bdac',\n",
       " '3a1b923a-d34a-40f4-bc92-89876357df55',\n",
       " '9692601e-e16a-481b-95ea-b34d38a15c4f',\n",
       " '5a71f504-7bc8-4600-8fe9-02f5a34c2e7b',\n",
       " '3efe160a-91cd-4e0b-b504-3cdb163e227c',\n",
       " '0da4caab-962c-49d0-8677-f38e41dcd02a',\n",
       " 'c36481a7-f776-4366-a36a-fe62941863d7',\n",
       " '20e15684-f3b6-49d9-8188-c5088b7dbd52',\n",
       " 'd69b40db-1b81-4cb7-add0-ac1b1ad8925a',\n",
       " 'd6f1fa42-545f-4981-9abe-21a3f3a0ccdf',\n",
       " 'd6afcdaf-5606-4354-bca5-9f0371f9e48f',\n",
       " 'f25c657d-2ec8-47fc-919e-39b8e858c075',\n",
       " 'dfb5919f-6eff-4934-be81-6fb71eb29d77',\n",
       " '9371b716-c232-4c93-b34c-a6eb5863ae12',\n",
       " '1d270b5b-d642-4834-aeae-77ad1f9e6d9e',\n",
       " 'dce9068d-983c-43a9-88c5-88e309ed6459',\n",
       " 'b3635ba9-513c-407b-b8b7-501eb58342ba',\n",
       " 'ab4969ea-31b2-4e0a-9b7d-68b6467fbc44',\n",
       " 'f9802097-aa3f-4545-9aef-92566720a19c',\n",
       " 'b7a68f12-3c34-4258-b821-9e503b711a12',\n",
       " '3aa0d2bc-35a9-4ce2-ae85-9bdffc4be8ff',\n",
       " 'e8c05c5d-a7ba-436d-a13a-db7d02522507',\n",
       " '388b346e-02e8-4d2c-bedb-7d2b1079603c',\n",
       " '821d51af-5746-4210-892a-a96b690ba2ec',\n",
       " 'dac6bb95-e7bc-4f9e-8e8f-164c77515670',\n",
       " '679d4052-e985-4293-bf03-2392d3a2cf31',\n",
       " '2ebd9796-1227-438b-a0d4-6983e7127933',\n",
       " '6d722f5b-8f08-4fb1-881b-c6889d443028',\n",
       " 'a228b979-3bc1-413c-8baf-bd5377f81846',\n",
       " 'f7e1fb0d-6dd7-4f8b-862c-27257a81bb06',\n",
       " 'f4d3a63a-c48c-4514-aa51-7130008a704e',\n",
       " 'a8ff7d47-a341-4134-a060-5dbf85bbee41',\n",
       " '0e17d63f-6a1f-4c1f-95a0-7ef6718d4a81',\n",
       " 'f38fa120-1a8c-4b57-a642-9b6c073c48cb',\n",
       " 'e7176755-ba84-4a3a-898f-41f494f48d0d',\n",
       " '85102de2-63a6-417a-ae8c-963db068ebfe',\n",
       " '3aae769c-52c3-4634-969d-fd8779cf0fce',\n",
       " '5978bfb3-e660-408a-b5cf-8aae7bca40f4',\n",
       " '81ec46df-61a0-446e-bd93-11d89bd48d99',\n",
       " '40c4937b-95d2-436c-b016-f3818c67b710',\n",
       " '00a0f1ab-29b9-4655-b1a2-d3e07ac3ecf7',\n",
       " '38b94b7b-bc50-4e10-bc6e-39977d17ad34',\n",
       " 'c287d583-bbc1-4cb9-8933-0f69394d92a6',\n",
       " 'd179a995-cdac-49ba-9082-934dc9804a23',\n",
       " '408bd454-e9c1-4f41-8d5c-fb5e65d5af2f']"
      ]
     },
     "execution_count": 16,
     "metadata": {},
     "output_type": "execute_result"
    }
   ],
   "source": [
    "expkeys_of_multi_exps1"
   ]
  },
  {
   "cell_type": "markdown",
   "id": "98e2f717",
   "metadata": {},
   "source": [
    "---\n",
    "\n",
    "### Post-Process Availablities and Version Info"
   ]
  },
  {
   "cell_type": "code",
   "execution_count": 17,
   "id": "6870850f",
   "metadata": {},
   "outputs": [
    {
     "data": {
      "text/plain": [
       " | Qurry version: 0.12.2.dev2\n",
       "---------------------------------------------------------------------------\n",
       " ### Qurry Post-Processing\n",
       "   - Backend Availability ................... Python Cython Rust   JAX   \n",
       " - randomized_measure\n",
       "   - entangled_entropy.entropy_core_2 ....... Yes    Depr.  Yes    No    \n",
       "   - entangle_entropy.purity_cell_2 ......... Yes    Depr.  Yes    No    \n",
       "   - entangled_entropy_v1.entropy_core ...... Yes    Depr.  Yes    No    \n",
       "   - entangle_entropy_v1.purity_cell ........ Yes    Depr.  Yes    No    \n",
       "   - wavefunction_overlap.echo_core_2 ....... Yes    Depr.  Yes    No    \n",
       "   - wavefunction_overlap.echo_cell_2 ....... Yes    Depr.  Yes    No    \n",
       "   - wavefunction_overlap_v1.echo_core ...... Yes    Depr.  Yes    No    \n",
       "   - wavefunction_overlap_v1.echo_cell ...... Yes    Depr.  Yes    No    \n",
       " - hadamard_test\n",
       "   - purity_echo_core ....................... Yes    No     Yes    No    \n",
       " - magnet_square\n",
       "   - magnsq_core ............................ Yes    No     No     No    \n",
       " - classical_shadow\n",
       "   - rho_m_core ............................. Yes    No     No     Error \n",
       " - utils\n",
       "   - randomized ............................. Yes    Depr.  Yes    No    \n",
       "   - counts_process ......................... Yes    No     Yes    No    \n",
       "   - bit_slice .............................. Yes    No     Yes    No    \n",
       "   - dummy .................................. Yes    No     Yes    No    \n",
       "   - test ................................... Yes    No     Yes    No    \n",
       "---------------------------------------------------------------------------\n",
       "   + Yes ...... Working normally.\n",
       "   + Error .... Exception occurred.\n",
       "   + No ....... Not supported.\n",
       "   + Depr. .... Deprecated.\n",
       "---------------------------------------------------------------------------\n",
       "by <Hoshi>"
      ]
     },
     "execution_count": 17,
     "metadata": {},
     "output_type": "execute_result"
    }
   ],
   "source": [
    "from qurry.process import AVAIBILITY_STATESHEET\n",
    "\n",
    "AVAIBILITY_STATESHEET"
   ]
  },
  {
   "cell_type": "code",
   "execution_count": null,
   "id": "a948b7d0",
   "metadata": {},
   "outputs": [],
   "source": []
  }
 ],
 "metadata": {
  "kernelspec": {
   "display_name": "qurrium_docs",
   "language": "python",
   "name": "python3"
  },
  "language_info": {
   "codemirror_mode": {
    "name": "ipython",
    "version": 3
   },
   "file_extension": ".py",
   "mimetype": "text/x-python",
   "name": "python",
   "nbconvert_exporter": "python",
   "pygments_lexer": "ipython3",
   "version": "3.12.3"
  }
 },
 "nbformat": 4,
 "nbformat_minor": 5
}
