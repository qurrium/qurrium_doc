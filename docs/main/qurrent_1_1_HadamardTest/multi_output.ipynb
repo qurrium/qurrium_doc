{
 "cells": [
  {
   "cell_type": "markdown",
   "id": "166f3b67",
   "metadata": {},
   "source": [
    "# 1. EntropyMeasure\n",
    "\n",
    "---\n",
    "\n",
    "## 1.1 Hadamard Test - multiple experiments\n",
    "\n",
    "Consider a scenario, you have multiple circuits that you want to run at once.\n",
    "\n",
    "Call `.measure()` one by one will be inefficient,\n",
    "no to mention that you also need to call `.anlyze()` for their post-processing.\n",
    "\n",
    "Here we provide a more efficient way solve this problem,\n",
    "where the true power of Qurrium as experiment manage toolkit.\n"
   ]
  },
  {
   "cell_type": "markdown",
   "id": "86beb579",
   "metadata": {},
   "source": [
    "### a. Import the instances\n"
   ]
  },
  {
   "cell_type": "code",
   "execution_count": 1,
   "id": "0fc71722",
   "metadata": {},
   "outputs": [],
   "source": [
    "from qurry import EntropyMeasure\n",
    "\n",
    "experiment_hadamard = EntropyMeasure(method=\"hadamard\")"
   ]
  },
  {
   "cell_type": "markdown",
   "id": "d48d1d69",
   "metadata": {},
   "source": [
    "### b. Preparing quantum circuit\n",
    "\n",
    "Prepare and add circuits to the `.wave` for later usage.\n"
   ]
  },
  {
   "cell_type": "code",
   "execution_count": 2,
   "id": "2e597e81",
   "metadata": {},
   "outputs": [
    {
     "data": {
      "text/plain": [
       "WaveContainer({\n",
       "  'trivial_paramagnet_2': <qurry.recipe.simple.paramagnet.TrivialParamagnet object at 0x7a8f818e7590>,\n",
       "  'ghz_2': <qurry.recipe.simple.cat.GHZ object at 0x7a8f818e7080>,\n",
       "  'neel_2': <qiskit.circuit.quantumcircuit.QuantumCircuit object at 0x7a8f819a53a0>,\n",
       "  'trivial_paramagnet_4': <qurry.recipe.simple.paramagnet.TrivialParamagnet object at 0x7a8f81710710>,\n",
       "  'ghz_4': <qurry.recipe.simple.cat.GHZ object at 0x7a8f817107a0>,\n",
       "  'neel_4': <qiskit.circuit.quantumcircuit.QuantumCircuit object at 0x7a8f81710980>,\n",
       "  'trivial_paramagnet_6': <qurry.recipe.simple.paramagnet.TrivialParamagnet object at 0x7a8f81710b30>,\n",
       "  'ghz_6': <qurry.recipe.simple.cat.GHZ object at 0x7a8f81710bc0>,\n",
       "  'neel_6': <qiskit.circuit.quantumcircuit.QuantumCircuit object at 0x7a903d6c7d10>,\n",
       "  'trivial_paramagnet_8': <qurry.recipe.simple.paramagnet.TrivialParamagnet object at 0x7a8ff519c230>,\n",
       "  'ghz_8': <qurry.recipe.simple.cat.GHZ object at 0x7a8f81711160>,\n",
       "  'neel_8': <qiskit.circuit.quantumcircuit.QuantumCircuit object at 0x7a8f81711370>,\n",
       "  'trivial_paramagnet_10': <qurry.recipe.simple.paramagnet.TrivialParamagnet object at 0x7a8f817115e0>,\n",
       "  'ghz_10': <qurry.recipe.simple.cat.GHZ object at 0x7a8f818e6810>,\n",
       "  'neel_10': <qiskit.circuit.quantumcircuit.QuantumCircuit object at 0x7a8f81711850>,\n",
       "  'trivial_paramagnet_12': <qurry.recipe.simple.paramagnet.TrivialParamagnet object at 0x7a8f81711ca0>,\n",
       "  'ghz_12': <qurry.recipe.simple.cat.GHZ object at 0x7a8f818c5160>,\n",
       "  'neel_12': <qiskit.circuit.quantumcircuit.QuantumCircuit object at 0x7a8f818c4740>})"
      ]
     },
     "execution_count": 2,
     "metadata": {},
     "output_type": "execute_result"
    }
   ],
   "source": [
    "from qiskit import QuantumCircuit\n",
    "from qurry.recipe import TrivialParamagnet, GHZ\n",
    "\n",
    "\n",
    "def make_neel_circuit(n):\n",
    "    qc = QuantumCircuit(n)\n",
    "    for i in range(0, n, 2):\n",
    "        qc.x(i)\n",
    "    return qc\n",
    "\n",
    "\n",
    "for i in range(2, 13, 2):\n",
    "    experiment_hadamard.add(TrivialParamagnet(i), f\"trivial_paramagnet_{i}\")\n",
    "    experiment_hadamard.add(GHZ(i), f\"ghz_{i}\")\n",
    "    experiment_hadamard.add(make_neel_circuit(i), f\"neel_{i}\")\n",
    "\n",
    "experiment_hadamard.waves"
   ]
  },
  {
   "cell_type": "markdown",
   "id": "25fc5d4c",
   "metadata": {},
   "source": [
    "### c. Execute multiple experiments at once\n",
    "\n",
    "Let's demonstrate the true power of Qurrium.\n"
   ]
  },
  {
   "cell_type": "code",
   "execution_count": 3,
   "id": "1e63ed3e",
   "metadata": {},
   "outputs": [],
   "source": [
    "from qurry.qurrent.hadamard_test.arguments import EntropyMeasureHadamardMeasureArgs"
   ]
  },
  {
   "cell_type": "markdown",
   "id": "45d57823",
   "metadata": {},
   "source": [
    "Preparing a configuration list for multiple experiments with following parameters:\n",
    "\n",
    "```python\n",
    "class EntropyMeasureHadamardMeasureArgs(total=False):\n",
    "    \"\"\"Output arguments for :meth:`output`.\"\"\"\n",
    "    shots: int\n",
    "    \"\"\"Number of shots.\"\"\"\n",
    "    tags: Optional[tuple[str, ...]]\n",
    "    \"\"\"The tags to be used for the experiment.\"\"\"\n",
    "    wave: Optional[Union[QuantumCircuit, Hashable]]\n",
    "    \"\"\"The key or the circuit to execute.\"\"\"\n",
    "    degree: Optional[Union[int, tuple[int, int]]]\n",
    "    \"\"\"The degree range.\"\"\"\n",
    "```\n"
   ]
  },
  {
   "cell_type": "code",
   "execution_count": 4,
   "id": "9a6c6749",
   "metadata": {},
   "outputs": [
    {
     "name": "stdout",
     "output_type": "stream",
     "text": [
      "180\n"
     ]
    }
   ],
   "source": [
    "config_list: list[EntropyMeasureHadamardMeasureArgs] = [\n",
    "    {\n",
    "        \"shots\": 1024,\n",
    "        \"wave\": f\"{wave_names}_{i}\",\n",
    "        \"degree\": i // 2,\n",
    "        \"tags\": (wave_names, f\"size_{i}\", f\"system_range_{i//2}\"),\n",
    "    }\n",
    "    for _ in range(10)\n",
    "    for i in range(2, 13, 2)\n",
    "    for wave_names in [\"trivial_paramagnet\", \"ghz\", \"neel\"]\n",
    "]\n",
    "print(len(config_list))"
   ]
  },
  {
   "cell_type": "markdown",
   "id": "28ef8515",
   "metadata": {},
   "source": [
    "The `.multiOutput` will return an id of this `multimanager` instance,\n",
    "which can be used to get the results and post-process them.\n",
    "\n",
    "Each `multimanager` will export the experiments in a folder you can specify\n",
    "by setting `save_location` parameter with default location for current directory\n",
    "where Python executed.\n",
    "It will create a folder with the name of the `multimanager` instance,\n",
    "and inside it will create a folder for storing each experiment data.\n",
    "\n",
    "It will do firstly in the building process, but you can skip it by setting `skip_build_write=True` to save time.\n",
    "After all experiments are executed, it will export secondly,\n",
    "which can also be skipped by setting `skip_output_write=True` for no files output.\n"
   ]
  },
  {
   "cell_type": "code",
   "execution_count": 5,
   "id": "3135a9f2",
   "metadata": {},
   "outputs": [
    {
     "name": "stdout",
     "output_type": "stream",
     "text": [
      "| MultiManager building...\n",
      "| Write \"qurrent.hadamard_test.001\", at location \"qurrent.hadamard_test.001\"\n"
     ]
    },
    {
     "data": {
      "application/vnd.jupyter.widget-view+json": {
       "model_id": "056c276a67244a10b5e21d91cbd249ab",
       "version_major": 2,
       "version_minor": 0
      },
      "text/plain": [
       "| 0/180   0%|          | - MultiManager building... - 00:00 < ?"
      ]
     },
     "metadata": {},
     "output_type": "display_data"
    },
    {
     "name": "stdout",
     "output_type": "stream",
     "text": [
      "| MultiOutput running...\n"
     ]
    },
    {
     "data": {
      "application/vnd.jupyter.widget-view+json": {
       "model_id": "e11dd458c6ff41bb82023f7115cae153",
       "version_major": 2,
       "version_minor": 0
      },
      "text/plain": [
       "| 0/180   0%|          | -  - 00:00 < ?"
      ]
     },
     "metadata": {},
     "output_type": "display_data"
    },
    {
     "name": "stdout",
     "output_type": "stream",
     "text": [
      "| Export multimanager...\n"
     ]
    },
    {
     "data": {
      "application/vnd.jupyter.widget-view+json": {
       "model_id": "9045703da5cd42ad89abea6e2710a7f1",
       "version_major": 2,
       "version_minor": 0
      },
      "text/plain": [
       "| 0/9 - Exporting MultiManager content... - 00:00 < ?"
      ]
     },
     "metadata": {},
     "output_type": "display_data"
    },
    {
     "name": "stdout",
     "output_type": "stream",
     "text": [
      "| No quantity to export.\n",
      "| Export multi.config.json for f4e034cc-b08a-41d8-933a-46f5ef693087\n"
     ]
    },
    {
     "data": {
      "application/vnd.jupyter.widget-view+json": {
       "model_id": "778db82fc8fa4f218e5cb45f32814b1b",
       "version_major": 2,
       "version_minor": 0
      },
      "text/plain": [
       "| 0/179 - Exporting experiments... - 00:00 < ?"
      ]
     },
     "metadata": {},
     "output_type": "display_data"
    },
    {
     "data": {
      "application/vnd.jupyter.widget-view+json": {
       "model_id": "b2d503ab9d5a4b74982ebb0b8e1d4be6",
       "version_major": 2,
       "version_minor": 0
      },
      "text/plain": [
       "| 0/180 - Loading file infomation... - 00:00 < ?"
      ]
     },
     "metadata": {},
     "output_type": "display_data"
    },
    {
     "name": "stdout",
     "output_type": "stream",
     "text": [
      "| Exporting file taglist...\n",
      "| Exporting qurrent.hadamard_test.001/qurryinfo.json...\n",
      "| Exporting qurrent.hadamard_test.001/qurryinfo.json done.\n"
     ]
    },
    {
     "data": {
      "text/plain": [
       "'f4e034cc-b08a-41d8-933a-46f5ef693087'"
      ]
     },
     "execution_count": 5,
     "metadata": {},
     "output_type": "execute_result"
    }
   ],
   "source": [
    "multi_exps1 = experiment_hadamard.multiOutput(\n",
    "    config_list,\n",
    "    summoner_name=\"qurrent.hadamard_test\",  # you can name it whatever you want\n",
    "    multiprocess_build=True,\n",
    "    # Using multiprocessing to build the experiments,\n",
    "    # it will be faster but take all the CPU\n",
    "    skip_build_write=True,\n",
    "    # Skip the writing of the experiment as files during the build,\n",
    "    save_location=\".\",\n",
    "    # Save the experiment as files in the current directory\n",
    "    multiprocess_write=True,\n",
    "    # Writing the experiment as files using multiprocessing,\n",
    ")\n",
    "multi_exps1"
   ]
  },
  {
   "cell_type": "code",
   "execution_count": 6,
   "id": "29668232",
   "metadata": {},
   "outputs": [
    {
     "data": {
      "text/plain": [
       "<MultiManager(id=\"f4e034cc-b08a-41d8-933a-46f5ef693087\",\n",
       "  name=\"qurrent.hadamard_test.001\",\n",
       "  tags=(),\n",
       "  jobstype=\"local\",\n",
       "  pending_strategy=\"tags\",\n",
       "  last_events={\n",
       "    'output.001': '2025-05-21 22:37:51',},\n",
       "  exps_num=180)>"
      ]
     },
     "execution_count": 6,
     "metadata": {},
     "output_type": "execute_result"
    }
   ],
   "source": [
    "experiment_hadamard.multimanagers[multi_exps1]"
   ]
  },
  {
   "cell_type": "markdown",
   "id": "4052ff26",
   "metadata": {},
   "source": [
    "### d. Run post-processing at once\n"
   ]
  },
  {
   "cell_type": "code",
   "execution_count": 7,
   "id": "045b5b22",
   "metadata": {},
   "outputs": [
    {
     "data": {
      "application/vnd.jupyter.widget-view+json": {
       "model_id": "5d42acab3f07465ea93a6b8c3398df62",
       "version_major": 2,
       "version_minor": 0
      },
      "text/plain": [
       "| 0/180 - Analysis:  - 00:00 < ?"
      ]
     },
     "metadata": {},
     "output_type": "display_data"
    },
    {
     "name": "stdout",
     "output_type": "stream",
     "text": [
      "| \"report.001\" has been completed.\n"
     ]
    },
    {
     "data": {
      "text/plain": [
       "'f4e034cc-b08a-41d8-933a-46f5ef693087'"
      ]
     },
     "execution_count": 7,
     "metadata": {},
     "output_type": "execute_result"
    }
   ],
   "source": [
    "experiment_hadamard.multiAnalysis(\n",
    "    summoner_id=multi_exps1,\n",
    "    skip_write=True,\n",
    "    multiprocess_write=False,\n",
    ")"
   ]
  },
  {
   "cell_type": "code",
   "execution_count": 8,
   "id": "483b0b35",
   "metadata": {},
   "outputs": [
    {
     "name": "stdout",
     "output_type": "stream",
     "text": [
      "| Available results:\n",
      "| - ('trivial_paramagnet', 'size_10', 'system_range_5') with length 10\n",
      "| - ('ghz', 'size_10', 'system_range_5') with length 10\n",
      "| - ('neel', 'size_10', 'system_range_5') with length 10\n",
      "| - ('trivial_paramagnet', 'size_12', 'system_range_6') with length 10\n",
      "| - ('ghz', 'size_12', 'system_range_6') with length 10\n",
      "| - ('neel', 'size_12', 'system_range_6') with length 10\n",
      "| - ('trivial_paramagnet', 'size_2', 'system_range_1') with length 10\n",
      "| - ('ghz', 'size_2', 'system_range_1') with length 10\n",
      "| - ('neel', 'size_2', 'system_range_1') with length 10\n",
      "| - ('trivial_paramagnet', 'size_4', 'system_range_2') with length 10\n",
      "| - ('ghz', 'size_4', 'system_range_2') with length 10\n",
      "| - ('neel', 'size_4', 'system_range_2') with length 10\n",
      "| - ('trivial_paramagnet', 'size_6', 'system_range_3') with length 10\n",
      "| - ('ghz', 'size_6', 'system_range_3') with length 10\n",
      "| - ('neel', 'size_6', 'system_range_3') with length 10\n",
      "| - ('trivial_paramagnet', 'size_8', 'system_range_4') with length 10\n",
      "| - ('ghz', 'size_8', 'system_range_4') with length 10\n",
      "| - ('neel', 'size_8', 'system_range_4') with length 10\n"
     ]
    }
   ],
   "source": [
    "print(\"| Available results:\")\n",
    "for k, v in (\n",
    "    experiment_hadamard.multimanagers[multi_exps1]\n",
    "    .quantity_container[\"report.001\"]\n",
    "    .items()\n",
    "):\n",
    "    print(\"| -\", k, \"with length\", len(v))"
   ]
  },
  {
   "cell_type": "code",
   "execution_count": 9,
   "id": "c8b8b3c6",
   "metadata": {},
   "outputs": [
    {
     "data": {
      "text/plain": [
       "[{'purity': 1.0,\n",
       "  'entropy': np.float64(-0.0),\n",
       "  'input': {},\n",
       "  'header': {'serial': 0,\n",
       "   'datetime': '2025-05-21 22:37:58',\n",
       "   'summoner': None,\n",
       "   'log': {}}},\n",
       " {'purity': 1.0,\n",
       "  'entropy': np.float64(-0.0),\n",
       "  'input': {},\n",
       "  'header': {'serial': 0,\n",
       "   'datetime': '2025-05-21 22:37:58',\n",
       "   'summoner': None,\n",
       "   'log': {}}}]"
      ]
     },
     "execution_count": 9,
     "metadata": {},
     "output_type": "execute_result"
    }
   ],
   "source": [
    "experiment_hadamard.multimanagers[multi_exps1].quantity_container[\"report.001\"][\n",
    "    (\"trivial_paramagnet\", \"size_10\", \"system_range_5\")\n",
    "][:2]"
   ]
  },
  {
   "cell_type": "markdown",
   "id": "1963d333",
   "metadata": {},
   "source": [
    "### e. Run post-processing at once with specific analysis arguments\n",
    "\n",
    "At first, we need to get the each experiment's id in the `multimanager` instance.\n"
   ]
  },
  {
   "cell_type": "code",
   "execution_count": 10,
   "id": "b114c2d8",
   "metadata": {},
   "outputs": [
    {
     "name": "stdout",
     "output_type": "stream",
     "text": [
      "180\n"
     ]
    }
   ],
   "source": [
    "expkeys_of_multi_exps1 = list(\n",
    "    experiment_hadamard.multimanagers[multi_exps1].exps.keys()\n",
    ")\n",
    "print(len(expkeys_of_multi_exps1))"
   ]
  },
  {
   "cell_type": "markdown",
   "id": "f13dfbdd",
   "metadata": {},
   "source": [
    "1. If you want to run the post-processing for some specific experiments,\n",
    "   for example, the first 3 experiments we get for the `multimanager` instance.\n"
   ]
  },
  {
   "cell_type": "code",
   "execution_count": 11,
   "id": "38778cf7",
   "metadata": {},
   "outputs": [
    {
     "data": {
      "application/vnd.jupyter.widget-view+json": {
       "model_id": "b2c4d97ee7144243924af6551d0bb743",
       "version_major": 2,
       "version_minor": 0
      },
      "text/plain": [
       "| 0/180 - Analysis:  - 00:00 < ?"
      ]
     },
     "metadata": {},
     "output_type": "display_data"
    },
    {
     "name": "stdout",
     "output_type": "stream",
     "text": [
      "| \"first_3.002\" has been completed.\n"
     ]
    },
    {
     "data": {
      "text/plain": [
       "'f4e034cc-b08a-41d8-933a-46f5ef693087'"
      ]
     },
     "execution_count": 11,
     "metadata": {},
     "output_type": "execute_result"
    }
   ],
   "source": [
    "experiment_hadamard.multiAnalysis(\n",
    "    summoner_id=multi_exps1,\n",
    "    analysis_name=\"first_3\",\n",
    "    skip_write=True,\n",
    "    multiprocess_write=False,\n",
    "    specific_analysis_args={k: idx < 3 for idx, k in enumerate(expkeys_of_multi_exps1)},\n",
    ")"
   ]
  },
  {
   "cell_type": "code",
   "execution_count": 12,
   "id": "ada4eb86",
   "metadata": {},
   "outputs": [
    {
     "name": "stdout",
     "output_type": "stream",
     "text": [
      "| Available results:\n",
      "| length: 3\n"
     ]
    }
   ],
   "source": [
    "print(\"| Available results:\")\n",
    "print(\n",
    "    \"| length:\",\n",
    "    sum(\n",
    "        len(v)\n",
    "        for v in experiment_hadamard.multimanagers[multi_exps1]\n",
    "        .quantity_container[\"first_3.002\"]\n",
    "        .values()\n",
    "    ),\n",
    ")"
   ]
  },
  {
   "cell_type": "markdown",
   "id": "4a1f8281",
   "metadata": {},
   "source": [
    "2. Or manually specify all the analysis arguments for each experiment.\n"
   ]
  },
  {
   "cell_type": "code",
   "execution_count": 13,
   "id": "6f483aff",
   "metadata": {},
   "outputs": [
    {
     "data": {
      "application/vnd.jupyter.widget-view+json": {
       "model_id": "c8ca1e305c7f474698e20a98d4e75150",
       "version_major": 2,
       "version_minor": 0
      },
      "text/plain": [
       "| 0/180 - Analysis:  - 00:00 < ?"
      ]
     },
     "metadata": {},
     "output_type": "display_data"
    },
    {
     "name": "stdout",
     "output_type": "stream",
     "text": [
      "| \"all_manual.003\" has been completed.\n",
      "| Export multimanager...\n"
     ]
    },
    {
     "data": {
      "application/vnd.jupyter.widget-view+json": {
       "model_id": "1f7a9625473c42bf861821d78ce45879",
       "version_major": 2,
       "version_minor": 0
      },
      "text/plain": [
       "| 0/9 - Exporting MultiManager content... - 00:00 < ?"
      ]
     },
     "metadata": {},
     "output_type": "display_data"
    },
    {
     "data": {
      "application/vnd.jupyter.widget-view+json": {
       "model_id": "cd78d2bc21634ab3a31287392024bc85",
       "version_major": 2,
       "version_minor": 0
      },
      "text/plain": [
       "| 0/3 - exporting quantity - 00:00 < ?"
      ]
     },
     "metadata": {},
     "output_type": "display_data"
    },
    {
     "name": "stdout",
     "output_type": "stream",
     "text": [
      "| Export multi.config.json for f4e034cc-b08a-41d8-933a-46f5ef693087\n"
     ]
    },
    {
     "data": {
      "application/vnd.jupyter.widget-view+json": {
       "model_id": "9eff081e504542258aeff3f1febe6cb5",
       "version_major": 2,
       "version_minor": 0
      },
      "text/plain": [
       "| 0/179 - Exporting experiments... - 00:00 < ?"
      ]
     },
     "metadata": {},
     "output_type": "display_data"
    },
    {
     "data": {
      "application/vnd.jupyter.widget-view+json": {
       "model_id": "0bd829edba514bf99ac4cea5b9325e3e",
       "version_major": 2,
       "version_minor": 0
      },
      "text/plain": [
       "| 0/180 - Loading file infomation... - 00:00 < ?"
      ]
     },
     "metadata": {},
     "output_type": "display_data"
    },
    {
     "name": "stdout",
     "output_type": "stream",
     "text": [
      "| Exporting file taglist...\n",
      "| Exporting qurrent.hadamard_test.001/qurryinfo.json...\n",
      "| Exporting qurrent.hadamard_test.001/qurryinfo.json done.\n"
     ]
    },
    {
     "data": {
      "text/plain": [
       "'f4e034cc-b08a-41d8-933a-46f5ef693087'"
      ]
     },
     "execution_count": 13,
     "metadata": {},
     "output_type": "execute_result"
    }
   ],
   "source": [
    "experiment_hadamard.multiAnalysis(\n",
    "    summoner_id=multi_exps1,\n",
    "    skip_write=False,\n",
    "    analysis_name=\"all_manual\",\n",
    "    multiprocess_write=True,\n",
    "    specific_analysis_args={k: {} for idx, k in enumerate(expkeys_of_multi_exps1)},\n",
    ")"
   ]
  },
  {
   "cell_type": "code",
   "execution_count": 14,
   "id": "9d2c5e8d",
   "metadata": {},
   "outputs": [
    {
     "name": "stdout",
     "output_type": "stream",
     "text": [
      "| Available results:\n",
      "| length: 180\n"
     ]
    }
   ],
   "source": [
    "print(\"| Available results:\")\n",
    "print(\n",
    "    \"| length:\",\n",
    "    sum(\n",
    "        len(v)\n",
    "        for v in experiment_hadamard.multimanagers[multi_exps1]\n",
    "        .quantity_container[\"all_manual.003\"]\n",
    "        .values()\n",
    "    ),\n",
    ")"
   ]
  },
  {
   "cell_type": "markdown",
   "id": "1f4ffe7a",
   "metadata": {},
   "source": [
    "### f. Read exported multimanager data\n"
   ]
  },
  {
   "cell_type": "code",
   "execution_count": 15,
   "id": "e873e02d",
   "metadata": {},
   "outputs": [
    {
     "name": "stdout",
     "output_type": "stream",
     "text": [
      "| Retrieve qurrent.hadamard_test.001...\n",
      "| at: qurrent.hadamard_test.001\n"
     ]
    },
    {
     "data": {
      "application/vnd.jupyter.widget-view+json": {
       "model_id": "dfbccf0f8cd744caa62e5770e678b02f",
       "version_major": 2,
       "version_minor": 0
      },
      "text/plain": [
       "| 0/180   0%|          | - Loading 180 experiments ... - 00:00 < ?"
      ]
     },
     "metadata": {},
     "output_type": "display_data"
    }
   ],
   "source": [
    "multi_exps1_reades = experiment_hadamard.multiRead(\n",
    "    save_location=\".\",\n",
    "    summoner_name=\"qurrent.hadamard_test.001\",\n",
    ")"
   ]
  },
  {
   "cell_type": "code",
   "execution_count": 16,
   "id": "e51b2202",
   "metadata": {},
   "outputs": [
    {
     "data": {
      "text/plain": [
       "['17a59e83-2db7-4d43-9022-d74b10ed5b93',\n",
       " '50ecbbcf-af4d-4033-9e95-98d7f19eecef',\n",
       " '03858d65-b4fe-4ce0-bbd2-23dc7d76244b',\n",
       " '4e4cf513-a5eb-4701-b5b2-128f0f2b1e69',\n",
       " '458ddf6a-3ccf-40da-9707-580a137c13ee',\n",
       " '65f51ebc-84e1-47ba-9a41-ab3a37de13d9',\n",
       " '0861a354-8418-4831-a572-a15b73fd6149',\n",
       " 'b15e7379-ba66-4d8f-b996-27e7807443ff',\n",
       " '5da36fba-8054-47d9-87e8-30e2ff193e2a',\n",
       " '7749e118-c98b-40b1-addb-693a5cc0d7e4',\n",
       " '308c99c9-9af9-4919-a709-8aaa07755fe2',\n",
       " '4aef5a93-dab6-42a6-bf71-703e092eb384',\n",
       " 'd56f041c-d0ab-40fc-a42d-57484e73e81f',\n",
       " '65099f19-35a4-4516-b087-9852372e2a5a',\n",
       " 'a37a490c-c12d-4eea-b02f-f8435b546dc5',\n",
       " 'd7dc313d-82b0-491e-879c-f466cf208928',\n",
       " '25ec9908-0ee5-49e4-a2a3-69a8dbd36c81',\n",
       " '13ffd710-8caf-4812-a87a-30633afa1a04',\n",
       " 'cebfc306-29f0-433b-ba91-af2a790efc8b',\n",
       " 'b566da9e-3c76-4a74-a687-3b656aa97dea',\n",
       " 'f584c4a7-12a3-4682-9c5a-c9c184fadafd',\n",
       " '07a0b63f-8dd5-468a-8ccd-dcf1174a6fb1',\n",
       " '82e10737-46fb-4f72-a588-79925faaa8d5',\n",
       " '8dd51005-7949-428f-98dc-8c392adece3d',\n",
       " '17e22559-7484-4eaa-aef2-9c30354a669c',\n",
       " '9aefeabe-65bc-40e3-8f0c-df0ae52158f2',\n",
       " '260c0ade-2fc9-4918-a80b-8d087f6b4a55',\n",
       " 'ea3dcd51-5ab6-434a-ada6-4cd1fcf442b5',\n",
       " 'd399f78a-c526-41ba-9662-58c589aa2613',\n",
       " '12d360c3-bf8a-4da0-aaf1-bc9e31ae0e7d',\n",
       " '84bc01b8-53da-4752-ac34-c2e196fab2f9',\n",
       " '6f6a7683-da72-4002-88a3-e9c461301989',\n",
       " 'b58e070d-396e-42ca-a5d8-7441ba56acb3',\n",
       " 'f5a5305e-0162-4c64-87a1-40fbe2d86731',\n",
       " '30a32619-d3b5-4765-89bd-29b4f4a9a6c3',\n",
       " '2895f25f-322d-4968-8461-a73c99784a14',\n",
       " 'ad15dc50-236d-4d53-8052-fbc74dfa180c',\n",
       " 'fe714c5c-de25-443c-9383-76845ba9ab4b',\n",
       " '48c361e7-8b90-4475-bbdd-4d474c43d6e8',\n",
       " 'c0c8d63b-dd5a-4640-b3da-af71f3855f2b',\n",
       " '79ca411f-0034-4115-9c07-58591b0d2592',\n",
       " 'f00225ef-d611-418e-a848-91022a0421d7',\n",
       " '4cd86c6a-678e-4148-9ff0-c57bafeed891',\n",
       " 'dc56762f-2c2c-4a1c-826e-12239b2bd43b',\n",
       " '71f2ca2b-a7d6-4f22-89bd-c33bd0d3d748',\n",
       " '49307fa8-fdcd-4fca-863e-d4c6f6ac3235',\n",
       " 'fd59cb89-a14a-45e5-800c-ccdcc764228d',\n",
       " '2dae2508-f36b-4222-91eb-b8bdcaca2c53',\n",
       " '1948cd39-8376-4240-b0f9-6caf6b17207c',\n",
       " 'e0ba4921-bffc-4beb-ab28-efc2c99c9b5a',\n",
       " 'f703cf92-bf4d-41a9-bda8-1849a5c3723b',\n",
       " 'bf1f1585-ffd3-4898-b427-2e1569cf3a22',\n",
       " '95985307-403a-4ac2-950d-054032011fae',\n",
       " 'c5cde347-e7b9-4596-9c66-528a87ecb397',\n",
       " 'af3e747f-014e-442d-892c-be16a372f06d',\n",
       " 'f8b810ea-b325-471e-b3f0-e9154c83fc41',\n",
       " '8151d341-2aed-4cc3-ab6a-8ba76335f7b5',\n",
       " '65e6cff0-ef0b-4ce1-ac72-360ff49f3a70',\n",
       " '4b376263-8a70-4c9d-ba2c-e63923b54115',\n",
       " 'fb3c8ebd-dfd7-4f37-abc5-a6b811489907',\n",
       " '052cc659-5519-4515-9e77-c52da03f5025',\n",
       " 'e0de50f0-8af0-4830-b48e-2242dc4b529b',\n",
       " '8fdf8562-6a02-449a-a60c-17b286507965',\n",
       " '5965d3d5-17f1-42f9-9532-7b14de838d68',\n",
       " '432e5530-318d-4c08-94e0-f2222bc4d8ee',\n",
       " '32f1b2eb-2f26-43db-8eec-2a7d575ee7e6',\n",
       " '53ff9011-a2db-4626-9b35-162a67b38bbd',\n",
       " '8527dea9-0039-4621-b0cd-c93b08d54fc4',\n",
       " '634c93b5-99ea-45bd-8e30-9c7620557daf',\n",
       " '1aecc863-15e7-400c-868b-ff8470f7aa80',\n",
       " '8ab9da4f-80f1-4b99-a07d-4d1d50ffbcf6',\n",
       " 'c8731fac-cb93-44f6-8e77-bd192b70175a',\n",
       " 'dec0f854-a0a9-4347-aca3-bf1ed5948d29',\n",
       " '6af13ce8-057f-4c0f-af47-2c28d089064e',\n",
       " '6537eaa5-3ae5-46b9-a06d-686405cc05be',\n",
       " '84fbd0ba-fd46-4bea-8b3e-26f1a70001ee',\n",
       " '2a9c1e77-6997-4771-abd9-81257b3e3ce7',\n",
       " 'c778b9dc-4fca-49c4-83d9-65d7c1cbde9d',\n",
       " '9c478cc7-e27d-4368-aa2d-e1e130b85e89',\n",
       " '22b394cc-0c5f-400f-b375-631d7b2e1e1d',\n",
       " '078363df-405d-4572-a137-413936169374',\n",
       " '797a6be0-8708-4cda-aad4-7cc34b0ef202',\n",
       " '5e7ce5bb-80a9-4fcc-8ebc-c5eabfd57c0f',\n",
       " 'df5d8232-449c-4405-b6ff-1586f1798210',\n",
       " '149cdd2c-e315-49f8-b1e5-78b0dae646b3',\n",
       " 'f2a6384c-6cd1-4c5b-8990-2a8fc9d2e628',\n",
       " '8de23e1d-f0a6-4d1c-a6c2-14445f1951e4',\n",
       " 'ab761b60-45c7-4388-98e1-aa16e8b716c2',\n",
       " '2a0763dd-8809-4ee1-be4d-c9175455ad01',\n",
       " '03b8a9c9-b157-4306-a1dc-3869cb8231d0',\n",
       " '86089712-9226-4356-9f98-28887945a529',\n",
       " '6694eeed-032f-47c4-956b-c15ad1d984fa',\n",
       " '870dfb14-02bd-43b0-8d3c-55ba94d2387b',\n",
       " '725cec07-6c1e-456a-9d4e-ff81e18ebf15',\n",
       " 'e61a1add-c333-45b2-8565-950293073fd6',\n",
       " '663524a5-a3ba-42e6-adb5-04c545b5d055',\n",
       " 'a030169a-437d-45eb-af60-7ce86898a35a',\n",
       " '8840f45a-1ec3-4c9b-a6ef-ba8dd8c48fdc',\n",
       " 'eebca6f7-9958-4c8e-83fa-2c349587d3d5',\n",
       " 'c1171111-b8fa-4a3a-840e-f09992e1d573',\n",
       " 'a8fb5f9d-017e-42b3-9756-cac6731174bc',\n",
       " '46ad8cd7-35c7-402d-9687-d36345310b4f',\n",
       " '4f13c833-c7aa-42c6-b392-2ddc5e7142f1',\n",
       " '0d4dedbb-a390-40d0-9933-4e40b2dfe4ba',\n",
       " 'b59d9e60-fbc5-46cc-8de2-c3e46e0ef18c',\n",
       " 'c2db8442-ca06-43d3-bcc6-8503d44f6f15',\n",
       " '172280e8-0720-4507-9ca0-56d61ac5c83e',\n",
       " 'd99fbcf1-8535-4ede-80ba-551dc6f362d5',\n",
       " 'b2c6960e-e233-4293-b974-63ed160a14ae',\n",
       " '5fd4656d-bc18-4c07-a12e-02606160308b',\n",
       " '47857e43-5440-432a-b84f-24300ed9234e',\n",
       " 'afddfc20-a07e-4ea3-973d-c0ae3697cde8',\n",
       " '47399159-f04d-4751-b180-01dc8aa1f643',\n",
       " 'ad772f3c-8072-43a9-be36-b2f83c9d4972',\n",
       " '7cb7b02f-fc60-4b87-b9de-8c379c762143',\n",
       " 'f6622914-6b72-4e8c-910d-d92e71bae71e',\n",
       " 'e6b6625a-f6ba-4c9d-8d56-0579deb920ea',\n",
       " 'f4d73433-67ff-428e-9497-2d5e0ee3f5aa',\n",
       " 'b9d79d86-2583-41c2-8b85-d079dc422438',\n",
       " 'b4a5d6c9-f7e1-47db-bcd8-5f542f306099',\n",
       " '5d72ca25-5a03-4df7-99fe-65b172a39145',\n",
       " '46b4cd3e-9eec-4747-b3a6-79908713f5fb',\n",
       " 'f858a4fc-45e9-4b11-83f0-fab659ed0a93',\n",
       " '84773b83-746a-4971-88f3-8f7fc5f93205',\n",
       " '68201d44-35d8-454a-88d3-f36ce8f08a8a',\n",
       " '07191d11-4493-4990-8d12-1a4b71bd4ab1',\n",
       " '67e93746-6062-4852-a5ca-2525bf761e7d',\n",
       " '4e9bd109-e51e-495d-a189-1b7baae92e90',\n",
       " '0aba1209-8289-4017-b772-2d30eea231e4',\n",
       " '810e2f8c-a5cb-4de9-9fc3-d11960c61e9f',\n",
       " '3b5c5a7e-62d1-47ad-ba06-a02f1942a9a1',\n",
       " '5be51fc8-8f0d-4ebe-89a2-f8fee075efc6',\n",
       " 'd5dd5948-e616-4bf6-bcd5-f7db0b528cf1',\n",
       " '8e4aff1f-9958-4c85-9b4b-922034fe0a63',\n",
       " '5cb546c9-f448-46a7-b36e-d716587d3d96',\n",
       " '758e47f2-906d-4266-95c8-ad913b45454d',\n",
       " '88c1e6a6-9d3e-493d-ad33-1daf4b60352f',\n",
       " 'a7505b4e-a1f5-4f2a-8b79-edcc743ab6c9',\n",
       " '7ae295da-a3f7-483b-acbd-29a334dae73f',\n",
       " '6b03624b-d72e-46b8-8167-6771bf3b3f31',\n",
       " '1a72780b-bd72-47fb-9a88-7409ccab53fb',\n",
       " 'bf5caf75-c8a3-45b7-97a7-96a14cf7a9a0',\n",
       " 'df7b0f16-5cdc-4648-8c9f-6b89722df63f',\n",
       " 'c3e02ed3-678e-4512-aab7-4866d8f5816b',\n",
       " 'e01015fb-0939-4ebc-8ece-9b3a249d8616',\n",
       " '17da35e3-632a-4592-9ad2-1842ce8c832b',\n",
       " 'dc33f3a5-9939-4286-8756-19ae2d758411',\n",
       " '25dcc9ef-943f-4e02-b107-d38682d9baf7',\n",
       " '3eaa7277-9c57-4753-9540-7b7ef0d38297',\n",
       " '7dec4d04-7548-4ac3-a3a2-13b60658ca06',\n",
       " '50e96554-2c98-44b5-b2d9-c23fd7f28ab1',\n",
       " '310d7932-9881-4b59-a7c9-d8d7d04f7e3e',\n",
       " '03d8155b-f076-4f30-95a3-a1f809928ba4',\n",
       " '1dd795b6-c9ea-4372-96be-5fdb49781d2e',\n",
       " '77e010d8-8936-442e-be47-98443242b1c2',\n",
       " '6918d80d-6955-4953-ae9a-5ba0e9430628',\n",
       " 'e3f133aa-e746-4681-9826-dbd4df2e7ba4',\n",
       " 'e2fb1449-63f2-4df1-a180-ab2d0d9fb8d5',\n",
       " 'a16d9db9-2145-44f1-81e8-fcd7a171d3ec',\n",
       " '0a8400cb-6827-4ff3-bab4-77cb0c674e2e',\n",
       " '7b955838-28e0-43b4-b375-c743d929dab8',\n",
       " 'ed86bf46-0485-4130-9825-5f1ac2b312bd',\n",
       " '2254e80e-f2c0-414d-90d7-39b77f3c9379',\n",
       " '2e7406cd-aae8-49f4-ab05-1ed326574312',\n",
       " '983925bd-cf84-4473-81ac-9123fa4afd3b',\n",
       " '5e729767-b2ca-4ff9-bf0d-02aa47d87ce3',\n",
       " 'e2ffffa8-7a85-4b38-b77c-b72b272f7f47',\n",
       " '863b3b7f-02e1-4f10-8ae7-5efd6d77e54e',\n",
       " '667a50d5-083c-46cd-9ac8-e96751d160be',\n",
       " 'a066e519-7f57-4ea5-a957-e167af21c57c',\n",
       " 'ced961b4-9b51-49a1-ad24-957ee3823f62',\n",
       " '59dd8e55-acb7-49d8-aaeb-79fc847ad195',\n",
       " 'e0a95b5f-e256-4638-b73c-784640ef8630',\n",
       " 'b5d0cf6f-ed2b-4c98-b41d-fd547953ad42',\n",
       " '13ffea3b-3fc3-4974-8e92-31160887afb5',\n",
       " 'f9352094-37b5-4b33-af33-85ce7d3deac7',\n",
       " 'e7d5b351-26c8-4636-abf0-62973938721c',\n",
       " 'c5901350-6607-4b81-aaec-1dc686141232',\n",
       " 'c53830cf-2b3b-43d9-a902-c30b6d9762d4',\n",
       " 'f230db86-03a9-4837-8661-67a9e8167a6f']"
      ]
     },
     "execution_count": 16,
     "metadata": {},
     "output_type": "execute_result"
    }
   ],
   "source": [
    "expkeys_of_multi_exps1"
   ]
  },
  {
   "cell_type": "markdown",
   "id": "98e2f717",
   "metadata": {},
   "source": [
    "---\n",
    "\n",
    "### Post-Process Availablities and Version Info"
   ]
  },
  {
   "cell_type": "code",
   "execution_count": 17,
   "id": "6870850f",
   "metadata": {},
   "outputs": [
    {
     "data": {
      "text/plain": [
       " | Qurry version: 0.12.2.dev1\n",
       "---------------------------------------------------------------------------\n",
       " ### Qurry Post-Processing\n",
       "   - Backend Availability ................... Python Cython Rust   JAX   \n",
       " - randomized_measure\n",
       "   - entangled_entropy.entropy_core_2 ....... Yes    Depr.  Yes    No    \n",
       "   - entangle_entropy.purity_cell_2 ......... Yes    Depr.  Yes    No    \n",
       "   - entangled_entropy_v1.entropy_core ...... Yes    Depr.  Yes    No    \n",
       "   - entangle_entropy_v1.purity_cell ........ Yes    Depr.  Yes    No    \n",
       "   - wavefunction_overlap.echo_core_2 ....... Yes    Depr.  Yes    No    \n",
       "   - wavefunction_overlap.echo_cell_2 ....... Yes    Depr.  Yes    No    \n",
       "   - wavefunction_overlap_v1.echo_core ...... Yes    Depr.  Yes    No    \n",
       "   - wavefunction_overlap_v1.echo_cell ...... Yes    Depr.  Yes    No    \n",
       " - hadamard_test\n",
       "   - purity_echo_core ....................... Yes    No     Yes    No    \n",
       " - magnet_square\n",
       "   - magnsq_core ............................ Yes    No     No     No    \n",
       " - classical_shadow\n",
       "   - rho_m_core ............................. Yes    No     No     Yes   \n",
       " - utils\n",
       "   - randomized ............................. Yes    Depr.  Yes    No    \n",
       "   - counts_process ......................... Yes    No     Yes    No    \n",
       "   - bit_slice .............................. Yes    No     Yes    No    \n",
       "   - dummy .................................. Yes    No     Yes    No    \n",
       "   - test ................................... Yes    No     Yes    No    \n",
       "---------------------------------------------------------------------------\n",
       "   + Yes ...... Working normally.\n",
       "   + Error .... Exception occurred.\n",
       "   + No ....... Not supported.\n",
       "   + Depr. .... Deprecated.\n",
       "---------------------------------------------------------------------------\n",
       "by <Hoshi>"
      ]
     },
     "execution_count": 17,
     "metadata": {},
     "output_type": "execute_result"
    }
   ],
   "source": [
    "from qurry.process import AVAIBILITY_STATESHEET\n",
    "AVAIBILITY_STATESHEET"
   ]
  },
  {
   "cell_type": "code",
   "execution_count": null,
   "id": "a948b7d0",
   "metadata": {},
   "outputs": [],
   "source": []
  }
 ],
 "metadata": {
  "kernelspec": {
   "display_name": "quantumsphere12",
   "language": "python",
   "name": "python3"
  },
  "language_info": {
   "codemirror_mode": {
    "name": "ipython",
    "version": 3
   },
   "file_extension": ".py",
   "mimetype": "text/x-python",
   "name": "python",
   "nbconvert_exporter": "python",
   "pygments_lexer": "ipython3",
   "version": "3.12.3"
  }
 },
 "nbformat": 4,
 "nbformat_minor": 5
}
