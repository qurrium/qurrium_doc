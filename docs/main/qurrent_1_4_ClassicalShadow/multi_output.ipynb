{
 "cells": [
  {
   "cell_type": "markdown",
   "id": "166f3b67",
   "metadata": {},
   "source": [
    "# 1.4 EntropyMeasure - Classical Shadow\n",
    "## Multiple Experiments\n",
    "\n",
    "Consider a scenario, you have multiple circuits that you want to run at once.\n",
    "\n",
    "Call `.measure()` one by one will be inefficient,\n",
    "no to mention that you also need to call `.anlyze()` for their post-processing.\n",
    "\n",
    "Here we provide a more efficient way solve this problem,\n",
    "where the true power of Qurrium as experiment manage toolkit.\n"
   ]
  },
  {
   "cell_type": "markdown",
   "id": "86beb579",
   "metadata": {},
   "source": [
    "### a. Import the instances\n"
   ]
  },
  {
   "cell_type": "code",
   "execution_count": 1,
   "id": "0fc71722",
   "metadata": {},
   "outputs": [
    {
     "name": "stderr",
     "output_type": "stream",
     "text": [
      "/home/nccu/Documents/.homejupyter/qurryplayground/qurrium_docs/lib/python3.12/site-packages/tqdm/auto.py:21: TqdmWarning: IProgress not found. Please update jupyter and ipywidgets. See https://ipywidgets.readthedocs.io/en/stable/user_install.html\n",
      "  from .autonotebook import tqdm as notebook_tqdm\n"
     ]
    }
   ],
   "source": [
    "from qurry import ShadowUnveil\n",
    "\n",
    "experiment_shadow = ShadowUnveil()"
   ]
  },
  {
   "cell_type": "markdown",
   "id": "d48d1d69",
   "metadata": {},
   "source": [
    "### b. Preparing quantum circuit\n",
    "\n",
    "Prepare and add circuits to the `.wave` for later usage.\n"
   ]
  },
  {
   "cell_type": "code",
   "execution_count": 2,
   "id": "2e597e81",
   "metadata": {},
   "outputs": [
    {
     "data": {
      "text/plain": [
       "WaveContainer({\n",
       "  'trivial_paramagnet_2': <qurry.recipe.simple.paramagnet.TrivialParamagnet object at 0x7dce04708080>,\n",
       "  'ghz_2': <qurry.recipe.simple.cat.GHZ object at 0x7dce046a6e10>,\n",
       "  'neel_2': <qiskit.circuit.quantumcircuit.QuantumCircuit object at 0x7dce0482e1e0>,\n",
       "  'trivial_paramagnet_4': <qurry.recipe.simple.paramagnet.TrivialParamagnet object at 0x7dce04683830>,\n",
       "  'ghz_4': <qurry.recipe.simple.cat.GHZ object at 0x7dce30e8f8c0>,\n",
       "  'neel_4': <qiskit.circuit.quantumcircuit.QuantumCircuit object at 0x7dce75c46fc0>,\n",
       "  'trivial_paramagnet_6': <qurry.recipe.simple.paramagnet.TrivialParamagnet object at 0x7dce04646120>,\n",
       "  'ghz_6': <qurry.recipe.simple.cat.GHZ object at 0x7dce047c45c0>,\n",
       "  'neel_6': <qiskit.circuit.quantumcircuit.QuantumCircuit object at 0x7dce046a5eb0>,\n",
       "  'trivial_paramagnet_8': <qurry.recipe.simple.paramagnet.TrivialParamagnet object at 0x7dce046c7560>,\n",
       "  'ghz_8': <qurry.recipe.simple.cat.GHZ object at 0x7dce046f8080>,\n",
       "  'neel_8': <qiskit.circuit.quantumcircuit.QuantumCircuit object at 0x7dce046f8500>,\n",
       "  'trivial_paramagnet_10': <qurry.recipe.simple.paramagnet.TrivialParamagnet object at 0x7dce046f85f0>,\n",
       "  'ghz_10': <qurry.recipe.simple.cat.GHZ object at 0x7dce046f8650>,\n",
       "  'neel_10': <qiskit.circuit.quantumcircuit.QuantumCircuit object at 0x7dce04645a00>,\n",
       "  'trivial_paramagnet_12': <qurry.recipe.simple.paramagnet.TrivialParamagnet object at 0x7dce04616870>,\n",
       "  'ghz_12': <qurry.recipe.simple.cat.GHZ object at 0x7dce046f87a0>,\n",
       "  'neel_12': <qiskit.circuit.quantumcircuit.QuantumCircuit object at 0x7dce046f8800>})"
      ]
     },
     "execution_count": 2,
     "metadata": {},
     "output_type": "execute_result"
    }
   ],
   "source": [
    "from qiskit import QuantumCircuit\n",
    "from qurry.recipe import TrivialParamagnet, GHZ\n",
    "\n",
    "\n",
    "def make_neel_circuit(n):\n",
    "    qc = QuantumCircuit(n)\n",
    "    for i in range(0, n, 2):\n",
    "        qc.x(i)\n",
    "    return qc\n",
    "\n",
    "\n",
    "for i in range(2, 13, 2):\n",
    "    experiment_shadow.add(TrivialParamagnet(i), f\"trivial_paramagnet_{i}\")\n",
    "    experiment_shadow.add(GHZ(i), f\"ghz_{i}\")\n",
    "    experiment_shadow.add(make_neel_circuit(i), f\"neel_{i}\")\n",
    "\n",
    "experiment_shadow.waves"
   ]
  },
  {
   "cell_type": "markdown",
   "id": "25fc5d4c",
   "metadata": {},
   "source": [
    "### c. Execute multiple experiments at once\n",
    "\n",
    "Let's demonstrate the true power of Qurrium.\n"
   ]
  },
  {
   "cell_type": "code",
   "execution_count": 3,
   "id": "1e63ed3e",
   "metadata": {},
   "outputs": [],
   "source": [
    "from qurry.qurrent.classical_shadow.arguments import ShadowUnveilMeasureArgs"
   ]
  },
  {
   "cell_type": "markdown",
   "id": "45d57823",
   "metadata": {},
   "source": [
    "Preparing a configuration list for multiple experiments with following parameters:\n",
    "\n",
    "```python\n",
    "class ShadowUnveilMeasureArgs(total=False):\n",
    "    \"\"\"Output arguments for :meth:`output`.\"\"\"\n",
    "    shots: int\n",
    "    \"\"\"Number of shots.\"\"\"\n",
    "    tags: Optional[tuple[str, ...]]\n",
    "    \"\"\"The tags to be used for the experiment.\"\"\"\n",
    "\n",
    "    wave: Optional[Union[QuantumCircuit, Hashable]]\n",
    "    \"\"\"The key or the circuit to execute.\"\"\"\n",
    "    times: int\n",
    "    \"\"\"The number of random unitary operator. \n",
    "    It will denote as `N_U` in the experiment name.\"\"\"\n",
    "    measure: Optional[Union[tuple[int, int], int, list[int]]]\n",
    "    \"\"\"The measure range.\"\"\"\n",
    "    unitary_loc: Optional[Union[tuple[int, int], int, list[int]]]\n",
    "    \"\"\"The range of the unitary operator.\"\"\"\n",
    "    unitary_loc_not_cover_measure: bool\n",
    "    \"\"\"Whether the range of the unitary operator is not cover the measure range.\"\"\"\n",
    "    random_unitary_seeds: Optional[dict[int, dict[int, int]]]\n",
    "    \"\"\"The seeds for all random unitary operator.\n",
    "    This argument only takes input as type of `dict[int, dict[int, int]]`.\n",
    "    The first key is the index for the random unitary operator.\n",
    "    The second key is the index for the qubit.\n",
    "\n",
    "    .. code-block:: python\n",
    "        {\n",
    "            0: {0: 1234, 1: 5678},\n",
    "            1: {0: 2345, 1: 6789},\n",
    "            2: {0: 3456, 1: 7890},\n",
    "        }\n",
    "\n",
    "    If you want to generate the seeds for all random unitary operator,\n",
    "    you can use the function `generate_random_unitary_seeds` \n",
    "    in `qurry.qurrium.utils.random_unitary`.\n",
    "\n",
    "    .. code-block:: python\n",
    "        from qurry.qurrium.utils.random_unitary import generate_random_unitary_seeds\n",
    "        random_unitary_seeds = generate_random_unitary_seeds(100, 2)\n",
    "    \"\"\"\n",
    "```\n"
   ]
  },
  {
   "cell_type": "code",
   "execution_count": 4,
   "id": "9a6c6749",
   "metadata": {},
   "outputs": [
    {
     "name": "stdout",
     "output_type": "stream",
     "text": [
      "180\n"
     ]
    }
   ],
   "source": [
    "config_list: list[ShadowUnveilMeasureArgs] = [\n",
    "    {\n",
    "        \"shots\": 1024,\n",
    "        \"times\": 100,\n",
    "        \"wave\": f\"{wave_names}_{i}\",\n",
    "        \"tags\": (wave_names, f\"size_{i}\"),\n",
    "    }\n",
    "    for _ in range(10)\n",
    "    for i in range(2, 13, 2)\n",
    "    for wave_names in [\"trivial_paramagnet\", \"ghz\", \"neel\"]\n",
    "]\n",
    "print(len(config_list))"
   ]
  },
  {
   "cell_type": "markdown",
   "id": "28ef8515",
   "metadata": {},
   "source": [
    "The `.multiOutput` will return an id of this `multimanager` instance,\n",
    "which can be used to get the results and post-process them.\n",
    "\n",
    "Each `multimanager` will export the experiments in a folder you can specify\n",
    "by setting `save_location` parameter with default location for current directory\n",
    "where Python executed.\n",
    "It will create a folder with the name of the `multimanager` instance,\n",
    "and inside it will create a folder for storing each experiment data.\n",
    "\n",
    "It will do firstly in the building process, but you can skip it by setting `skip_build_write=True` to save time.\n",
    "After all experiments are executed, it will export secondly,\n",
    "which can also be skipped by setting `skip_output_write=True` for no files output.\n"
   ]
  },
  {
   "cell_type": "code",
   "execution_count": 5,
   "id": "3135a9f2",
   "metadata": {},
   "outputs": [
    {
     "name": "stdout",
     "output_type": "stream",
     "text": [
      "| MultiManager building...\n",
      "| Write \"qurshady.001\", at location \"qurshady.001\"\n"
     ]
    },
    {
     "name": "stderr",
     "output_type": "stream",
     "text": [
      "| 180/180 100%|██████████| - Loading 180 experiments... - 00:17 < 00:00\n"
     ]
    },
    {
     "name": "stdout",
     "output_type": "stream",
     "text": [
      "| MultiOutput running...\n"
     ]
    },
    {
     "name": "stderr",
     "output_type": "stream",
     "text": [
      "| 180/180 100%|██████████| - Executing completed 'run.001', denoted date: 2025-05-22 14:39:58... - 01:10 < 00:00\n"
     ]
    },
    {
     "name": "stdout",
     "output_type": "stream",
     "text": [
      "| Export multimanager...\n"
     ]
    },
    {
     "name": "stderr",
     "output_type": "stream",
     "text": [
      "| 9/9 - Exporting done - 00:00 < 00:00                           "
     ]
    },
    {
     "name": "stdout",
     "output_type": "stream",
     "text": [
      "| No quantity to export.\n",
      "| Export multi.config.json for cc9f67e3-fcc4-4399-bf8e-5316e4f90fa0\n"
     ]
    },
    {
     "name": "stderr",
     "output_type": "stream",
     "text": [
      "\n",
      "| 179/179 - Exporting experiments... - 00:14 < 00:00\n",
      "| 180/180 - Loading file infomation... - 00:00 < 00:00"
     ]
    },
    {
     "name": "stdout",
     "output_type": "stream",
     "text": [
      "| Exporting file taglist...\n",
      "| Exporting qurshady.001/qurryinfo.json...\n",
      "| Exporting qurshady.001/qurryinfo.json done.\n"
     ]
    },
    {
     "name": "stderr",
     "output_type": "stream",
     "text": [
      "\n"
     ]
    },
    {
     "data": {
      "text/plain": [
       "'cc9f67e3-fcc4-4399-bf8e-5316e4f90fa0'"
      ]
     },
     "execution_count": 5,
     "metadata": {},
     "output_type": "execute_result"
    }
   ],
   "source": [
    "multi_exps1 = experiment_shadow.multiOutput(\n",
    "    config_list,\n",
    "    summoner_name=\"qurshady\",  # you can name it whatever you want\n",
    "    multiprocess_build=True,\n",
    "    # Using multiprocessing to build the experiments,\n",
    "    # it will be faster but take all the CPU\n",
    "    skip_build_write=True,\n",
    "    # Skip the writing of the experiment as files during the build,\n",
    "    save_location=\".\",\n",
    "    # Save the experiment as files in the current directory\n",
    "    multiprocess_write=True,\n",
    "    # Writing the experiment as files using multiprocessing,\n",
    ")\n",
    "multi_exps1"
   ]
  },
  {
   "cell_type": "markdown",
   "id": "bb81b201",
   "metadata": {},
   "source": [
    "You can check the result of `multiOutput` that we just executed by accessing the `.multimanagers`"
   ]
  },
  {
   "cell_type": "code",
   "execution_count": null,
   "id": "c585ba29",
   "metadata": {},
   "outputs": [
    {
     "data": {
      "text/plain": [
       "MultiManagerContainer(num=1, {\n",
       "  \"35981502-1353-452d-b2f4-512c2f9f7f44\":\n",
       "    <MultiManager(name=\"qurrent.randomized_measure.007\", jobstype=\"local\", ..., exps_num=180)>,\n",
       "})"
      ]
     },
     "metadata": {},
     "output_type": "display_data"
    }
   ],
   "source": [
    "experiment_shadow.multimanagers"
   ]
  },
  {
   "cell_type": "code",
   "execution_count": 6,
   "id": "29668232",
   "metadata": {},
   "outputs": [
    {
     "data": {
      "text/plain": [
       "<MultiManager(id=\"cc9f67e3-fcc4-4399-bf8e-5316e4f90fa0\",\n",
       "  name=\"qurshady.001\",\n",
       "  tags=(),\n",
       "  jobstype=\"local\",\n",
       "  pending_strategy=\"tags\",\n",
       "  last_events={\n",
       "    'output.001': '2025-05-22 14:39:58',},\n",
       "  exps_num=180)>"
      ]
     },
     "execution_count": 6,
     "metadata": {},
     "output_type": "execute_result"
    }
   ],
   "source": [
    "experiment_shadow.multimanagers[multi_exps1]"
   ]
  },
  {
   "cell_type": "markdown",
   "id": "4052ff26",
   "metadata": {},
   "source": [
    "### d. Run post-processing at once\n"
   ]
  },
  {
   "cell_type": "code",
   "execution_count": 7,
   "id": "045b5b22",
   "metadata": {},
   "outputs": [
    {
     "name": "stderr",
     "output_type": "stream",
     "text": [
      "| 180/180 - Analysis: | taking time of all rho_m: 0.0140 sec:  - 00:02 < 00:00"
     ]
    },
    {
     "name": "stdout",
     "output_type": "stream",
     "text": [
      "| \"report.001\" has been completed.\n"
     ]
    },
    {
     "name": "stderr",
     "output_type": "stream",
     "text": [
      "\n"
     ]
    },
    {
     "data": {
      "text/plain": [
       "'cc9f67e3-fcc4-4399-bf8e-5316e4f90fa0'"
      ]
     },
     "execution_count": 7,
     "metadata": {},
     "output_type": "execute_result"
    }
   ],
   "source": [
    "experiment_shadow.multiAnalysis(\n",
    "    summoner_id=multi_exps1,\n",
    "    skip_write=True,\n",
    "    multiprocess_write=False,\n",
    "    selected_qubits=[0, 1],\n",
    ")"
   ]
  },
  {
   "cell_type": "code",
   "execution_count": 8,
   "id": "483b0b35",
   "metadata": {},
   "outputs": [
    {
     "name": "stdout",
     "output_type": "stream",
     "text": [
      "| Available results:\n",
      "| - ('trivial_paramagnet', 'size_2') with length 10\n",
      "| - ('ghz', 'size_2') with length 10\n",
      "| - ('neel', 'size_2') with length 10\n",
      "| - ('trivial_paramagnet', 'size_4') with length 10\n",
      "| - ('ghz', 'size_4') with length 10\n",
      "| - ('neel', 'size_4') with length 10\n",
      "| - ('trivial_paramagnet', 'size_6') with length 10\n",
      "| - ('ghz', 'size_6') with length 10\n",
      "| - ('neel', 'size_6') with length 10\n",
      "| - ('trivial_paramagnet', 'size_8') with length 10\n",
      "| - ('ghz', 'size_8') with length 10\n",
      "| - ('neel', 'size_8') with length 10\n",
      "| - ('trivial_paramagnet', 'size_10') with length 10\n",
      "| - ('ghz', 'size_10') with length 10\n",
      "| - ('neel', 'size_10') with length 10\n",
      "| - ('trivial_paramagnet', 'size_12') with length 10\n",
      "| - ('ghz', 'size_12') with length 10\n",
      "| - ('neel', 'size_12') with length 10\n"
     ]
    }
   ],
   "source": [
    "print(\"| Available results:\")\n",
    "for k, v in (\n",
    "    experiment_shadow.multimanagers[multi_exps1]\n",
    "    .quantity_container[\"report.001\"]\n",
    "    .items()\n",
    "):\n",
    "    print(\"| -\", k, \"with length\", len(v))"
   ]
  },
  {
   "cell_type": "code",
   "execution_count": 9,
   "id": "c8b8b3c6",
   "metadata": {},
   "outputs": [
    {
     "data": {
      "text/plain": [
       "array([[0.24400879+0.00000000e+00j, 0.20920898+3.67675781e-03j,\n",
       "        0.23206055-1.90429688e-04j, 0.22662598-8.78906250e-05j],\n",
       "       [0.20920898-3.67675781e-03j, 0.24664551+0.00000000e+00j,\n",
       "        0.22337402-6.50390625e-03j, 0.23293945-2.73925781e-03j],\n",
       "       [0.23206055+1.90429688e-04j, 0.22337402+6.50390625e-03j,\n",
       "        0.25660645+0.00000000e+00j, 0.21079102-2.03613281e-03j],\n",
       "       [0.22662598+8.78906250e-05j, 0.23293945+2.73925781e-03j,\n",
       "        0.21079102+2.03613281e-03j, 0.25273926+0.00000000e+00j]])"
      ]
     },
     "execution_count": 9,
     "metadata": {},
     "output_type": "execute_result"
    }
   ],
   "source": [
    "experiment_shadow.multimanagers[multi_exps1].quantity_container[\"report.001\"][\n",
    "    (\"trivial_paramagnet\", \"size_10\")\n",
    "][:2][0][\"expect_rho\"]"
   ]
  },
  {
   "cell_type": "markdown",
   "id": "1963d333",
   "metadata": {},
   "source": [
    "### e. Run post-processing at once with specific analysis arguments\n",
    "\n",
    "At first, we need to get the each experiment's id in the `multimanager` instance.\n"
   ]
  },
  {
   "cell_type": "code",
   "execution_count": 10,
   "id": "b114c2d8",
   "metadata": {},
   "outputs": [
    {
     "name": "stdout",
     "output_type": "stream",
     "text": [
      "180\n"
     ]
    }
   ],
   "source": [
    "expkeys_of_multi_exps1 = list(experiment_shadow.multimanagers[multi_exps1].exps.keys())\n",
    "print(len(expkeys_of_multi_exps1))"
   ]
  },
  {
   "cell_type": "markdown",
   "id": "f13dfbdd",
   "metadata": {},
   "source": [
    "1. If you want to run the post-processing for some specific experiments,\n",
    "   for example, the first 3 experiments we get for the `multimanager` instance.\n"
   ]
  },
  {
   "cell_type": "code",
   "execution_count": 11,
   "id": "38778cf7",
   "metadata": {},
   "outputs": [
    {
     "name": "stderr",
     "output_type": "stream",
     "text": [
      "| 180/180 - Analysis: Skipped 9a0bb3ed-5564-4bfb-9bf2-8a998075dfef in cc9f67e3-fcc4-4399-bf8e-5316e4f90fa0. - 00:00 < 00:00"
     ]
    },
    {
     "name": "stdout",
     "output_type": "stream",
     "text": [
      "| \"first_3.002\" has been completed.\n"
     ]
    },
    {
     "name": "stderr",
     "output_type": "stream",
     "text": [
      "\n"
     ]
    },
    {
     "data": {
      "text/plain": [
       "'cc9f67e3-fcc4-4399-bf8e-5316e4f90fa0'"
      ]
     },
     "execution_count": 11,
     "metadata": {},
     "output_type": "execute_result"
    }
   ],
   "source": [
    "experiment_shadow.multiAnalysis(\n",
    "    summoner_id=multi_exps1,\n",
    "    analysis_name=\"first_3\",\n",
    "    skip_write=True,\n",
    "    multiprocess_write=False,\n",
    "    specific_analysis_args={\n",
    "        k: (\n",
    "            {\n",
    "                \"selected_qubits\": [0, 1],\n",
    "            }\n",
    "            if idx < 3\n",
    "            else False\n",
    "        )\n",
    "        for idx, k in enumerate(expkeys_of_multi_exps1)\n",
    "    },\n",
    ")"
   ]
  },
  {
   "cell_type": "code",
   "execution_count": 12,
   "id": "ada4eb86",
   "metadata": {},
   "outputs": [
    {
     "name": "stdout",
     "output_type": "stream",
     "text": [
      "| Available results:\n",
      "| length: 3\n"
     ]
    }
   ],
   "source": [
    "print(\"| Available results:\")\n",
    "print(\n",
    "    \"| length:\",\n",
    "    sum(\n",
    "        len(v)\n",
    "        for v in experiment_shadow.multimanagers[multi_exps1]\n",
    "        .quantity_container[\"first_3.002\"]\n",
    "        .values()\n",
    "    ),\n",
    ")"
   ]
  },
  {
   "cell_type": "markdown",
   "id": "4a1f8281",
   "metadata": {},
   "source": [
    "2. Or manually specify all the analysis arguments for each experiment.\n"
   ]
  },
  {
   "cell_type": "code",
   "execution_count": 13,
   "id": "6f483aff",
   "metadata": {},
   "outputs": [
    {
     "name": "stderr",
     "output_type": "stream",
     "text": [
      "| 180/180 - Analysis: | taking time of all rho_m: 0.0164 sec:  - 00:02 < 00:00\n"
     ]
    },
    {
     "name": "stdout",
     "output_type": "stream",
     "text": [
      "| \"all_manual.003\" has been completed.\n",
      "| Export multimanager...\n"
     ]
    },
    {
     "name": "stderr",
     "output_type": "stream",
     "text": [
      "| 9/9 - Exporting done - 00:00 < 00:00                           \n",
      "| 3/3 - exported quantity complete - 00:00 < 00:00    \n"
     ]
    },
    {
     "name": "stdout",
     "output_type": "stream",
     "text": [
      "| Export multi.config.json for cc9f67e3-fcc4-4399-bf8e-5316e4f90fa0\n"
     ]
    },
    {
     "name": "stderr",
     "output_type": "stream",
     "text": [
      "| 179/179 - Exporting experiments... - 00:22 < 00:00\n",
      "| 180/180 - Loading file infomation... - 00:00 < 00:00"
     ]
    },
    {
     "name": "stdout",
     "output_type": "stream",
     "text": [
      "| Exporting file taglist...\n",
      "| Exporting qurshady.001/qurryinfo.json...\n",
      "| Exporting qurshady.001/qurryinfo.json done.\n"
     ]
    },
    {
     "name": "stderr",
     "output_type": "stream",
     "text": [
      "\n"
     ]
    },
    {
     "data": {
      "text/plain": [
       "'cc9f67e3-fcc4-4399-bf8e-5316e4f90fa0'"
      ]
     },
     "execution_count": 13,
     "metadata": {},
     "output_type": "execute_result"
    }
   ],
   "source": [
    "experiment_shadow.multiAnalysis(\n",
    "    summoner_id=multi_exps1,\n",
    "    skip_write=False,\n",
    "    analysis_name=\"all_manual\",\n",
    "    multiprocess_write=True,\n",
    "    specific_analysis_args={\n",
    "        k: {\n",
    "            \"selected_qubits\": [0, 1],  # selected qubits for the analysis\n",
    "        }\n",
    "        for idx, k in enumerate(expkeys_of_multi_exps1)\n",
    "    },\n",
    ")"
   ]
  },
  {
   "cell_type": "code",
   "execution_count": 14,
   "id": "9d2c5e8d",
   "metadata": {},
   "outputs": [
    {
     "name": "stdout",
     "output_type": "stream",
     "text": [
      "| Available results:\n",
      "| length: 180\n"
     ]
    }
   ],
   "source": [
    "print(\"| Available results:\")\n",
    "print(\n",
    "    \"| length:\",\n",
    "    sum(\n",
    "        len(v)\n",
    "        for v in experiment_shadow.multimanagers[multi_exps1]\n",
    "        .quantity_container[\"all_manual.003\"]\n",
    "        .values()\n",
    "    ),\n",
    ")"
   ]
  },
  {
   "cell_type": "markdown",
   "id": "1f4ffe7a",
   "metadata": {},
   "source": [
    "### f. Read exported multimanager data\n"
   ]
  },
  {
   "cell_type": "code",
   "execution_count": 15,
   "id": "e873e02d",
   "metadata": {},
   "outputs": [
    {
     "name": "stdout",
     "output_type": "stream",
     "text": [
      "| Retrieve qurshady.001...\n",
      "| at: qurshady.001\n"
     ]
    },
    {
     "name": "stderr",
     "output_type": "stream",
     "text": [
      "| 0/180   0%|          | - Loading 180 experiments ... - 00:00 < ?"
     ]
    },
    {
     "name": "stderr",
     "output_type": "stream",
     "text": [
      "| 180/180 100%|██████████| - Loading 180 experiments ... - 00:06 < 00:00\n"
     ]
    }
   ],
   "source": [
    "multi_exps1_reades = experiment_shadow.multiRead(\n",
    "    save_location=\".\",\n",
    "    summoner_name=\"qurshady.001\",\n",
    ")"
   ]
  },
  {
   "cell_type": "code",
   "execution_count": 16,
   "id": "e51b2202",
   "metadata": {},
   "outputs": [
    {
     "data": {
      "text/plain": [
       "['10ccb553-825f-48f6-aa6d-16ed70006f98',\n",
       " 'eb8d4f2c-4a93-487e-802b-f5ac7507b7ab',\n",
       " 'a5b67af0-d096-47da-a914-65315095fe40',\n",
       " '7c99d7e3-2bcb-4061-ac8b-2014b31965fa',\n",
       " 'db809f77-7b3e-4612-ba0c-f15f04b8ce64',\n",
       " 'e99edf03-eb24-4e4d-a737-526d62e9c04f',\n",
       " 'c96f6947-dfe6-4b82-b094-078155ec4657',\n",
       " '827f90f6-c733-4253-a175-31f1fc5c0122',\n",
       " '9614bcb7-6689-489f-b7bd-28bf4489c60d',\n",
       " '828d4a7c-4b9d-4d62-98b0-c24b4194875a',\n",
       " 'ad733a47-4dbb-47c8-aca3-3873d711c242',\n",
       " '161e3067-0c26-45cd-bbf9-caf6fd7278b5',\n",
       " 'c43e50f6-2430-4f48-824f-9ce28020d0ae',\n",
       " '38984ae8-837d-44dd-b0f9-33bef586a0ad',\n",
       " 'c8a2deb9-643f-4c3a-95dc-bebf3da6dc19',\n",
       " 'd835b33f-8d47-43f1-aa55-dc4671a487ea',\n",
       " 'db0872eb-8e45-4662-b20f-cf84a72ddce5',\n",
       " 'bb977db8-9e6d-44a4-8766-b11b8ed5f4a1',\n",
       " '634bdc2b-728f-4fd0-ab40-d84e3161b666',\n",
       " '700e85df-5a31-4ba8-950c-6ae425b20031',\n",
       " '793ca250-348a-4154-86a2-7da5c61b4cdc',\n",
       " '27143755-a076-4ea2-b1e1-f1662f2f9c02',\n",
       " 'f8c5dd67-da77-4873-b3b9-08fe23e6c7b3',\n",
       " 'a3eddb53-fc41-48f1-8f28-5cc437f9518b',\n",
       " '711276ca-f479-407b-a4f9-eaeb5a13d1b0',\n",
       " 'd29c05bd-b8af-44d8-8218-afdfa9aae2bb',\n",
       " '4e6fd4c9-306c-4fa0-ba30-946a90570500',\n",
       " '7b6bf5e9-77d4-4222-b467-922a826d944f',\n",
       " 'd5c07f62-5f46-46df-8176-5869f6ee42be',\n",
       " 'ad267623-78eb-467f-bf7e-e5aee5fc3769',\n",
       " '987a84b9-4380-4f37-965f-3a9eae5b5481',\n",
       " '6136c906-34bb-47f7-852e-9625e212d289',\n",
       " '7449c288-aa45-494a-9ab8-e461d56c6a6e',\n",
       " '6cbd1a9b-788e-4429-9a16-72b6c7c0b216',\n",
       " '19b883a3-f913-4afb-90e3-a558d694fe1a',\n",
       " 'd58328a6-3f7a-470b-876c-da01caf5d7c6',\n",
       " 'b8298b50-7e09-4270-84f5-859a581d7341',\n",
       " '10d2ca6f-a6f3-4827-a626-a79337c86e43',\n",
       " 'ee82dbfa-49ca-49b9-8016-a9da96f189be',\n",
       " '56c24df5-7f77-48c0-b693-e37a938baa3e',\n",
       " '55761ae7-818b-4bc5-8954-398b26b86fb9',\n",
       " 'a267ae8f-eb71-4471-83b7-10b750d04b1f',\n",
       " 'e99b5b91-efb2-4526-a08b-8915cc8283e5',\n",
       " '78cec2c7-a9f6-417a-a3c4-0fcf3e5195be',\n",
       " '3c132e51-fbbc-4b34-aa6c-87ee937496fd',\n",
       " 'afe6a005-bff3-4990-a9e7-8052ca73cdca',\n",
       " '917a739e-eb6c-4e8a-9c5b-424a93df4568',\n",
       " '5911d3ac-bc5d-4923-a844-01d3a1f8bb39',\n",
       " 'd0dd86ba-827c-48a9-ae0f-c38419026806',\n",
       " '1a8bdaa8-d1b0-490d-b542-2dfc42ec2057',\n",
       " '40c1a8c8-d4ab-4678-b9b3-959258ed6a73',\n",
       " 'd1f06aaa-0dcc-4b73-9f03-7629e14e02be',\n",
       " 'e864cebf-c161-4144-ac90-c501cb8ed9b8',\n",
       " '7f19d05f-6e1c-4ce3-8088-dc9276cef7a4',\n",
       " '2329730f-4479-477a-8734-25b92fd3e655',\n",
       " '589995b4-bc6b-47e7-a455-fb52a60e185d',\n",
       " 'cc69e29a-c0d5-47da-bba9-0f7de04cb543',\n",
       " '8efa661f-8e05-4eb0-b1dd-2471f41eb320',\n",
       " '9388cc49-dcab-4af7-acdb-4bb862afbfc9',\n",
       " '776c3290-2adb-4cb9-a307-1cc442b0c633',\n",
       " 'c6925b04-2b44-4c65-b45a-0fc62acfad07',\n",
       " '42be993a-289a-44ac-a458-332539827652',\n",
       " '4f46662a-bc80-469a-b007-682aca545f63',\n",
       " '97bef39f-a645-42f4-832d-f52c2d0874d2',\n",
       " '1ae9bcd9-9c3d-4c06-9fb3-12afa0c1395a',\n",
       " '35a641d1-7d4c-468e-b43b-c3ce141ae6d4',\n",
       " '09ddbdb5-df29-4f9a-9c5a-df8d3b0f6712',\n",
       " 'bbf08ef0-87e9-4eb3-b490-2b1ac4ed4159',\n",
       " '759efcca-90af-450a-a0a2-01ebcd467ddc',\n",
       " '2a7828fe-6c1c-4027-886b-c9cddf1553df',\n",
       " 'adea3a1b-8106-4b79-8f13-ccad8c0a1750',\n",
       " 'c2e24b0c-54ff-4af9-a95e-4c90d0f52526',\n",
       " 'fa61327f-42c6-4744-95bc-0a3224e3bf0b',\n",
       " 'df025851-5ff7-447f-9e22-8800f901fe0a',\n",
       " '377371ce-c46e-4144-9b17-ef74e65e8ab5',\n",
       " '5a7eaf35-f631-4394-9178-b1904b4b031b',\n",
       " '4fde661a-2980-4dc8-8810-aea61c53f44e',\n",
       " '6fd6211d-128d-4438-a13f-fe36149308e7',\n",
       " '221907b4-7722-4dd8-9fb1-4dfdafb2f947',\n",
       " 'ded45e7a-3c8f-495c-bc17-525787ddc733',\n",
       " 'd4c4a695-6101-47e6-9de6-2a838b459ed6',\n",
       " 'c563623f-42f7-46a3-bea1-72445b724a6a',\n",
       " 'db094871-3607-445a-be55-88638fd8a55f',\n",
       " '6af13682-6ab5-406d-a90b-2150b32ac502',\n",
       " 'd147812e-fbc7-473b-a095-6e44dfcfff4f',\n",
       " '1937d70f-5d57-4459-91da-a91802de0c06',\n",
       " '5bd72795-bb9f-49ea-b981-423f2e7d5ec4',\n",
       " 'ce14d8f7-ad3a-4402-81df-fa06865953b3',\n",
       " '45f18557-2667-4598-b0eb-b99dc6071b8f',\n",
       " 'bbb7482c-b08c-40fe-a492-fab9114c24d3',\n",
       " 'a462dea9-304f-4932-a4a2-84fa98a60602',\n",
       " '162eca64-480a-46a4-8ccf-4b7a977904de',\n",
       " '6acf216a-252e-48f3-9be0-2d5de8707edb',\n",
       " 'b3537997-dd2c-4333-8a45-d7e341681c3c',\n",
       " '14eb5234-6341-4710-a141-8423cda0d8a8',\n",
       " 'ae50caaf-beb2-4939-9a1e-b9834c09fa0d',\n",
       " 'df2c69bf-3ea8-4c17-85db-d2a710c98c6d',\n",
       " 'd1f16c44-7916-48b8-b6d1-77b132e2628e',\n",
       " '9c8fec31-7b37-4892-acc5-c55a80d13dda',\n",
       " '3f436dfa-1efc-4f77-8e4f-efa89b06cabf',\n",
       " '1c67d9b7-83c4-4856-8e48-11afa210b857',\n",
       " '92c5a2bd-eb58-4295-af33-6a7f896e77e1',\n",
       " '81b33771-b0a7-4369-90f4-b0702237594c',\n",
       " '8d23cafa-e42f-4676-b1e7-a3c1c3625d78',\n",
       " '1b703a69-c55f-454e-800d-03ff31d6952b',\n",
       " '0e7743d3-aab3-4261-b266-8e1fa4a8d0ae',\n",
       " '2ba3e518-b9f0-4025-bc0c-98fedc884f0d',\n",
       " 'b15e2391-7b91-450b-af7e-a52e95330956',\n",
       " '1b9675f6-d391-4003-a906-dc03e595bec4',\n",
       " 'f04c6126-942e-4b96-b250-3211dc537fd3',\n",
       " '2ccf9136-373e-4068-9645-80c2241a61a3',\n",
       " '061e60b5-99f2-45a8-8beb-26dcd0c7b5c8',\n",
       " '7daaf0bc-5ce7-4ba4-ae7b-6f33764cb472',\n",
       " 'ba971dcb-f993-4a89-a16c-c68e2f4e8da8',\n",
       " '1e09e20e-43f3-432d-951d-7c5b7cda2bbb',\n",
       " '5c6efd71-9d34-4d84-bdee-5d17720c1b7b',\n",
       " '3b4689fc-90d0-4666-aab1-1f23538ba46f',\n",
       " 'a2d4e83d-1aab-4c50-ae6b-e18db5c28bc3',\n",
       " '1f9e7e22-2b3e-4569-89d3-1e367480409e',\n",
       " '1f60482d-bee6-4bb1-8cd4-0a20258ae02a',\n",
       " '35531cfa-fd92-44b7-a382-abd182aa3f41',\n",
       " 'a9cfa8d9-1c65-4ce5-94c0-3e917b8e0afc',\n",
       " 'e6ce47b3-2e32-496f-b018-ee5ac80b3d6e',\n",
       " 'a07602e1-69a0-4ab7-bfd4-def7b3023283',\n",
       " '3f813af9-d48c-450f-b4b8-e101ab4da390',\n",
       " 'e2ca5737-2d47-452f-8708-4956dcfeb5de',\n",
       " '927d4b13-66d6-4f19-99bc-c6e8be0fd6e9',\n",
       " 'ff016d3a-a552-4340-8880-d8c6b894f46e',\n",
       " '945074f3-db97-454a-beee-15737f6a7782',\n",
       " '9a4febb8-830f-45d4-bf51-6d780b52ffd5',\n",
       " '2983049b-8124-43ce-8c5c-0cafd378bdb3',\n",
       " '15003d48-fa32-4642-b540-6989b037ac78',\n",
       " '34cdc23f-989e-4469-8b36-9a3370318337',\n",
       " '8b4573d6-93e6-4b19-97f4-c44838b4e72d',\n",
       " '2fedb9f1-fc10-409d-b055-f0db6d1be97f',\n",
       " 'ce24fe06-a2c6-4a95-8252-65988264d527',\n",
       " 'd99875ae-af60-4a19-9f56-fc192dcc3ec0',\n",
       " 'fbc82fc3-11d4-406b-92b9-9efe76e55df8',\n",
       " '48beb4fa-c4b7-4b7b-9f2d-8e8eeb4a614e',\n",
       " '873fb53a-0c28-4926-9f11-e85c8d52a16e',\n",
       " 'c3e6ed92-965e-4e21-b195-936c29c95461',\n",
       " '75c8bde0-771c-464d-8b71-58a38beec00e',\n",
       " '710a00dc-357a-449a-9637-af6c543c0c9b',\n",
       " '319d39ff-710e-41c4-b77e-ece93872d093',\n",
       " '431455d1-a80d-4911-bd7b-cd8b64a742cd',\n",
       " '3f5b0149-df5b-4052-b6b2-f651c06bec1b',\n",
       " '8f76e15b-db0a-4c57-b376-3e6adf34a21d',\n",
       " '01bd7e2c-8086-4dcf-a579-a87d2cb60bae',\n",
       " '15dbf42c-c940-47a1-bb84-56b367ddf205',\n",
       " '90797d9b-921b-4baf-873c-2f93f323707a',\n",
       " 'a12f49bc-a5e5-463b-9ca6-4a64ca43ea5b',\n",
       " 'cdb757de-f4d8-491f-aa39-5750a0594bbc',\n",
       " 'db1103d0-b0ec-4c62-97fb-20f027df7ad0',\n",
       " 'eb7b7ec5-77f1-4cbd-bb94-409e1cc4a483',\n",
       " '65413816-e859-47b3-a4a4-7d104a1a1f3c',\n",
       " '15de4599-aa42-48cc-9c07-675ab056a5b6',\n",
       " '83ceaa24-9ffa-42c0-b23d-12582d742820',\n",
       " '3013149d-f9f0-4192-8568-5b8c3457bec0',\n",
       " '0ab34ae6-734e-4e98-95bd-250e05de8043',\n",
       " '4baa5238-1775-424f-9448-c3518de7f597',\n",
       " 'e67f6781-6931-4cdb-835f-c052216a0fc2',\n",
       " '3a2bb2c5-0332-426c-bcd8-bec53f79b008',\n",
       " 'a3935737-797d-46cb-9252-1f93c64869cc',\n",
       " '17092835-ed6e-4f6a-9faa-46bdf0d6615a',\n",
       " 'cd62b488-1884-4197-b0ae-9c2038cddb4e',\n",
       " '7a46f936-a6b3-4a34-b15d-eb3a9813d48c',\n",
       " 'c5a65689-52cf-4d61-a3eb-497411f1d964',\n",
       " '71488595-bfef-40b0-9686-31722001947f',\n",
       " '7f6e70e5-ad83-40c5-ae17-9e48fd7ba629',\n",
       " 'dcbfc4d5-0586-4b30-bfdd-f3d1af2660e2',\n",
       " '052b7d18-96b2-4515-8a02-fc65f9e15abd',\n",
       " '12551d17-5786-4cc0-9fea-046e49848107',\n",
       " '5a1c8af8-70fb-44e1-8869-c125aecf94a9',\n",
       " 'b101dd90-e6d8-44c2-a4d4-c035e7a1a399',\n",
       " 'a6c48270-f8d3-4dbc-a8a0-b86b361526d2',\n",
       " '9106b9c4-21e1-461c-88ea-49564e9546d7',\n",
       " '6dedb373-769f-485a-b49d-213b6c18c18f',\n",
       " '030252cb-393d-4f1a-b10c-cef74b7e70a0',\n",
       " '25b9619e-4e8d-463c-825c-3e803db56ad3',\n",
       " '9a0bb3ed-5564-4bfb-9bf2-8a998075dfef']"
      ]
     },
     "execution_count": 16,
     "metadata": {},
     "output_type": "execute_result"
    }
   ],
   "source": [
    "expkeys_of_multi_exps1"
   ]
  },
  {
   "cell_type": "markdown",
   "id": "57520119",
   "metadata": {},
   "source": [
    "---\n",
    "\n",
    "### Post-Process Availablities and Version Info"
   ]
  },
  {
   "cell_type": "code",
   "execution_count": 17,
   "id": "306e7ba6",
   "metadata": {},
   "outputs": [
    {
     "data": {
      "text/plain": [
       " | Qurry version: 0.12.2.dev2\n",
       "---------------------------------------------------------------------------\n",
       " ### Qurry Post-Processing\n",
       "   - Backend Availability ................... Python Cython Rust   JAX   \n",
       " - randomized_measure\n",
       "   - entangled_entropy.entropy_core_2 ....... Yes    Depr.  Yes    No    \n",
       "   - entangle_entropy.purity_cell_2 ......... Yes    Depr.  Yes    No    \n",
       "   - entangled_entropy_v1.entropy_core ...... Yes    Depr.  Yes    No    \n",
       "   - entangle_entropy_v1.purity_cell ........ Yes    Depr.  Yes    No    \n",
       "   - wavefunction_overlap.echo_core_2 ....... Yes    Depr.  Yes    No    \n",
       "   - wavefunction_overlap.echo_cell_2 ....... Yes    Depr.  Yes    No    \n",
       "   - wavefunction_overlap_v1.echo_core ...... Yes    Depr.  Yes    No    \n",
       "   - wavefunction_overlap_v1.echo_cell ...... Yes    Depr.  Yes    No    \n",
       " - hadamard_test\n",
       "   - purity_echo_core ....................... Yes    No     Yes    No    \n",
       " - magnet_square\n",
       "   - magnsq_core ............................ Yes    No     No     No    \n",
       " - classical_shadow\n",
       "   - rho_m_core ............................. Yes    No     No     Error \n",
       " - utils\n",
       "   - randomized ............................. Yes    Depr.  Yes    No    \n",
       "   - counts_process ......................... Yes    No     Yes    No    \n",
       "   - bit_slice .............................. Yes    No     Yes    No    \n",
       "   - dummy .................................. Yes    No     Yes    No    \n",
       "   - test ................................... Yes    No     Yes    No    \n",
       "---------------------------------------------------------------------------\n",
       "   + Yes ...... Working normally.\n",
       "   + Error .... Exception occurred.\n",
       "   + No ....... Not supported.\n",
       "   + Depr. .... Deprecated.\n",
       "---------------------------------------------------------------------------\n",
       "by <Hoshi>"
      ]
     },
     "execution_count": 17,
     "metadata": {},
     "output_type": "execute_result"
    }
   ],
   "source": [
    "from qurry.process import AVAIBILITY_STATESHEET\n",
    "\n",
    "AVAIBILITY_STATESHEET"
   ]
  }
 ],
 "metadata": {
  "kernelspec": {
   "display_name": "qurrium_docs",
   "language": "python",
   "name": "python3"
  },
  "language_info": {
   "codemirror_mode": {
    "name": "ipython",
    "version": 3
   },
   "file_extension": ".py",
   "mimetype": "text/x-python",
   "name": "python",
   "nbconvert_exporter": "python",
   "pygments_lexer": "ipython3",
   "version": "3.12.3"
  }
 },
 "nbformat": 4,
 "nbformat_minor": 5
}
