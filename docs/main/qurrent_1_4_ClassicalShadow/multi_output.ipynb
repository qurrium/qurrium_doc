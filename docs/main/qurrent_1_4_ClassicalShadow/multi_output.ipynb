{
 "cells": [
  {
   "cell_type": "markdown",
   "id": "166f3b67",
   "metadata": {},
   "source": [
    "# 1. EntropyMeasure\n",
    "\n",
    "---\n",
    "\n",
    "## 1.4 Classical Shadow - multiple experiments\n",
    "\n",
    "Consider a scenario, you have multiple circuits that you want to run at once.\n",
    "\n",
    "Call `.measure()` one by one will be inefficient,\n",
    "no to mention that you also need to call `.anlyze()` for their post-processing.\n",
    "\n",
    "Here we provide a more efficient way solve this problem,\n",
    "where the true power of Qurrium as experiment manage toolkit.\n"
   ]
  },
  {
   "cell_type": "markdown",
   "id": "86beb579",
   "metadata": {},
   "source": [
    "### a. Import the instances\n"
   ]
  },
  {
   "cell_type": "code",
   "execution_count": 1,
   "id": "0fc71722",
   "metadata": {},
   "outputs": [],
   "source": [
    "from qurry import ShadowUnveil\n",
    "\n",
    "experiment_shadow = ShadowUnveil()"
   ]
  },
  {
   "cell_type": "markdown",
   "id": "d48d1d69",
   "metadata": {},
   "source": [
    "### b. Preparing quantum circuit\n",
    "\n",
    "Prepare and add circuits to the `.wave` for later usage.\n"
   ]
  },
  {
   "cell_type": "code",
   "execution_count": 2,
   "id": "2e597e81",
   "metadata": {},
   "outputs": [
    {
     "data": {
      "text/plain": [
       "WaveContainer({\n",
       "  'trivial_paramagnet_2': <qurry.recipe.simple.paramagnet.TrivialParamagnet object at 0x7b9983694da0>,\n",
       "  'ghz_2': <qurry.recipe.simple.cat.GHZ object at 0x7b99834f66c0>,\n",
       "  'neel_2': <qiskit.circuit.quantumcircuit.QuantumCircuit object at 0x7b99830e3ef0>,\n",
       "  'trivial_paramagnet_4': <qurry.recipe.simple.paramagnet.TrivialParamagnet object at 0x7b9982f0ce60>,\n",
       "  'ghz_4': <qurry.recipe.simple.cat.GHZ object at 0x7b9982f0cef0>,\n",
       "  'neel_4': <qiskit.circuit.quantumcircuit.QuantumCircuit object at 0x7b99831520f0>,\n",
       "  'trivial_paramagnet_6': <qurry.recipe.simple.paramagnet.TrivialParamagnet object at 0x7b9982f0d220>,\n",
       "  'ghz_6': <qurry.recipe.simple.cat.GHZ object at 0x7b9994957b30>,\n",
       "  'neel_6': <qiskit.circuit.quantumcircuit.QuantumCircuit object at 0x7b9982f0d3a0>,\n",
       "  'trivial_paramagnet_8': <qurry.recipe.simple.paramagnet.TrivialParamagnet object at 0x7b9982f0d6a0>,\n",
       "  'ghz_8': <qurry.recipe.simple.cat.GHZ object at 0x7b9982f0d730>,\n",
       "  'neel_8': <qiskit.circuit.quantumcircuit.QuantumCircuit object at 0x7b9982f0da30>,\n",
       "  'trivial_paramagnet_10': <qurry.recipe.simple.paramagnet.TrivialParamagnet object at 0x7b9982f0dc10>,\n",
       "  'ghz_10': <qurry.recipe.simple.cat.GHZ object at 0x7b9982f0dca0>,\n",
       "  'neel_10': <qiskit.circuit.quantumcircuit.QuantumCircuit object at 0x7b9982f0de50>,\n",
       "  'trivial_paramagnet_12': <qurry.recipe.simple.paramagnet.TrivialParamagnet object at 0x7b998309f620>,\n",
       "  'ghz_12': <qurry.recipe.simple.cat.GHZ object at 0x7b9982f0e450>,\n",
       "  'neel_12': <qiskit.circuit.quantumcircuit.QuantumCircuit object at 0x7b9a4c085190>})"
      ]
     },
     "execution_count": 2,
     "metadata": {},
     "output_type": "execute_result"
    }
   ],
   "source": [
    "from qiskit import QuantumCircuit\n",
    "from qurry.recipe import TrivialParamagnet, GHZ\n",
    "\n",
    "\n",
    "def make_neel_circuit(n):\n",
    "    qc = QuantumCircuit(n)\n",
    "    for i in range(0, n, 2):\n",
    "        qc.x(i)\n",
    "    return qc\n",
    "\n",
    "\n",
    "for i in range(2, 13, 2):\n",
    "    experiment_shadow.add(TrivialParamagnet(i), f\"trivial_paramagnet_{i}\")\n",
    "    experiment_shadow.add(GHZ(i), f\"ghz_{i}\")\n",
    "    experiment_shadow.add(make_neel_circuit(i), f\"neel_{i}\")\n",
    "\n",
    "experiment_shadow.waves"
   ]
  },
  {
   "cell_type": "markdown",
   "id": "25fc5d4c",
   "metadata": {},
   "source": [
    "### c. Execute multiple experiments at once\n",
    "\n",
    "Let's demonstrate the true power of Qurrium.\n"
   ]
  },
  {
   "cell_type": "code",
   "execution_count": 3,
   "id": "1e63ed3e",
   "metadata": {},
   "outputs": [],
   "source": [
    "from qurry.qurrent.classical_shadow.arguments import ShadowUnveilMeasureArgs"
   ]
  },
  {
   "cell_type": "markdown",
   "id": "45d57823",
   "metadata": {},
   "source": [
    "Preparing a configuration list for multiple experiments with following parameters:\n",
    "\n",
    "```python\n",
    "class ShadowUnveilMeasureArgs(total=False):\n",
    "    \"\"\"Output arguments for :meth:`output`.\"\"\"\n",
    "    shots: int\n",
    "    \"\"\"Number of shots.\"\"\"\n",
    "    tags: Optional[tuple[str, ...]]\n",
    "    \"\"\"The tags to be used for the experiment.\"\"\"\n",
    "\n",
    "    wave: Optional[Union[QuantumCircuit, Hashable]]\n",
    "    \"\"\"The key or the circuit to execute.\"\"\"\n",
    "    times: int\n",
    "    \"\"\"The number of random unitary operator. \n",
    "    It will denote as `N_U` in the experiment name.\"\"\"\n",
    "    measure: Optional[Union[tuple[int, int], int, list[int]]]\n",
    "    \"\"\"The measure range.\"\"\"\n",
    "    unitary_loc: Optional[Union[tuple[int, int], int, list[int]]]\n",
    "    \"\"\"The range of the unitary operator.\"\"\"\n",
    "    unitary_loc_not_cover_measure: bool\n",
    "    \"\"\"Whether the range of the unitary operator is not cover the measure range.\"\"\"\n",
    "    random_unitary_seeds: Optional[dict[int, dict[int, int]]]\n",
    "    \"\"\"The seeds for all random unitary operator.\n",
    "    This argument only takes input as type of `dict[int, dict[int, int]]`.\n",
    "    The first key is the index for the random unitary operator.\n",
    "    The second key is the index for the qubit.\n",
    "\n",
    "    .. code-block:: python\n",
    "        {\n",
    "            0: {0: 1234, 1: 5678},\n",
    "            1: {0: 2345, 1: 6789},\n",
    "            2: {0: 3456, 1: 7890},\n",
    "        }\n",
    "\n",
    "    If you want to generate the seeds for all random unitary operator,\n",
    "    you can use the function `generate_random_unitary_seeds` \n",
    "    in `qurry.qurrium.utils.random_unitary`.\n",
    "\n",
    "    .. code-block:: python\n",
    "        from qurry.qurrium.utils.random_unitary import generate_random_unitary_seeds\n",
    "        random_unitary_seeds = generate_random_unitary_seeds(100, 2)\n",
    "    \"\"\"\n",
    "```\n"
   ]
  },
  {
   "cell_type": "code",
   "execution_count": 4,
   "id": "9a6c6749",
   "metadata": {},
   "outputs": [
    {
     "name": "stdout",
     "output_type": "stream",
     "text": [
      "180\n"
     ]
    }
   ],
   "source": [
    "config_list: list[ShadowUnveilMeasureArgs] = [\n",
    "    {\n",
    "        \"shots\": 1024,\n",
    "        \"times\": 100,\n",
    "        \"wave\": f\"{wave_names}_{i}\",\n",
    "        \"tags\": (wave_names, f\"size_{i}\"),\n",
    "    }\n",
    "    for _ in range(10)\n",
    "    for i in range(2, 13, 2)\n",
    "    for wave_names in [\"trivial_paramagnet\", \"ghz\", \"neel\"]\n",
    "]\n",
    "print(len(config_list))"
   ]
  },
  {
   "cell_type": "markdown",
   "id": "28ef8515",
   "metadata": {},
   "source": [
    "The `.multiOutput` will return an id of this `multimanager` instance,\n",
    "which can be used to get the results and post-process them.\n",
    "\n",
    "Each `multimanager` will export the experiments in a folder you can specify\n",
    "by setting `save_location` parameter with default location for current directory\n",
    "where Python executed.\n",
    "It will create a folder with the name of the `multimanager` instance,\n",
    "and inside it will create a folder for storing each experiment data.\n",
    "\n",
    "It will do firstly in the building process, but you can skip it by setting `skip_build_write=True` to save time.\n",
    "After all experiments are executed, it will export secondly,\n",
    "which can also be skipped by setting `skip_output_write=True` for no files output.\n"
   ]
  },
  {
   "cell_type": "code",
   "execution_count": 5,
   "id": "3135a9f2",
   "metadata": {},
   "outputs": [
    {
     "name": "stdout",
     "output_type": "stream",
     "text": [
      "| MultiManager building...\n",
      "| Write \"qurshady.001\", at location \"qurshady.001\"\n"
     ]
    },
    {
     "data": {
      "application/vnd.jupyter.widget-view+json": {
       "model_id": "0137a068cd074fb781bd9ebdc3f55089",
       "version_major": 2,
       "version_minor": 0
      },
      "text/plain": [
       "| 0/180   0%|          | - MultiManager building... - 00:00 < ?"
      ]
     },
     "metadata": {},
     "output_type": "display_data"
    },
    {
     "name": "stdout",
     "output_type": "stream",
     "text": [
      "| MultiOutput running...\n"
     ]
    },
    {
     "data": {
      "application/vnd.jupyter.widget-view+json": {
       "model_id": "fbf7fe87b27d41b6bf56dace1e1ed5ee",
       "version_major": 2,
       "version_minor": 0
      },
      "text/plain": [
       "| 0/180   0%|          | -  - 00:00 < ?"
      ]
     },
     "metadata": {},
     "output_type": "display_data"
    },
    {
     "name": "stdout",
     "output_type": "stream",
     "text": [
      "| Export multimanager...\n"
     ]
    },
    {
     "data": {
      "application/vnd.jupyter.widget-view+json": {
       "model_id": "92a2dec4da9a446f9b8970a447914cd4",
       "version_major": 2,
       "version_minor": 0
      },
      "text/plain": [
       "| 0/9 - Exporting MultiManager content... - 00:00 < ?"
      ]
     },
     "metadata": {},
     "output_type": "display_data"
    },
    {
     "name": "stdout",
     "output_type": "stream",
     "text": [
      "| No quantity to export.\n",
      "| Export multi.config.json for 4d59f946-8033-42e0-b6e7-2fdf6bc0108d\n"
     ]
    },
    {
     "data": {
      "application/vnd.jupyter.widget-view+json": {
       "model_id": "2dea23ecf3ab44fd99b678a6dc0ddd84",
       "version_major": 2,
       "version_minor": 0
      },
      "text/plain": [
       "| 0/179 - Exporting experiments... - 00:00 < ?"
      ]
     },
     "metadata": {},
     "output_type": "display_data"
    },
    {
     "data": {
      "application/vnd.jupyter.widget-view+json": {
       "model_id": "da662196f1ab48fcb2e07c124b4721f1",
       "version_major": 2,
       "version_minor": 0
      },
      "text/plain": [
       "| 0/180 - Loading file infomation... - 00:00 < ?"
      ]
     },
     "metadata": {},
     "output_type": "display_data"
    },
    {
     "name": "stdout",
     "output_type": "stream",
     "text": [
      "| Exporting file taglist...\n",
      "| Exporting qurshady.001/qurryinfo.json...\n",
      "| Exporting qurshady.001/qurryinfo.json done.\n"
     ]
    },
    {
     "data": {
      "text/plain": [
       "'4d59f946-8033-42e0-b6e7-2fdf6bc0108d'"
      ]
     },
     "execution_count": 5,
     "metadata": {},
     "output_type": "execute_result"
    }
   ],
   "source": [
    "multi_exps1 = experiment_shadow.multiOutput(\n",
    "    config_list,\n",
    "    summoner_name=\"qurshady\",  # you can name it whatever you want\n",
    "    multiprocess_build=True,\n",
    "    # Using multiprocessing to build the experiments,\n",
    "    # it will be faster but take all the CPU\n",
    "    skip_build_write=True,\n",
    "    # Skip the writing of the experiment as files during the build,\n",
    "    save_location=\".\",\n",
    "    # Save the experiment as files in the current directory\n",
    "    multiprocess_write=True,\n",
    "    # Writing the experiment as files using multiprocessing,\n",
    ")\n",
    "multi_exps1"
   ]
  },
  {
   "cell_type": "code",
   "execution_count": 6,
   "id": "29668232",
   "metadata": {},
   "outputs": [
    {
     "data": {
      "text/plain": [
       "<MultiManager(id=\"4d59f946-8033-42e0-b6e7-2fdf6bc0108d\",\n",
       "  name=\"qurshady.001\",\n",
       "  tags=(),\n",
       "  jobstype=\"local\",\n",
       "  pending_strategy=\"tags\",\n",
       "  last_events={\n",
       "    'output.001': '2025-05-21 22:56:09',},\n",
       "  exps_num=180)>"
      ]
     },
     "execution_count": 6,
     "metadata": {},
     "output_type": "execute_result"
    }
   ],
   "source": [
    "experiment_shadow.multimanagers[multi_exps1]"
   ]
  },
  {
   "cell_type": "markdown",
   "id": "4052ff26",
   "metadata": {},
   "source": [
    "### d. Run post-processing at once\n"
   ]
  },
  {
   "cell_type": "code",
   "execution_count": 7,
   "id": "045b5b22",
   "metadata": {},
   "outputs": [
    {
     "data": {
      "application/vnd.jupyter.widget-view+json": {
       "model_id": "32142c03bbff40998868bbec37912557",
       "version_major": 2,
       "version_minor": 0
      },
      "text/plain": [
       "| 0/180 - Analysis:  - 00:00 < ?"
      ]
     },
     "metadata": {},
     "output_type": "display_data"
    },
    {
     "name": "stderr",
     "output_type": "stream",
     "text": [
      "WARNING:2025-05-21 22:56:21,328:jax._src.xla_bridge:909: An NVIDIA GPU may be present on this machine, but a CUDA-enabled jaxlib is not installed. Falling back to cpu.\n",
      "/home/nccu/uv-python-venv/quantumsphere12/lib/python3.12/site-packages/qurry/process/classical_shadow/classical_shadow.py:458: RuntimeWarning: The imaginary part of the trace of Rho square is not zero. The imaginary part is 1.2450456206139707e-36.method: einsum_aij_bji_to_ab_jax, numpy_precomputed, Python\n",
      "  warnings.warn(\n"
     ]
    },
    {
     "name": "stdout",
     "output_type": "stream",
     "text": [
      "| \"report.001\" has been completed.\n"
     ]
    },
    {
     "data": {
      "text/plain": [
       "'4d59f946-8033-42e0-b6e7-2fdf6bc0108d'"
      ]
     },
     "execution_count": 7,
     "metadata": {},
     "output_type": "execute_result"
    }
   ],
   "source": [
    "experiment_shadow.multiAnalysis(\n",
    "    summoner_id=multi_exps1,\n",
    "    skip_write=True,\n",
    "    multiprocess_write=False,\n",
    "    selected_qubits=[0, 1],\n",
    ")"
   ]
  },
  {
   "cell_type": "code",
   "execution_count": 8,
   "id": "483b0b35",
   "metadata": {},
   "outputs": [
    {
     "name": "stdout",
     "output_type": "stream",
     "text": [
      "| Available results:\n",
      "| - ('trivial_paramagnet', 'size_2') with length 10\n",
      "| - ('ghz', 'size_2') with length 10\n",
      "| - ('neel', 'size_2') with length 10\n",
      "| - ('trivial_paramagnet', 'size_4') with length 10\n",
      "| - ('ghz', 'size_4') with length 10\n",
      "| - ('neel', 'size_4') with length 10\n",
      "| - ('trivial_paramagnet', 'size_6') with length 10\n",
      "| - ('ghz', 'size_6') with length 10\n",
      "| - ('neel', 'size_6') with length 10\n",
      "| - ('trivial_paramagnet', 'size_8') with length 10\n",
      "| - ('ghz', 'size_8') with length 10\n",
      "| - ('neel', 'size_8') with length 10\n",
      "| - ('trivial_paramagnet', 'size_10') with length 10\n",
      "| - ('ghz', 'size_10') with length 10\n",
      "| - ('neel', 'size_10') with length 10\n",
      "| - ('trivial_paramagnet', 'size_12') with length 10\n",
      "| - ('ghz', 'size_12') with length 10\n",
      "| - ('neel', 'size_12') with length 10\n"
     ]
    }
   ],
   "source": [
    "print(\"| Available results:\")\n",
    "for k, v in (\n",
    "    experiment_shadow.multimanagers[multi_exps1]\n",
    "    .quantity_container[\"report.001\"]\n",
    "    .items()\n",
    "):\n",
    "    print(\"| -\", k, \"with length\", len(v))"
   ]
  },
  {
   "cell_type": "code",
   "execution_count": 9,
   "id": "c8b8b3c6",
   "metadata": {},
   "outputs": [
    {
     "data": {
      "text/plain": [
       "[]"
      ]
     },
     "execution_count": 9,
     "metadata": {},
     "output_type": "execute_result"
    }
   ],
   "source": [
    "experiment_shadow.multimanagers[multi_exps1].quantity_container[\"report.001\"][\n",
    "    (\"trivial_paramagnet\", \"size_10\", \"system_range_5\")\n",
    "][:2]"
   ]
  },
  {
   "cell_type": "markdown",
   "id": "1963d333",
   "metadata": {},
   "source": [
    "### e. Run post-processing at once with specific analysis arguments\n",
    "\n",
    "At first, we need to get the each experiment's id in the `multimanager` instance.\n"
   ]
  },
  {
   "cell_type": "code",
   "execution_count": 10,
   "id": "b114c2d8",
   "metadata": {},
   "outputs": [
    {
     "name": "stdout",
     "output_type": "stream",
     "text": [
      "180\n"
     ]
    }
   ],
   "source": [
    "expkeys_of_multi_exps1 = list(\n",
    "    experiment_shadow.multimanagers[multi_exps1].exps.keys()\n",
    ")\n",
    "print(len(expkeys_of_multi_exps1))"
   ]
  },
  {
   "cell_type": "markdown",
   "id": "f13dfbdd",
   "metadata": {},
   "source": [
    "1. If you want to run the post-processing for some specific experiments,\n",
    "   for example, the first 3 experiments we get for the `multimanager` instance.\n"
   ]
  },
  {
   "cell_type": "code",
   "execution_count": 11,
   "id": "38778cf7",
   "metadata": {},
   "outputs": [
    {
     "data": {
      "application/vnd.jupyter.widget-view+json": {
       "model_id": "1a610afd0c404ee78c57541665c32618",
       "version_major": 2,
       "version_minor": 0
      },
      "text/plain": [
       "| 0/180 - Analysis:  - 00:00 < ?"
      ]
     },
     "metadata": {},
     "output_type": "display_data"
    },
    {
     "name": "stdout",
     "output_type": "stream",
     "text": [
      "| \"first_3.002\" has been completed.\n"
     ]
    },
    {
     "data": {
      "text/plain": [
       "'4d59f946-8033-42e0-b6e7-2fdf6bc0108d'"
      ]
     },
     "execution_count": 11,
     "metadata": {},
     "output_type": "execute_result"
    }
   ],
   "source": [
    "experiment_shadow.multiAnalysis(\n",
    "    summoner_id=multi_exps1,\n",
    "    analysis_name=\"first_3\",\n",
    "    skip_write=True,\n",
    "    multiprocess_write=False,\n",
    "    specific_analysis_args={k: {\n",
    "        \"selected_qubits\": [0, 1],   \n",
    "    } if idx < 3 else False for idx, k in enumerate(expkeys_of_multi_exps1)},\n",
    ")"
   ]
  },
  {
   "cell_type": "code",
   "execution_count": 12,
   "id": "ada4eb86",
   "metadata": {},
   "outputs": [
    {
     "name": "stdout",
     "output_type": "stream",
     "text": [
      "| Available results:\n",
      "| length: 3\n"
     ]
    }
   ],
   "source": [
    "print(\"| Available results:\")\n",
    "print(\n",
    "    \"| length:\",\n",
    "    sum(\n",
    "        len(v)\n",
    "        for v in experiment_shadow.multimanagers[multi_exps1]\n",
    "        .quantity_container[\"first_3.002\"]\n",
    "        .values()\n",
    "    ),\n",
    ")"
   ]
  },
  {
   "cell_type": "markdown",
   "id": "4a1f8281",
   "metadata": {},
   "source": [
    "2. Or manually specify all the analysis arguments for each experiment.\n"
   ]
  },
  {
   "cell_type": "code",
   "execution_count": 13,
   "id": "6f483aff",
   "metadata": {},
   "outputs": [
    {
     "data": {
      "application/vnd.jupyter.widget-view+json": {
       "model_id": "1ce4ca4bc6984a6894d5590b1e9616e9",
       "version_major": 2,
       "version_minor": 0
      },
      "text/plain": [
       "| 0/180 - Analysis:  - 00:00 < ?"
      ]
     },
     "metadata": {},
     "output_type": "display_data"
    },
    {
     "name": "stdout",
     "output_type": "stream",
     "text": [
      "| \"all_manual.003\" has been completed.\n",
      "| Export multimanager...\n"
     ]
    },
    {
     "data": {
      "application/vnd.jupyter.widget-view+json": {
       "model_id": "2a7c6876c64b4b629e660cb352cd7fe5",
       "version_major": 2,
       "version_minor": 0
      },
      "text/plain": [
       "| 0/9 - Exporting MultiManager content... - 00:00 < ?"
      ]
     },
     "metadata": {},
     "output_type": "display_data"
    },
    {
     "data": {
      "application/vnd.jupyter.widget-view+json": {
       "model_id": "e8da125651ef4d61a55b01c13416d223",
       "version_major": 2,
       "version_minor": 0
      },
      "text/plain": [
       "| 0/3 - exporting quantity - 00:00 < ?"
      ]
     },
     "metadata": {},
     "output_type": "display_data"
    },
    {
     "name": "stdout",
     "output_type": "stream",
     "text": [
      "| Export multi.config.json for 4d59f946-8033-42e0-b6e7-2fdf6bc0108d\n"
     ]
    },
    {
     "data": {
      "application/vnd.jupyter.widget-view+json": {
       "model_id": "e82dd548051a4302b21e73cf3d50304c",
       "version_major": 2,
       "version_minor": 0
      },
      "text/plain": [
       "| 0/179 - Exporting experiments... - 00:00 < ?"
      ]
     },
     "metadata": {},
     "output_type": "display_data"
    },
    {
     "data": {
      "application/vnd.jupyter.widget-view+json": {
       "model_id": "106494dca68044a4a72479a7b0f90ebb",
       "version_major": 2,
       "version_minor": 0
      },
      "text/plain": [
       "| 0/180 - Loading file infomation... - 00:00 < ?"
      ]
     },
     "metadata": {},
     "output_type": "display_data"
    },
    {
     "name": "stdout",
     "output_type": "stream",
     "text": [
      "| Exporting file taglist...\n",
      "| Exporting qurshady.001/qurryinfo.json...\n",
      "| Exporting qurshady.001/qurryinfo.json done.\n"
     ]
    },
    {
     "data": {
      "text/plain": [
       "'4d59f946-8033-42e0-b6e7-2fdf6bc0108d'"
      ]
     },
     "execution_count": 13,
     "metadata": {},
     "output_type": "execute_result"
    }
   ],
   "source": [
    "experiment_shadow.multiAnalysis(\n",
    "    summoner_id=multi_exps1,\n",
    "    skip_write=False,\n",
    "    analysis_name=\"all_manual\",\n",
    "    multiprocess_write=True,\n",
    "    specific_analysis_args={k: {\n",
    "        \"selected_qubits\": [0, 1],  # selected qubits for the analysis\n",
    "    } for idx, k in enumerate(expkeys_of_multi_exps1)},\n",
    ")"
   ]
  },
  {
   "cell_type": "code",
   "execution_count": 14,
   "id": "9d2c5e8d",
   "metadata": {},
   "outputs": [
    {
     "name": "stdout",
     "output_type": "stream",
     "text": [
      "| Available results:\n",
      "| length: 180\n"
     ]
    }
   ],
   "source": [
    "print(\"| Available results:\")\n",
    "print(\n",
    "    \"| length:\",\n",
    "    sum(\n",
    "        len(v)\n",
    "        for v in experiment_shadow.multimanagers[multi_exps1]\n",
    "        .quantity_container[\"all_manual.003\"]\n",
    "        .values()\n",
    "    ),\n",
    ")"
   ]
  },
  {
   "cell_type": "markdown",
   "id": "1f4ffe7a",
   "metadata": {},
   "source": [
    "### f. Read exported multimanager data\n"
   ]
  },
  {
   "cell_type": "code",
   "execution_count": 15,
   "id": "e873e02d",
   "metadata": {},
   "outputs": [
    {
     "name": "stdout",
     "output_type": "stream",
     "text": [
      "| Retrieve qurshady.001...\n",
      "| at: qurshady.001\n"
     ]
    },
    {
     "data": {
      "application/vnd.jupyter.widget-view+json": {
       "model_id": "03c0debf57cc414f8a2b989d38f12359",
       "version_major": 2,
       "version_minor": 0
      },
      "text/plain": [
       "| 0/180   0%|          | - Loading 180 experiments ... - 00:00 < ?"
      ]
     },
     "metadata": {},
     "output_type": "display_data"
    }
   ],
   "source": [
    "multi_exps1_reades = experiment_shadow.multiRead(\n",
    "    save_location=\".\",\n",
    "    summoner_name=\"qurshady.001\",\n",
    ")"
   ]
  },
  {
   "cell_type": "code",
   "execution_count": 16,
   "id": "e51b2202",
   "metadata": {},
   "outputs": [
    {
     "data": {
      "text/plain": [
       "['5cd5d9a5-bc30-4f13-aa6c-9f30ffd18b58',\n",
       " '874e49e3-eef8-45f4-b6e2-6f68f8d9f693',\n",
       " '807219a8-0a07-45f9-b84e-3f1eeeddf9e2',\n",
       " 'f9cb1b03-3c1e-404a-8416-6eb3665ea601',\n",
       " 'b3cce98d-d1bc-4a7e-b1d1-897503d08b9c',\n",
       " 'ff0f0358-1e80-4c95-8535-d02908ec11ee',\n",
       " '6ed79b74-482d-4922-ab33-b8646cb31449',\n",
       " '35af5768-8725-4e4a-b5b5-db85a1c5c0cc',\n",
       " 'a4bce006-6b74-4680-b76c-7a9fa6b9c6db',\n",
       " '7affa9bf-ba20-4eb3-95bd-524dd057fddb',\n",
       " 'd522ceb0-8823-4109-80d0-74a48326943a',\n",
       " '4501121b-f202-41e3-b7a2-72d4fd00aea8',\n",
       " 'c3d13b20-f222-44a1-a117-6104bf6da0ee',\n",
       " 'bae4f29c-2d13-44e9-aec6-c3ae03c6f933',\n",
       " '8a779f97-4266-457e-9cc8-4294ac28e5a9',\n",
       " '6e86c449-671e-4c0a-80c8-80678ac93961',\n",
       " 'eb7c74e7-79bf-4fd1-9bb2-94fd27b32922',\n",
       " '5a67a918-47b5-4b58-a5b2-3e169b9d996a',\n",
       " 'f8f0313a-1b99-4a9f-a801-7f5fa679d2fc',\n",
       " '64f07202-1b17-47c5-a7d3-d99de9219bb2',\n",
       " '8f49e01d-0c3c-4042-bbd9-acec1b8c4d9a',\n",
       " '6709b1f2-5a60-417d-9bbd-8114a33c2a5c',\n",
       " '1b74ab27-b405-4522-8721-b25be3cc1b84',\n",
       " '5f130f91-6d32-465c-b63e-c190bb95be68',\n",
       " '2f767ae9-5552-42bb-85f9-f647db53a559',\n",
       " 'c03e505f-6aeb-46d6-ab7e-c6c5b8b176e5',\n",
       " '2aeae056-f4c2-4145-b0bd-debe4495951d',\n",
       " '71164bde-7c87-4f18-9d0d-e7713659b425',\n",
       " '0c53b14b-eb61-45ed-8b17-4aca9c0e1dc2',\n",
       " '8dd6ff29-9b75-4d5e-91f0-0223af53fd68',\n",
       " 'cd4d279d-c58b-4643-927f-ec414f48ab1a',\n",
       " 'cb9669fa-ff68-40e4-80df-967faba339a9',\n",
       " '9e73f0a2-0763-4f72-ad3a-24c221e5ad2d',\n",
       " '8712b5a0-12a9-452e-b0d1-4d1318b211fe',\n",
       " 'd7d0f49b-1753-46ca-89f8-98b7d6a25f68',\n",
       " 'c191e93a-93fc-4421-a9b1-2203ef421a20',\n",
       " 'a117438a-d13b-4f98-a9c2-7e3e4a98adf9',\n",
       " 'a2e3ce9d-c704-4fab-8497-95b18ebf6f18',\n",
       " 'e9631127-3143-4368-8df5-735d99563ab5',\n",
       " 'bd3f42b3-ded6-4cac-8046-106b70eefed5',\n",
       " '7cfd2883-47cb-4ae9-8675-d6a06a750b6a',\n",
       " 'cc64cea9-a28b-4e0f-a1c3-b6062b7dc4ec',\n",
       " '61402bd3-c728-4b5d-832e-26049c312188',\n",
       " '37da99d5-d749-46f2-928d-5a5ac8b84166',\n",
       " 'ee6cde07-33d2-4e7c-89b3-c77c32d4528f',\n",
       " '11b14857-08da-4236-8de1-bb74a21b00e3',\n",
       " '3057fe6a-c40c-4072-885a-746ad4542345',\n",
       " 'dfe4183e-4149-457b-8b95-1e9a3ad0c0c1',\n",
       " '91079a69-d0b5-4017-958b-5bef642f63ec',\n",
       " 'de05d30d-08fa-42f1-8565-4beb93873af0',\n",
       " '1e2deb28-4fef-403b-a8f2-bb4ddd6f21e6',\n",
       " '03b38cc4-b91e-4dc0-b230-52efa75ac835',\n",
       " '1fa1a4a8-df5e-40bf-b417-a87c152e7cfd',\n",
       " 'e50a6318-d344-41ef-a9af-1890e9d7c212',\n",
       " 'e3663136-bf3d-42cc-87d1-90ef14b1da3a',\n",
       " 'a91d930d-ce93-4f2f-82cc-4e5b034fe110',\n",
       " '01a3ed26-3069-4e90-acfd-3d347d404ad5',\n",
       " 'd0bfac4c-ef9a-4ed0-aa1b-26524893c5d1',\n",
       " '611c09d3-7831-447d-8e5b-d5fca4f1790a',\n",
       " 'ac7dd1ce-5840-4e13-a595-fa579e23d8a8',\n",
       " '9d3ad554-7784-4be6-9b70-f230a81cc343',\n",
       " '9bec3812-c984-4498-b1a9-600152da12b9',\n",
       " '827461de-6f02-4da9-b132-55e543978d87',\n",
       " '8db7e7aa-8562-48b9-8092-96b0169a619f',\n",
       " '96ccfb28-b41f-4fd6-a927-d22c5dcad52f',\n",
       " '4d2e8c2a-ef5e-4f26-862e-3c1b2e623505',\n",
       " '011db38e-9936-4f09-9032-4fca98eae156',\n",
       " '32053bb4-090e-47aa-b57b-92c0e5d232c0',\n",
       " 'e7e5e32a-808f-4962-ac23-041e36a2e092',\n",
       " '6556ab3d-a252-4c88-bf1a-644d3a7e8479',\n",
       " 'a412d0e8-f4f2-43c4-bda2-1a75fcac0ec9',\n",
       " '79ff2851-bc23-4088-a744-aef68cd6f888',\n",
       " '7278738f-6337-4e48-a3d9-c350a4d5b2c2',\n",
       " '12c7f283-b3a6-4ffe-878e-a8f8e525174e',\n",
       " 'ec8e41a2-7929-434b-a4fd-58e19761a637',\n",
       " '1a1ecf87-b8f1-44f9-8ac2-cbaf98315231',\n",
       " 'ff595cae-e86e-402a-aca6-040120dd8774',\n",
       " 'd316e5c9-6858-4b91-944e-7d061524aa27',\n",
       " 'edcfd1ea-40e1-44d4-8d9b-c925c9d59fac',\n",
       " '21157af1-d79a-47e4-ada6-a3187865ddc5',\n",
       " '6f8d5427-87e0-476e-821a-b6e9ee6bb550',\n",
       " '956eae7a-418f-4921-97ad-070646109a89',\n",
       " 'd854e00f-9341-48cf-bc97-1f3e3e399107',\n",
       " 'd9a0e46f-e1c3-430d-9785-9b945df3de50',\n",
       " '8f977881-cb8a-462c-8d67-6aa6dc06b66a',\n",
       " 'aab21d37-1c33-41d2-8fc1-625681dc0be2',\n",
       " '13361bf0-7a0a-47b2-9586-f59496f97ad5',\n",
       " '73524c7b-c295-441e-8ca3-c99977e7b22c',\n",
       " 'b5cec5b1-d105-41e5-9ffb-917d4ff050a5',\n",
       " 'd2fb4268-cd3b-40fe-88e4-fa7d660b6b2d',\n",
       " 'cefda202-e950-4af2-af39-0b8a70341f0d',\n",
       " 'c5d6cd20-bb73-41dc-a118-60a5dc673555',\n",
       " 'bc7c9e01-57c9-4bf7-8069-b08f1f74f2df',\n",
       " 'b3f2c058-b01e-4ac4-bb4b-9b508f264fbf',\n",
       " 'a88514e8-620f-4d43-a505-ec333472253f',\n",
       " 'e32da8eb-f026-4c4c-b077-769ecc2631ee',\n",
       " 'aab22eda-48ff-4ccb-9e4d-a36c491f76b0',\n",
       " '322e1a04-a1c3-4442-918e-5521029bc496',\n",
       " '4b637ce2-d274-4d30-a383-c129eb807dd0',\n",
       " 'ea5602a4-c795-40f9-a772-6f6ec9df0289',\n",
       " 'fde51474-8784-48dd-8960-1e275a7b3c67',\n",
       " '12a37b53-a174-4b70-977a-5ba15be361fb',\n",
       " '37a06140-c583-4881-958e-e05aa889120f',\n",
       " '9acd359b-b5d8-47a3-9dc3-91beb435a3bb',\n",
       " 'd75ebd6b-f778-47e7-9dd7-fea899d8790e',\n",
       " '44d4c3b9-884f-4b36-80e5-70699c72b9fc',\n",
       " '45473b2d-1cc1-4550-9348-c2a7a58b35a1',\n",
       " '539bb2d5-6a97-47c6-a557-e0fbaa16e0b9',\n",
       " 'd9fbdaaf-63ab-4e93-833c-f4792572a4bb',\n",
       " 'a72fd7f3-f10c-43a1-b41c-3666e12431df',\n",
       " 'f8246c9b-494d-437f-a9ca-1bf8fedd41c8',\n",
       " '9d254c0d-bd57-444c-9519-a37c942e17c2',\n",
       " '99a1a8f4-2049-4b99-ab4f-c5e3509450ac',\n",
       " '37d0bb67-b05a-4a5b-afeb-894878fb3841',\n",
       " '437c765a-7cec-4aee-be5b-55d4dcae3ce7',\n",
       " '7eb9f0a7-94ce-4ba6-ba9d-de682318e4ab',\n",
       " '611efdea-6aa0-49fc-b912-9eed82025180',\n",
       " '6152a8be-f07f-4f1c-86f9-21f8fd837d02',\n",
       " 'ffba2229-1997-42dc-9183-0d2d79c9e38e',\n",
       " '3d725cef-dbee-45d1-b498-b13f8c948188',\n",
       " '609b39c9-d32b-47f7-be51-8d1456faddab',\n",
       " '776eee4b-52d9-4809-8ef8-6330bcfd209c',\n",
       " 'f0891762-8a7d-48b6-a462-de195604ed4f',\n",
       " '77d26fbe-0dbd-4949-b2df-475bbc7df2bf',\n",
       " '06650d6d-dd3c-4f52-b15a-13890ebedfa6',\n",
       " 'd17f625b-dc7b-437d-b755-73ffc2cf4bf3',\n",
       " '98ec0baf-a4cd-4d2c-a4a6-e23d3c75a490',\n",
       " '798a64e4-b3dd-4426-8ab0-a234c3f3515f',\n",
       " '688d3ff2-f744-4d06-9baa-7396d577d4fd',\n",
       " '569be5a0-1c9b-46a9-ab6b-529be81e4b1b',\n",
       " '7a918628-08b4-418e-a6f0-a0879bcb0241',\n",
       " '5d41d3a9-4594-4cac-a110-b9d17a6e4bf9',\n",
       " 'a028aecc-cf65-4b39-917b-4855197a9663',\n",
       " '7fd46ddc-c5d2-420c-8596-7e2ed040a48c',\n",
       " '8eef688d-b20c-474d-bfbb-8218fd2b1975',\n",
       " 'fd7f4591-e451-40ed-b348-cd712e6b9c72',\n",
       " '5dd446fe-6a91-4594-944e-9618852da86a',\n",
       " 'd9e8f369-8ed1-47b3-aca5-4a7cc711d2ba',\n",
       " 'c4456c50-8cdf-424a-9852-ee063b7d5e13',\n",
       " '920ac7db-cf69-4397-b1e7-91d70f67e1f4',\n",
       " 'fc42aaaa-e592-49f2-9244-33bb44640bc9',\n",
       " '057660d6-d495-40e2-a740-754fb1c4e60c',\n",
       " '9d37f03a-3282-47af-b2f8-1ffd1d7a2077',\n",
       " '893840d7-966d-4b7a-b29f-e9b0eec84af1',\n",
       " 'ab559e5b-cc3e-487e-8f03-5c51f5bde2c4',\n",
       " '21a32c26-7ced-4192-816a-1a510ef73997',\n",
       " '3b5b1495-6804-4853-b6a5-f839d9ea8767',\n",
       " 'c18ca17e-c77b-4fd1-9b8c-b4bb0a7bf07c',\n",
       " '8d4c193a-c614-4b6e-8b0d-1dfdabba486d',\n",
       " 'c91fee93-d2d7-476d-b5f7-bc241aa215a8',\n",
       " 'e1da9146-0482-4c3f-810d-adc9b9e00b3f',\n",
       " '358f0523-8bd2-4f3d-ad38-39552aa707b7',\n",
       " 'f1f2fa54-57c7-4ca2-b352-d7308f46c682',\n",
       " '492bb7a3-f0e9-4648-be7d-ea491ddbdd0e',\n",
       " 'd50b86a4-ee8f-4cc0-8c5b-ba498d7c8f7b',\n",
       " '163eb225-e27d-49f3-bbc5-c90e57dcd55e',\n",
       " '741d6d5a-6928-4b12-95f4-4f189ee56564',\n",
       " '1daf2906-e823-40a2-b195-3fe052a8cf0f',\n",
       " '82b38026-b3c0-409f-91fd-3bdd8a79a5e4',\n",
       " '881fb5e6-4d25-4394-9acf-3d2c65745821',\n",
       " 'ffef4e61-d68b-4acf-9e24-17611f9eee4c',\n",
       " '34b63129-c51e-4a71-8eab-3d77723cfae4',\n",
       " 'd299d966-315c-41ce-8af9-a149e9ed68d1',\n",
       " '66b76c3d-c00c-46cf-a7c4-0b7e3f2e0314',\n",
       " 'f74d3c10-33f1-4b2b-b0b7-7dbf9c21d482',\n",
       " '30fc7e9a-aca3-4f67-bc1c-f576d3ae145f',\n",
       " 'e2a229f9-2391-411d-a4f7-c55ba6a7bd95',\n",
       " 'af647eb0-3328-4543-846c-d4d74e32aad9',\n",
       " '29a19514-d61e-4bf2-8647-48d1565efb22',\n",
       " '188b14d0-35c7-48f0-83bf-5b56a845f33b',\n",
       " '87562597-95f5-4e32-a740-1e2043ffb6c4',\n",
       " '2bc4f651-98ec-4928-87af-b34768e8338f',\n",
       " '19cdfc7e-afd1-4806-b713-d26a03a24766',\n",
       " '63a77e9d-0b9f-4f3d-9336-d7594f3038dc',\n",
       " 'a116b7ef-483f-4023-88af-09c1455c1e58',\n",
       " 'e92be6d3-f9d2-470c-8658-6bc56c5fa409',\n",
       " '2d2c19d2-e432-4a74-8faa-6549f6e7fc64',\n",
       " '524c0989-f05b-4c2b-bdc1-eec772b36f2d',\n",
       " 'fe97290d-9f69-4d46-9981-4e361c5bd947',\n",
       " '6166bfa6-9b01-408b-9355-ad61d91c0afa']"
      ]
     },
     "execution_count": 16,
     "metadata": {},
     "output_type": "execute_result"
    }
   ],
   "source": [
    "expkeys_of_multi_exps1"
   ]
  },
  {
   "cell_type": "markdown",
   "id": "57520119",
   "metadata": {},
   "source": [
    "---\n",
    "\n",
    "### Post-Process Availablities and Version Info"
   ]
  },
  {
   "cell_type": "code",
   "execution_count": 17,
   "id": "306e7ba6",
   "metadata": {},
   "outputs": [
    {
     "data": {
      "text/plain": [
       " | Qurry version: 0.12.2.dev1\n",
       "---------------------------------------------------------------------------\n",
       " ### Qurry Post-Processing\n",
       "   - Backend Availability ................... Python Cython Rust   JAX   \n",
       " - randomized_measure\n",
       "   - entangled_entropy.entropy_core_2 ....... Yes    Depr.  Yes    No    \n",
       "   - entangle_entropy.purity_cell_2 ......... Yes    Depr.  Yes    No    \n",
       "   - entangled_entropy_v1.entropy_core ...... Yes    Depr.  Yes    No    \n",
       "   - entangle_entropy_v1.purity_cell ........ Yes    Depr.  Yes    No    \n",
       "   - wavefunction_overlap.echo_core_2 ....... Yes    Depr.  Yes    No    \n",
       "   - wavefunction_overlap.echo_cell_2 ....... Yes    Depr.  Yes    No    \n",
       "   - wavefunction_overlap_v1.echo_core ...... Yes    Depr.  Yes    No    \n",
       "   - wavefunction_overlap_v1.echo_cell ...... Yes    Depr.  Yes    No    \n",
       " - hadamard_test\n",
       "   - purity_echo_core ....................... Yes    No     Yes    No    \n",
       " - magnet_square\n",
       "   - magnsq_core ............................ Yes    No     No     No    \n",
       " - classical_shadow\n",
       "   - rho_m_core ............................. Yes    No     No     Yes   \n",
       " - utils\n",
       "   - randomized ............................. Yes    Depr.  Yes    No    \n",
       "   - counts_process ......................... Yes    No     Yes    No    \n",
       "   - bit_slice .............................. Yes    No     Yes    No    \n",
       "   - dummy .................................. Yes    No     Yes    No    \n",
       "   - test ................................... Yes    No     Yes    No    \n",
       "---------------------------------------------------------------------------\n",
       "   + Yes ...... Working normally.\n",
       "   + Error .... Exception occurred.\n",
       "   + No ....... Not supported.\n",
       "   + Depr. .... Deprecated.\n",
       "---------------------------------------------------------------------------\n",
       "by <Hoshi>"
      ]
     },
     "execution_count": 17,
     "metadata": {},
     "output_type": "execute_result"
    }
   ],
   "source": [
    "from qurry.process import AVAIBILITY_STATESHEET\n",
    "AVAIBILITY_STATESHEET"
   ]
  }
 ],
 "metadata": {
  "kernelspec": {
   "display_name": "quantumsphere12",
   "language": "python",
   "name": "python3"
  },
  "language_info": {
   "codemirror_mode": {
    "name": "ipython",
    "version": 3
   },
   "file_extension": ".py",
   "mimetype": "text/x-python",
   "name": "python",
   "nbconvert_exporter": "python",
   "pygments_lexer": "ipython3",
   "version": "3.12.3"
  }
 },
 "nbformat": 4,
 "nbformat_minor": 5
}
