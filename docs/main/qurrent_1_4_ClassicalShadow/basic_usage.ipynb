{
 "cells": [
  {
   "cell_type": "markdown",
   "id": "166f3b67",
   "metadata": {},
   "source": [
    "# 1. EntropyMeasure\n",
    "---\n",
    "## 1.4 Classical Shadow - basic usage\n"
   ]
  },
  {
   "cell_type": "markdown",
   "id": "86beb579",
   "metadata": {},
   "source": [
    "### a. Import the instances"
   ]
  },
  {
   "cell_type": "code",
   "execution_count": 1,
   "id": "0fc71722",
   "metadata": {},
   "outputs": [],
   "source": [
    "from qurry import ShadowUnveil\n",
    "\n",
    "experiment_shadow = ShadowUnveil()"
   ]
  },
  {
   "cell_type": "markdown",
   "id": "d48d1d69",
   "metadata": {},
   "source": [
    "### b. Preparing quantum circuit"
   ]
  },
  {
   "cell_type": "code",
   "execution_count": 2,
   "id": "2e597e81",
   "metadata": {},
   "outputs": [],
   "source": [
    "from qiskit import QuantumCircuit\n",
    "from qurry.recipe import TrivialParamagnet, GHZ\n"
   ]
  },
  {
   "cell_type": "code",
   "execution_count": 3,
   "id": "9584bc4f",
   "metadata": {},
   "outputs": [
    {
     "name": "stdout",
     "output_type": "stream",
     "text": [
      "| trivial paramagnet in 8 qubits:\n",
      "     ┌───┐\n",
      "q_0: ┤ H ├\n",
      "     ├───┤\n",
      "q_1: ┤ H ├\n",
      "     ├───┤\n",
      "q_2: ┤ H ├\n",
      "     ├───┤\n",
      "q_3: ┤ H ├\n",
      "     ├───┤\n",
      "q_4: ┤ H ├\n",
      "     ├───┤\n",
      "q_5: ┤ H ├\n",
      "     ├───┤\n",
      "q_6: ┤ H ├\n",
      "     ├───┤\n",
      "q_7: ┤ H ├\n",
      "     └───┘\n"
     ]
    }
   ],
   "source": [
    "sample01 = TrivialParamagnet(8)\n",
    "print(\"| trivial paramagnet in 8 qubits:\")\n",
    "print(sample01)"
   ]
  },
  {
   "cell_type": "code",
   "execution_count": 4,
   "id": "ddd66f20",
   "metadata": {},
   "outputs": [
    {
     "name": "stdout",
     "output_type": "stream",
     "text": [
      "| GHZ in 8 qubits:\n",
      "     ┌───┐                                   \n",
      "q_0: ┤ H ├──■────────────────────────────────\n",
      "     └───┘┌─┴─┐                              \n",
      "q_1: ─────┤ X ├──■───────────────────────────\n",
      "          └───┘┌─┴─┐                         \n",
      "q_2: ──────────┤ X ├──■──────────────────────\n",
      "               └───┘┌─┴─┐                    \n",
      "q_3: ───────────────┤ X ├──■─────────────────\n",
      "                    └───┘┌─┴─┐               \n",
      "q_4: ────────────────────┤ X ├──■────────────\n",
      "                         └───┘┌─┴─┐          \n",
      "q_5: ─────────────────────────┤ X ├──■───────\n",
      "                              └───┘┌─┴─┐     \n",
      "q_6: ──────────────────────────────┤ X ├──■──\n",
      "                                   └───┘┌─┴─┐\n",
      "q_7: ───────────────────────────────────┤ X ├\n",
      "                                        └───┘\n"
     ]
    }
   ],
   "source": [
    "sample02 = GHZ(8)\n",
    "print(\"| GHZ in 8 qubits:\")\n",
    "print(sample02)"
   ]
  },
  {
   "cell_type": "code",
   "execution_count": 5,
   "id": "bf3a0988",
   "metadata": {},
   "outputs": [
    {
     "name": "stdout",
     "output_type": "stream",
     "text": [
      "| Custom circuit:\n",
      "     ┌───┐\n",
      "q_0: ┤ X ├\n",
      "     └───┘\n",
      "q_1: ─────\n",
      "     ┌───┐\n",
      "q_2: ┤ X ├\n",
      "     └───┘\n",
      "q_3: ─────\n",
      "     ┌───┐\n",
      "q_4: ┤ X ├\n",
      "     └───┘\n",
      "q_5: ─────\n",
      "     ┌───┐\n",
      "q_6: ┤ X ├\n",
      "     └───┘\n",
      "q_7: ─────\n",
      "          \n"
     ]
    }
   ],
   "source": [
    "sample03 = QuantumCircuit(8)\n",
    "sample03.x(range(0, 8, 2))\n",
    "print(\"| Custom circuit:\")\n",
    "print(sample03)"
   ]
  },
  {
   "cell_type": "markdown",
   "id": "25fc5d4c",
   "metadata": {},
   "source": [
    "### c. Execute the circuit"
   ]
  },
  {
   "cell_type": "markdown",
   "id": "6937e4ba",
   "metadata": {},
   "source": [
    "#### i. Directly input the circuit\n",
    "\n",
    "After executing, it will return a uuid of experiment. You can use this uuid to get the result of the experiment.\n"
   ]
  },
  {
   "cell_type": "code",
   "execution_count": 6,
   "id": "3135a9f2",
   "metadata": {},
   "outputs": [
    {
     "data": {
      "text/plain": [
       "'a2785a71-20b5-4c4d-adf6-038c26791ae6'"
      ]
     },
     "execution_count": 6,
     "metadata": {},
     "output_type": "execute_result"
    }
   ],
   "source": [
    "exp1 = experiment_shadow.measure(sample01, times=100, shots=4096)\n",
    "exp1"
   ]
  },
  {
   "cell_type": "markdown",
   "id": "4052ff26",
   "metadata": {},
   "source": [
    "Each experiment result will be stored in a container `.exps`."
   ]
  },
  {
   "cell_type": "code",
   "execution_count": 7,
   "id": "a01a6c9f",
   "metadata": {},
   "outputs": [
    {
     "data": {
      "text/plain": [
       "<ShadowUnveilExperiment(exp_id=a2785a71-20b5-4c4d-adf6-038c26791ae6, \n",
       "  ShadowUnveilArguments(exp_name='experiment.N_U_100.qurshady_entropy', times=100, qubits_measured=[0, 1, 2, 3, 4, 5, 6, 7], registers_mapping={0: 0, 1: 1, 2: 2, 3: 3, 4: 4, 5: 5, 6: 6, 7: 7}, actual_num_qubits=8, unitary_located=[0, 1, 2, 3, 4, 5, 6, 7], random_unitary_seeds=None),\n",
       "  Commonparams(exp_id='a2785a71-20b5-4c4d-adf6-038c26791ae6', target_keys=[0], shots=4096, backend=<AerSimulator('aer_simulator')>, run_args={}, transpile_args={}, tags=(), default_analysis=[], save_location=PosixPath('.'), filename='', files={}, serial=None, summoner_id=None, summoner_name=None, datetimes=DatetimeDict({'build': '2025-05-21 22:55:13', 'run.001': '2025-05-21 22:55:13'})),\n",
       "  unused_args_num=0,\n",
       "  analysis_num=0))>"
      ]
     },
     "execution_count": 7,
     "metadata": {},
     "output_type": "execute_result"
    }
   ],
   "source": [
    "experiment_shadow.exps[exp1]"
   ]
  },
  {
   "cell_type": "code",
   "execution_count": 8,
   "id": "98b17ffb",
   "metadata": {},
   "outputs": [
    {
     "name": "stderr",
     "output_type": "stream",
     "text": [
      "WARNING:2025-05-21 22:55:17,063:jax._src.xla_bridge:909: An NVIDIA GPU may be present on this machine, but a CUDA-enabled jaxlib is not installed. Falling back to cpu.\n"
     ]
    },
    {
     "data": {
      "text/plain": [
       "<ShadowUnveilAnalysis(\n",
       "  serial=0,\n",
       "  AnalysisInput(num_qubits=8, selected_qubits=[0, 1, 2, 3], registers_mapping={0: 0, 1: 1, 2: 2, 3: 3, 4: 4, 5: 5, 6: 6, 7: 7}, bitstring_mapping={0: 0, 1: 1, 2: 2, 3: 3, 4: 4, 5: 5, 6: 6, 7: 7}, shots=4096, unitary_located=[0, 1, 2, 3, 4, 5, 6, 7]),\n",
       "  AnalysisContent(purity=1.0756217964399946, entropy=-0.10517089544547593, and others)),\n",
       "  unused_args_num=1\n",
       "  )>"
      ]
     },
     "execution_count": 8,
     "metadata": {},
     "output_type": "execute_result"
    }
   ],
   "source": [
    "report01 = experiment_shadow.exps[exp1].analyze(\n",
    "    selected_qubits=[0, 1, 2, 3],\n",
    ")\n",
    "report01"
   ]
  },
  {
   "cell_type": "code",
   "execution_count": 9,
   "id": "04e837c4",
   "metadata": {},
   "outputs": [
    {
     "data": {
      "text/plain": [
       "{'expect_rho': '[[0.06646606+0.00000000e+00j 0.05843262-1.52893066e-04j\\n  0.06298096+8.87145996e-04j 0.06136414+5.71289062e-04j\\n  0.0595285 -1.83288574e-03j 0.06668152-1.73034668e-03j\\n  0.06451721-2.16430664e-03j 0.08143341+2.30712891e-03j\\n  0.06724731+8.90808105e-04j 0.07211151-4.66918945e-05j\\n  0.06756592+5.76782227e-04j 0.06749176+1.63146973e-03j\\n  0.06168274-4.61425781e-04j 0.07043335+7.49816895e-04j\\n  0.086987  -5.76782227e-04j 0.10127472+2.10113525e-03j]\\n [0.05843262+1.52893066e-04j 0.0599054 +0.00000000e+00j\\n  0.06395142+2.91137695e-03j 0.0642334 -2.11486816e-04j\\n  0.06802185-1.33483887e-03j 0.0565567 -1.46484375e-03j\\n  0.08888214+2.40600586e-03j 0.06995544+1.92260742e-04j\\n  0.07303436+2.55432129e-04j 0.06583557-1.00708008e-05j\\n  0.06399811+3.36181641e-03j 0.06624756+9.72290039e-04j\\n  0.06642883-3.55133057e-03j 0.06047974-1.15356445e-04j\\n  0.10473541-7.41577148e-05j 0.08263641+5.20751953e-03j]\\n [0.06298096-8.87145996e-04j 0.06395142-2.91137695e-03j\\n  0.05808899+0.00000000e+00j 0.05810852-1.22955322e-03j\\n  0.0675    -6.92138672e-04j 0.08085663+4.61425781e-04j\\n  0.05622162+2.31445313e-03j 0.06529724+4.05395508e-03j\\n  0.06871948+1.92810059e-03j 0.06615692+1.51611328e-03j\\n  0.06946655-1.08947754e-04j 0.07448456+1.27166748e-03j\\n  0.08613007+3.57604980e-03j 0.10602081+2.10113525e-03j\\n  0.06125427+4.28466797e-04j 0.06637939-1.52435303e-03j]\\n [0.06136414-5.71289062e-04j 0.0642334 +2.11486816e-04j\\n  0.05810852+1.22955322e-03j 0.06588745+0.00000000e+00j\\n  0.08444916-4.94384766e-04j 0.06740112-1.17004395e-03j\\n  0.06831848+3.62548828e-03j 0.05872101+6.71997070e-04j\\n  0.06592621-1.10412598e-03j 0.06532471-1.69738770e-03j\\n  0.07072723-4.69665527e-04j 0.06785706+7.36999512e-04j\\n  0.09850616-7.41577148e-05j 0.08237274-2.20825195e-03j\\n  0.06860413-5.85021973e-04j 0.06252319+7.74536133e-04j]\\n [0.0595285 +1.83288574e-03j 0.06802185+1.33483887e-03j\\n  0.0675    +6.92138672e-04j 0.08444916+4.94384766e-04j\\n  0.06038879+0.00000000e+00j 0.05721313+1.03912354e-03j\\n  0.06363464+3.98254395e-04j 0.05968323+2.38403320e-03j\\n  0.06279236+6.59179687e-04j 0.06794495-2.49664307e-03j\\n  0.08477875+3.16406250e-03j 0.10142303-2.15057373e-03j\\n  0.06727478-4.49523926e-04j 0.0730838 +5.21850586e-05j\\n  0.0702356 +3.79028320e-04j 0.06610748+1.53259277e-03j]\\n [0.06668152+1.73034668e-03j 0.0565567 +1.46484375e-03j\\n  0.08085663-4.61425781e-04j 0.06740112+1.17004395e-03j\\n  0.05721313-1.03912354e-03j 0.06525391+0.00000000e+00j\\n  0.06068848-2.85644531e-04j 0.06343689-1.07116699e-04j\\n  0.06707153+8.15734863e-04j 0.0634021 -9.39331055e-04j\\n  0.09578705-8.65173340e-04j 0.08250458-4.40002441e-03j\\n  0.07420441-1.29364014e-03j 0.07037842-5.59387207e-04j\\n  0.07180939-8.89892578e-04j 0.06585205+1.81274414e-04j]\\n [0.06451721+2.16430664e-03j 0.08888214-2.40600586e-03j\\n  0.05622162-2.31445313e-03j 0.06831848-3.62548828e-03j\\n  0.06363464-3.98254395e-04j 0.06068848+2.85644531e-04j\\n  0.06462402+0.00000000e+00j 0.05758118+6.13403320e-05j\\n  0.08622894-1.12060547e-03j 0.10310394-2.15057373e-03j\\n  0.06325378+7.91015625e-04j 0.06725281+1.55731201e-03j\\n  0.06819214-1.63146973e-03j 0.07208954-2.73559570e-03j\\n  0.06679138-3.61633301e-04j 0.07347931-2.28790283e-03j]\\n [0.08143341-2.30712891e-03j 0.06995544-1.92260742e-04j\\n  0.06529724-4.05395508e-03j 0.05872101-6.71997070e-04j\\n  0.05968323-2.38403320e-03j 0.06343689+1.07116699e-04j\\n  0.05758118-6.13403320e-05j 0.05827209+0.00000000e+00j\\n  0.09914886-8.65173340e-04j 0.08336151-1.07116699e-03j\\n  0.06588501-3.70788574e-04j 0.05961182-8.07495117e-04j\\n  0.06642059-1.20300293e-03j 0.06786255+8.73413086e-04j\\n  0.07387482+1.63970947e-03j 0.06514893-5.04455566e-04j]\\n [0.06724731-8.90808105e-04j 0.07303436-2.55432129e-04j\\n  0.06871948-1.92810059e-03j 0.06592621+1.10412598e-03j\\n  0.06279236-6.59179687e-04j 0.06707153-8.15734863e-04j\\n  0.08622894+1.12060547e-03j 0.09914886+8.65173340e-04j\\n  0.05852112+0.00000000e+00j 0.05792725-1.93267822e-03j\\n  0.06437622-2.24395752e-03j 0.06210571-1.27441406e-03j\\n  0.05662262+4.63256836e-04j 0.06864258+2.37304688e-03j\\n  0.07048279+1.56005859e-03j 0.08291656-3.37829590e-03j]\\n [0.07211151+4.66918945e-05j 0.06583557+1.00708008e-05j\\n  0.06615692-1.51611328e-03j 0.06532471+1.69738770e-03j\\n  0.06794495+2.49664307e-03j 0.0634021 +9.39331055e-04j\\n  0.10310394+2.15057373e-03j 0.08336151+1.07116699e-03j\\n  0.05792725+1.93267822e-03j 0.06556152+0.00000000e+00j\\n  0.06017761-1.40625000e-03j 0.06361816+9.42077637e-04j\\n  0.0677417 +2.50488281e-03j 0.06024261+2.31445312e-03j\\n  0.08522369-2.88391113e-03j 0.06395691+4.55932617e-04j]\\n [0.06756592-5.76782227e-04j 0.06399811-3.36181641e-03j\\n  0.06946655+1.08947754e-04j 0.07072723+4.69665527e-04j\\n  0.08477875-3.16406250e-03j 0.09578705+8.65173340e-04j\\n  0.06325378-7.91015625e-04j 0.06588501+3.70788574e-04j\\n  0.06437622+2.24395752e-03j 0.06017761+1.40625000e-03j\\n  0.0667334 +0.00000000e+00j 0.0578009 +2.23114014e-03j\\n  0.06888428-1.05468750e-03j 0.08659149+3.13110352e-04j\\n  0.06003937-2.93701172e-03j 0.06686279-5.28991699e-03j]\\n [0.06749176-1.63146973e-03j 0.06624756-9.72290039e-04j\\n  0.07448456-1.27166748e-03j 0.06785706-7.36999512e-04j\\n  0.10142303+2.15057373e-03j 0.08250458+4.40002441e-03j\\n  0.06725281-1.55731201e-03j 0.05961182+8.07495117e-04j\\n  0.06210571+1.27441406e-03j 0.06361816-9.42077637e-04j\\n  0.0578009 -2.23114014e-03j 0.05998596+0.00000000e+00j\\n  0.08464691-1.03820801e-03j 0.06730225+3.46069336e-04j\\n  0.06843384-5.98205566e-03j 0.05706757-1.51428223e-03j]\\n [0.06168274+4.61425781e-04j 0.06642883+3.55133057e-03j\\n  0.08613007-3.57604980e-03j 0.09850616+7.41577148e-05j\\n  0.06727478+4.49523926e-04j 0.07420441+1.29364014e-03j\\n  0.06819214+1.63146973e-03j 0.06642059+1.20300293e-03j\\n  0.05662262-4.63256836e-04j 0.0677417 -2.50488281e-03j\\n  0.06888428+1.05468750e-03j 0.08464691+1.03820801e-03j\\n  0.06506714+0.00000000e+00j 0.05908081-1.07025146e-03j\\n  0.06496399+1.09039307e-03j 0.06269897+3.40576172e-04j]\\n [0.07043335-7.49816895e-04j 0.06047974+1.15356445e-04j\\n  0.10602081-2.10113525e-03j 0.08237274+2.20825195e-03j\\n  0.0730838 -5.21850586e-05j 0.07037842+5.59387207e-04j\\n  0.07208954+2.73559570e-03j 0.06786255-8.73413086e-04j\\n  0.06864258-2.37304688e-03j 0.06024261-2.31445312e-03j\\n  0.08659149-3.13110352e-04j 0.06730225-3.46069336e-04j\\n  0.05908081+1.07025146e-03j 0.06052795+0.00000000e+00j\\n  0.06433044+1.72485352e-03j 0.06275574+3.21350098e-04j]\\n [0.086987  +5.76782227e-04j 0.10473541+7.41577148e-05j\\n  0.06125427-4.28466797e-04j 0.06860413+5.85021973e-04j\\n  0.0702356 -3.79028320e-04j 0.07180939+8.89892578e-04j\\n  0.06679138+3.61633301e-04j 0.07387482-1.63970947e-03j\\n  0.07048279-1.56005859e-03j 0.08522369+2.88391113e-03j\\n  0.06003937+2.93701172e-03j 0.06843384+5.98205566e-03j\\n  0.06496399-1.09039307e-03j 0.06433044-1.72485352e-03j\\n  0.05998596+0.00000000e+00j 0.05885559-7.62634277e-04j]\\n [0.10127472-2.10113525e-03j 0.08263641-5.20751953e-03j\\n  0.06637939+1.52435303e-03j 0.06252319-7.74536133e-04j\\n  0.06610748-1.53259277e-03j 0.06585205-1.81274414e-04j\\n  0.07347931+2.28790283e-03j 0.06514893+5.04455566e-04j\\n  0.08291656+3.37829590e-03j 0.06395691-4.55932617e-04j\\n  0.06686279+5.28991699e-03j 0.05706757+1.51428223e-03j\\n  0.06269897-3.40576172e-04j 0.06275574-3.21350098e-04j\\n  0.05885559+7.62634277e-04j 0.06473022+0.00000000e+00j]]',\n",
       " 'purity': np.float64(1.0756217964399946),\n",
       " 'entropy': np.float64(-0.10517089544547593),\n",
       " 'classical_registers_actually': [3, 2, 1, 0],\n",
       " 'taking_time': 0.06920218467712402,\n",
       " 'input': {'num_qubits': 8,\n",
       "  'selected_qubits': [0, 1, 2, 3],\n",
       "  'registers_mapping': {0: 0, 1: 1, 2: 2, 3: 3, 4: 4, 5: 5, 6: 6, 7: 7},\n",
       "  'bitstring_mapping': {0: 0, 1: 1, 2: 2, 3: 3, 4: 4, 5: 5, 6: 6, 7: 7},\n",
       "  'shots': 4096,\n",
       "  'unitary_located': [0, 1, 2, 3, 4, 5, 6, 7]},\n",
       " 'header': {'serial': 0,\n",
       "  'datetime': '2025-05-21 22:55:17',\n",
       "  'summoner': None,\n",
       "  'log': {}}}"
      ]
     },
     "execution_count": 9,
     "metadata": {},
     "output_type": "execute_result"
    }
   ],
   "source": [
    "main01, side_product01 = report01.export()\n",
    "main01"
   ]
  },
  {
   "cell_type": "markdown",
   "id": "80f78a90",
   "metadata": {},
   "source": [
    "#### ii. Add the circuits to container `.waves`, then call them later.\n",
    "\n",
    "Since we have executed an experiment, the circuit we input in `exp1` is stored in the container `.waves` with serial number `0`."
   ]
  },
  {
   "cell_type": "code",
   "execution_count": 10,
   "id": "e7e4b5fd",
   "metadata": {},
   "outputs": [
    {
     "data": {
      "text/plain": [
       "WaveContainer({\n",
       "  0: <qurry.recipe.simple.paramagnet.TrivialParamagnet object at 0x7cc359ad9430>})"
      ]
     },
     "execution_count": 10,
     "metadata": {},
     "output_type": "execute_result"
    }
   ],
   "source": [
    "experiment_shadow.waves"
   ]
  },
  {
   "cell_type": "markdown",
   "id": "c5dc7dc7",
   "metadata": {},
   "source": [
    "But we can also add the circuit to the container `.waves` with a custom name.\n",
    "The name should be unique, otherwise it will be overwritten.\n",
    "The method `add` will return the actual name of the circuit in the container."
   ]
  },
  {
   "cell_type": "code",
   "execution_count": 11,
   "id": "50325122",
   "metadata": {},
   "outputs": [
    {
     "name": "stdout",
     "output_type": "stream",
     "text": [
      "ghz_8\n",
      "     ┌───┐                                   \n",
      "q_0: ┤ H ├──■────────────────────────────────\n",
      "     └───┘┌─┴─┐                              \n",
      "q_1: ─────┤ X ├──■───────────────────────────\n",
      "          └───┘┌─┴─┐                         \n",
      "q_2: ──────────┤ X ├──■──────────────────────\n",
      "               └───┘┌─┴─┐                    \n",
      "q_3: ───────────────┤ X ├──■─────────────────\n",
      "                    └───┘┌─┴─┐               \n",
      "q_4: ────────────────────┤ X ├──■────────────\n",
      "                         └───┘┌─┴─┐          \n",
      "q_5: ─────────────────────────┤ X ├──■───────\n",
      "                              └───┘┌─┴─┐     \n",
      "q_6: ──────────────────────────────┤ X ├──■──\n",
      "                                   └───┘┌─┴─┐\n",
      "q_7: ───────────────────────────────────┤ X ├\n",
      "                                        └───┘\n"
     ]
    }
   ],
   "source": [
    "print(experiment_shadow.add(sample02, \"ghz_8\"))\n",
    "print(experiment_shadow.waves['ghz_8'])"
   ]
  },
  {
   "cell_type": "markdown",
   "id": "d426d0bf",
   "metadata": {},
   "source": [
    "If there is a circuit with the same name, it will be replaced by the new one."
   ]
  },
  {
   "cell_type": "code",
   "execution_count": 12,
   "id": "62f0b726",
   "metadata": {},
   "outputs": [
    {
     "name": "stdout",
     "output_type": "stream",
     "text": [
      "ghz_8\n",
      "     ┌───┐\n",
      "q_0: ┤ X ├\n",
      "     └───┘\n",
      "q_1: ─────\n",
      "     ┌───┐\n",
      "q_2: ┤ X ├\n",
      "     └───┘\n",
      "q_3: ─────\n",
      "     ┌───┐\n",
      "q_4: ┤ X ├\n",
      "     └───┘\n",
      "q_5: ─────\n",
      "     ┌───┐\n",
      "q_6: ┤ X ├\n",
      "     └───┘\n",
      "q_7: ─────\n",
      "          \n"
     ]
    }
   ],
   "source": [
    "print(experiment_shadow.add(sample03, \"ghz_8\"))\n",
    "print(experiment_shadow.waves['ghz_8'])"
   ]
  },
  {
   "cell_type": "markdown",
   "id": "7b79fe25",
   "metadata": {},
   "source": [
    "Otherwise, you will need to use `replace=\"duplicate\"` to prevent it from being replaced."
   ]
  },
  {
   "cell_type": "code",
   "execution_count": 13,
   "id": "a1d8b6ae",
   "metadata": {},
   "outputs": [
    {
     "name": "stdout",
     "output_type": "stream",
     "text": [
      "ghz_8.2\n",
      "     ┌───┐                                   \n",
      "q_0: ┤ H ├──■────────────────────────────────\n",
      "     └───┘┌─┴─┐                              \n",
      "q_1: ─────┤ X ├──■───────────────────────────\n",
      "          └───┘┌─┴─┐                         \n",
      "q_2: ──────────┤ X ├──■──────────────────────\n",
      "               └───┘┌─┴─┐                    \n",
      "q_3: ───────────────┤ X ├──■─────────────────\n",
      "                    └───┘┌─┴─┐               \n",
      "q_4: ────────────────────┤ X ├──■────────────\n",
      "                         └───┘┌─┴─┐          \n",
      "q_5: ─────────────────────────┤ X ├──■───────\n",
      "                              └───┘┌─┴─┐     \n",
      "q_6: ──────────────────────────────┤ X ├──■──\n",
      "                                   └───┘┌─┴─┐\n",
      "q_7: ───────────────────────────────────┤ X ├\n",
      "                                        └───┘\n"
     ]
    }
   ],
   "source": [
    "duplicated_case01 = experiment_shadow.add(sample02, \"ghz_8\", replace=\"duplicate\")\n",
    "print(duplicated_case01)\n",
    "print(experiment_shadow.waves[duplicated_case01])\n"
   ]
  },
  {
   "cell_type": "markdown",
   "id": "f38b4679",
   "metadata": {},
   "source": [
    "Now we have prepared the circuit and stored it in the container `.waves`."
   ]
  },
  {
   "cell_type": "code",
   "execution_count": 14,
   "id": "2a6e1e85",
   "metadata": {},
   "outputs": [
    {
     "data": {
      "text/plain": [
       "WaveContainer({\n",
       "  0: <qurry.recipe.simple.paramagnet.TrivialParamagnet object at 0x7cc359ad9430>,\n",
       "  'ghz_8': <qiskit.circuit.quantumcircuit.QuantumCircuit object at 0x7cc3599566f0>,\n",
       "  'ghz_8.2': <qurry.recipe.simple.cat.GHZ object at 0x7cc3599c0ad0>})"
      ]
     },
     "execution_count": 14,
     "metadata": {},
     "output_type": "execute_result"
    }
   ],
   "source": [
    "experiment_shadow.waves"
   ]
  },
  {
   "cell_type": "markdown",
   "id": "66a312be",
   "metadata": {},
   "source": [
    "Finally, we can execute the circuit and get the result."
   ]
  },
  {
   "cell_type": "code",
   "execution_count": 15,
   "id": "2d32257f",
   "metadata": {},
   "outputs": [
    {
     "name": "stderr",
     "output_type": "stream",
     "text": [
      "/usr/lib/python3.12/multiprocessing/popen_fork.py:66: RuntimeWarning: os.fork() was called. os.fork() is incompatible with multithreaded code, and JAX is multithreaded, so this will likely lead to a deadlock.\n",
      "  self.pid = os.fork()\n",
      "/usr/lib/python3.12/multiprocessing/popen_fork.py:66: RuntimeWarning: os.fork() was called. os.fork() is incompatible with multithreaded code, and JAX is multithreaded, so this will likely lead to a deadlock.\n",
      "  self.pid = os.fork()\n"
     ]
    },
    {
     "data": {
      "text/plain": [
       "'55d167fb-a5f6-452b-8d35-f57f9d490152'"
      ]
     },
     "execution_count": 15,
     "metadata": {},
     "output_type": "execute_result"
    }
   ],
   "source": [
    "exp2 = experiment_shadow.measure('ghz_8.2', times=100, shots=4096)\n",
    "exp2"
   ]
  },
  {
   "cell_type": "code",
   "execution_count": 16,
   "id": "3490266c",
   "metadata": {},
   "outputs": [
    {
     "data": {
      "text/plain": [
       "<ShadowUnveilExperiment(exp_id=55d167fb-a5f6-452b-8d35-f57f9d490152, \n",
       "  ShadowUnveilArguments(exp_name='experiment.N_U_100.qurshady_entropy', times=100, qubits_measured=[0, 1, 2, 3, 4, 5, 6, 7], registers_mapping={0: 0, 1: 1, 2: 2, 3: 3, 4: 4, 5: 5, 6: 6, 7: 7}, actual_num_qubits=8, unitary_located=[0, 1, 2, 3, 4, 5, 6, 7], random_unitary_seeds=None),\n",
       "  Commonparams(exp_id='55d167fb-a5f6-452b-8d35-f57f9d490152', target_keys=['ghz_8.2'], shots=4096, backend=<AerSimulator('aer_simulator')>, run_args={}, transpile_args={}, tags=(), default_analysis=[], save_location=PosixPath('.'), filename='', files={}, serial=None, summoner_id=None, summoner_name=None, datetimes=DatetimeDict({'build': '2025-05-21 22:55:39', 'run.001': '2025-05-21 22:55:39'})),\n",
       "  unused_args_num=0,\n",
       "  analysis_num=0))>"
      ]
     },
     "execution_count": 16,
     "metadata": {},
     "output_type": "execute_result"
    }
   ],
   "source": [
    "experiment_shadow.exps[exp2]"
   ]
  },
  {
   "cell_type": "code",
   "execution_count": 17,
   "id": "3eec833e",
   "metadata": {},
   "outputs": [
    {
     "name": "stderr",
     "output_type": "stream",
     "text": [
      "/home/nccu/uv-python-venv/quantumsphere12/lib/python3.12/site-packages/qurry/process/classical_shadow/classical_shadow.py:458: RuntimeWarning: The imaginary part of the trace of Rho square is not zero. The imaginary part is 3.1126140515349266e-37.method: einsum_aij_bji_to_ab_jax, numpy_precomputed, Python\n",
      "  warnings.warn(\n"
     ]
    },
    {
     "data": {
      "text/plain": [
       "<ShadowUnveilAnalysis(\n",
       "  serial=0,\n",
       "  AnalysisInput(num_qubits=8, selected_qubits=[0, 1, 2, 3], registers_mapping={0: 0, 1: 1, 2: 2, 3: 3, 4: 4, 5: 5, 6: 6, 7: 7}, bitstring_mapping={0: 0, 1: 1, 2: 2, 3: 3, 4: 4, 5: 5, 6: 6, 7: 7}, shots=4096, unitary_located=[0, 1, 2, 3, 4, 5, 6, 7]),\n",
       "  AnalysisContent(purity=0.318452728878368, entropy=1.6508488601582099, and others)),\n",
       "  unused_args_num=1\n",
       "  )>"
      ]
     },
     "execution_count": 17,
     "metadata": {},
     "output_type": "execute_result"
    }
   ],
   "source": [
    "report02 = experiment_shadow.exps[exp2].analyze(\n",
    "    selected_qubits=[0, 1, 2, 3],\n",
    ")\n",
    "report02"
   ]
  },
  {
   "cell_type": "markdown",
   "id": "7da71740",
   "metadata": {},
   "source": [
    "### d. Export them after all"
   ]
  },
  {
   "cell_type": "code",
   "execution_count": 18,
   "id": "1c5b0ab5",
   "metadata": {},
   "outputs": [
    {
     "data": {
      "text/plain": [
       "{'folder': 'experiment.N_U_100.qurshady_entropy.001',\n",
       " 'qurryinfo': 'experiment.N_U_100.qurshady_entropy.001/qurryinfo.json',\n",
       " 'args': 'experiment.N_U_100.qurshady_entropy.001/args/experiment.N_U_100.qurshady_entropy.001.id=a2785a71-20b5-4c4d-adf6-038c26791ae6.args.json',\n",
       " 'advent': 'experiment.N_U_100.qurshady_entropy.001/advent/experiment.N_U_100.qurshady_entropy.001.id=a2785a71-20b5-4c4d-adf6-038c26791ae6.advent.json',\n",
       " 'legacy': 'experiment.N_U_100.qurshady_entropy.001/legacy/experiment.N_U_100.qurshady_entropy.001.id=a2785a71-20b5-4c4d-adf6-038c26791ae6.legacy.json',\n",
       " 'tales.random_unitary_ids': 'experiment.N_U_100.qurshady_entropy.001/tales/experiment.N_U_100.qurshady_entropy.001.id=a2785a71-20b5-4c4d-adf6-038c26791ae6.random_unitary_ids.json',\n",
       " 'reports': 'experiment.N_U_100.qurshady_entropy.001/reports/experiment.N_U_100.qurshady_entropy.001.id=a2785a71-20b5-4c4d-adf6-038c26791ae6.reports.json',\n",
       " 'reports.tales.rho_m_dict': 'experiment.N_U_100.qurshady_entropy.001/tales/experiment.N_U_100.qurshady_entropy.001.id=a2785a71-20b5-4c4d-adf6-038c26791ae6.rho_m_dict.reports.json'}"
      ]
     },
     "execution_count": 18,
     "metadata": {},
     "output_type": "execute_result"
    }
   ],
   "source": [
    "exp1_id, exp1_files_info = experiment_shadow.exps[exp1].write(\n",
    "    save_location=\".\",  # where to save files\n",
    ")\n",
    "exp1_files_info"
   ]
  },
  {
   "cell_type": "markdown",
   "id": "5ce8d9c7",
   "metadata": {},
   "source": [
    "---\n",
    "\n",
    "### Post-Process Availablities and Version Info"
   ]
  },
  {
   "cell_type": "code",
   "execution_count": 19,
   "id": "d4cca3b9",
   "metadata": {},
   "outputs": [
    {
     "data": {
      "text/plain": [
       " | Qurry version: 0.12.2.dev1\n",
       "---------------------------------------------------------------------------\n",
       " ### Qurry Post-Processing\n",
       "   - Backend Availability ................... Python Cython Rust   JAX   \n",
       " - randomized_measure\n",
       "   - entangled_entropy.entropy_core_2 ....... Yes    Depr.  Yes    No    \n",
       "   - entangle_entropy.purity_cell_2 ......... Yes    Depr.  Yes    No    \n",
       "   - entangled_entropy_v1.entropy_core ...... Yes    Depr.  Yes    No    \n",
       "   - entangle_entropy_v1.purity_cell ........ Yes    Depr.  Yes    No    \n",
       "   - wavefunction_overlap.echo_core_2 ....... Yes    Depr.  Yes    No    \n",
       "   - wavefunction_overlap.echo_cell_2 ....... Yes    Depr.  Yes    No    \n",
       "   - wavefunction_overlap_v1.echo_core ...... Yes    Depr.  Yes    No    \n",
       "   - wavefunction_overlap_v1.echo_cell ...... Yes    Depr.  Yes    No    \n",
       " - hadamard_test\n",
       "   - purity_echo_core ....................... Yes    No     Yes    No    \n",
       " - magnet_square\n",
       "   - magnsq_core ............................ Yes    No     No     No    \n",
       " - classical_shadow\n",
       "   - rho_m_core ............................. Yes    No     No     Yes   \n",
       " - utils\n",
       "   - randomized ............................. Yes    Depr.  Yes    No    \n",
       "   - counts_process ......................... Yes    No     Yes    No    \n",
       "   - bit_slice .............................. Yes    No     Yes    No    \n",
       "   - dummy .................................. Yes    No     Yes    No    \n",
       "   - test ................................... Yes    No     Yes    No    \n",
       "---------------------------------------------------------------------------\n",
       "   + Yes ...... Working normally.\n",
       "   + Error .... Exception occurred.\n",
       "   + No ....... Not supported.\n",
       "   + Depr. .... Deprecated.\n",
       "---------------------------------------------------------------------------\n",
       "by <Hoshi>"
      ]
     },
     "execution_count": 19,
     "metadata": {},
     "output_type": "execute_result"
    }
   ],
   "source": [
    "from qurry.process import AVAIBILITY_STATESHEET\n",
    "AVAIBILITY_STATESHEET"
   ]
  },
  {
   "cell_type": "code",
   "execution_count": null,
   "id": "898c1a96",
   "metadata": {},
   "outputs": [],
   "source": []
  }
 ],
 "metadata": {
  "kernelspec": {
   "display_name": "quantumsphere12",
   "language": "python",
   "name": "python3"
  },
  "language_info": {
   "codemirror_mode": {
    "name": "ipython",
    "version": 3
   },
   "file_extension": ".py",
   "mimetype": "text/x-python",
   "name": "python",
   "nbconvert_exporter": "python",
   "pygments_lexer": "ipython3",
   "version": "3.12.3"
  }
 },
 "nbformat": 4,
 "nbformat_minor": 5
}
