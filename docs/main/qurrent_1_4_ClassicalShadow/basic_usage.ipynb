{
 "cells": [
  {
   "cell_type": "markdown",
   "id": "166f3b67",
   "metadata": {},
   "source": [
    "# 1.4 EntropyMeasure - Classical Shadow\n",
    "## Basic Usage\n"
   ]
  },
  {
   "cell_type": "markdown",
   "id": "86beb579",
   "metadata": {},
   "source": [
    "### a. Import the instances"
   ]
  },
  {
   "cell_type": "code",
   "execution_count": 1,
   "id": "0fc71722",
   "metadata": {},
   "outputs": [],
   "source": [
    "from qurry import ShadowUnveil\n",
    "\n",
    "experiment_shadow = ShadowUnveil()"
   ]
  },
  {
   "cell_type": "markdown",
   "id": "d48d1d69",
   "metadata": {},
   "source": [
    "### b. Preparing quantum circuit"
   ]
  },
  {
   "cell_type": "code",
   "execution_count": 2,
   "id": "2e597e81",
   "metadata": {},
   "outputs": [],
   "source": [
    "from qiskit import QuantumCircuit\n",
    "from qurry.recipe import TrivialParamagnet, GHZ\n"
   ]
  },
  {
   "cell_type": "code",
   "execution_count": 3,
   "id": "9584bc4f",
   "metadata": {},
   "outputs": [
    {
     "name": "stdout",
     "output_type": "stream",
     "text": [
      "| trivial paramagnet in 8 qubits:\n",
      "     ┌───┐\n",
      "q_0: ┤ H ├\n",
      "     ├───┤\n",
      "q_1: ┤ H ├\n",
      "     ├───┤\n",
      "q_2: ┤ H ├\n",
      "     ├───┤\n",
      "q_3: ┤ H ├\n",
      "     ├───┤\n",
      "q_4: ┤ H ├\n",
      "     ├───┤\n",
      "q_5: ┤ H ├\n",
      "     ├───┤\n",
      "q_6: ┤ H ├\n",
      "     ├───┤\n",
      "q_7: ┤ H ├\n",
      "     └───┘\n"
     ]
    }
   ],
   "source": [
    "sample01 = TrivialParamagnet(8)\n",
    "print(\"| trivial paramagnet in 8 qubits:\")\n",
    "print(sample01)"
   ]
  },
  {
   "cell_type": "code",
   "execution_count": 4,
   "id": "ddd66f20",
   "metadata": {},
   "outputs": [
    {
     "name": "stdout",
     "output_type": "stream",
     "text": [
      "| GHZ in 8 qubits:\n",
      "     ┌───┐                                   \n",
      "q_0: ┤ H ├──■────────────────────────────────\n",
      "     └───┘┌─┴─┐                              \n",
      "q_1: ─────┤ X ├──■───────────────────────────\n",
      "          └───┘┌─┴─┐                         \n",
      "q_2: ──────────┤ X ├──■──────────────────────\n",
      "               └───┘┌─┴─┐                    \n",
      "q_3: ───────────────┤ X ├──■─────────────────\n",
      "                    └───┘┌─┴─┐               \n",
      "q_4: ────────────────────┤ X ├──■────────────\n",
      "                         └───┘┌─┴─┐          \n",
      "q_5: ─────────────────────────┤ X ├──■───────\n",
      "                              └───┘┌─┴─┐     \n",
      "q_6: ──────────────────────────────┤ X ├──■──\n",
      "                                   └───┘┌─┴─┐\n",
      "q_7: ───────────────────────────────────┤ X ├\n",
      "                                        └───┘\n"
     ]
    }
   ],
   "source": [
    "sample02 = GHZ(8)\n",
    "print(\"| GHZ in 8 qubits:\")\n",
    "print(sample02)"
   ]
  },
  {
   "cell_type": "code",
   "execution_count": 5,
   "id": "bf3a0988",
   "metadata": {},
   "outputs": [
    {
     "name": "stdout",
     "output_type": "stream",
     "text": [
      "| Custom circuit:\n",
      "     ┌───┐\n",
      "q_0: ┤ X ├\n",
      "     └───┘\n",
      "q_1: ─────\n",
      "     ┌───┐\n",
      "q_2: ┤ X ├\n",
      "     └───┘\n",
      "q_3: ─────\n",
      "     ┌───┐\n",
      "q_4: ┤ X ├\n",
      "     └───┘\n",
      "q_5: ─────\n",
      "     ┌───┐\n",
      "q_6: ┤ X ├\n",
      "     └───┘\n",
      "q_7: ─────\n",
      "          \n"
     ]
    }
   ],
   "source": [
    "sample03 = QuantumCircuit(8)\n",
    "sample03.x(range(0, 8, 2))\n",
    "print(\"| Custom circuit:\")\n",
    "print(sample03)"
   ]
  },
  {
   "cell_type": "markdown",
   "id": "25fc5d4c",
   "metadata": {},
   "source": [
    "### c. Execute the circuit"
   ]
  },
  {
   "cell_type": "markdown",
   "id": "6937e4ba",
   "metadata": {},
   "source": [
    "#### i. Directly input the circuit\n",
    "\n",
    "After executing, it will return a uuid of experiment. You can use this uuid to get the result of the experiment.\n"
   ]
  },
  {
   "cell_type": "code",
   "execution_count": 6,
   "id": "3135a9f2",
   "metadata": {},
   "outputs": [
    {
     "data": {
      "text/plain": [
       "'c1c2988a-6471-40e3-973c-77fcc56a38dd'"
      ]
     },
     "execution_count": 6,
     "metadata": {},
     "output_type": "execute_result"
    }
   ],
   "source": [
    "exp1 = experiment_shadow.measure(sample01, times=100, shots=4096)\n",
    "exp1"
   ]
  },
  {
   "cell_type": "markdown",
   "id": "4052ff26",
   "metadata": {},
   "source": [
    "Each experiment result will be stored in a container `.exps`."
   ]
  },
  {
   "cell_type": "code",
   "execution_count": 7,
   "id": "a01a6c9f",
   "metadata": {},
   "outputs": [
    {
     "data": {
      "text/plain": [
       "<ShadowUnveilExperiment(exp_id=c1c2988a-6471-40e3-973c-77fcc56a38dd, \n",
       "  ShadowUnveilArguments(exp_name='experiment.N_U_100.qurshady_entropy', times=100, qubits_measured=[0, 1, 2, 3, 4, 5, 6, 7], registers_mapping={0: 0, 1: 1, 2: 2, 3: 3, 4: 4, 5: 5, 6: 6, 7: 7}, actual_num_qubits=8, unitary_located=[0, 1, 2, 3, 4, 5, 6, 7], random_unitary_seeds=None),\n",
       "  Commonparams(exp_id='c1c2988a-6471-40e3-973c-77fcc56a38dd', target_keys=[0], shots=4096, backend=<AerSimulator('aer_simulator')>, run_args={}, transpile_args={}, tags=(), default_analysis=[], save_location=PosixPath('.'), filename='', files={}, serial=None, summoner_id=None, summoner_name=None, datetimes=DatetimeDict({'build': '2025-05-22 13:30:07', 'run.001': '2025-05-22 13:30:07'})),\n",
       "  unused_args_num=0,\n",
       "  analysis_num=0))>"
      ]
     },
     "execution_count": 7,
     "metadata": {},
     "output_type": "execute_result"
    }
   ],
   "source": [
    "experiment_shadow.exps[exp1]"
   ]
  },
  {
   "cell_type": "code",
   "execution_count": 8,
   "id": "98b17ffb",
   "metadata": {},
   "outputs": [
    {
     "name": "stderr",
     "output_type": "stream",
     "text": [
      "WARNING:2025-05-22 13:30:09,765:jax._src.xla_bridge:909: An NVIDIA GPU may be present on this machine, but a CUDA-enabled jaxlib is not installed. Falling back to cpu.\n"
     ]
    },
    {
     "data": {
      "text/plain": [
       "<ShadowUnveilAnalysis(\n",
       "  serial=0,\n",
       "  AnalysisInput(num_qubits=8, selected_qubits=[0, 1, 2, 3], registers_mapping={0: 0, 1: 1, 2: 2, 3: 3, 4: 4, 5: 5, 6: 6, 7: 7}, bitstring_mapping={0: 0, 1: 1, 2: 2, 3: 3, 4: 4, 5: 5, 6: 6, 7: 7}, shots=4096, unitary_located=[0, 1, 2, 3, 4, 5, 6, 7]),\n",
       "  AnalysisContent(purity=0.777059368816289, entropy=0.3639032673936218, and others)),\n",
       "  unused_args_num=1\n",
       "  )>"
      ]
     },
     "execution_count": 8,
     "metadata": {},
     "output_type": "execute_result"
    }
   ],
   "source": [
    "report01 = experiment_shadow.exps[exp1].analyze(\n",
    "    selected_qubits=[0, 1, 2, 3],\n",
    ")\n",
    "report01"
   ]
  },
  {
   "cell_type": "markdown",
   "id": "adbac124",
   "metadata": {},
   "source": [
    "The analysis result will be content following the structure of the experiment result. The analysis fields in the dictionary `main01`.\n",
    "\n",
    "```python\n",
    "expect_rho: np.ndarray[tuple[int, int], np.dtype[np.complex128]]\n",
    "\"\"\"The expectation value of Rho.\n",
    "Which is the esitmation of the density matrix on selected qubits, \n",
    "in other words, on selected susbsystem.\n",
    "\n",
    "It will be a 2D array with shape (2^n, 2^n), \n",
    "where n is the number of selected qubits.\n",
    "\"\"\"\n",
    "purity: float\n",
    "\"\"\"The purity calculated by classical shadow.\"\"\"\n",
    "entropy: float\n",
    "\"\"\"The entropy calculated by classical shadow.\"\"\"\n",
    "\n",
    "rho_m_dict: dict[int, np.ndarray[tuple[int, int], np.dtype[np.complex128]]]\n",
    "\"\"\"The dictionary of Rho M.\"\"\"\n",
    "classical_registers_actually: list[int]\n",
    "\"\"\"The list of the index of classical register respecting selected qubits.\"\"\"\n",
    "taking_time: float\n",
    "\"\"\"The time taken for the calculation.\"\"\"\n",
    "```"
   ]
  },
  {
   "cell_type": "code",
   "execution_count": null,
   "id": "04e837c4",
   "metadata": {},
   "outputs": [
    {
     "name": "stdout",
     "output_type": "stream",
     "text": [
      "| purity: 0.777059368816289\n",
      "| entropy: 0.3639032673936218\n",
      "| classical_registers_actually: [3, 2, 1, 0]\n",
      "| taking_time: 0.03531837463378906\n",
      "| input: {'num_qubits': 8, 'selected_qubits': [0, 1, 2, 3], 'registers_mapping': {0: 0, 1: 1, 2: 2, 3: 3, 4: 4, 5: 5, 6: 6, 7: 7}, 'bitstring_mapping': {0: 0, 1: 1, 2: 2, 3: 3, 4: 4, 5: 5, 6: 6, 7: 7}, 'shots': 4096, 'unitary_located': [0, 1, 2, 3, 4, 5, 6, 7]}\n",
      "| header: {'serial': 0, 'datetime': '2025-05-22 13:30:10', 'summoner': None, 'log': {}}\n",
      "| expect_rho:\n",
      "[[ 0.06085388+0.00000000e+00j  0.06396698+2.51220703e-03j\n",
      "   0.05583893-7.68127441e-04j  0.04633759+1.24145508e-03j\n",
      "   0.06793671+5.11779785e-04j  0.08557251+1.07116699e-04j\n",
      "   0.07991455-9.11865234e-04j  0.06868652-1.63970947e-03j\n",
      "   0.06489532+5.76782227e-05j  0.05203949-2.10937500e-03j\n",
      "   0.06271271-6.89392090e-04j  0.03167358+1.80450439e-03j\n",
      "   0.05941956-7.03125000e-04j  0.05444824+9.64050293e-04j\n",
      "   0.03279419+2.83447266e-03j  0.0052652 +3.75732422e-03j]\n",
      " [ 0.06396698-2.51220703e-03j  0.0646167 +0.00000000e+00j\n",
      "   0.04682648-4.94384766e-05j  0.05454803+1.76971436e-03j\n",
      "   0.08274902+2.60925293e-04j  0.06699738+3.03039551e-04j\n",
      "   0.06609924-6.34460449e-04j  0.0789093 -1.04370117e-03j\n",
      "   0.05160004+2.48840332e-03j  0.06449982-2.11486816e-04j\n",
      "   0.03610657+8.15734863e-04j  0.06066925+1.10687256e-03j\n",
      "   0.04991638+2.64495850e-03j  0.0560907 +3.23547363e-03j\n",
      "  -0.00422699+1.53259277e-03j  0.0344751 -1.07116699e-03j]\n",
      " [ 0.05583893+7.68127441e-04j  0.04682648+4.94384766e-05j\n",
      "   0.0640802 +0.00000000e+00j  0.06514252-1.11328125e-03j\n",
      "   0.08030457+1.13159180e-03j  0.0682251 +1.78802490e-03j\n",
      "   0.06766205+4.23889160e-04j  0.08347961-1.07116699e-04j\n",
      "   0.0622403 -2.02423096e-03j  0.03315674+9.47570801e-04j\n",
      "   0.06285187-7.00378418e-04j  0.04895782+7.08618164e-04j\n",
      "   0.0350354 -4.44946289e-04j -0.00155731+2.17529297e-03j\n",
      "   0.05393188+7.14111328e-05j  0.04836731+4.20227051e-04j]\n",
      " [ 0.04633759-1.24145508e-03j  0.05454803-1.76971436e-03j\n",
      "   0.06514252+1.11328125e-03j  0.06267944+0.00000000e+00j\n",
      "   0.06698914-2.71911621e-04j  0.07880493+9.99755859e-04j\n",
      "   0.08059021-2.29339600e-03j  0.06800812-2.48748779e-03j\n",
      "   0.03346985-3.37829590e-04j  0.06181183-3.59802246e-04j\n",
      "   0.04930939-1.31835937e-04j  0.06344513-2.44445801e-04j\n",
      "   0.00042023+1.82922363e-03j  0.03266235+3.85620117e-03j\n",
      "   0.04937256-1.45843506e-03j  0.05643677-1.13159180e-03j]\n",
      " [ 0.06793671-5.11779785e-04j  0.08274902-2.60925293e-04j\n",
      "   0.08030457-1.13159180e-03j  0.06698914+2.71911621e-04j\n",
      "   0.06411682+0.00000000e+00j  0.06118744+5.12695313e-05j\n",
      "   0.05402618-4.33044434e-04j  0.04378326-1.23046875e-03j\n",
      "   0.05708496+1.41723633e-03j  0.05261902+2.77679443e-03j\n",
      "   0.03524963-1.02172852e-03j  0.00323822+3.75732422e-03j\n",
      "   0.0636264 +2.71911621e-04j  0.05063873+1.43371582e-03j\n",
      "   0.06180634+7.27844238e-04j  0.03869385-2.47192383e-05j]\n",
      " [ 0.08557251-1.07116699e-04j  0.06699738-3.03039551e-04j\n",
      "   0.0682251 -1.78802490e-03j  0.07880493-9.99755859e-04j\n",
      "   0.06118744-5.12695313e-05j  0.06089233+0.00000000e+00j\n",
      "   0.04305267-1.23596191e-03j  0.05402069-1.52069092e-03j\n",
      "   0.05342651-2.20001221e-03j  0.05566772-2.52136230e-03j\n",
      "  -0.00081573+1.53259277e-03j  0.03287659+4.07043457e-03j\n",
      "   0.05013336-1.05468750e-03j  0.06356049-1.01898193e-03j\n",
      "   0.02967957+2.64495850e-03j  0.06282806+6.45446777e-04j]\n",
      " [ 0.07991455+9.11865234e-04j  0.06609924+6.34460449e-04j\n",
      "   0.06766205-4.23889160e-04j  0.08059021+2.29339600e-03j\n",
      "   0.05402618+4.33044434e-04j  0.04305267+1.23596191e-03j\n",
      "   0.05810364+0.00000000e+00j  0.06196747+1.23779297e-03j\n",
      "   0.03261292+2.12585449e-03j -0.00220001+2.17529297e-03j\n",
      "   0.05505798-1.20300293e-03j  0.05078979+3.51837158e-03j\n",
      "   0.06222382+1.23870850e-03j  0.03444214+8.98132324e-04j\n",
      "   0.06309906+9.64050293e-04j  0.05151215+1.97753906e-03j]\n",
      " [ 0.06868652+1.63970947e-03j  0.0789093 +1.04370117e-03j\n",
      "   0.08347961+1.07116699e-04j  0.06800812+2.48748779e-03j\n",
      "   0.04378326+1.23046875e-03j  0.05402069+1.52069092e-03j\n",
      "   0.06196747-1.23779297e-03j  0.06408569+0.00000000e+00j\n",
      "  -0.0001236 +1.82922363e-03j  0.03429382-9.88769531e-04j\n",
      "   0.04606018+1.70562744e-03j  0.05631042+3.55957031e-03j\n",
      "   0.03277771-2.88391113e-04j  0.0607077 +1.02447510e-03j\n",
      "   0.05080902-1.40075684e-03j  0.06402191+3.98254395e-04j]\n",
      " [ 0.06489532-5.76782227e-05j  0.05160004-2.48840332e-03j\n",
      "   0.0622403 +2.02423096e-03j  0.03346985+3.37829590e-04j\n",
      "   0.05708496-1.41723633e-03j  0.05342651+2.20001221e-03j\n",
      "   0.03261292-2.12585449e-03j -0.0001236 -1.82922363e-03j\n",
      "   0.06547913+0.00000000e+00j  0.06447784-9.59472656e-04j\n",
      "   0.05420197-7.24182129e-04j  0.04269562+5.49316406e-05j\n",
      "   0.06804657-4.71496582e-04j  0.08415527+2.57904053e-03j\n",
      "   0.07744263+5.21850586e-04j  0.06700562+2.21649170e-03j]\n",
      " [ 0.05203949+2.10937500e-03j  0.06449982+2.11486816e-04j\n",
      "   0.03315674-9.47570801e-04j  0.06181183+3.59802246e-04j\n",
      "   0.05261902-2.77679443e-03j  0.05566772+2.52136230e-03j\n",
      "  -0.00220001-2.17529297e-03j  0.03429382+9.88769531e-04j\n",
      "   0.06447784+9.59472656e-04j  0.05883789+0.00000000e+00j\n",
      "   0.0442392 -5.43823242e-04j  0.05317474+1.78070068e-03j\n",
      "   0.08749512-1.98028564e-03j  0.06737091-8.69750977e-05j\n",
      "   0.06778015+3.54309082e-04j  0.07722839+3.90014648e-04j]\n",
      " [ 0.06271271+6.89392090e-04j  0.03610657-8.15734863e-04j\n",
      "   0.06285187+7.00378418e-04j  0.04930939+1.31835937e-04j\n",
      "   0.03524963+1.02172852e-03j -0.00081573-1.53259277e-03j\n",
      "   0.05505798+1.20300293e-03j  0.04606018-1.70562744e-03j\n",
      "   0.05420197+7.24182129e-04j  0.0442392 +5.43823242e-04j\n",
      "   0.0596637 +0.00000000e+00j  0.06206085+1.94091797e-04j\n",
      "   0.07905212-8.95385742e-04j  0.06525879-2.06817627e-03j\n",
      "   0.06668427+1.35223389e-03j  0.08305115-3.56781006e-03j]\n",
      " [ 0.03167358-1.80450439e-03j  0.06066925-1.10687256e-03j\n",
      "   0.04895782-7.08618164e-04j  0.06344513+2.44445801e-04j\n",
      "   0.00323822-3.75732422e-03j  0.03287659-4.07043457e-03j\n",
      "   0.05078979-3.51837158e-03j  0.05631042-3.55957031e-03j\n",
      "   0.04269562-5.49316406e-05j  0.05317474-1.78070068e-03j\n",
      "   0.06206085-1.94091797e-04j  0.06519531+0.00000000e+00j\n",
      "   0.06995544-1.26068115e-03j  0.07834351-1.02722168e-03j\n",
      "   0.0879071 +1.99127197e-03j  0.06729401+4.18395996e-04j]\n",
      " [ 0.05941956+7.03125000e-04j  0.04991638-2.64495850e-03j\n",
      "   0.0350354 +4.44946289e-04j  0.00042023-1.82922363e-03j\n",
      "   0.0636264 -2.71911621e-04j  0.05013336+1.05468750e-03j\n",
      "   0.06222382-1.23870850e-03j  0.03277771+2.88391113e-04j\n",
      "   0.06804657+4.71496582e-04j  0.08749512+1.98028564e-03j\n",
      "   0.07905212+8.95385742e-04j  0.06995544+1.26068115e-03j\n",
      "   0.06000793+0.00000000e+00j  0.06542267+1.98486328e-03j\n",
      "   0.05446564+1.02813721e-03j  0.04637054+6.48193359e-04j]\n",
      " [ 0.05444824-9.64050293e-04j  0.0560907 -3.23547363e-03j\n",
      "  -0.00155731-2.17529297e-03j  0.03266235-3.85620117e-03j\n",
      "   0.05063873-1.43371582e-03j  0.06356049+1.01898193e-03j\n",
      "   0.03444214-8.98132324e-04j  0.0607077 -1.02447510e-03j\n",
      "   0.08415527-2.57904053e-03j  0.06737091+8.69750977e-05j\n",
      "   0.06525879+2.06817627e-03j  0.07834351+1.02722168e-03j\n",
      "   0.06542267-1.98486328e-03j  0.06674805+0.00000000e+00j\n",
      "   0.04669464+1.33483887e-03j  0.05472382-6.85729980e-04j]\n",
      " [ 0.03279419-2.83447266e-03j -0.00422699-1.53259277e-03j\n",
      "   0.05393188-7.14111328e-05j  0.04937256+1.45843506e-03j\n",
      "   0.06180634-7.27844238e-04j  0.02967957-2.64495850e-03j\n",
      "   0.06309906-9.64050293e-04j  0.05080902+1.40075684e-03j\n",
      "   0.07744263-5.21850586e-04j  0.06778015-3.54309082e-04j\n",
      "   0.06668427-1.35223389e-03j  0.0879071 -1.99127197e-03j\n",
      "   0.05446564-1.02813721e-03j  0.04669464-1.33483887e-03j\n",
      "   0.06664001+0.00000000e+00j  0.06577423-9.48486328e-04j]\n",
      " [ 0.0052652 -3.75732422e-03j  0.0344751 +1.07116699e-03j\n",
      "   0.04836731-4.20227051e-04j  0.05643677+1.13159180e-03j\n",
      "   0.03869385+2.47192383e-05j  0.06282806-6.45446777e-04j\n",
      "   0.05151215-1.97753906e-03j  0.06402191-3.98254395e-04j\n",
      "   0.06700562-2.21649170e-03j  0.07722839-3.90014648e-04j\n",
      "   0.08305115+3.56781006e-03j  0.06729401-4.18395996e-04j\n",
      "   0.04637054-6.48193359e-04j  0.05472382+6.85729980e-04j\n",
      "   0.06577423+9.48486328e-04j  0.05799927+0.00000000e+00j]]\n"
     ]
    }
   ],
   "source": [
    "main01, side_product01 = report01.export(jsonable=False)\n",
    "# you need to set jsonable=False to get the raw data\n",
    "# Otherwise, the data will be converted to JSON format,\n",
    "# which 'expect_rho' will be a string instead of a numpy array\n",
    "\n",
    "for k, v in main01.items():\n",
    "    if k == \"expect_rho\":\n",
    "        continue\n",
    "    print(f\"| {k}: {v}\")\n",
    "print(\"| expect_rho:\")\n",
    "print(main01[\"expect_rho\"])"
   ]
  },
  {
   "cell_type": "markdown",
   "id": "80f78a90",
   "metadata": {},
   "source": [
    "#### ii. Add the circuits to container `.waves`, then call them later.\n",
    "\n",
    "Since we have executed an experiment, the circuit we input in `exp1` is stored in the container `.waves` with serial number `0`."
   ]
  },
  {
   "cell_type": "code",
   "execution_count": 10,
   "id": "e7e4b5fd",
   "metadata": {},
   "outputs": [
    {
     "data": {
      "text/plain": [
       "WaveContainer({\n",
       "  0: <qurry.recipe.simple.paramagnet.TrivialParamagnet object at 0x7cc359ad9430>})"
      ]
     },
     "execution_count": 10,
     "metadata": {},
     "output_type": "execute_result"
    }
   ],
   "source": [
    "experiment_shadow.waves"
   ]
  },
  {
   "cell_type": "markdown",
   "id": "c5dc7dc7",
   "metadata": {},
   "source": [
    "But we can also add the circuit to the container `.waves` with a custom name.\n",
    "The name should be unique, otherwise it will be overwritten.\n",
    "The method `add` will return the actual name of the circuit in the container."
   ]
  },
  {
   "cell_type": "code",
   "execution_count": 11,
   "id": "50325122",
   "metadata": {},
   "outputs": [
    {
     "name": "stdout",
     "output_type": "stream",
     "text": [
      "ghz_8\n",
      "     ┌───┐                                   \n",
      "q_0: ┤ H ├──■────────────────────────────────\n",
      "     └───┘┌─┴─┐                              \n",
      "q_1: ─────┤ X ├──■───────────────────────────\n",
      "          └───┘┌─┴─┐                         \n",
      "q_2: ──────────┤ X ├──■──────────────────────\n",
      "               └───┘┌─┴─┐                    \n",
      "q_3: ───────────────┤ X ├──■─────────────────\n",
      "                    └───┘┌─┴─┐               \n",
      "q_4: ────────────────────┤ X ├──■────────────\n",
      "                         └───┘┌─┴─┐          \n",
      "q_5: ─────────────────────────┤ X ├──■───────\n",
      "                              └───┘┌─┴─┐     \n",
      "q_6: ──────────────────────────────┤ X ├──■──\n",
      "                                   └───┘┌─┴─┐\n",
      "q_7: ───────────────────────────────────┤ X ├\n",
      "                                        └───┘\n"
     ]
    }
   ],
   "source": [
    "print(experiment_shadow.add(sample02, \"ghz_8\"))\n",
    "print(experiment_shadow.waves['ghz_8'])"
   ]
  },
  {
   "cell_type": "markdown",
   "id": "d426d0bf",
   "metadata": {},
   "source": [
    "If there is a circuit with the same name, it will be replaced by the new one."
   ]
  },
  {
   "cell_type": "code",
   "execution_count": 12,
   "id": "62f0b726",
   "metadata": {},
   "outputs": [
    {
     "name": "stdout",
     "output_type": "stream",
     "text": [
      "ghz_8\n",
      "     ┌───┐\n",
      "q_0: ┤ X ├\n",
      "     └───┘\n",
      "q_1: ─────\n",
      "     ┌───┐\n",
      "q_2: ┤ X ├\n",
      "     └───┘\n",
      "q_3: ─────\n",
      "     ┌───┐\n",
      "q_4: ┤ X ├\n",
      "     └───┘\n",
      "q_5: ─────\n",
      "     ┌───┐\n",
      "q_6: ┤ X ├\n",
      "     └───┘\n",
      "q_7: ─────\n",
      "          \n"
     ]
    }
   ],
   "source": [
    "print(experiment_shadow.add(sample03, \"ghz_8\"))\n",
    "print(experiment_shadow.waves['ghz_8'])"
   ]
  },
  {
   "cell_type": "markdown",
   "id": "7b79fe25",
   "metadata": {},
   "source": [
    "Otherwise, you will need to use `replace=\"duplicate\"` to prevent it from being replaced."
   ]
  },
  {
   "cell_type": "code",
   "execution_count": 13,
   "id": "a1d8b6ae",
   "metadata": {},
   "outputs": [
    {
     "name": "stdout",
     "output_type": "stream",
     "text": [
      "ghz_8.2\n",
      "     ┌───┐                                   \n",
      "q_0: ┤ H ├──■────────────────────────────────\n",
      "     └───┘┌─┴─┐                              \n",
      "q_1: ─────┤ X ├──■───────────────────────────\n",
      "          └───┘┌─┴─┐                         \n",
      "q_2: ──────────┤ X ├──■──────────────────────\n",
      "               └───┘┌─┴─┐                    \n",
      "q_3: ───────────────┤ X ├──■─────────────────\n",
      "                    └───┘┌─┴─┐               \n",
      "q_4: ────────────────────┤ X ├──■────────────\n",
      "                         └───┘┌─┴─┐          \n",
      "q_5: ─────────────────────────┤ X ├──■───────\n",
      "                              └───┘┌─┴─┐     \n",
      "q_6: ──────────────────────────────┤ X ├──■──\n",
      "                                   └───┘┌─┴─┐\n",
      "q_7: ───────────────────────────────────┤ X ├\n",
      "                                        └───┘\n"
     ]
    }
   ],
   "source": [
    "duplicated_case01 = experiment_shadow.add(sample02, \"ghz_8\", replace=\"duplicate\")\n",
    "print(duplicated_case01)\n",
    "print(experiment_shadow.waves[duplicated_case01])\n"
   ]
  },
  {
   "cell_type": "markdown",
   "id": "f38b4679",
   "metadata": {},
   "source": [
    "Now we have prepared the circuit and stored it in the container `.waves`."
   ]
  },
  {
   "cell_type": "code",
   "execution_count": 14,
   "id": "2a6e1e85",
   "metadata": {},
   "outputs": [
    {
     "data": {
      "text/plain": [
       "WaveContainer({\n",
       "  0: <qurry.recipe.simple.paramagnet.TrivialParamagnet object at 0x7cc359ad9430>,\n",
       "  'ghz_8': <qiskit.circuit.quantumcircuit.QuantumCircuit object at 0x7cc3599566f0>,\n",
       "  'ghz_8.2': <qurry.recipe.simple.cat.GHZ object at 0x7cc3599c0ad0>})"
      ]
     },
     "execution_count": 14,
     "metadata": {},
     "output_type": "execute_result"
    }
   ],
   "source": [
    "experiment_shadow.waves"
   ]
  },
  {
   "cell_type": "markdown",
   "id": "66a312be",
   "metadata": {},
   "source": [
    "Finally, we can execute the circuit and get the result."
   ]
  },
  {
   "cell_type": "code",
   "execution_count": 15,
   "id": "2d32257f",
   "metadata": {},
   "outputs": [
    {
     "name": "stderr",
     "output_type": "stream",
     "text": [
      "/usr/lib/python3.12/multiprocessing/popen_fork.py:66: RuntimeWarning: os.fork() was called. os.fork() is incompatible with multithreaded code, and JAX is multithreaded, so this will likely lead to a deadlock.\n",
      "  self.pid = os.fork()\n",
      "/usr/lib/python3.12/multiprocessing/popen_fork.py:66: RuntimeWarning: os.fork() was called. os.fork() is incompatible with multithreaded code, and JAX is multithreaded, so this will likely lead to a deadlock.\n",
      "  self.pid = os.fork()\n"
     ]
    },
    {
     "data": {
      "text/plain": [
       "'55d167fb-a5f6-452b-8d35-f57f9d490152'"
      ]
     },
     "execution_count": 15,
     "metadata": {},
     "output_type": "execute_result"
    }
   ],
   "source": [
    "exp2 = experiment_shadow.measure('ghz_8.2', times=100, shots=4096)\n",
    "exp2"
   ]
  },
  {
   "cell_type": "code",
   "execution_count": 16,
   "id": "3490266c",
   "metadata": {},
   "outputs": [
    {
     "data": {
      "text/plain": [
       "<ShadowUnveilExperiment(exp_id=55d167fb-a5f6-452b-8d35-f57f9d490152, \n",
       "  ShadowUnveilArguments(exp_name='experiment.N_U_100.qurshady_entropy', times=100, qubits_measured=[0, 1, 2, 3, 4, 5, 6, 7], registers_mapping={0: 0, 1: 1, 2: 2, 3: 3, 4: 4, 5: 5, 6: 6, 7: 7}, actual_num_qubits=8, unitary_located=[0, 1, 2, 3, 4, 5, 6, 7], random_unitary_seeds=None),\n",
       "  Commonparams(exp_id='55d167fb-a5f6-452b-8d35-f57f9d490152', target_keys=['ghz_8.2'], shots=4096, backend=<AerSimulator('aer_simulator')>, run_args={}, transpile_args={}, tags=(), default_analysis=[], save_location=PosixPath('.'), filename='', files={}, serial=None, summoner_id=None, summoner_name=None, datetimes=DatetimeDict({'build': '2025-05-21 22:55:39', 'run.001': '2025-05-21 22:55:39'})),\n",
       "  unused_args_num=0,\n",
       "  analysis_num=0))>"
      ]
     },
     "execution_count": 16,
     "metadata": {},
     "output_type": "execute_result"
    }
   ],
   "source": [
    "experiment_shadow.exps[exp2]"
   ]
  },
  {
   "cell_type": "code",
   "execution_count": 17,
   "id": "3eec833e",
   "metadata": {},
   "outputs": [
    {
     "name": "stderr",
     "output_type": "stream",
     "text": [
      "/home/nccu/uv-python-venv/quantumsphere12/lib/python3.12/site-packages/qurry/process/classical_shadow/classical_shadow.py:458: RuntimeWarning: The imaginary part of the trace of Rho square is not zero. The imaginary part is 3.1126140515349266e-37.method: einsum_aij_bji_to_ab_jax, numpy_precomputed, Python\n",
      "  warnings.warn(\n"
     ]
    },
    {
     "data": {
      "text/plain": [
       "<ShadowUnveilAnalysis(\n",
       "  serial=0,\n",
       "  AnalysisInput(num_qubits=8, selected_qubits=[0, 1, 2, 3], registers_mapping={0: 0, 1: 1, 2: 2, 3: 3, 4: 4, 5: 5, 6: 6, 7: 7}, bitstring_mapping={0: 0, 1: 1, 2: 2, 3: 3, 4: 4, 5: 5, 6: 6, 7: 7}, shots=4096, unitary_located=[0, 1, 2, 3, 4, 5, 6, 7]),\n",
       "  AnalysisContent(purity=0.318452728878368, entropy=1.6508488601582099, and others)),\n",
       "  unused_args_num=1\n",
       "  )>"
      ]
     },
     "execution_count": 17,
     "metadata": {},
     "output_type": "execute_result"
    }
   ],
   "source": [
    "report02 = experiment_shadow.exps[exp2].analyze(\n",
    "    selected_qubits=[0, 1, 2, 3],\n",
    ")\n",
    "report02"
   ]
  },
  {
   "cell_type": "code",
   "execution_count": null,
   "id": "8af56cc4",
   "metadata": {},
   "outputs": [],
   "source": [
    "main02, side_product02 = report02.export(jsonable=False)\n",
    "# you need to set jsonable=False to get the raw data\n",
    "# Otherwise, the data will be converted to JSON format,\n",
    "# which 'expect_rho' will be a string instead of a numpy array\n",
    "\n",
    "for k, v in main02.items():\n",
    "    if k == \"expect_rho\":\n",
    "        continue\n",
    "    print(f\"| {k}: {v}\")\n",
    "print(\"| expect_rho:\")\n",
    "print(main02[\"expect_rho\"])"
   ]
  },
  {
   "cell_type": "markdown",
   "id": "7da71740",
   "metadata": {},
   "source": [
    "### d. Export them after all"
   ]
  },
  {
   "cell_type": "code",
   "execution_count": 18,
   "id": "1c5b0ab5",
   "metadata": {},
   "outputs": [
    {
     "data": {
      "text/plain": [
       "{'folder': 'experiment.N_U_100.qurshady_entropy.001',\n",
       " 'qurryinfo': 'experiment.N_U_100.qurshady_entropy.001/qurryinfo.json',\n",
       " 'args': 'experiment.N_U_100.qurshady_entropy.001/args/experiment.N_U_100.qurshady_entropy.001.id=a2785a71-20b5-4c4d-adf6-038c26791ae6.args.json',\n",
       " 'advent': 'experiment.N_U_100.qurshady_entropy.001/advent/experiment.N_U_100.qurshady_entropy.001.id=a2785a71-20b5-4c4d-adf6-038c26791ae6.advent.json',\n",
       " 'legacy': 'experiment.N_U_100.qurshady_entropy.001/legacy/experiment.N_U_100.qurshady_entropy.001.id=a2785a71-20b5-4c4d-adf6-038c26791ae6.legacy.json',\n",
       " 'tales.random_unitary_ids': 'experiment.N_U_100.qurshady_entropy.001/tales/experiment.N_U_100.qurshady_entropy.001.id=a2785a71-20b5-4c4d-adf6-038c26791ae6.random_unitary_ids.json',\n",
       " 'reports': 'experiment.N_U_100.qurshady_entropy.001/reports/experiment.N_U_100.qurshady_entropy.001.id=a2785a71-20b5-4c4d-adf6-038c26791ae6.reports.json',\n",
       " 'reports.tales.rho_m_dict': 'experiment.N_U_100.qurshady_entropy.001/tales/experiment.N_U_100.qurshady_entropy.001.id=a2785a71-20b5-4c4d-adf6-038c26791ae6.rho_m_dict.reports.json'}"
      ]
     },
     "execution_count": 18,
     "metadata": {},
     "output_type": "execute_result"
    }
   ],
   "source": [
    "exp1_id, exp1_files_info = experiment_shadow.exps[exp1].write(\n",
    "    save_location=\".\",  # where to save files\n",
    ")\n",
    "exp1_files_info"
   ]
  },
  {
   "cell_type": "markdown",
   "id": "5ce8d9c7",
   "metadata": {},
   "source": [
    "---\n",
    "\n",
    "### Post-Process Availablities and Version Info"
   ]
  },
  {
   "cell_type": "code",
   "execution_count": 19,
   "id": "d4cca3b9",
   "metadata": {},
   "outputs": [
    {
     "data": {
      "text/plain": [
       " | Qurry version: 0.12.2.dev1\n",
       "---------------------------------------------------------------------------\n",
       " ### Qurry Post-Processing\n",
       "   - Backend Availability ................... Python Cython Rust   JAX   \n",
       " - randomized_measure\n",
       "   - entangled_entropy.entropy_core_2 ....... Yes    Depr.  Yes    No    \n",
       "   - entangle_entropy.purity_cell_2 ......... Yes    Depr.  Yes    No    \n",
       "   - entangled_entropy_v1.entropy_core ...... Yes    Depr.  Yes    No    \n",
       "   - entangle_entropy_v1.purity_cell ........ Yes    Depr.  Yes    No    \n",
       "   - wavefunction_overlap.echo_core_2 ....... Yes    Depr.  Yes    No    \n",
       "   - wavefunction_overlap.echo_cell_2 ....... Yes    Depr.  Yes    No    \n",
       "   - wavefunction_overlap_v1.echo_core ...... Yes    Depr.  Yes    No    \n",
       "   - wavefunction_overlap_v1.echo_cell ...... Yes    Depr.  Yes    No    \n",
       " - hadamard_test\n",
       "   - purity_echo_core ....................... Yes    No     Yes    No    \n",
       " - magnet_square\n",
       "   - magnsq_core ............................ Yes    No     No     No    \n",
       " - classical_shadow\n",
       "   - rho_m_core ............................. Yes    No     No     Yes   \n",
       " - utils\n",
       "   - randomized ............................. Yes    Depr.  Yes    No    \n",
       "   - counts_process ......................... Yes    No     Yes    No    \n",
       "   - bit_slice .............................. Yes    No     Yes    No    \n",
       "   - dummy .................................. Yes    No     Yes    No    \n",
       "   - test ................................... Yes    No     Yes    No    \n",
       "---------------------------------------------------------------------------\n",
       "   + Yes ...... Working normally.\n",
       "   + Error .... Exception occurred.\n",
       "   + No ....... Not supported.\n",
       "   + Depr. .... Deprecated.\n",
       "---------------------------------------------------------------------------\n",
       "by <Hoshi>"
      ]
     },
     "execution_count": 19,
     "metadata": {},
     "output_type": "execute_result"
    }
   ],
   "source": [
    "from qurry.process import AVAIBILITY_STATESHEET\n",
    "AVAIBILITY_STATESHEET"
   ]
  },
  {
   "cell_type": "code",
   "execution_count": null,
   "id": "898c1a96",
   "metadata": {},
   "outputs": [],
   "source": []
  }
 ],
 "metadata": {
  "kernelspec": {
   "display_name": "quantumsphere12",
   "language": "python",
   "name": "python3"
  },
  "language_info": {
   "codemirror_mode": {
    "name": "ipython",
    "version": 3
   },
   "file_extension": ".py",
   "mimetype": "text/x-python",
   "name": "python",
   "nbconvert_exporter": "python",
   "pygments_lexer": "ipython3",
   "version": "3.12.3"
  }
 },
 "nbformat": 4,
 "nbformat_minor": 5
}
