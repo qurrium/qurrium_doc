{
 "cells": [
  {
   "cell_type": "markdown",
   "id": "166f3b67",
   "metadata": {},
   "source": [
    "# 1.2 EntropyMeasure - Randomized Measurement\n",
    "## Multiple Experiments\n",
    "\n",
    "Consider a scenario, you have multiple circuits that you want to run at once.\n",
    "\n",
    "Call `.measure()` one by one will be inefficient,\n",
    "no to mention that you also need to call `.anlyze()` for their post-processing.\n",
    "\n",
    "Here we provide a more efficient way solve this problem,\n",
    "where the true power of Qurrium as experiment manage toolkit.\n"
   ]
  },
  {
   "cell_type": "markdown",
   "id": "86beb579",
   "metadata": {},
   "source": [
    "### a. Import the instances\n"
   ]
  },
  {
   "cell_type": "code",
   "execution_count": 1,
   "id": "0fc71722",
   "metadata": {},
   "outputs": [
    {
     "name": "stderr",
     "output_type": "stream",
     "text": [
      "/home/nccu/Documents/.homejupyter/qurryplayground/qurrium_docs/lib/python3.12/site-packages/tqdm/auto.py:21: TqdmWarning: IProgress not found. Please update jupyter and ipywidgets. See https://ipywidgets.readthedocs.io/en/stable/user_install.html\n",
      "  from .autonotebook import tqdm as notebook_tqdm\n"
     ]
    }
   ],
   "source": [
    "from qurry import EntropyMeasure\n",
    "\n",
    "experiment_randomized = EntropyMeasure()\n",
    "# It's default method. EntropyMeasure(method='randomized') also works"
   ]
  },
  {
   "cell_type": "markdown",
   "id": "d48d1d69",
   "metadata": {},
   "source": [
    "### b. Preparing quantum circuit\n",
    "\n",
    "Prepare and add circuits to the `.wave` for later usage.\n"
   ]
  },
  {
   "cell_type": "code",
   "execution_count": 2,
   "id": "2e597e81",
   "metadata": {},
   "outputs": [
    {
     "data": {
      "text/plain": [
       "WaveContainer({\n",
       "  'trivial_paramagnet_2': <qurry.recipe.simple.paramagnet.TrivialParamagnet object at 0x73540e5a8f20>,\n",
       "  'ghz_2': <qurry.recipe.simple.cat.GHZ object at 0x7353e3981790>,\n",
       "  'neel_2': <qiskit.circuit.quantumcircuit.QuantumCircuit object at 0x7353e39a5160>,\n",
       "  'trivial_paramagnet_4': <qurry.recipe.simple.paramagnet.TrivialParamagnet object at 0x73545cfa8110>,\n",
       "  'ghz_4': <qurry.recipe.simple.cat.GHZ object at 0x7353e3a74c20>,\n",
       "  'neel_4': <qiskit.circuit.quantumcircuit.QuantumCircuit object at 0x7353e3916c00>,\n",
       "  'trivial_paramagnet_6': <qurry.recipe.simple.paramagnet.TrivialParamagnet object at 0x7353e3ae97f0>,\n",
       "  'ghz_6': <qurry.recipe.simple.cat.GHZ object at 0x7353e39cbb60>,\n",
       "  'neel_6': <qiskit.circuit.quantumcircuit.QuantumCircuit object at 0x7353e3a75130>,\n",
       "  'trivial_paramagnet_8': <qurry.recipe.simple.paramagnet.TrivialParamagnet object at 0x7353e39cbef0>,\n",
       "  'ghz_8': <qurry.recipe.simple.cat.GHZ object at 0x7353e39f40e0>,\n",
       "  'neel_8': <qiskit.circuit.quantumcircuit.QuantumCircuit object at 0x7353e39f4140>,\n",
       "  'trivial_paramagnet_10': <qurry.recipe.simple.paramagnet.TrivialParamagnet object at 0x7353e39f4230>,\n",
       "  'ghz_10': <qurry.recipe.simple.cat.GHZ object at 0x7353e3b78500>,\n",
       "  'neel_10': <qiskit.circuit.quantumcircuit.QuantumCircuit object at 0x7353e39f4290>,\n",
       "  'trivial_paramagnet_12': <qurry.recipe.simple.paramagnet.TrivialParamagnet object at 0x7353e39f4380>,\n",
       "  'ghz_12': <qurry.recipe.simple.cat.GHZ object at 0x7353e39f43e0>,\n",
       "  'neel_12': <qiskit.circuit.quantumcircuit.QuantumCircuit object at 0x7353e39f4440>})"
      ]
     },
     "execution_count": 2,
     "metadata": {},
     "output_type": "execute_result"
    }
   ],
   "source": [
    "from qiskit import QuantumCircuit\n",
    "from qurry.recipe import TrivialParamagnet, GHZ\n",
    "\n",
    "\n",
    "def make_neel_circuit(n):\n",
    "    qc = QuantumCircuit(n)\n",
    "    for i in range(0, n, 2):\n",
    "        qc.x(i)\n",
    "    return qc\n",
    "\n",
    "\n",
    "for i in range(2, 13, 2):\n",
    "    experiment_randomized.add(TrivialParamagnet(i), f\"trivial_paramagnet_{i}\")\n",
    "    experiment_randomized.add(GHZ(i), f\"ghz_{i}\")\n",
    "    experiment_randomized.add(make_neel_circuit(i), f\"neel_{i}\")\n",
    "\n",
    "experiment_randomized.waves"
   ]
  },
  {
   "cell_type": "markdown",
   "id": "25fc5d4c",
   "metadata": {},
   "source": [
    "### c. Execute multiple experiments at once\n",
    "\n",
    "Let's demonstrate the true power of Qurrium.\n"
   ]
  },
  {
   "cell_type": "code",
   "execution_count": 3,
   "id": "1e63ed3e",
   "metadata": {},
   "outputs": [],
   "source": [
    "from qurry.qurrent.randomized_measure.arguments import EntropyMeasureRandomizedMeasureArgs"
   ]
  },
  {
   "cell_type": "markdown",
   "id": "45d57823",
   "metadata": {},
   "source": [
    "Preparing a configuration list for multiple experiments with following parameters:\n",
    "\n",
    "```python\n",
    "class EntropyMeasureRandomizedMeasureArgs(total=False):\n",
    "    \"\"\"Output arguments for :meth:`output`.\"\"\"\n",
    "    shots: int\n",
    "    \"\"\"Number of shots.\"\"\"\n",
    "    tags: Optional[tuple[str, ...]]\n",
    "    \"\"\"The tags to be used for the experiment.\"\"\"\n",
    "\n",
    "    wave: Optional[Union[QuantumCircuit, Hashable]]\n",
    "    \"\"\"The key or the circuit to execute.\"\"\"\n",
    "    times: int\n",
    "    \"\"\"The number of random unitary operator. \n",
    "    It will denote as `N_U` in the experiment name.\"\"\"\n",
    "    measure: Optional[Union[tuple[int, int], int, list[int]]]\n",
    "    \"\"\"The measure range.\"\"\"\n",
    "    unitary_loc: Optional[Union[tuple[int, int], int, list[int]]]\n",
    "    \"\"\"The range of the unitary operator.\"\"\"\n",
    "    unitary_loc_not_cover_measure: bool\n",
    "    \"\"\"Whether the range of the unitary operator is not cover the measure range.\"\"\"\n",
    "    random_unitary_seeds: Optional[dict[int, dict[int, int]]]\n",
    "    \"\"\"The seeds for all random unitary operator.\n",
    "    This argument only takes input as type of `dict[int, dict[int, int]]`.\n",
    "    The first key is the index for the random unitary operator.\n",
    "    The second key is the index for the qubit.\n",
    "\n",
    "    .. code-block:: python\n",
    "        {\n",
    "            0: {0: 1234, 1: 5678},\n",
    "            1: {0: 2345, 1: 6789},\n",
    "            2: {0: 3456, 1: 7890},\n",
    "        }\n",
    "\n",
    "    If you want to generate the seeds for all random unitary operator,\n",
    "    you can use the function :func:`generate_random_unitary_seeds` \n",
    "    in :mod:`qurry.qurrium.utils.random_unitary`.\n",
    "\n",
    "    .. code-block:: python\n",
    "        from qurry.qurrium.utils.random_unitary import generate_random_unitary_seeds\n",
    "\n",
    "        random_unitary_seeds = generate_random_unitary_seeds(100, 2)\n",
    "    \"\"\"\n",
    "```\n"
   ]
  },
  {
   "cell_type": "code",
   "execution_count": 4,
   "id": "9a6c6749",
   "metadata": {},
   "outputs": [
    {
     "name": "stdout",
     "output_type": "stream",
     "text": [
      "180\n"
     ]
    }
   ],
   "source": [
    "config_list: list[EntropyMeasureRandomizedMeasureArgs] = [\n",
    "    {\n",
    "        \"shots\": 1024,\n",
    "        \"wave\": f\"{wave_names}_{i}\",\n",
    "        \"times\": 100,\n",
    "        \"tags\": (wave_names, f\"size_{i}\"),\n",
    "    }\n",
    "    for _ in range(10)\n",
    "    for i in range(2, 13, 2)\n",
    "    for wave_names in [\"trivial_paramagnet\", \"ghz\", \"neel\"]\n",
    "]\n",
    "print(len(config_list))"
   ]
  },
  {
   "cell_type": "markdown",
   "id": "28ef8515",
   "metadata": {},
   "source": [
    "The `.multiOutput` will return an id of this `multimanager` instance,\n",
    "which can be used to get the results and post-process them.\n",
    "\n",
    "Each `multimanager` will export the experiments in a folder you can specify\n",
    "by setting `save_location` parameter with default location for current directory\n",
    "where Python executed.\n",
    "It will create a folder with the name of the `multimanager` instance,\n",
    "and inside it will create a folder for storing each experiment data.\n",
    "\n",
    "It will do firstly in the building process, but you can skip it by setting `skip_build_write=True` to save time.\n",
    "After all experiments are executed, it will export secondly,\n",
    "which can also be skipped by setting `skip_output_write=True` for no files output.\n"
   ]
  },
  {
   "cell_type": "code",
   "execution_count": 5,
   "id": "3135a9f2",
   "metadata": {},
   "outputs": [
    {
     "name": "stdout",
     "output_type": "stream",
     "text": [
      "| MultiManager building...\n",
      "| Write \"qurrent.randomized_measure.001\", at location \"qurrent.randomized_measure.001\"\n"
     ]
    },
    {
     "name": "stderr",
     "output_type": "stream",
     "text": [
      "| 180/180 100%|██████████| - Loading 180 experiments... - 00:33 < 00:00\n"
     ]
    },
    {
     "name": "stdout",
     "output_type": "stream",
     "text": [
      "| MultiOutput running...\n"
     ]
    },
    {
     "name": "stderr",
     "output_type": "stream",
     "text": [
      "| 180/180 100%|██████████| - Executing completed 'run.001', denoted date: 2025-05-22 14:39:57... - 01:14 < 00:00\n"
     ]
    },
    {
     "name": "stdout",
     "output_type": "stream",
     "text": [
      "| Export multimanager...\n"
     ]
    },
    {
     "name": "stderr",
     "output_type": "stream",
     "text": [
      "| 9/9 - Exporting done - 00:00 < 00:00                           "
     ]
    },
    {
     "name": "stdout",
     "output_type": "stream",
     "text": [
      "| No quantity to export.\n",
      "| Export multi.config.json for d8146e57-30c9-44c9-a80b-dd761ac21252\n"
     ]
    },
    {
     "name": "stderr",
     "output_type": "stream",
     "text": [
      "\n",
      "| 179/179 - Exporting experiments... - 00:22 < 00:00\n",
      "| 180/180 - Loading file infomation... - 00:00 < 00:00"
     ]
    },
    {
     "name": "stdout",
     "output_type": "stream",
     "text": [
      "| Exporting file taglist...\n",
      "| Exporting qurrent.randomized_measure.001/qurryinfo.json...\n",
      "| Exporting qurrent.randomized_measure.001/qurryinfo.json done.\n"
     ]
    },
    {
     "name": "stderr",
     "output_type": "stream",
     "text": [
      "\n"
     ]
    },
    {
     "data": {
      "text/plain": [
       "'d8146e57-30c9-44c9-a80b-dd761ac21252'"
      ]
     },
     "execution_count": 5,
     "metadata": {},
     "output_type": "execute_result"
    }
   ],
   "source": [
    "multi_exps1 = experiment_randomized.multiOutput(\n",
    "    config_list,\n",
    "    summoner_name=\"qurrent.randomized_measure\",  # you can name it whatever you want\n",
    "    multiprocess_build=True,\n",
    "    # Using multiprocessing to build the experiments,\n",
    "    # it will be faster but take all the CPU\n",
    "    skip_build_write=True,\n",
    "    # Skip the writing of the experiment as files during the build,\n",
    "    save_location=\".\",\n",
    "    # Save the experiment as files in the current directory\n",
    "    multiprocess_write=True,\n",
    "    # Writing the experiment as files using multiprocessing,\n",
    ")\n",
    "multi_exps1"
   ]
  },
  {
   "cell_type": "code",
   "execution_count": 6,
   "id": "29668232",
   "metadata": {},
   "outputs": [
    {
     "data": {
      "text/plain": [
       "<MultiManager(id=\"d8146e57-30c9-44c9-a80b-dd761ac21252\",\n",
       "  name=\"qurrent.randomized_measure.001\",\n",
       "  tags=(),\n",
       "  jobstype=\"local\",\n",
       "  pending_strategy=\"tags\",\n",
       "  last_events={\n",
       "    'output.001': '2025-05-22 14:39:58',},\n",
       "  exps_num=180)>"
      ]
     },
     "execution_count": 6,
     "metadata": {},
     "output_type": "execute_result"
    }
   ],
   "source": [
    "experiment_randomized.multimanagers[multi_exps1]"
   ]
  },
  {
   "cell_type": "markdown",
   "id": "4052ff26",
   "metadata": {},
   "source": [
    "### d. Run post-processing at once\n"
   ]
  },
  {
   "cell_type": "code",
   "execution_count": 7,
   "id": "045b5b22",
   "metadata": {},
   "outputs": [
    {
     "name": "stderr",
     "output_type": "stream",
     "text": [
      "| 180/180 - Analysis: Preparing error mitigation of selected qubits: [0, 1] - 00:08 < 00:00"
     ]
    },
    {
     "name": "stdout",
     "output_type": "stream",
     "text": [
      "| \"report.001\" has been completed.\n"
     ]
    },
    {
     "name": "stderr",
     "output_type": "stream",
     "text": [
      "\n"
     ]
    },
    {
     "data": {
      "text/plain": [
       "'d8146e57-30c9-44c9-a80b-dd761ac21252'"
      ]
     },
     "execution_count": 7,
     "metadata": {},
     "output_type": "execute_result"
    }
   ],
   "source": [
    "experiment_randomized.multiAnalysis(\n",
    "    summoner_id=multi_exps1,\n",
    "    skip_write=True,\n",
    "    multiprocess_write=False,\n",
    "    selected_qubits=[0, 1],\n",
    ")"
   ]
  },
  {
   "cell_type": "code",
   "execution_count": 8,
   "id": "483b0b35",
   "metadata": {},
   "outputs": [
    {
     "name": "stdout",
     "output_type": "stream",
     "text": [
      "| Available results:\n",
      "| - ('trivial_paramagnet', 'size_2') with length 10\n",
      "| - ('ghz', 'size_2') with length 10\n",
      "| - ('neel', 'size_2') with length 10\n",
      "| - ('trivial_paramagnet', 'size_4') with length 10\n",
      "| - ('ghz', 'size_4') with length 10\n",
      "| - ('neel', 'size_4') with length 10\n",
      "| - ('trivial_paramagnet', 'size_6') with length 10\n",
      "| - ('ghz', 'size_6') with length 10\n",
      "| - ('neel', 'size_6') with length 10\n",
      "| - ('trivial_paramagnet', 'size_8') with length 10\n",
      "| - ('ghz', 'size_8') with length 10\n",
      "| - ('neel', 'size_8') with length 10\n",
      "| - ('trivial_paramagnet', 'size_10') with length 10\n",
      "| - ('ghz', 'size_10') with length 10\n",
      "| - ('neel', 'size_10') with length 10\n",
      "| - ('trivial_paramagnet', 'size_12') with length 10\n",
      "| - ('ghz', 'size_12') with length 10\n",
      "| - ('neel', 'size_12') with length 10\n"
     ]
    }
   ],
   "source": [
    "print(\"| Available results:\")\n",
    "for k, v in (\n",
    "    experiment_randomized.multimanagers[multi_exps1]\n",
    "    .quantity_container[\"report.001\"]\n",
    "    .items()\n",
    "):\n",
    "    print(\"| -\", k, \"with length\", len(v))"
   ]
  },
  {
   "cell_type": "code",
   "execution_count": 9,
   "id": "c8b8b3c6",
   "metadata": {},
   "outputs": [
    {
     "data": {
      "text/plain": [
       "[{'purity': np.float64(1.1030912399291992),\n",
       "  'entropy': np.float64(-0.14155212542560228),\n",
       "  'puritySD': np.float64(0.7874543179099595),\n",
       "  'entropySD': np.float64(1.0298843815024916),\n",
       "  'num_classical_registers': 10,\n",
       "  'classical_registers': [0, 1],\n",
       "  'classical_registers_actually': [0, 1],\n",
       "  'all_system_source': 'independent',\n",
       "  'purityAllSys': np.float64(2.598401222229004),\n",
       "  'entropyAllSys': np.float64(-1.377624216246914),\n",
       "  'puritySDAllSys': np.float64(4.032635600231429),\n",
       "  'entropySDAllSys': np.float64(2.2390165661850303),\n",
       "  'num_classical_registers_all_sys': 10,\n",
       "  'classical_registers_all_sys': None,\n",
       "  'classical_registers_actually_all_sys': [0, 1, 2, 3, 4, 5, 6, 7, 8, 9],\n",
       "  'errorRate': np.float64(-0.612440289364807),\n",
       "  'mitigatedPurity': np.float64(0.5781165980398923),\n",
       "  'mitigatedEntropy': np.float64(0.79056760138383),\n",
       "  'counts_num': 100,\n",
       "  'taking_time': 0.000987924,\n",
       "  'taking_time_all_sys': 0.033569723,\n",
       "  'counts_used': None,\n",
       "  'input': {'num_qubits': 10,\n",
       "   'selected_qubits': [0, 1],\n",
       "   'registers_mapping': {0: 0,\n",
       "    1: 1,\n",
       "    2: 2,\n",
       "    3: 3,\n",
       "    4: 4,\n",
       "    5: 5,\n",
       "    6: 6,\n",
       "    7: 7,\n",
       "    8: 8,\n",
       "    9: 9},\n",
       "   'bitstring_mapping': {0: 0,\n",
       "    1: 1,\n",
       "    2: 2,\n",
       "    3: 3,\n",
       "    4: 4,\n",
       "    5: 5,\n",
       "    6: 6,\n",
       "    7: 7,\n",
       "    8: 8,\n",
       "    9: 9},\n",
       "   'shots': 1024,\n",
       "   'unitary_located': [0, 1, 2, 3, 4, 5, 6, 7, 8, 9]},\n",
       "  'header': {'serial': 0,\n",
       "   'datetime': '2025-05-22 14:40:25',\n",
       "   'summoner': None,\n",
       "   'log': {}}},\n",
       " {'purity': np.float64(1.137003173828125),\n",
       "  'entropy': np.float64(-0.18523628137150283),\n",
       "  'puritySD': np.float64(0.7155225737053961),\n",
       "  'entropySD': np.float64(0.90789620687983),\n",
       "  'num_classical_registers': 10,\n",
       "  'classical_registers': [0, 1],\n",
       "  'classical_registers_actually': [0, 1],\n",
       "  'all_system_source': 'independent',\n",
       "  'purityAllSys': np.float64(2.5707195091247557),\n",
       "  'entropyAllSys': np.float64(-1.3621722064880686),\n",
       "  'puritySDAllSys': np.float64(3.039357917803618),\n",
       "  'entropySDAllSys': np.float64(1.7056962379356535),\n",
       "  'num_classical_registers_all_sys': 10,\n",
       "  'classical_registers_all_sys': None,\n",
       "  'classical_registers_actually_all_sys': [0, 1, 2, 3, 4, 5, 6, 7, 8, 9],\n",
       "  'errorRate': np.float64(-0.6038250884415407),\n",
       "  'mitigatedPurity': np.float64(0.5948348641077448),\n",
       "  'mitigatedEntropy': np.float64(0.7494388866340629),\n",
       "  'counts_num': 100,\n",
       "  'taking_time': 0.001349555,\n",
       "  'taking_time_all_sys': 0.033503318,\n",
       "  'counts_used': None,\n",
       "  'input': {'num_qubits': 10,\n",
       "   'selected_qubits': [0, 1],\n",
       "   'registers_mapping': {0: 0,\n",
       "    1: 1,\n",
       "    2: 2,\n",
       "    3: 3,\n",
       "    4: 4,\n",
       "    5: 5,\n",
       "    6: 6,\n",
       "    7: 7,\n",
       "    8: 8,\n",
       "    9: 9},\n",
       "   'bitstring_mapping': {0: 0,\n",
       "    1: 1,\n",
       "    2: 2,\n",
       "    3: 3,\n",
       "    4: 4,\n",
       "    5: 5,\n",
       "    6: 6,\n",
       "    7: 7,\n",
       "    8: 8,\n",
       "    9: 9},\n",
       "   'shots': 1024,\n",
       "   'unitary_located': [0, 1, 2, 3, 4, 5, 6, 7, 8, 9]},\n",
       "  'header': {'serial': 0,\n",
       "   'datetime': '2025-05-22 14:40:26',\n",
       "   'summoner': None,\n",
       "   'log': {}}}]"
      ]
     },
     "execution_count": 9,
     "metadata": {},
     "output_type": "execute_result"
    }
   ],
   "source": [
    "experiment_randomized.multimanagers[multi_exps1].quantity_container[\"report.001\"][\n",
    "    (\"trivial_paramagnet\", \"size_10\")\n",
    "][:2]"
   ]
  },
  {
   "cell_type": "markdown",
   "id": "1963d333",
   "metadata": {},
   "source": [
    "### e. Run post-processing at once with specific analysis arguments\n",
    "\n",
    "At first, we need to get the each experiment's id in the `multimanager` instance.\n"
   ]
  },
  {
   "cell_type": "code",
   "execution_count": 10,
   "id": "b114c2d8",
   "metadata": {},
   "outputs": [
    {
     "name": "stdout",
     "output_type": "stream",
     "text": [
      "180\n"
     ]
    }
   ],
   "source": [
    "expkeys_of_multi_exps1 = list(\n",
    "    experiment_randomized.multimanagers[multi_exps1].exps.keys()\n",
    ")\n",
    "print(len(expkeys_of_multi_exps1))"
   ]
  },
  {
   "cell_type": "markdown",
   "id": "f13dfbdd",
   "metadata": {},
   "source": [
    "1. If you want to run the post-processing for some specific experiments,\n",
    "   for example, the first 3 experiments we get for the `multimanager` instance.\n"
   ]
  },
  {
   "cell_type": "code",
   "execution_count": 11,
   "id": "38778cf7",
   "metadata": {},
   "outputs": [
    {
     "name": "stderr",
     "output_type": "stream",
     "text": [
      "| 180/180 - Analysis: Skipped a6f57199-f351-43c2-8502-73347659944a in d8146e57-30c9-44c9-a80b-dd761ac21252. - 00:00 < 00:00                     "
     ]
    },
    {
     "name": "stdout",
     "output_type": "stream",
     "text": [
      "| \"first_3.002\" has been completed.\n"
     ]
    },
    {
     "name": "stderr",
     "output_type": "stream",
     "text": [
      "\n"
     ]
    },
    {
     "data": {
      "text/plain": [
       "'d8146e57-30c9-44c9-a80b-dd761ac21252'"
      ]
     },
     "execution_count": 11,
     "metadata": {},
     "output_type": "execute_result"
    }
   ],
   "source": [
    "experiment_randomized.multiAnalysis(\n",
    "    summoner_id=multi_exps1,\n",
    "    analysis_name=\"first_3\",\n",
    "    skip_write=True,\n",
    "    multiprocess_write=False,\n",
    "    specific_analysis_args={k: {\n",
    "        \"selected_qubits\": [0, 1],   \n",
    "    } if idx < 3 else False for idx, k in enumerate(expkeys_of_multi_exps1)},\n",
    ")"
   ]
  },
  {
   "cell_type": "code",
   "execution_count": 12,
   "id": "ada4eb86",
   "metadata": {},
   "outputs": [
    {
     "name": "stdout",
     "output_type": "stream",
     "text": [
      "| Available results:\n",
      "| length: 3\n"
     ]
    }
   ],
   "source": [
    "print(\"| Available results:\")\n",
    "print(\n",
    "    \"| length:\",\n",
    "    sum(\n",
    "        len(v)\n",
    "        for v in experiment_randomized.multimanagers[multi_exps1]\n",
    "        .quantity_container[\"first_3.002\"]\n",
    "        .values()\n",
    "    ),\n",
    ")"
   ]
  },
  {
   "cell_type": "markdown",
   "id": "4a1f8281",
   "metadata": {},
   "source": [
    "2. Or manually specify all the analysis arguments for each experiment.\n"
   ]
  },
  {
   "cell_type": "code",
   "execution_count": 13,
   "id": "6f483aff",
   "metadata": {},
   "outputs": [
    {
     "name": "stderr",
     "output_type": "stream",
     "text": [
      "| 0/180 - Analysis: Preparing error mitigation of selected qubits: [0, 1] - 00:00 < ?                                                           "
     ]
    },
    {
     "name": "stderr",
     "output_type": "stream",
     "text": [
      "| 180/180 - Analysis: Preparing error mitigation of selected qubits: [0, 1] - 00:01 < 00:00                                                           \n"
     ]
    },
    {
     "name": "stdout",
     "output_type": "stream",
     "text": [
      "| \"all_manual.003\" has been completed.\n",
      "| Export multimanager...\n"
     ]
    },
    {
     "name": "stderr",
     "output_type": "stream",
     "text": [
      "| 9/9 - Exporting done - 00:00 < 00:00                           \n",
      "| 3/3 - exported quantity complete - 00:00 < 00:00    "
     ]
    },
    {
     "name": "stdout",
     "output_type": "stream",
     "text": [
      "| Export multi.config.json for d8146e57-30c9-44c9-a80b-dd761ac21252\n"
     ]
    },
    {
     "name": "stderr",
     "output_type": "stream",
     "text": [
      "\n",
      "| 179/179 - Exporting experiments... - 00:23 < 00:00\n",
      "| 180/180 - Loading file infomation... - 00:00 < 00:00"
     ]
    },
    {
     "name": "stdout",
     "output_type": "stream",
     "text": [
      "| Exporting file taglist...\n",
      "| Exporting qurrent.randomized_measure.001/qurryinfo.json...\n",
      "| Exporting qurrent.randomized_measure.001/qurryinfo.json done.\n"
     ]
    },
    {
     "name": "stderr",
     "output_type": "stream",
     "text": [
      "\n"
     ]
    },
    {
     "data": {
      "text/plain": [
       "'d8146e57-30c9-44c9-a80b-dd761ac21252'"
      ]
     },
     "execution_count": 13,
     "metadata": {},
     "output_type": "execute_result"
    }
   ],
   "source": [
    "experiment_randomized.multiAnalysis(\n",
    "    summoner_id=multi_exps1,\n",
    "    skip_write=False,\n",
    "    analysis_name=\"all_manual\",\n",
    "    multiprocess_write=True,\n",
    "    specific_analysis_args={k: {\n",
    "        \"selected_qubits\": [0, 1],  # selected qubits for the analysis\n",
    "    } for idx, k in enumerate(expkeys_of_multi_exps1)},\n",
    ")"
   ]
  },
  {
   "cell_type": "code",
   "execution_count": 14,
   "id": "9d2c5e8d",
   "metadata": {},
   "outputs": [
    {
     "name": "stdout",
     "output_type": "stream",
     "text": [
      "| Available results:\n",
      "| length: 180\n"
     ]
    }
   ],
   "source": [
    "print(\"| Available results:\")\n",
    "print(\n",
    "    \"| length:\",\n",
    "    sum(\n",
    "        len(v)\n",
    "        for v in experiment_randomized.multimanagers[multi_exps1]\n",
    "        .quantity_container[\"all_manual.003\"]\n",
    "        .values()\n",
    "    ),\n",
    ")"
   ]
  },
  {
   "cell_type": "markdown",
   "id": "1f4ffe7a",
   "metadata": {},
   "source": [
    "### f. Read exported multimanager data\n"
   ]
  },
  {
   "cell_type": "code",
   "execution_count": 15,
   "id": "e873e02d",
   "metadata": {},
   "outputs": [
    {
     "name": "stdout",
     "output_type": "stream",
     "text": [
      "| Retrieve qurrent.randomized_measure.001...\n",
      "| at: qurrent.randomized_measure.001\n"
     ]
    },
    {
     "name": "stderr",
     "output_type": "stream",
     "text": [
      "| 180/180 100%|██████████| - Loading 180 experiments ... - 00:07 < 00:00\n"
     ]
    }
   ],
   "source": [
    "multi_exps1_reades = experiment_randomized.multiRead(\n",
    "    save_location=\".\",\n",
    "    summoner_name=\"qurrent.randomized_measure.001\",\n",
    ")"
   ]
  },
  {
   "cell_type": "code",
   "execution_count": 16,
   "id": "e51b2202",
   "metadata": {},
   "outputs": [
    {
     "data": {
      "text/plain": [
       "['d7e5bde9-35d6-4480-846c-1ce135f12a22',\n",
       " '4108b5fd-de55-4671-a688-f36a8a8d7e7c',\n",
       " '11108337-10bd-437c-b61b-338e44f81c8e',\n",
       " 'c4eabf32-d21f-4481-873f-7d81a6e7eb6c',\n",
       " 'e78b4f39-d272-43d2-bfca-2b0590f047a1',\n",
       " '81c4a84d-c7a5-4091-b199-bf2415c03be2',\n",
       " '060c5100-2de1-46c4-9b32-8fcf3e3df3cc',\n",
       " '713153be-a43b-4e78-8183-7dafafb3259d',\n",
       " '57f39bbd-ee30-43ca-84e3-1fe7b97a5c6a',\n",
       " 'b9e62941-da32-4cae-8dde-cb1fe132f7c0',\n",
       " '402f1713-6463-4f22-b804-0fd7318c1cff',\n",
       " '496d4543-8025-4e94-b6e2-a70254ab7588',\n",
       " 'ed6f02de-ed34-4658-a0ca-969e29b8dd71',\n",
       " '957fee73-38ce-4947-beea-8b260224b296',\n",
       " '1cbdbe12-6cb5-4db5-badc-440939f5ebf8',\n",
       " '8e306ea1-1bf4-4bdf-a43a-64d9c3fb28ae',\n",
       " '7d059cc9-11e2-41b7-9555-8c31b695bab0',\n",
       " 'd2e3e51a-37ec-4ee8-a308-fe91a80b33d5',\n",
       " 'd973016c-a7f3-4227-a86a-241d99e2a766',\n",
       " 'bee05788-253a-491f-be81-a3312c2a6db7',\n",
       " '8db85638-c3e0-4747-bb26-9f8b24a6f45e',\n",
       " 'f9aef5b8-6712-4914-927b-6f8c1f187290',\n",
       " 'f61b9335-553b-4d63-9ae3-d9be46e41a88',\n",
       " '6a72e672-ccfa-46d5-8a1b-8ef5264d7208',\n",
       " 'ed3ffd03-d6da-4dbe-ad67-33337e8b6ca5',\n",
       " '9f4244ae-b40c-4d25-bf16-474ab05c2211',\n",
       " '2b968457-d7e7-43cf-ba86-67e8fe423279',\n",
       " '228350c1-735e-4c68-852d-ca49febf60a1',\n",
       " 'c7376d8d-60f8-4e4b-960a-71a3cc270285',\n",
       " '7ed226a3-ed51-4fe4-8b0e-7372e62929f4',\n",
       " 'a8e38abe-b8e1-4e17-b106-668ee427f88f',\n",
       " '509932e0-66c3-4f2f-b2ff-2102a2ed1dec',\n",
       " '2bdb0992-a46f-4ff9-9031-e32a5a4acbbd',\n",
       " 'f4e61a59-c57b-4c71-90b8-96ecbda1f969',\n",
       " '6c01a196-a041-4223-8b27-2fed07514671',\n",
       " '54a0fe89-4ff0-42cf-85e8-a676a8fe0bb0',\n",
       " '2532f18c-9da8-4a93-b683-c7c9d78ad6cc',\n",
       " 'a055a31f-25cb-48db-844d-0c49e2a47c64',\n",
       " '01680a12-a37b-4339-a4d7-201474ab40fe',\n",
       " '5a5f4859-e268-4d73-9193-cc6aee91f173',\n",
       " '619e55b5-6ab7-4dac-bd83-2c63ca777ecc',\n",
       " '3baa1e95-d0be-41e8-a314-fecb1388b9f7',\n",
       " '39260eca-6169-4410-aebe-7704ea423264',\n",
       " '739b2624-319b-43af-8989-a2a0066906bf',\n",
       " '320b7d09-8d83-4900-849c-be06d1e4297b',\n",
       " 'b05f6a51-940c-4818-9fde-f5eb8eb065cf',\n",
       " '68217616-b7e1-49b7-aa30-0488234135b1',\n",
       " 'e302ca48-ae95-4612-a93a-024552743833',\n",
       " '69b920dc-2cbc-42a8-a3cc-2d0cfe245b1f',\n",
       " '4791cb6d-9af4-44a3-960a-830fe191ce3e',\n",
       " 'e69e899b-b3ad-4c66-bbdb-812116797980',\n",
       " 'af6755e6-c320-40fe-bda9-598d8efb452a',\n",
       " '0884c0a6-fa18-4d69-96f5-de476607749c',\n",
       " '840c1c18-2f4d-4c2d-abe6-14a2801252b6',\n",
       " 'd133a634-e0f2-413f-a9e2-29ebc08dc45e',\n",
       " '7c93e6f6-c853-4f4c-8057-c8f56f7bceb8',\n",
       " 'e915903d-fe79-4db8-8ae0-1a33ed7eeb93',\n",
       " '465b0e4a-b23a-4038-a3a1-0d528a40e52c',\n",
       " '6a811bad-0055-4ec4-be0a-7c66129e7f42',\n",
       " '3433fcce-4a14-4777-bcdf-1746f857de56',\n",
       " '1a826fce-d153-4568-a90a-03e8fca5e327',\n",
       " '250065f3-6f09-4550-aa7d-f70e495c5042',\n",
       " '0c92b429-70d0-4679-ad54-dc6170f403a0',\n",
       " '2306a635-e833-453c-a59b-7c7c31dd1a49',\n",
       " '852bb60c-9128-4347-907b-3c6cc899416a',\n",
       " 'd59c1f49-863e-4e63-b1f9-19c281cbcbbe',\n",
       " '4542926f-09f1-4f46-8af2-047c64b7989b',\n",
       " '8a4e0791-ab43-4c08-98b9-1997808b70de',\n",
       " 'e9469d24-eaa0-431c-9d6c-1b5a45480bb7',\n",
       " '09bf0e25-be93-4c94-a365-b4bd665256b0',\n",
       " 'e95f5c4c-5bbc-420d-b601-03ccf0f885b3',\n",
       " '7098921c-a90c-4551-a8fd-e3136305325c',\n",
       " '25a17819-8ff4-4d3e-b4d3-a872a534c37d',\n",
       " '5bbbd6f7-2d36-4f1a-a950-085a7d58e143',\n",
       " '990de1c4-41ab-43b0-82cf-82e4c74827bf',\n",
       " 'ad046d82-a3b7-418f-816b-ba7c26341ef5',\n",
       " 'b0358a30-d145-42d6-b760-66bf4aba2351',\n",
       " 'd6f35566-b3f7-4a0b-a4f2-7c5c2bde9482',\n",
       " '873efff3-1215-454d-bbbb-9874e0ea3251',\n",
       " '5765f5de-c22f-40d0-a5ac-6748d7e83f3e',\n",
       " '3e9cddda-1e28-40e2-9eea-178fb5c0d98e',\n",
       " 'da9e68dc-101e-4b10-bdff-de407b79d03d',\n",
       " 'b3e928d4-3770-48be-aad2-85a46ea5138b',\n",
       " '4dcb70e2-2dc6-49e6-b1af-5e0003889f07',\n",
       " 'dff5149c-4667-422b-a251-fcc6e9a9a29e',\n",
       " 'c0d6e7cf-4468-4bc3-8098-5abaf9d29b57',\n",
       " 'fc66f0c8-360c-473b-be21-e6fb1bed8d2f',\n",
       " '1772302b-ce18-4580-ad4a-83d4aa6a9659',\n",
       " '0d3c78ae-7199-4c6e-a7d4-b08dfd70de14',\n",
       " '9572b3f9-cf38-48d1-b069-51b82a244582',\n",
       " '207033fc-04f8-4bb8-ba14-217822cb7fee',\n",
       " '83f28424-670f-414a-8b70-15828d9e264a',\n",
       " 'ae942228-3d37-4423-a072-71863485f291',\n",
       " '92f3cbb3-7140-4824-8176-77de6e1cc4a4',\n",
       " 'f399b8df-bf83-4897-a761-7456b730b9d8',\n",
       " 'fbd7ed3a-df26-4f53-a6b6-7b354c477cc9',\n",
       " 'b5e19e17-641e-4008-a20c-f81acdcebcf2',\n",
       " 'b9850274-c274-409a-af44-0e55cffc2e51',\n",
       " '8e21f628-d589-489e-8491-6f75101fb01c',\n",
       " 'a4f9ce95-680b-48f9-9ff0-45b1cc8c4748',\n",
       " '2328c941-bfbf-40d6-9f67-399e2492882a',\n",
       " 'b25d4654-f91b-4019-8fd4-5ca8435a33b9',\n",
       " 'bf639c14-57ed-4144-825c-b4df5f8c40ef',\n",
       " 'f0e6ebb5-51ca-440f-9974-5ebcb08ee0a3',\n",
       " '2b1c4a91-5689-446e-ae80-70bc855989fc',\n",
       " '8fc46e2d-f320-4802-81ad-32af59045578',\n",
       " '8027d013-d557-460d-9028-4c2240d4d717',\n",
       " '8da0f86f-6264-48d0-857d-4c73b9a41b11',\n",
       " '8549dc32-db4a-4c06-a51c-7fd607c925fc',\n",
       " 'a9f3f648-3e95-467e-8485-4b8442fd44a9',\n",
       " '8a7a3003-4740-4f45-b4d9-daf79f5fc0d0',\n",
       " '82d3cc0d-1aac-4029-93cb-89e5c68a8675',\n",
       " 'eba2f437-cef9-4cba-9bb2-b7f730e00814',\n",
       " '98ed11ad-3fae-4306-a547-94b5d2a485fc',\n",
       " '54f31a66-cc3d-473c-a446-47079d0a5518',\n",
       " 'fb19898e-2d4d-4719-a299-2456fab1df03',\n",
       " '96e6c897-d4e9-4e57-8e7f-a5ea460c5d59',\n",
       " '47662c97-78d0-45f4-b047-992885cb4c25',\n",
       " 'bccec770-bc8d-4d66-8fb1-965ed31a3547',\n",
       " '4d85b070-2d14-411f-8854-12cf6b80ba06',\n",
       " 'd8448c15-338a-4f5f-ab43-f257dc3ae3c7',\n",
       " '6b9e14d2-7d81-4c9f-a668-a1a7f3f06bf4',\n",
       " '2c696bee-4a88-4701-b7f9-2dea1560e1a7',\n",
       " '7ae49dcc-a8bf-49a9-9c0a-19c568e3c3b1',\n",
       " '6cb1eacc-0792-482b-9370-f2e9a039b714',\n",
       " '272bdcd7-216f-4fdd-9e48-0e8e9e1f07c7',\n",
       " '5a1011a9-a88b-4485-b932-2752e9bfa6da',\n",
       " '5395bcd8-e4ad-4190-a397-dca87e3b7cea',\n",
       " 'e5d128e6-cdae-4309-b14f-df52d40f6b83',\n",
       " '5a96b8e2-db79-4b4a-b439-1c94b320db04',\n",
       " '306d409e-a849-4938-9a96-0f7c6e1d7a95',\n",
       " 'd016c960-4184-4a85-b02a-c99a2162a47e',\n",
       " '31feccda-b282-4843-870d-5be0904beb03',\n",
       " 'ee1496d4-b1f5-4f0b-855b-5cd0d2751042',\n",
       " '73a927b8-b073-4d23-9407-9849339e6b8f',\n",
       " 'a2d2d785-5302-4c45-b43a-845144b0424b',\n",
       " 'ce18dddf-baad-4a70-b7ed-023fb4fb00c5',\n",
       " '0b0358a6-f8e4-479d-9c39-6018181f4d73',\n",
       " '020b5185-040b-4345-8fea-b47e1a7f39b6',\n",
       " '3bbfb6bb-b0d0-4ac0-a4d3-61ae2503857c',\n",
       " '7c652dbe-3ddd-45d1-9152-d7a069651f44',\n",
       " '8ffda406-3f85-466f-8009-23ebd657c71b',\n",
       " '93405b4b-4fef-4973-843b-eaee483ddd6a',\n",
       " '239fe9a9-2edb-4c1a-bcc2-9fd31a54a1be',\n",
       " 'cbfde256-0f0e-4ff5-b080-0765dc777b53',\n",
       " '0cd22cbd-0301-4552-a007-b6dfe43fc587',\n",
       " 'd9033744-fc74-4b29-a247-b0057939e22d',\n",
       " '347ebbc5-0c56-4f35-8c55-0cb138fb3598',\n",
       " '79cbc13c-1171-4d9c-b3cc-f5c022eac0c0',\n",
       " 'd707feb9-42e6-4942-bdf5-8a786577593e',\n",
       " 'c74363d8-592d-4f20-9073-190ef1cb05fa',\n",
       " 'b9cbd6a8-a818-4c18-92fd-a3a688a9a2f7',\n",
       " 'a10b2ea6-5799-48c3-823b-918420981a38',\n",
       " 'cf9011c0-a172-4409-81a8-1f240eb9a8af',\n",
       " 'aacb4c00-f0a5-49f1-af17-6501c6cd66ed',\n",
       " '435f8e42-47a5-4d7e-830b-ca320dca8594',\n",
       " '7b57867b-ab0e-49ef-af1d-1e7d0049fc1b',\n",
       " 'a42f765f-c3f7-4dfd-a7c2-800851df937d',\n",
       " '33ea12e9-ef5a-4b99-86ed-14d04881b9ed',\n",
       " 'e10b4742-1ad9-4ef1-aec2-b413b12725a1',\n",
       " '446d077b-b0f6-4cd3-aab9-e40cca92469f',\n",
       " '115277ff-1c05-43e8-98dd-8404127f2e1e',\n",
       " '5a614bf3-2bf5-4c23-a389-23120d1c0bfc',\n",
       " '77ebabc9-f991-45b1-8fc3-c7f3501f81b1',\n",
       " '9fe26c44-edac-42f8-bb14-e6bd1da19029',\n",
       " '07f2f705-9c4c-4527-b34d-1bdc72a003b1',\n",
       " '471deb48-e452-4db6-a66f-e14bcb19996e',\n",
       " 'aaf22c9e-60a4-4565-a56b-4a379347d0f4',\n",
       " '3b80a552-82cb-443f-b24d-49648f578a78',\n",
       " '0a95b102-2737-46f6-a59a-b4fde0b8837a',\n",
       " '2a8b90d0-d35a-408a-b0d6-630ad622f654',\n",
       " '6724c561-fc48-467d-aa08-bdcdfadc156f',\n",
       " '3543aa06-6861-4c6d-88ef-9c23050c4ce9',\n",
       " '2e984e76-5f2d-438c-b871-42a25e654ea1',\n",
       " 'd1524cf3-9f14-4706-a4ac-72c83b21300a',\n",
       " '15cb4a8e-7358-4538-bba0-cea35ff59010',\n",
       " 'b23defc4-f451-4bd2-a1e0-456c6bce3fcd',\n",
       " 'd9b6e497-018f-471c-bbf7-f2d4b9b85c98',\n",
       " 'fff81bd8-cdbb-4660-9d3f-6676e165c7c9',\n",
       " 'a6f57199-f351-43c2-8502-73347659944a']"
      ]
     },
     "execution_count": 16,
     "metadata": {},
     "output_type": "execute_result"
    }
   ],
   "source": [
    "expkeys_of_multi_exps1"
   ]
  },
  {
   "cell_type": "markdown",
   "id": "b89d7007",
   "metadata": {},
   "source": [
    "---\n",
    "\n",
    "### Post-Process Availablities and Version Info"
   ]
  },
  {
   "cell_type": "code",
   "execution_count": 17,
   "id": "1fe20bf0",
   "metadata": {},
   "outputs": [
    {
     "data": {
      "text/plain": [
       " | Qurry version: 0.12.2.dev2\n",
       "---------------------------------------------------------------------------\n",
       " ### Qurry Post-Processing\n",
       "   - Backend Availability ................... Python Cython Rust   JAX   \n",
       " - randomized_measure\n",
       "   - entangled_entropy.entropy_core_2 ....... Yes    Depr.  Yes    No    \n",
       "   - entangle_entropy.purity_cell_2 ......... Yes    Depr.  Yes    No    \n",
       "   - entangled_entropy_v1.entropy_core ...... Yes    Depr.  Yes    No    \n",
       "   - entangle_entropy_v1.purity_cell ........ Yes    Depr.  Yes    No    \n",
       "   - wavefunction_overlap.echo_core_2 ....... Yes    Depr.  Yes    No    \n",
       "   - wavefunction_overlap.echo_cell_2 ....... Yes    Depr.  Yes    No    \n",
       "   - wavefunction_overlap_v1.echo_core ...... Yes    Depr.  Yes    No    \n",
       "   - wavefunction_overlap_v1.echo_cell ...... Yes    Depr.  Yes    No    \n",
       " - hadamard_test\n",
       "   - purity_echo_core ....................... Yes    No     Yes    No    \n",
       " - magnet_square\n",
       "   - magnsq_core ............................ Yes    No     No     No    \n",
       " - classical_shadow\n",
       "   - rho_m_core ............................. Yes    No     No     Error \n",
       " - utils\n",
       "   - randomized ............................. Yes    Depr.  Yes    No    \n",
       "   - counts_process ......................... Yes    No     Yes    No    \n",
       "   - bit_slice .............................. Yes    No     Yes    No    \n",
       "   - dummy .................................. Yes    No     Yes    No    \n",
       "   - test ................................... Yes    No     Yes    No    \n",
       "---------------------------------------------------------------------------\n",
       "   + Yes ...... Working normally.\n",
       "   + Error .... Exception occurred.\n",
       "   + No ....... Not supported.\n",
       "   + Depr. .... Deprecated.\n",
       "---------------------------------------------------------------------------\n",
       "by <Hoshi>"
      ]
     },
     "execution_count": 17,
     "metadata": {},
     "output_type": "execute_result"
    }
   ],
   "source": [
    "from qurry.process import AVAIBILITY_STATESHEET\n",
    "AVAIBILITY_STATESHEET"
   ]
  }
 ],
 "metadata": {
  "kernelspec": {
   "display_name": "qurrium_docs",
   "language": "python",
   "name": "python3"
  },
  "language_info": {
   "codemirror_mode": {
    "name": "ipython",
    "version": 3
   },
   "file_extension": ".py",
   "mimetype": "text/x-python",
   "name": "python",
   "nbconvert_exporter": "python",
   "pygments_lexer": "ipython3",
   "version": "3.12.3"
  }
 },
 "nbformat": 4,
 "nbformat_minor": 5
}
