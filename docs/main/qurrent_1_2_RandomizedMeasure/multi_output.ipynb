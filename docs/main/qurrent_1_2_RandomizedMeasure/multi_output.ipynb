{
 "cells": [
  {
   "cell_type": "markdown",
   "id": "166f3b67",
   "metadata": {},
   "source": [
    "# 1.2 EntropyMeasure - Randomized Measurement\n",
    "## Multiple Experiments\n",
    "\n",
    "Consider a scenario, you have multiple circuits that you want to run at once.\n",
    "\n",
    "Call `.measure()` one by one will be inefficient,\n",
    "no to mention that you also need to call `.anlyze()` for their post-processing.\n",
    "\n",
    "Here we provide a more efficient way solve this problem,\n",
    "where the true power of Qurrium as experiment manage toolkit.\n"
   ]
  },
  {
   "cell_type": "markdown",
   "id": "86beb579",
   "metadata": {},
   "source": [
    "### a. Import the instances\n"
   ]
  },
  {
   "cell_type": "code",
   "execution_count": 1,
   "id": "0fc71722",
   "metadata": {},
   "outputs": [],
   "source": [
    "from qurry import EntropyMeasure\n",
    "\n",
    "experiment_randomized = EntropyMeasure()\n",
    "# It's default method. EntropyMeasure(method='randomized') also works"
   ]
  },
  {
   "cell_type": "markdown",
   "id": "d48d1d69",
   "metadata": {},
   "source": [
    "### b. Preparing quantum circuit\n",
    "\n",
    "Prepare and add circuits to the `.wave` for later usage.\n"
   ]
  },
  {
   "cell_type": "code",
   "execution_count": 2,
   "id": "2e597e81",
   "metadata": {},
   "outputs": [
    {
     "data": {
      "text/plain": [
       "WaveContainer({\n",
       "  'trivial_paramagnet_2': <qurry.recipe.simple.paramagnet.TrivialParamagnet object at 0x753a35eb7320>,\n",
       "  'ghz_2': <qurry.recipe.simple.cat.GHZ object at 0x753a35eb73e0>,\n",
       "  'neel_2': <qiskit.circuit.quantumcircuit.QuantumCircuit object at 0x753a364ef6e0>,\n",
       "  'trivial_paramagnet_4': <qurry.recipe.simple.paramagnet.TrivialParamagnet object at 0x753a35eb6780>,\n",
       "  'ghz_4': <qurry.recipe.simple.cat.GHZ object at 0x753a8197e330>,\n",
       "  'neel_4': <qiskit.circuit.quantumcircuit.QuantumCircuit object at 0x753a35e30320>,\n",
       "  'trivial_paramagnet_6': <qurry.recipe.simple.paramagnet.TrivialParamagnet object at 0x753a35eec980>,\n",
       "  'ghz_6': <qurry.recipe.simple.cat.GHZ object at 0x753a35eeca10>,\n",
       "  'neel_6': <qiskit.circuit.quantumcircuit.QuantumCircuit object at 0x753a35eecc50>,\n",
       "  'trivial_paramagnet_8': <qurry.recipe.simple.paramagnet.TrivialParamagnet object at 0x753a35eece00>,\n",
       "  'ghz_8': <qurry.recipe.simple.cat.GHZ object at 0x753a35eece90>,\n",
       "  'neel_8': <qiskit.circuit.quantumcircuit.QuantumCircuit object at 0x753a35eed160>,\n",
       "  'trivial_paramagnet_10': <qurry.recipe.simple.paramagnet.TrivialParamagnet object at 0x753a35e30200>,\n",
       "  'ghz_10': <qurry.recipe.simple.cat.GHZ object at 0x753a35eed580>,\n",
       "  'neel_10': <qiskit.circuit.quantumcircuit.QuantumCircuit object at 0x753a35eed790>,\n",
       "  'trivial_paramagnet_12': <qurry.recipe.simple.paramagnet.TrivialParamagnet object at 0x753a362e8da0>,\n",
       "  'ghz_12': <qurry.recipe.simple.cat.GHZ object at 0x753a35e33950>,\n",
       "  'neel_12': <qiskit.circuit.quantumcircuit.QuantumCircuit object at 0x753a35eb7c80>})"
      ]
     },
     "execution_count": 2,
     "metadata": {},
     "output_type": "execute_result"
    }
   ],
   "source": [
    "from qiskit import QuantumCircuit\n",
    "from qurry.recipe import TrivialParamagnet, GHZ\n",
    "\n",
    "\n",
    "def make_neel_circuit(n):\n",
    "    qc = QuantumCircuit(n)\n",
    "    for i in range(0, n, 2):\n",
    "        qc.x(i)\n",
    "    return qc\n",
    "\n",
    "\n",
    "for i in range(2, 13, 2):\n",
    "    experiment_randomized.add(TrivialParamagnet(i), f\"trivial_paramagnet_{i}\")\n",
    "    experiment_randomized.add(GHZ(i), f\"ghz_{i}\")\n",
    "    experiment_randomized.add(make_neel_circuit(i), f\"neel_{i}\")\n",
    "\n",
    "experiment_randomized.waves"
   ]
  },
  {
   "cell_type": "markdown",
   "id": "25fc5d4c",
   "metadata": {},
   "source": [
    "### c. Execute multiple experiments at once\n",
    "\n",
    "Let's demonstrate the true power of Qurrium.\n"
   ]
  },
  {
   "cell_type": "code",
   "execution_count": 3,
   "id": "1e63ed3e",
   "metadata": {},
   "outputs": [],
   "source": [
    "from qurry.qurrent.randomized_measure.arguments import EntropyMeasureRandomizedMeasureArgs"
   ]
  },
  {
   "cell_type": "markdown",
   "id": "45d57823",
   "metadata": {},
   "source": [
    "Preparing a configuration list for multiple experiments with following parameters:\n",
    "\n",
    "```python\n",
    "class EntropyMeasureRandomizedMeasureArgs(total=False):\n",
    "    \"\"\"Output arguments for :meth:`output`.\"\"\"\n",
    "    shots: int\n",
    "    \"\"\"Number of shots.\"\"\"\n",
    "    tags: Optional[tuple[str, ...]]\n",
    "    \"\"\"The tags to be used for the experiment.\"\"\"\n",
    "\n",
    "    wave: Optional[Union[QuantumCircuit, Hashable]]\n",
    "    \"\"\"The key or the circuit to execute.\"\"\"\n",
    "    times: int\n",
    "    \"\"\"The number of random unitary operator. \n",
    "    It will denote as `N_U` in the experiment name.\"\"\"\n",
    "    measure: Optional[Union[tuple[int, int], int, list[int]]]\n",
    "    \"\"\"The measure range.\"\"\"\n",
    "    unitary_loc: Optional[Union[tuple[int, int], int, list[int]]]\n",
    "    \"\"\"The range of the unitary operator.\"\"\"\n",
    "    unitary_loc_not_cover_measure: bool\n",
    "    \"\"\"Whether the range of the unitary operator is not cover the measure range.\"\"\"\n",
    "    random_unitary_seeds: Optional[dict[int, dict[int, int]]]\n",
    "    \"\"\"The seeds for all random unitary operator.\n",
    "    This argument only takes input as type of `dict[int, dict[int, int]]`.\n",
    "    The first key is the index for the random unitary operator.\n",
    "    The second key is the index for the qubit.\n",
    "\n",
    "    .. code-block:: python\n",
    "        {\n",
    "            0: {0: 1234, 1: 5678},\n",
    "            1: {0: 2345, 1: 6789},\n",
    "            2: {0: 3456, 1: 7890},\n",
    "        }\n",
    "\n",
    "    If you want to generate the seeds for all random unitary operator,\n",
    "    you can use the function :func:`generate_random_unitary_seeds` \n",
    "    in :mod:`qurry.qurrium.utils.random_unitary`.\n",
    "\n",
    "    .. code-block:: python\n",
    "        from qurry.qurrium.utils.random_unitary import generate_random_unitary_seeds\n",
    "\n",
    "        random_unitary_seeds = generate_random_unitary_seeds(100, 2)\n",
    "    \"\"\"\n",
    "```\n"
   ]
  },
  {
   "cell_type": "code",
   "execution_count": 4,
   "id": "9a6c6749",
   "metadata": {},
   "outputs": [
    {
     "name": "stdout",
     "output_type": "stream",
     "text": [
      "180\n"
     ]
    }
   ],
   "source": [
    "config_list: list[EntropyMeasureRandomizedMeasureArgs] = [\n",
    "    {\n",
    "        \"shots\": 1024,\n",
    "        \"wave\": f\"{wave_names}_{i}\",\n",
    "        \"times\": 100,\n",
    "        \"tags\": (wave_names, f\"size_{i}\"),\n",
    "    }\n",
    "    for _ in range(10)\n",
    "    for i in range(2, 13, 2)\n",
    "    for wave_names in [\"trivial_paramagnet\", \"ghz\", \"neel\"]\n",
    "]\n",
    "print(len(config_list))"
   ]
  },
  {
   "cell_type": "markdown",
   "id": "28ef8515",
   "metadata": {},
   "source": [
    "The `.multiOutput` will return an id of this `multimanager` instance,\n",
    "which can be used to get the results and post-process them.\n",
    "\n",
    "Each `multimanager` will export the experiments in a folder you can specify\n",
    "by setting `save_location` parameter with default location for current directory\n",
    "where Python executed.\n",
    "It will create a folder with the name of the `multimanager` instance,\n",
    "and inside it will create a folder for storing each experiment data.\n",
    "\n",
    "It will do firstly in the building process, but you can skip it by setting `skip_build_write=True` to save time.\n",
    "After all experiments are executed, it will export secondly,\n",
    "which can also be skipped by setting `skip_output_write=True` for no files output.\n"
   ]
  },
  {
   "cell_type": "code",
   "execution_count": 5,
   "id": "3135a9f2",
   "metadata": {},
   "outputs": [
    {
     "name": "stdout",
     "output_type": "stream",
     "text": [
      "| MultiManager building...\n",
      "| Write \"qurrent.randomized_measure.001\", at location \"qurrent.randomized_measure.001\"\n"
     ]
    },
    {
     "data": {
      "application/vnd.jupyter.widget-view+json": {
       "model_id": "2d27437b713843e49ef538d56c22f451",
       "version_major": 2,
       "version_minor": 0
      },
      "text/plain": [
       "| 0/180   0%|          | - MultiManager building... - 00:00 < ?"
      ]
     },
     "metadata": {},
     "output_type": "display_data"
    },
    {
     "name": "stdout",
     "output_type": "stream",
     "text": [
      "| MultiOutput running...\n"
     ]
    },
    {
     "data": {
      "application/vnd.jupyter.widget-view+json": {
       "model_id": "4ded8cd0ebc94394bb081a7907957cf1",
       "version_major": 2,
       "version_minor": 0
      },
      "text/plain": [
       "| 0/180   0%|          | -  - 00:00 < ?"
      ]
     },
     "metadata": {},
     "output_type": "display_data"
    },
    {
     "name": "stdout",
     "output_type": "stream",
     "text": [
      "| Export multimanager...\n"
     ]
    },
    {
     "data": {
      "application/vnd.jupyter.widget-view+json": {
       "model_id": "76b593dab4b74c1ea11b03c434158dc2",
       "version_major": 2,
       "version_minor": 0
      },
      "text/plain": [
       "| 0/9 - Exporting MultiManager content... - 00:00 < ?"
      ]
     },
     "metadata": {},
     "output_type": "display_data"
    },
    {
     "name": "stdout",
     "output_type": "stream",
     "text": [
      "| No quantity to export.\n",
      "| Export multi.config.json for 079f5290-c0a2-490f-884e-993fd4b96329\n"
     ]
    },
    {
     "data": {
      "application/vnd.jupyter.widget-view+json": {
       "model_id": "89fd6ae37d834916879eeeda58eb26d3",
       "version_major": 2,
       "version_minor": 0
      },
      "text/plain": [
       "| 0/179 - Exporting experiments... - 00:00 < ?"
      ]
     },
     "metadata": {},
     "output_type": "display_data"
    },
    {
     "data": {
      "application/vnd.jupyter.widget-view+json": {
       "model_id": "9fd6614befd84ad9bb5a2ec9dad193aa",
       "version_major": 2,
       "version_minor": 0
      },
      "text/plain": [
       "| 0/180 - Loading file infomation... - 00:00 < ?"
      ]
     },
     "metadata": {},
     "output_type": "display_data"
    },
    {
     "name": "stdout",
     "output_type": "stream",
     "text": [
      "| Exporting file taglist...\n",
      "| Exporting qurrent.randomized_measure.001/qurryinfo.json...\n",
      "| Exporting qurrent.randomized_measure.001/qurryinfo.json done.\n"
     ]
    },
    {
     "data": {
      "text/plain": [
       "'079f5290-c0a2-490f-884e-993fd4b96329'"
      ]
     },
     "execution_count": 5,
     "metadata": {},
     "output_type": "execute_result"
    }
   ],
   "source": [
    "multi_exps1 = experiment_randomized.multiOutput(\n",
    "    config_list,\n",
    "    summoner_name=\"qurrent.randomized_measure\",  # you can name it whatever you want\n",
    "    multiprocess_build=True,\n",
    "    # Using multiprocessing to build the experiments,\n",
    "    # it will be faster but take all the CPU\n",
    "    skip_build_write=True,\n",
    "    # Skip the writing of the experiment as files during the build,\n",
    "    save_location=\".\",\n",
    "    # Save the experiment as files in the current directory\n",
    "    multiprocess_write=True,\n",
    "    # Writing the experiment as files using multiprocessing,\n",
    ")\n",
    "multi_exps1"
   ]
  },
  {
   "cell_type": "code",
   "execution_count": 6,
   "id": "29668232",
   "metadata": {},
   "outputs": [
    {
     "data": {
      "text/plain": [
       "<MultiManager(id=\"079f5290-c0a2-490f-884e-993fd4b96329\",\n",
       "  name=\"qurrent.randomized_measure.001\",\n",
       "  tags=(),\n",
       "  jobstype=\"local\",\n",
       "  pending_strategy=\"tags\",\n",
       "  last_events={\n",
       "    'output.001': '2025-05-21 22:40:57',},\n",
       "  exps_num=180)>"
      ]
     },
     "execution_count": 6,
     "metadata": {},
     "output_type": "execute_result"
    }
   ],
   "source": [
    "experiment_randomized.multimanagers[multi_exps1]"
   ]
  },
  {
   "cell_type": "markdown",
   "id": "4052ff26",
   "metadata": {},
   "source": [
    "### d. Run post-processing at once\n"
   ]
  },
  {
   "cell_type": "code",
   "execution_count": 7,
   "id": "045b5b22",
   "metadata": {},
   "outputs": [
    {
     "data": {
      "application/vnd.jupyter.widget-view+json": {
       "model_id": "354fd84d32004a3e91598b6c97853f4a",
       "version_major": 2,
       "version_minor": 0
      },
      "text/plain": [
       "| 0/180 - Analysis:  - 00:00 < ?"
      ]
     },
     "metadata": {},
     "output_type": "display_data"
    },
    {
     "name": "stdout",
     "output_type": "stream",
     "text": [
      "| \"report.001\" has been completed.\n"
     ]
    },
    {
     "data": {
      "text/plain": [
       "'079f5290-c0a2-490f-884e-993fd4b96329'"
      ]
     },
     "execution_count": 7,
     "metadata": {},
     "output_type": "execute_result"
    }
   ],
   "source": [
    "experiment_randomized.multiAnalysis(\n",
    "    summoner_id=multi_exps1,\n",
    "    skip_write=True,\n",
    "    multiprocess_write=False,\n",
    "    selected_qubits=[0, 1],\n",
    ")"
   ]
  },
  {
   "cell_type": "code",
   "execution_count": 8,
   "id": "483b0b35",
   "metadata": {},
   "outputs": [
    {
     "name": "stdout",
     "output_type": "stream",
     "text": [
      "| Available results:\n",
      "| - ('trivial_paramagnet', 'size_2') with length 10\n",
      "| - ('ghz', 'size_2') with length 10\n",
      "| - ('neel', 'size_2') with length 10\n",
      "| - ('trivial_paramagnet', 'size_4') with length 10\n",
      "| - ('ghz', 'size_4') with length 10\n",
      "| - ('neel', 'size_4') with length 10\n",
      "| - ('trivial_paramagnet', 'size_6') with length 10\n",
      "| - ('ghz', 'size_6') with length 10\n",
      "| - ('neel', 'size_6') with length 10\n",
      "| - ('trivial_paramagnet', 'size_8') with length 10\n",
      "| - ('ghz', 'size_8') with length 10\n",
      "| - ('neel', 'size_8') with length 10\n",
      "| - ('trivial_paramagnet', 'size_10') with length 10\n",
      "| - ('ghz', 'size_10') with length 10\n",
      "| - ('neel', 'size_10') with length 10\n",
      "| - ('trivial_paramagnet', 'size_12') with length 10\n",
      "| - ('ghz', 'size_12') with length 10\n",
      "| - ('neel', 'size_12') with length 10\n"
     ]
    }
   ],
   "source": [
    "print(\"| Available results:\")\n",
    "for k, v in (\n",
    "    experiment_randomized.multimanagers[multi_exps1]\n",
    "    .quantity_container[\"report.001\"]\n",
    "    .items()\n",
    "):\n",
    "    print(\"| -\", k, \"with length\", len(v))"
   ]
  },
  {
   "cell_type": "code",
   "execution_count": 9,
   "id": "c8b8b3c6",
   "metadata": {},
   "outputs": [
    {
     "data": {
      "text/plain": [
       "[{'purity': np.float64(1.161685791015625),\n",
       "  'entropy': np.float64(-0.2162199060551491),\n",
       "  'puritySD': np.float64(0.7768468260626491),\n",
       "  'entropySD': np.float64(0.9647643727406497),\n",
       "  'num_classical_registers': 10,\n",
       "  'classical_registers': [0, 1],\n",
       "  'classical_registers_actually': [0, 1],\n",
       "  'all_system_source': 'independent',\n",
       "  'purityAllSys': np.float64(2.219654083251953),\n",
       "  'entropyAllSys': np.float64(-1.1503348606917023),\n",
       "  'puritySDAllSys': np.float64(1.7811056406300567),\n",
       "  'entropySDAllSys': np.float64(1.157654381565485),\n",
       "  'num_classical_registers_all_sys': 10,\n",
       "  'classical_registers_all_sys': None,\n",
       "  'classical_registers_actually_all_sys': [0, 1, 2, 3, 4, 5, 6, 7, 8, 9],\n",
       "  'errorRate': np.float64(-0.4902504205610562),\n",
       "  'mitigatedPurity': np.float64(0.6605127781488721),\n",
       "  'mitigatedEntropy': np.float64(0.5983416230538836),\n",
       "  'counts_num': 100,\n",
       "  'taking_time': 0.000428319,\n",
       "  'taking_time_all_sys': 0.017495755,\n",
       "  'counts_used': None,\n",
       "  'input': {'num_qubits': 10,\n",
       "   'selected_qubits': [0, 1],\n",
       "   'registers_mapping': {0: 0,\n",
       "    1: 1,\n",
       "    2: 2,\n",
       "    3: 3,\n",
       "    4: 4,\n",
       "    5: 5,\n",
       "    6: 6,\n",
       "    7: 7,\n",
       "    8: 8,\n",
       "    9: 9},\n",
       "   'bitstring_mapping': {0: 0,\n",
       "    1: 1,\n",
       "    2: 2,\n",
       "    3: 3,\n",
       "    4: 4,\n",
       "    5: 5,\n",
       "    6: 6,\n",
       "    7: 7,\n",
       "    8: 8,\n",
       "    9: 9},\n",
       "   'shots': 1024,\n",
       "   'unitary_located': [0, 1, 2, 3, 4, 5, 6, 7, 8, 9]},\n",
       "  'header': {'serial': 0,\n",
       "   'datetime': '2025-05-21 22:41:16',\n",
       "   'summoner': None,\n",
       "   'log': {}}},\n",
       " {'purity': np.float64(1.0129401779174805),\n",
       "  'entropy': np.float64(-0.018548974168437607),\n",
       "  'puritySD': np.float64(0.5766817459573553),\n",
       "  'entropySD': np.float64(0.8213475121248895),\n",
       "  'num_classical_registers': 10,\n",
       "  'classical_registers': [0, 1],\n",
       "  'classical_registers_actually': [0, 1],\n",
       "  'all_system_source': 'independent',\n",
       "  'purityAllSys': np.float64(2.5204689598083494),\n",
       "  'entropyAllSys': np.float64(-1.3336921873144227),\n",
       "  'puritySDAllSys': np.float64(3.5473256145986674),\n",
       "  'entropySDAllSys': np.float64(2.0304590749608082),\n",
       "  'num_classical_registers_all_sys': 10,\n",
       "  'classical_registers_all_sys': None,\n",
       "  'classical_registers_actually_all_sys': [0, 1, 2, 3, 4, 5, 6, 7, 8, 9],\n",
       "  'errorRate': np.float64(-0.5880665112729186),\n",
       "  'mitigatedPurity': np.float64(0.5525193169720454),\n",
       "  'mitigatedEntropy': np.float64(0.8559031905414738),\n",
       "  'counts_num': 100,\n",
       "  'taking_time': 0.000832934,\n",
       "  'taking_time_all_sys': 0.027843348,\n",
       "  'counts_used': None,\n",
       "  'input': {'num_qubits': 10,\n",
       "   'selected_qubits': [0, 1],\n",
       "   'registers_mapping': {0: 0,\n",
       "    1: 1,\n",
       "    2: 2,\n",
       "    3: 3,\n",
       "    4: 4,\n",
       "    5: 5,\n",
       "    6: 6,\n",
       "    7: 7,\n",
       "    8: 8,\n",
       "    9: 9},\n",
       "   'bitstring_mapping': {0: 0,\n",
       "    1: 1,\n",
       "    2: 2,\n",
       "    3: 3,\n",
       "    4: 4,\n",
       "    5: 5,\n",
       "    6: 6,\n",
       "    7: 7,\n",
       "    8: 8,\n",
       "    9: 9},\n",
       "   'shots': 1024,\n",
       "   'unitary_located': [0, 1, 2, 3, 4, 5, 6, 7, 8, 9]},\n",
       "  'header': {'serial': 0,\n",
       "   'datetime': '2025-05-21 22:41:16',\n",
       "   'summoner': None,\n",
       "   'log': {}}}]"
      ]
     },
     "execution_count": 9,
     "metadata": {},
     "output_type": "execute_result"
    }
   ],
   "source": [
    "experiment_randomized.multimanagers[multi_exps1].quantity_container[\"report.001\"][\n",
    "    (\"trivial_paramagnet\", \"size_10\")\n",
    "][:2]"
   ]
  },
  {
   "cell_type": "markdown",
   "id": "1963d333",
   "metadata": {},
   "source": [
    "### e. Run post-processing at once with specific analysis arguments\n",
    "\n",
    "At first, we need to get the each experiment's id in the `multimanager` instance.\n"
   ]
  },
  {
   "cell_type": "code",
   "execution_count": 10,
   "id": "b114c2d8",
   "metadata": {},
   "outputs": [
    {
     "name": "stdout",
     "output_type": "stream",
     "text": [
      "180\n"
     ]
    }
   ],
   "source": [
    "expkeys_of_multi_exps1 = list(\n",
    "    experiment_randomized.multimanagers[multi_exps1].exps.keys()\n",
    ")\n",
    "print(len(expkeys_of_multi_exps1))"
   ]
  },
  {
   "cell_type": "markdown",
   "id": "f13dfbdd",
   "metadata": {},
   "source": [
    "1. If you want to run the post-processing for some specific experiments,\n",
    "   for example, the first 3 experiments we get for the `multimanager` instance.\n"
   ]
  },
  {
   "cell_type": "code",
   "execution_count": 11,
   "id": "38778cf7",
   "metadata": {},
   "outputs": [
    {
     "data": {
      "application/vnd.jupyter.widget-view+json": {
       "model_id": "137c01f96c134a7ab068a9cb3768014f",
       "version_major": 2,
       "version_minor": 0
      },
      "text/plain": [
       "| 0/180 - Analysis:  - 00:00 < ?"
      ]
     },
     "metadata": {},
     "output_type": "display_data"
    },
    {
     "name": "stdout",
     "output_type": "stream",
     "text": [
      "| \"first_3.002\" has been completed.\n"
     ]
    },
    {
     "data": {
      "text/plain": [
       "'079f5290-c0a2-490f-884e-993fd4b96329'"
      ]
     },
     "execution_count": 11,
     "metadata": {},
     "output_type": "execute_result"
    }
   ],
   "source": [
    "experiment_randomized.multiAnalysis(\n",
    "    summoner_id=multi_exps1,\n",
    "    analysis_name=\"first_3\",\n",
    "    skip_write=True,\n",
    "    multiprocess_write=False,\n",
    "    specific_analysis_args={k: {\n",
    "        \"selected_qubits\": [0, 1],   \n",
    "    } if idx < 3 else False for idx, k in enumerate(expkeys_of_multi_exps1)},\n",
    ")"
   ]
  },
  {
   "cell_type": "code",
   "execution_count": 12,
   "id": "ada4eb86",
   "metadata": {},
   "outputs": [
    {
     "name": "stdout",
     "output_type": "stream",
     "text": [
      "| Available results:\n",
      "| length: 3\n"
     ]
    }
   ],
   "source": [
    "print(\"| Available results:\")\n",
    "print(\n",
    "    \"| length:\",\n",
    "    sum(\n",
    "        len(v)\n",
    "        for v in experiment_randomized.multimanagers[multi_exps1]\n",
    "        .quantity_container[\"first_3.002\"]\n",
    "        .values()\n",
    "    ),\n",
    ")"
   ]
  },
  {
   "cell_type": "markdown",
   "id": "4a1f8281",
   "metadata": {},
   "source": [
    "2. Or manually specify all the analysis arguments for each experiment.\n"
   ]
  },
  {
   "cell_type": "code",
   "execution_count": 13,
   "id": "6f483aff",
   "metadata": {},
   "outputs": [
    {
     "data": {
      "application/vnd.jupyter.widget-view+json": {
       "model_id": "0ff9b92239da4a39957801bf6fbcd848",
       "version_major": 2,
       "version_minor": 0
      },
      "text/plain": [
       "| 0/180 - Analysis:  - 00:00 < ?"
      ]
     },
     "metadata": {},
     "output_type": "display_data"
    },
    {
     "name": "stdout",
     "output_type": "stream",
     "text": [
      "| \"all_manual.003\" has been completed.\n",
      "| Export multimanager...\n"
     ]
    },
    {
     "data": {
      "application/vnd.jupyter.widget-view+json": {
       "model_id": "2e22de3cf2024d05b29512e13b090388",
       "version_major": 2,
       "version_minor": 0
      },
      "text/plain": [
       "| 0/9 - Exporting MultiManager content... - 00:00 < ?"
      ]
     },
     "metadata": {},
     "output_type": "display_data"
    },
    {
     "data": {
      "application/vnd.jupyter.widget-view+json": {
       "model_id": "b7a62a6ecb5144c2a8ec470805a80a8f",
       "version_major": 2,
       "version_minor": 0
      },
      "text/plain": [
       "| 0/3 - exporting quantity - 00:00 < ?"
      ]
     },
     "metadata": {},
     "output_type": "display_data"
    },
    {
     "name": "stdout",
     "output_type": "stream",
     "text": [
      "| Export multi.config.json for 079f5290-c0a2-490f-884e-993fd4b96329\n"
     ]
    },
    {
     "data": {
      "application/vnd.jupyter.widget-view+json": {
       "model_id": "e6bd77d88f354fefa3cf483a390395bd",
       "version_major": 2,
       "version_minor": 0
      },
      "text/plain": [
       "| 0/179 - Exporting experiments... - 00:00 < ?"
      ]
     },
     "metadata": {},
     "output_type": "display_data"
    },
    {
     "data": {
      "application/vnd.jupyter.widget-view+json": {
       "model_id": "83002c3646b1465fa332e0d936fffaad",
       "version_major": 2,
       "version_minor": 0
      },
      "text/plain": [
       "| 0/180 - Loading file infomation... - 00:00 < ?"
      ]
     },
     "metadata": {},
     "output_type": "display_data"
    },
    {
     "name": "stdout",
     "output_type": "stream",
     "text": [
      "| Exporting file taglist...\n",
      "| Exporting qurrent.randomized_measure.001/qurryinfo.json...\n",
      "| Exporting qurrent.randomized_measure.001/qurryinfo.json done.\n"
     ]
    },
    {
     "data": {
      "text/plain": [
       "'079f5290-c0a2-490f-884e-993fd4b96329'"
      ]
     },
     "execution_count": 13,
     "metadata": {},
     "output_type": "execute_result"
    }
   ],
   "source": [
    "experiment_randomized.multiAnalysis(\n",
    "    summoner_id=multi_exps1,\n",
    "    skip_write=False,\n",
    "    analysis_name=\"all_manual\",\n",
    "    multiprocess_write=True,\n",
    "    specific_analysis_args={k: {\n",
    "        \"selected_qubits\": [0, 1],  # selected qubits for the analysis\n",
    "    } for idx, k in enumerate(expkeys_of_multi_exps1)},\n",
    ")"
   ]
  },
  {
   "cell_type": "code",
   "execution_count": 14,
   "id": "9d2c5e8d",
   "metadata": {},
   "outputs": [
    {
     "name": "stdout",
     "output_type": "stream",
     "text": [
      "| Available results:\n",
      "| length: 180\n"
     ]
    }
   ],
   "source": [
    "print(\"| Available results:\")\n",
    "print(\n",
    "    \"| length:\",\n",
    "    sum(\n",
    "        len(v)\n",
    "        for v in experiment_randomized.multimanagers[multi_exps1]\n",
    "        .quantity_container[\"all_manual.003\"]\n",
    "        .values()\n",
    "    ),\n",
    ")"
   ]
  },
  {
   "cell_type": "markdown",
   "id": "1f4ffe7a",
   "metadata": {},
   "source": [
    "### f. Read exported multimanager data\n"
   ]
  },
  {
   "cell_type": "code",
   "execution_count": 15,
   "id": "e873e02d",
   "metadata": {},
   "outputs": [
    {
     "name": "stdout",
     "output_type": "stream",
     "text": [
      "| Retrieve qurrent.randomized_measure.001...\n",
      "| at: qurrent.randomized_measure.001\n"
     ]
    },
    {
     "data": {
      "application/vnd.jupyter.widget-view+json": {
       "model_id": "45faf26be39e46bab9ad17777c8cb0d8",
       "version_major": 2,
       "version_minor": 0
      },
      "text/plain": [
       "| 0/180   0%|          | - Loading 180 experiments ... - 00:00 < ?"
      ]
     },
     "metadata": {},
     "output_type": "display_data"
    }
   ],
   "source": [
    "multi_exps1_reades = experiment_randomized.multiRead(\n",
    "    save_location=\".\",\n",
    "    summoner_name=\"qurrent.randomized_measure.001\",\n",
    ")"
   ]
  },
  {
   "cell_type": "code",
   "execution_count": 16,
   "id": "e51b2202",
   "metadata": {},
   "outputs": [
    {
     "data": {
      "text/plain": [
       "['9e65fd4e-57f2-4c4b-b70d-ebf0029a8f5d',\n",
       " '082c0841-0129-4e82-89e0-30a237e32a66',\n",
       " '029aa268-c261-45c6-b7ff-e6e0de1c71af',\n",
       " '810302c7-712a-401a-9444-99aeb6789f56',\n",
       " 'fc54a988-f481-4ae0-8004-f9c98b7aa776',\n",
       " '62993c88-41f8-4ec6-9d06-9c5ac5f0f57a',\n",
       " '07e1ecd9-a74b-413b-a112-7c313418944f',\n",
       " 'b2c9f8bd-71bf-4547-8b71-f7febb13fc06',\n",
       " 'bec68319-9270-41ff-8eb1-70fe2c8fad2e',\n",
       " 'a4d97ecf-4e5e-4cb9-81d6-48484016235d',\n",
       " 'd1656047-b74b-490b-9ccc-3bef8a64dca6',\n",
       " '113dd0e1-87d6-4ece-8700-47bddeb7b2d4',\n",
       " 'a51e3ead-3eda-405a-92ef-cbe168d06481',\n",
       " 'dec2b924-aede-44f6-822d-36da8ce2b720',\n",
       " 'a1cb23c9-20d4-4114-8e17-632bdc483450',\n",
       " '1aba1dc0-3828-4579-bef0-26685d9adc43',\n",
       " '8093d284-202f-4ebe-980f-05c96a1af1ea',\n",
       " '5f53c4c6-58ea-40dd-a957-7e091a1244a0',\n",
       " '3e37b66b-3489-40e9-b716-f63257e7d36c',\n",
       " '2517669a-dbda-45bc-87e8-627ad4c652a2',\n",
       " 'c87d1c0a-8d4e-4031-afb1-3860fa457d58',\n",
       " '623ccd57-1041-4870-bbbe-c284e5410d6d',\n",
       " '6af90b18-6f70-43f2-8dc7-4054b84b2993',\n",
       " '0b2808f7-7831-4bda-8ecf-4ad52088dc59',\n",
       " 'a97ee9fe-478d-42ad-8209-87c6620d106e',\n",
       " 'b76c86e8-c425-4cd0-9ce5-b33e3915e630',\n",
       " 'bc032ead-18fa-4228-8c1c-af5c2ba3b5c5',\n",
       " '2639ef6e-658d-4934-91a6-6ec2021705f0',\n",
       " '2c1ed206-e867-4d5d-98f1-1ad701e16159',\n",
       " 'b362c499-d576-43c8-bb9b-496a4c859fec',\n",
       " 'db696b3c-dd61-46ea-9d2d-7a085b2cc4a3',\n",
       " '782aa37d-6f5f-45cf-83aa-8d6a7984424d',\n",
       " 'b62ea3d5-61bd-44f1-bc2a-d8a00c5aac3e',\n",
       " '565fa2b9-24b1-4364-a834-936f26ccda8a',\n",
       " '18f46781-f98c-41fa-9c60-092168a138e9',\n",
       " 'a9ce0be3-85c4-4c25-9ffe-c6a897445338',\n",
       " 'af408aad-28bf-4275-aaea-4edb26d98fae',\n",
       " '8aeb9c59-04db-4cae-b5c7-b61fadca1f24',\n",
       " '4e92c2ac-6f30-4dc8-9bd1-2a8f881c3629',\n",
       " 'e4db740e-c1cc-4fbd-a3ea-603b38f07d83',\n",
       " 'df2898f3-96b3-41d4-b221-845c4be14ca9',\n",
       " '4a8da40c-5277-4f2e-88ec-96034a1b234b',\n",
       " '58429f3d-22c0-46d6-8de4-3b16258553a4',\n",
       " '7244079c-eb10-49c0-a2ad-078a40a5c25b',\n",
       " 'f845ae19-d2df-422d-beff-9704bbdcbfa2',\n",
       " '68762a0e-6dc9-4cbf-9556-96ca98c95c8b',\n",
       " '15859543-da3a-4b56-99fb-fa9bfd222dd9',\n",
       " '3b593818-f331-4fd4-9669-2762355d9333',\n",
       " 'ebccc1c7-cdd6-4545-bf69-7ee707ea4a5f',\n",
       " '535c7f0c-9ee8-4644-a90a-0dc1418dce2b',\n",
       " 'c916043c-e33a-4433-b10f-8df3f37ede03',\n",
       " 'f0162b77-a433-4c8b-a9b8-c63879aaf306',\n",
       " '2589ba88-249d-427e-935e-692dad787cea',\n",
       " 'd94506b9-a84d-4d02-ad52-e5056a2cfb53',\n",
       " 'd56893d1-e128-4a96-84f3-ac45ffd153e0',\n",
       " '3e33a521-2524-4bbc-85f4-c7e90bbe5b02',\n",
       " '53ad6794-85ab-4986-867f-5023fe18b666',\n",
       " '5b272a29-5fdb-44f5-b69b-e8420a89bef5',\n",
       " 'c1eacde3-a083-483a-b2a4-f6b5b210b030',\n",
       " '63eb0535-03c6-4d73-bde3-154d448d0557',\n",
       " '35c81012-ddac-4c85-b4be-7966a4d8e137',\n",
       " '8245e1dc-44d3-4385-a0cf-f534263a32a4',\n",
       " 'bca9a7df-cb3b-4199-8df4-ff930fcc4c3a',\n",
       " '2e26d8b8-c90d-45ad-8d7c-64bed3594282',\n",
       " 'da40eedc-e818-4004-976d-438d6fba799d',\n",
       " '1f1ae3dd-c9cd-40a4-8b0f-65cae1893a91',\n",
       " 'edfb8c1d-adeb-48c9-9ad7-b043f529d613',\n",
       " '74fe44a2-e211-44fa-8482-8bffa1bf7861',\n",
       " '3e77a0a6-5f7f-420e-9b78-d17710d23466',\n",
       " '8a1dbe37-7fc6-4068-908a-f84861c50715',\n",
       " '7b286ab8-2e83-4aad-9ffb-56edb7f776ac',\n",
       " '69a9bc93-acce-474e-a406-02a42371d425',\n",
       " '20db9d18-e76b-4fe1-839e-3ab7e27b0c37',\n",
       " 'f0ad3633-5a44-48b7-a61b-395efc37963b',\n",
       " '3fe54589-ab35-4c8b-960d-346e0b22d196',\n",
       " 'f1998624-f047-4f04-9abf-3bc85f80e83f',\n",
       " 'a4e69b5f-f3ac-48c1-b5d1-f70bc2d0f021',\n",
       " '2cf1ba62-221a-40b9-b0f4-5e87816f62f3',\n",
       " 'e15d8400-a1ee-4993-83d6-285d0603a8ad',\n",
       " 'aa2b8ed4-273e-4555-8125-4b7a26ee1e67',\n",
       " 'cd3bb840-878c-47fb-b679-45f5f3219a1e',\n",
       " '98862a5b-9649-4aab-bdb4-a7e675585d9d',\n",
       " '00f56c8b-c93f-4287-8cef-aab27f6c3c3d',\n",
       " '735ad59d-5819-4db6-82c4-362c010dfe4e',\n",
       " '1d62c810-2113-4433-81ae-f4ff212ee4e6',\n",
       " '3b44147e-205e-405f-a864-d0574d4af721',\n",
       " 'c024b651-3bf5-4d29-90f5-2d3382073a4e',\n",
       " '3a7efff0-1d07-401e-ab87-2dfd7de55b96',\n",
       " 'f35a087a-c226-4306-a34f-ff38001158a0',\n",
       " '82eaf01c-e14f-4e3b-bbb7-bf11ef709b6c',\n",
       " 'c07c23a0-7149-4a4b-9988-500d12877c34',\n",
       " '473054e1-a4ec-42ff-ad1e-143d004fc96e',\n",
       " 'bbcc26af-8a84-465a-992f-843cdbaaca4e',\n",
       " '3138a900-c74f-473b-a42c-6cb22d398531',\n",
       " '6f6592ee-f7ff-437c-9fa1-c85ea4145b4c',\n",
       " '476c1c9a-f4be-41a0-9be5-2d9202024af3',\n",
       " '3da8101d-6d48-47ee-94ab-ac93f6cc2284',\n",
       " '01b06925-514b-4d6d-97b3-47a4f55ab05c',\n",
       " 'e63f9f5a-c7d7-4f38-8c08-93797b21d2d6',\n",
       " 'f757b36d-0b0e-4733-b3b4-b3e8d1e67429',\n",
       " '313d6203-b32a-4fe3-aa39-e6da52c975de',\n",
       " '623bf38a-9b17-49c7-bd67-4f362cf3a229',\n",
       " 'b43ec145-ee78-4bc3-8bd2-b94081bf2678',\n",
       " 'f4f8a964-11d0-4420-951c-589eda2be149',\n",
       " '06d8d4af-e528-4a7c-85e7-2795d971826b',\n",
       " 'bd741d01-338f-4aaa-a53f-eb6e34a889f7',\n",
       " '27b76d10-8c37-4afd-b2a3-dc7f293b31fd',\n",
       " 'fb46dd97-f2d8-4caa-baf2-ed5c5ed2ce15',\n",
       " '83246629-6d4d-4838-9c58-f684605fe3ed',\n",
       " 'd14900c1-66a0-4906-8bbd-1f720de024d6',\n",
       " '50fc0893-57c7-4ba7-9e71-9c5f22e75de3',\n",
       " 'cd26a2df-a897-4c6f-a858-36673d0fd076',\n",
       " '027cc81c-8238-4d15-9dfd-aa113f388cbb',\n",
       " '0709c145-5f78-4d15-a0f0-4d91b1569e78',\n",
       " '8d6049e4-190e-4803-9091-4d2f306e2425',\n",
       " 'bb475461-b4cd-499a-a130-b11a6d87e5ce',\n",
       " 'b7b0f41f-616b-4740-8167-e0be4dba8e1d',\n",
       " '5d84ac7d-af1d-4ff7-aa47-1ff083e82fc6',\n",
       " '051da0ed-b977-4c02-9992-f2f388ca8ba8',\n",
       " 'ecb9a822-604d-4f69-a0c0-2f9254472899',\n",
       " '6604a8c1-96c9-4357-88ee-3fd54b1072af',\n",
       " 'ac119ec1-2657-4e6d-b168-122f5b812b32',\n",
       " '156f143c-556a-423a-a7b5-077595fb66c7',\n",
       " 'fa2de957-7966-4134-949d-6cd410f9ddfd',\n",
       " '3977f76a-ab91-44ff-9af6-87bfd54f5251',\n",
       " 'b264f8c2-be80-4d4c-bbab-38c4cb7020cc',\n",
       " '189258b8-29a6-4c92-bdbc-89c42a4fdbff',\n",
       " '2a42ca6e-a824-4ce2-a32e-002dbb436c20',\n",
       " '75f88d9a-b485-4d42-acee-ab23635e018b',\n",
       " '5583e35e-bb90-432e-a2f1-f02b3107fed3',\n",
       " 'c3bc0a16-1ec6-47d6-a1ca-9d591ffb4b7d',\n",
       " 'c3814ad6-9354-4a5a-a439-7f1964c81abe',\n",
       " 'd10c9c3a-f3ab-4b66-b7e7-778aa9dcc414',\n",
       " '30320f36-f9c1-4ec6-a730-5e7822304afc',\n",
       " '3718a78f-3563-487d-8bf3-0518f517ec6e',\n",
       " 'efca39bf-b393-4cd8-a98b-691b055719db',\n",
       " '994fae79-65a3-473d-90f0-ffa37918ea74',\n",
       " '4a54a6bd-ef2a-4126-af1b-46d997ee4f82',\n",
       " '27dfef23-5e20-4a9d-a8dc-a5ba1bf5633f',\n",
       " '4df0bf5d-705d-4650-a642-9b4bfc427c6c',\n",
       " '0c0d6642-4732-4f0b-befc-e8e33cff1c67',\n",
       " 'd505aa48-c135-450d-a164-80425a2d71f0',\n",
       " 'ee13c92a-b1da-4dd6-bb0e-c5e4f35018f3',\n",
       " 'c41d3dfb-76a3-4837-b6cf-cf8adbd1bd90',\n",
       " '8ea74c25-3b88-476b-b391-b30827cc08e9',\n",
       " 'fee7f584-2a17-4c38-8a19-acaee4a2c361',\n",
       " '68a0812b-35be-489d-8fdb-8ec0c14d5001',\n",
       " '88887686-fe5e-4706-856b-07e5466556fa',\n",
       " '2843ec63-7a7e-4622-b2ee-03043c2c0420',\n",
       " 'c58f7813-8a4c-4c20-ab6c-2750d70995f5',\n",
       " '5237bc88-3713-434c-835a-f53d0a4daa43',\n",
       " 'e61fda0e-7291-42e6-a1ac-aa07d2174633',\n",
       " 'a75bd290-46d6-4076-9f34-7627ccc72f20',\n",
       " '4cef3d0b-3a63-4e16-8a49-6ac4c6fc8171',\n",
       " '75ea27ea-747c-4ae7-bcf4-601c2826046b',\n",
       " 'e40e578c-1ac2-4b3a-b251-a3e3ba0c7bfd',\n",
       " 'f57e3580-207b-4344-9236-18ec71f17767',\n",
       " '732525a6-e003-4048-855e-6d5883903d51',\n",
       " '28a38015-33d4-41dd-8e50-e294edf69fc4',\n",
       " '58b27b89-089d-4739-b672-b44eb694214a',\n",
       " '7554a63a-7429-4845-8f79-dc22480589ad',\n",
       " 'c7639ece-7d1e-4841-9a3b-fcb05b945bc6',\n",
       " '3da1e368-3627-43b2-9479-c42dcaf33d2c',\n",
       " '9e1bfe72-3b03-4a41-9a00-088c91cfcf29',\n",
       " '350fd5d2-5487-425c-a0d1-a7b4596e1adf',\n",
       " '67b5eb45-b13c-43eb-8d3c-bcdab9b032f5',\n",
       " '9815e23d-c162-4a9a-a708-4cdd29ae6b88',\n",
       " '8e285bd1-587d-4234-a680-5b358d2035eb',\n",
       " '8fe39d7c-e05b-40db-8a6a-3bba2cd6572b',\n",
       " 'ed92edfb-0d9f-4b93-a65d-863d536fcec1',\n",
       " 'da08540b-6cf0-4a2e-a9fc-8e4845162ed8',\n",
       " '4e5fbcf4-9194-49be-91ae-881e897f655e',\n",
       " '7bff7beb-26dd-4edc-ad4e-38bad8126bb5',\n",
       " '24503ef2-88f0-4dba-ae4d-dee83d35e431',\n",
       " 'ef47d120-a798-40b9-994c-9d71ae6557cc',\n",
       " '59076be4-e61d-406c-9088-1234d2ed7c99',\n",
       " '8d3e8ef2-c2ba-45fb-b060-07b46ef05c39',\n",
       " '869a55ec-6abe-448a-9003-491d4ed99d76',\n",
       " 'daea744c-4a2f-478f-b79a-5de89a1709d5',\n",
       " '1052d58c-de26-4881-9e4b-61841f0cc695']"
      ]
     },
     "execution_count": 16,
     "metadata": {},
     "output_type": "execute_result"
    }
   ],
   "source": [
    "expkeys_of_multi_exps1"
   ]
  },
  {
   "cell_type": "markdown",
   "id": "b89d7007",
   "metadata": {},
   "source": [
    "---\n",
    "\n",
    "### Post-Process Availablities and Version Info"
   ]
  },
  {
   "cell_type": "code",
   "execution_count": 17,
   "id": "1fe20bf0",
   "metadata": {},
   "outputs": [
    {
     "data": {
      "text/plain": [
       " | Qurry version: 0.12.2.dev1\n",
       "---------------------------------------------------------------------------\n",
       " ### Qurry Post-Processing\n",
       "   - Backend Availability ................... Python Cython Rust   JAX   \n",
       " - randomized_measure\n",
       "   - entangled_entropy.entropy_core_2 ....... Yes    Depr.  Yes    No    \n",
       "   - entangle_entropy.purity_cell_2 ......... Yes    Depr.  Yes    No    \n",
       "   - entangled_entropy_v1.entropy_core ...... Yes    Depr.  Yes    No    \n",
       "   - entangle_entropy_v1.purity_cell ........ Yes    Depr.  Yes    No    \n",
       "   - wavefunction_overlap.echo_core_2 ....... Yes    Depr.  Yes    No    \n",
       "   - wavefunction_overlap.echo_cell_2 ....... Yes    Depr.  Yes    No    \n",
       "   - wavefunction_overlap_v1.echo_core ...... Yes    Depr.  Yes    No    \n",
       "   - wavefunction_overlap_v1.echo_cell ...... Yes    Depr.  Yes    No    \n",
       " - hadamard_test\n",
       "   - purity_echo_core ....................... Yes    No     Yes    No    \n",
       " - magnet_square\n",
       "   - magnsq_core ............................ Yes    No     No     No    \n",
       " - classical_shadow\n",
       "   - rho_m_core ............................. Yes    No     No     Yes   \n",
       " - utils\n",
       "   - randomized ............................. Yes    Depr.  Yes    No    \n",
       "   - counts_process ......................... Yes    No     Yes    No    \n",
       "   - bit_slice .............................. Yes    No     Yes    No    \n",
       "   - dummy .................................. Yes    No     Yes    No    \n",
       "   - test ................................... Yes    No     Yes    No    \n",
       "---------------------------------------------------------------------------\n",
       "   + Yes ...... Working normally.\n",
       "   + Error .... Exception occurred.\n",
       "   + No ....... Not supported.\n",
       "   + Depr. .... Deprecated.\n",
       "---------------------------------------------------------------------------\n",
       "by <Hoshi>"
      ]
     },
     "execution_count": 17,
     "metadata": {},
     "output_type": "execute_result"
    }
   ],
   "source": [
    "from qurry.process import AVAIBILITY_STATESHEET\n",
    "AVAIBILITY_STATESHEET"
   ]
  }
 ],
 "metadata": {
  "kernelspec": {
   "display_name": "quantumsphere12",
   "language": "python",
   "name": "python3"
  },
  "language_info": {
   "codemirror_mode": {
    "name": "ipython",
    "version": 3
   },
   "file_extension": ".py",
   "mimetype": "text/x-python",
   "name": "python",
   "nbconvert_exporter": "python",
   "pygments_lexer": "ipython3",
   "version": "3.12.3"
  }
 },
 "nbformat": 4,
 "nbformat_minor": 5
}
