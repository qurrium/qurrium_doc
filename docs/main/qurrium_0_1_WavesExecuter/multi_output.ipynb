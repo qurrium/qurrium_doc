{
 "cells": [
  {
   "cell_type": "markdown",
   "id": "166f3b67",
   "metadata": {},
   "source": [
    "# 0.1 QurriumBasic - WavesExecuter\n",
    "## Multiple Experiments\n",
    "\n",
    "Consider a scenario, you have multiple circuits that you want to run at once.\n",
    "\n",
    "Call `.measure()` one by one will be inefficient,\n",
    "no to mention that you also need to call `.anlyze()` for their post-processing.\n",
    "\n",
    "Here we provide a more efficient way solve this problem,\n",
    "where the true power of Qurrium as experiment manage toolkit.\n",
    "\n",
    "Althoght `WavesExecuter` has provided you to run multiple circuits at once by `.measure`.\n",
    "But you can not set shots for each circuit for they run by same experiment.\n"
   ]
  },
  {
   "cell_type": "markdown",
   "id": "86beb579",
   "metadata": {},
   "source": [
    "### a. Import the instances\n"
   ]
  },
  {
   "cell_type": "code",
   "execution_count": 1,
   "id": "0fc71722",
   "metadata": {},
   "outputs": [],
   "source": [
    "from qurry import WavesExecuter\n",
    "\n",
    "experiment_workflow = WavesExecuter()"
   ]
  },
  {
   "cell_type": "markdown",
   "id": "d48d1d69",
   "metadata": {},
   "source": [
    "### b. Preparing quantum circuit\n",
    "\n",
    "Prepare and add circuits to the `.wave` for later usage.\n"
   ]
  },
  {
   "cell_type": "code",
   "execution_count": 2,
   "id": "2e597e81",
   "metadata": {},
   "outputs": [],
   "source": [
    "from qiskit import QuantumCircuit\n",
    "from qurry.recipe import TrivialParamagnet, GHZ\n",
    "\n",
    "\n",
    "def make_neel_circuit(n):\n",
    "    qc = QuantumCircuit(n)\n",
    "    for i in range(0, n, 2):\n",
    "        qc.x(i)\n",
    "    return qc\n",
    "\n",
    "\n",
    "circuits_dict = {}\n",
    "\n",
    "for i in range(2, 13, 2):\n",
    "    circuits_dict[f\"trivial_paramagnet_{i}_ms\"] = TrivialParamagnet(i)\n",
    "    circuits_dict[f\"ghz_{i}_ms\"] = GHZ(i)\n",
    "    circuits_dict[f\"neel_{i}_ms\"] = make_neel_circuit(i)\n",
    "\n",
    "for name, circuit in circuits_dict.items():\n",
    "    circuit.measure_all()\n",
    "    experiment_workflow.add(circuit, name)"
   ]
  },
  {
   "cell_type": "markdown",
   "id": "25fc5d4c",
   "metadata": {},
   "source": [
    "### c. Execute multiple experiments at once\n",
    "\n",
    "Let's demonstrate the true power of Qurrium.\n"
   ]
  },
  {
   "cell_type": "code",
   "execution_count": 3,
   "id": "1e63ed3e",
   "metadata": {},
   "outputs": [],
   "source": [
    "from qurry.qurrium.wavesqurry.arguments import WavesExecuterMeasureArgs"
   ]
  },
  {
   "cell_type": "markdown",
   "id": "45d57823",
   "metadata": {},
   "source": [
    "Preparing a configuration list for multiple experiments with following parameters:\n",
    "\n",
    "```python\n",
    "class WavesExecuterMeasureArgs(total=False):\n",
    "    \"\"\"Output arguments for :meth:`output`.\"\"\"\n",
    "    shots: int\n",
    "    \"\"\"Number of shots.\"\"\"\n",
    "    tags: Optional[tuple[str, ...]]\n",
    "    \"\"\"The tags to be used for the experiment.\"\"\"\n",
    "\n",
    "    waves: Optional[list[Union[QuantumCircuit, Hashable]]]\n",
    "    \"\"\"The list of circuits to be measured.\"\"\"\n",
    "```\n"
   ]
  },
  {
   "cell_type": "code",
   "execution_count": 4,
   "id": "9a6c6749",
   "metadata": {},
   "outputs": [
    {
     "name": "stdout",
     "output_type": "stream",
     "text": [
      "3\n"
     ]
    }
   ],
   "source": [
    "config_list: list[WavesExecuterMeasureArgs] = [\n",
    "    {\n",
    "        \"shots\": 1024,\n",
    "        \"waves\": [f\"{wave_names}_{i}_ms\" for _ in range(10) for i in range(2, 13, 2)],\n",
    "        \"tags\": (wave_names, f\"size_{i}\"),\n",
    "    }\n",
    "    for wave_names in [\"trivial_paramagnet\", \"ghz\", \"neel\"]\n",
    "]\n",
    "print(len(config_list))"
   ]
  },
  {
   "cell_type": "markdown",
   "id": "28ef8515",
   "metadata": {},
   "source": [
    "The `.multiOutput` will return an id of this `multimanager` instance,\n",
    "which can be used to get the results and post-process them.\n",
    "\n",
    "Each `multimanager` will export the experiments in a folder you can specify\n",
    "by setting `save_location` parameter with default location for current directory\n",
    "where Python executed.\n",
    "It will create a folder with the name of the `multimanager` instance,\n",
    "and inside it will create a folder for storing each experiment data.\n",
    "\n",
    "It will do firstly in the building process, but you can skip it by setting `skip_build_write=True` to save time.\n",
    "After all experiments are executed, it will export secondly,\n",
    "which can also be skipped by setting `skip_output_write=True` for no files output.\n"
   ]
  },
  {
   "cell_type": "code",
   "execution_count": 5,
   "id": "3135a9f2",
   "metadata": {},
   "outputs": [
    {
     "name": "stdout",
     "output_type": "stream",
     "text": [
      "| MultiManager building...\n",
      "| Write \"qurrium.waves_executer.001\", at location \"qurrium.waves_executer.001\"\n"
     ]
    },
    {
     "data": {
      "application/vnd.jupyter.widget-view+json": {
       "model_id": "040fe5fa984e46328562de02e9a3f57c",
       "version_major": 2,
       "version_minor": 0
      },
      "text/plain": [
       "| 0/3   0%|          | - MultiManager building... - 00:00 < ?"
      ]
     },
     "metadata": {},
     "output_type": "display_data"
    },
    {
     "name": "stdout",
     "output_type": "stream",
     "text": [
      "| MultiOutput running...\n"
     ]
    },
    {
     "data": {
      "application/vnd.jupyter.widget-view+json": {
       "model_id": "be545d166cb243c3a7ad02af8379fa0b",
       "version_major": 2,
       "version_minor": 0
      },
      "text/plain": [
       "| 0/3   0%|          | -  - 00:00 < ?"
      ]
     },
     "metadata": {},
     "output_type": "display_data"
    },
    {
     "name": "stdout",
     "output_type": "stream",
     "text": [
      "| Export multimanager...\n"
     ]
    },
    {
     "data": {
      "application/vnd.jupyter.widget-view+json": {
       "model_id": "5a23b415690f429d88246176fa13c6f1",
       "version_major": 2,
       "version_minor": 0
      },
      "text/plain": [
       "| 0/9 - Exporting MultiManager content... - 00:00 < ?"
      ]
     },
     "metadata": {},
     "output_type": "display_data"
    },
    {
     "name": "stdout",
     "output_type": "stream",
     "text": [
      "| No quantity to export.\n",
      "| Export multi.config.json for 6db9253c-3e15-4ff3-8bde-7c65f160f64d\n"
     ]
    },
    {
     "data": {
      "application/vnd.jupyter.widget-view+json": {
       "model_id": "1bc95d63878d494eaa6a20c8e22c78e3",
       "version_major": 2,
       "version_minor": 0
      },
      "text/plain": [
       "| 0/2 - Exporting experiments... - 00:00 < ?"
      ]
     },
     "metadata": {},
     "output_type": "display_data"
    },
    {
     "data": {
      "application/vnd.jupyter.widget-view+json": {
       "model_id": "97973217545a447e864f222946aad6b4",
       "version_major": 2,
       "version_minor": 0
      },
      "text/plain": [
       "| 0/3 - Loading file infomation... - 00:00 < ?"
      ]
     },
     "metadata": {},
     "output_type": "display_data"
    },
    {
     "name": "stdout",
     "output_type": "stream",
     "text": [
      "| Exporting file taglist...\n",
      "| Exporting qurrium.waves_executer.001/qurryinfo.json...\n",
      "| Exporting qurrium.waves_executer.001/qurryinfo.json done.\n"
     ]
    },
    {
     "data": {
      "text/plain": [
       "'6db9253c-3e15-4ff3-8bde-7c65f160f64d'"
      ]
     },
     "execution_count": 5,
     "metadata": {},
     "output_type": "execute_result"
    }
   ],
   "source": [
    "multi_exps1 = experiment_workflow.multiOutput(\n",
    "    config_list,\n",
    "    summoner_name=\"qurrium.waves_executer\",  # you can name it whatever you want\n",
    "    multiprocess_build=True,\n",
    "    # Using multiprocessing to build the experiments,\n",
    "    # it will be faster but take all the CPU\n",
    "    skip_build_write=True,\n",
    "    # Skip the writing of the experiment as files during the build,\n",
    "    save_location=\".\",\n",
    "    # Save the experiment as files in the current directory\n",
    "    multiprocess_write=True,\n",
    "    # Writing the experiment as files using multiprocessing,\n",
    ")\n",
    "multi_exps1"
   ]
  },
  {
   "cell_type": "code",
   "execution_count": 6,
   "id": "29668232",
   "metadata": {},
   "outputs": [
    {
     "data": {
      "text/plain": [
       "<MultiManager(id=\"6db9253c-3e15-4ff3-8bde-7c65f160f64d\",\n",
       "  name=\"qurrium.waves_executer.001\",\n",
       "  tags=(),\n",
       "  jobstype=\"local\",\n",
       "  pending_strategy=\"tags\",\n",
       "  last_events={\n",
       "    'output.001': '2025-05-21 23:13:24',},\n",
       "  exps_num=3)>"
      ]
     },
     "execution_count": 6,
     "metadata": {},
     "output_type": "execute_result"
    }
   ],
   "source": [
    "experiment_workflow.multimanagers[multi_exps1]"
   ]
  },
  {
   "cell_type": "markdown",
   "id": "4052ff26",
   "metadata": {},
   "source": [
    "### d. Run post-processing at once\n",
    "\n",
    "Since `WavesExecuter` does not provide any post-processing feature.\n",
    "Neither `.analyze()` nor `multiAnalysis` will provide any useful information."
   ]
  },
  {
   "cell_type": "code",
   "execution_count": 7,
   "id": "045b5b22",
   "metadata": {},
   "outputs": [
    {
     "data": {
      "application/vnd.jupyter.widget-view+json": {
       "model_id": "e5d6412efa504e5295c9cd713eb40e47",
       "version_major": 2,
       "version_minor": 0
      },
      "text/plain": [
       "| 0/3 - Analysis:  - 00:00 < ?"
      ]
     },
     "metadata": {},
     "output_type": "display_data"
    },
    {
     "name": "stdout",
     "output_type": "stream",
     "text": [
      "| ultimate_question: \n",
      "| ultimate_question: \n",
      "| ultimate_question: \n",
      "| \"report.001\" has been completed.\n"
     ]
    },
    {
     "data": {
      "text/plain": [
       "'6db9253c-3e15-4ff3-8bde-7c65f160f64d'"
      ]
     },
     "execution_count": 7,
     "metadata": {},
     "output_type": "execute_result"
    }
   ],
   "source": [
    "experiment_workflow.multiAnalysis(\n",
    "    summoner_id=multi_exps1,\n",
    "    skip_write=True,\n",
    "    multiprocess_write=False,\n",
    ")"
   ]
  },
  {
   "cell_type": "markdown",
   "id": "1f4ffe7a",
   "metadata": {},
   "source": [
    "### e. Read exported multimanager data\n"
   ]
  },
  {
   "cell_type": "code",
   "execution_count": 8,
   "id": "e873e02d",
   "metadata": {},
   "outputs": [
    {
     "name": "stdout",
     "output_type": "stream",
     "text": [
      "| Retrieve qurrium.waves_executer.001...\n",
      "| at: qurrium.waves_executer.001\n"
     ]
    },
    {
     "data": {
      "application/vnd.jupyter.widget-view+json": {
       "model_id": "e4d935d42e0b486aaff963ca84aee4b6",
       "version_major": 2,
       "version_minor": 0
      },
      "text/plain": [
       "| 0/3   0%|          | - Loading 3 experiments ... - 00:00 < ?"
      ]
     },
     "metadata": {},
     "output_type": "display_data"
    }
   ],
   "source": [
    "multi_exps1_reades = experiment_workflow.multiRead(\n",
    "    save_location=\".\",\n",
    "    summoner_name=\"qurrium.waves_executer.001\",\n",
    ")"
   ]
  },
  {
   "cell_type": "markdown",
   "id": "57520119",
   "metadata": {},
   "source": [
    "---\n",
    "\n",
    "### Post-Process Availablities and Version Info"
   ]
  },
  {
   "cell_type": "code",
   "execution_count": 9,
   "id": "306e7ba6",
   "metadata": {},
   "outputs": [
    {
     "data": {
      "text/plain": [
       " | Qurry version: 0.12.2.dev1\n",
       "---------------------------------------------------------------------------\n",
       " ### Qurry Post-Processing\n",
       "   - Backend Availability ................... Python Cython Rust   JAX   \n",
       " - randomized_measure\n",
       "   - entangled_entropy.entropy_core_2 ....... Yes    Depr.  Yes    No    \n",
       "   - entangle_entropy.purity_cell_2 ......... Yes    Depr.  Yes    No    \n",
       "   - entangled_entropy_v1.entropy_core ...... Yes    Depr.  Yes    No    \n",
       "   - entangle_entropy_v1.purity_cell ........ Yes    Depr.  Yes    No    \n",
       "   - wavefunction_overlap.echo_core_2 ....... Yes    Depr.  Yes    No    \n",
       "   - wavefunction_overlap.echo_cell_2 ....... Yes    Depr.  Yes    No    \n",
       "   - wavefunction_overlap_v1.echo_core ...... Yes    Depr.  Yes    No    \n",
       "   - wavefunction_overlap_v1.echo_cell ...... Yes    Depr.  Yes    No    \n",
       " - hadamard_test\n",
       "   - purity_echo_core ....................... Yes    No     Yes    No    \n",
       " - magnet_square\n",
       "   - magnsq_core ............................ Yes    No     No     No    \n",
       " - classical_shadow\n",
       "   - rho_m_core ............................. Yes    No     No     Yes   \n",
       " - utils\n",
       "   - randomized ............................. Yes    Depr.  Yes    No    \n",
       "   - counts_process ......................... Yes    No     Yes    No    \n",
       "   - bit_slice .............................. Yes    No     Yes    No    \n",
       "   - dummy .................................. Yes    No     Yes    No    \n",
       "   - test ................................... Yes    No     Yes    No    \n",
       "---------------------------------------------------------------------------\n",
       "   + Yes ...... Working normally.\n",
       "   + Error .... Exception occurred.\n",
       "   + No ....... Not supported.\n",
       "   + Depr. .... Deprecated.\n",
       "---------------------------------------------------------------------------\n",
       "by <Hoshi>"
      ]
     },
     "execution_count": 9,
     "metadata": {},
     "output_type": "execute_result"
    }
   ],
   "source": [
    "from qurry.process import AVAIBILITY_STATESHEET\n",
    "AVAIBILITY_STATESHEET"
   ]
  }
 ],
 "metadata": {
  "kernelspec": {
   "display_name": "quantumsphere12",
   "language": "python",
   "name": "python3"
  },
  "language_info": {
   "codemirror_mode": {
    "name": "ipython",
    "version": 3
   },
   "file_extension": ".py",
   "mimetype": "text/x-python",
   "name": "python",
   "nbconvert_exporter": "python",
   "pygments_lexer": "ipython3",
   "version": "3.12.3"
  }
 },
 "nbformat": 4,
 "nbformat_minor": 5
}
